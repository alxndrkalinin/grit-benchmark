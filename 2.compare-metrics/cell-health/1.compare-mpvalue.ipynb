{
 "cells": [
  {
   "cell_type": "markdown",
   "metadata": {},
   "source": [
    "# Comparing grit to mp-value\n",
    "\n",
    "mp-value was described in [Hutz et al. 2012](https://doi.org/10.1177/1087057112469257).\n",
    "The mp-value metric calculates a Mahalanobis distance between treatment and control perturbations, and determines significance through random permutations.\n",
    "The mp-value metric can be interpreted as an empirical p value indicating how different the treatment perturbations are from controls."
   ]
  },
  {
   "cell_type": "code",
   "execution_count": 1,
   "metadata": {},
   "outputs": [],
   "source": [
    "import pathlib\n",
    "import numpy as np\n",
    "import pandas as pd\n",
    "import plotnine as gg"
   ]
  },
  {
   "cell_type": "code",
   "execution_count": 2,
   "metadata": {},
   "outputs": [],
   "source": [
    "results_dir = pathlib.Path(\"../../1.calculate-metrics/cell-health/results\")\n",
    "output_dir = pathlib.Path(\"figures\")"
   ]
  },
  {
   "cell_type": "code",
   "execution_count": 3,
   "metadata": {},
   "outputs": [
    {
     "name": "stdout",
     "output_type": "stream",
     "text": [
      "(357, 6)\n"
     ]
    },
    {
     "data": {
      "text/html": [
       "<div>\n",
       "<style scoped>\n",
       "    .dataframe tbody tr th:only-of-type {\n",
       "        vertical-align: middle;\n",
       "    }\n",
       "\n",
       "    .dataframe tbody tr th {\n",
       "        vertical-align: top;\n",
       "    }\n",
       "\n",
       "    .dataframe thead th {\n",
       "        text-align: right;\n",
       "    }\n",
       "</style>\n",
       "<table border=\"1\" class=\"dataframe\">\n",
       "  <thead>\n",
       "    <tr style=\"text-align: right;\">\n",
       "      <th></th>\n",
       "      <th>perturbation</th>\n",
       "      <th>group</th>\n",
       "      <th>grit</th>\n",
       "      <th>cell_line</th>\n",
       "      <th>barcode_control</th>\n",
       "      <th>cor_method</th>\n",
       "    </tr>\n",
       "  </thead>\n",
       "  <tbody>\n",
       "    <tr>\n",
       "      <th>0</th>\n",
       "      <td>AKT1-1</td>\n",
       "      <td>AKT1</td>\n",
       "      <td>0.793952</td>\n",
       "      <td>HCC44</td>\n",
       "      <td>cutting_control</td>\n",
       "      <td>pearson</td>\n",
       "    </tr>\n",
       "    <tr>\n",
       "      <th>1</th>\n",
       "      <td>AKT1-2</td>\n",
       "      <td>AKT1</td>\n",
       "      <td>0.775840</td>\n",
       "      <td>HCC44</td>\n",
       "      <td>cutting_control</td>\n",
       "      <td>pearson</td>\n",
       "    </tr>\n",
       "    <tr>\n",
       "      <th>2</th>\n",
       "      <td>ARID1B-1</td>\n",
       "      <td>ARID1B</td>\n",
       "      <td>0.448876</td>\n",
       "      <td>HCC44</td>\n",
       "      <td>cutting_control</td>\n",
       "      <td>pearson</td>\n",
       "    </tr>\n",
       "    <tr>\n",
       "      <th>3</th>\n",
       "      <td>ARID1B-2</td>\n",
       "      <td>ARID1B</td>\n",
       "      <td>0.323462</td>\n",
       "      <td>HCC44</td>\n",
       "      <td>cutting_control</td>\n",
       "      <td>pearson</td>\n",
       "    </tr>\n",
       "    <tr>\n",
       "      <th>4</th>\n",
       "      <td>ATF4-1</td>\n",
       "      <td>ATF4</td>\n",
       "      <td>0.214374</td>\n",
       "      <td>HCC44</td>\n",
       "      <td>cutting_control</td>\n",
       "      <td>pearson</td>\n",
       "    </tr>\n",
       "  </tbody>\n",
       "</table>\n",
       "</div>"
      ],
      "text/plain": [
       "  perturbation   group      grit cell_line  barcode_control cor_method\n",
       "0       AKT1-1    AKT1  0.793952     HCC44  cutting_control    pearson\n",
       "1       AKT1-2    AKT1  0.775840     HCC44  cutting_control    pearson\n",
       "2     ARID1B-1  ARID1B  0.448876     HCC44  cutting_control    pearson\n",
       "3     ARID1B-2  ARID1B  0.323462     HCC44  cutting_control    pearson\n",
       "4       ATF4-1    ATF4  0.214374     HCC44  cutting_control    pearson"
      ]
     },
     "execution_count": 3,
     "metadata": {},
     "output_type": "execute_result"
    }
   ],
   "source": [
    "# Load cell health grit scores\n",
    "cell_health_grit_file = pathlib.Path(f\"{results_dir}/cell_health_grit.tsv\")\n",
    "\n",
    "cell_health_grit_df = (\n",
    "    pd.read_csv(cell_health_grit_file, sep=\"\\t\")\n",
    "    .query(\"barcode_control == 'cutting_control'\")\n",
    "    .query(\"cor_method == 'pearson'\")\n",
    ")\n",
    "\n",
    "print(cell_health_grit_df.shape)\n",
    "cell_health_grit_df.head()"
   ]
  },
  {
   "cell_type": "code",
   "execution_count": 4,
   "metadata": {},
   "outputs": [
    {
     "name": "stdout",
     "output_type": "stream",
     "text": [
      "(1428, 6)\n"
     ]
    },
    {
     "name": "stderr",
     "output_type": "stream",
     "text": [
      "/Users/gway/miniconda3/envs/grit-benchmark/lib/python3.9/site-packages/pandas/core/arraylike.py:274: RuntimeWarning: divide by zero encountered in log10\n"
     ]
    },
    {
     "data": {
      "text/html": [
       "<div>\n",
       "<style scoped>\n",
       "    .dataframe tbody tr th:only-of-type {\n",
       "        vertical-align: middle;\n",
       "    }\n",
       "\n",
       "    .dataframe tbody tr th {\n",
       "        vertical-align: top;\n",
       "    }\n",
       "\n",
       "    .dataframe thead th {\n",
       "        text-align: right;\n",
       "    }\n",
       "</style>\n",
       "<table border=\"1\" class=\"dataframe\">\n",
       "  <thead>\n",
       "    <tr style=\"text-align: right;\">\n",
       "      <th></th>\n",
       "      <th>Metadata_pert_name</th>\n",
       "      <th>mp_value</th>\n",
       "      <th>cell_line</th>\n",
       "      <th>barcode_control</th>\n",
       "      <th>num_permutations</th>\n",
       "      <th>mp_value_neglog</th>\n",
       "    </tr>\n",
       "  </thead>\n",
       "  <tbody>\n",
       "    <tr>\n",
       "      <th>0</th>\n",
       "      <td>AKT1-1</td>\n",
       "      <td>0.2</td>\n",
       "      <td>HCC44</td>\n",
       "      <td>cutting_control</td>\n",
       "      <td>10</td>\n",
       "      <td>0.69897</td>\n",
       "    </tr>\n",
       "    <tr>\n",
       "      <th>1</th>\n",
       "      <td>AKT1-2</td>\n",
       "      <td>0.1</td>\n",
       "      <td>HCC44</td>\n",
       "      <td>cutting_control</td>\n",
       "      <td>10</td>\n",
       "      <td>1.00000</td>\n",
       "    </tr>\n",
       "    <tr>\n",
       "      <th>2</th>\n",
       "      <td>ARID1B-1</td>\n",
       "      <td>0.1</td>\n",
       "      <td>HCC44</td>\n",
       "      <td>cutting_control</td>\n",
       "      <td>10</td>\n",
       "      <td>1.00000</td>\n",
       "    </tr>\n",
       "    <tr>\n",
       "      <th>3</th>\n",
       "      <td>ARID1B-2</td>\n",
       "      <td>0.0</td>\n",
       "      <td>HCC44</td>\n",
       "      <td>cutting_control</td>\n",
       "      <td>10</td>\n",
       "      <td>3.69897</td>\n",
       "    </tr>\n",
       "    <tr>\n",
       "      <th>4</th>\n",
       "      <td>ATF4-1</td>\n",
       "      <td>0.0</td>\n",
       "      <td>HCC44</td>\n",
       "      <td>cutting_control</td>\n",
       "      <td>10</td>\n",
       "      <td>3.69897</td>\n",
       "    </tr>\n",
       "  </tbody>\n",
       "</table>\n",
       "</div>"
      ],
      "text/plain": [
       "  Metadata_pert_name  mp_value cell_line  barcode_control  num_permutations  \\\n",
       "0             AKT1-1       0.2     HCC44  cutting_control                10   \n",
       "1             AKT1-2       0.1     HCC44  cutting_control                10   \n",
       "2           ARID1B-1       0.1     HCC44  cutting_control                10   \n",
       "3           ARID1B-2       0.0     HCC44  cutting_control                10   \n",
       "4             ATF4-1       0.0     HCC44  cutting_control                10   \n",
       "\n",
       "   mp_value_neglog  \n",
       "0          0.69897  \n",
       "1          1.00000  \n",
       "2          1.00000  \n",
       "3          3.69897  \n",
       "4          3.69897  "
      ]
     },
     "execution_count": 4,
     "metadata": {},
     "output_type": "execute_result"
    }
   ],
   "source": [
    "# Load mp value grit scores\n",
    "cell_health_mpvalue_file = pathlib.Path(f\"{results_dir}/cell_health_mpvalue.tsv\")\n",
    "\n",
    "cell_health_mpvalue_df = (\n",
    "    pd.read_csv(cell_health_mpvalue_file, sep=\"\\t\")\n",
    "    .query(\"barcode_control == 'cutting_control'\")\n",
    ")\n",
    "\n",
    "cell_health_mpvalue_df = cell_health_mpvalue_df.assign(mp_value_neglog=-1 * np.log10(cell_health_mpvalue_df.mp_value))\n",
    "\n",
    "mask = cell_health_mpvalue_df.mp_value_neglog == np.inf\n",
    "cell_health_mpvalue_df.loc[mask, \"mp_value_neglog\"] = cell_health_mpvalue_df.loc[~mask, \"mp_value_neglog\"].max()\n",
    "\n",
    "print(cell_health_mpvalue_df.shape)\n",
    "cell_health_mpvalue_df.head()"
   ]
  },
  {
   "cell_type": "code",
   "execution_count": 5,
   "metadata": {},
   "outputs": [
    {
     "name": "stdout",
     "output_type": "stream",
     "text": [
      "(1428, 10)\n"
     ]
    },
    {
     "data": {
      "text/html": [
       "<div>\n",
       "<style scoped>\n",
       "    .dataframe tbody tr th:only-of-type {\n",
       "        vertical-align: middle;\n",
       "    }\n",
       "\n",
       "    .dataframe tbody tr th {\n",
       "        vertical-align: top;\n",
       "    }\n",
       "\n",
       "    .dataframe thead th {\n",
       "        text-align: right;\n",
       "    }\n",
       "</style>\n",
       "<table border=\"1\" class=\"dataframe\">\n",
       "  <thead>\n",
       "    <tr style=\"text-align: right;\">\n",
       "      <th></th>\n",
       "      <th>perturbation</th>\n",
       "      <th>group</th>\n",
       "      <th>grit</th>\n",
       "      <th>cell_line</th>\n",
       "      <th>barcode_control</th>\n",
       "      <th>cor_method</th>\n",
       "      <th>Metadata_pert_name</th>\n",
       "      <th>mp_value</th>\n",
       "      <th>num_permutations</th>\n",
       "      <th>mp_value_neglog</th>\n",
       "    </tr>\n",
       "  </thead>\n",
       "  <tbody>\n",
       "    <tr>\n",
       "      <th>0</th>\n",
       "      <td>AKT1-1</td>\n",
       "      <td>AKT1</td>\n",
       "      <td>0.793952</td>\n",
       "      <td>HCC44</td>\n",
       "      <td>cutting_control</td>\n",
       "      <td>pearson</td>\n",
       "      <td>AKT1-1</td>\n",
       "      <td>0.2000</td>\n",
       "      <td>10</td>\n",
       "      <td>0.698970</td>\n",
       "    </tr>\n",
       "    <tr>\n",
       "      <th>1</th>\n",
       "      <td>AKT1-1</td>\n",
       "      <td>AKT1</td>\n",
       "      <td>0.793952</td>\n",
       "      <td>HCC44</td>\n",
       "      <td>cutting_control</td>\n",
       "      <td>pearson</td>\n",
       "      <td>AKT1-1</td>\n",
       "      <td>0.2600</td>\n",
       "      <td>100</td>\n",
       "      <td>0.585027</td>\n",
       "    </tr>\n",
       "    <tr>\n",
       "      <th>2</th>\n",
       "      <td>AKT1-1</td>\n",
       "      <td>AKT1</td>\n",
       "      <td>0.793952</td>\n",
       "      <td>HCC44</td>\n",
       "      <td>cutting_control</td>\n",
       "      <td>pearson</td>\n",
       "      <td>AKT1-1</td>\n",
       "      <td>0.1450</td>\n",
       "      <td>1000</td>\n",
       "      <td>0.838632</td>\n",
       "    </tr>\n",
       "    <tr>\n",
       "      <th>3</th>\n",
       "      <td>AKT1-1</td>\n",
       "      <td>AKT1</td>\n",
       "      <td>0.793952</td>\n",
       "      <td>HCC44</td>\n",
       "      <td>cutting_control</td>\n",
       "      <td>pearson</td>\n",
       "      <td>AKT1-1</td>\n",
       "      <td>0.1678</td>\n",
       "      <td>5000</td>\n",
       "      <td>0.775208</td>\n",
       "    </tr>\n",
       "    <tr>\n",
       "      <th>4</th>\n",
       "      <td>AKT1-2</td>\n",
       "      <td>AKT1</td>\n",
       "      <td>0.775840</td>\n",
       "      <td>HCC44</td>\n",
       "      <td>cutting_control</td>\n",
       "      <td>pearson</td>\n",
       "      <td>AKT1-2</td>\n",
       "      <td>0.1000</td>\n",
       "      <td>10</td>\n",
       "      <td>1.000000</td>\n",
       "    </tr>\n",
       "  </tbody>\n",
       "</table>\n",
       "</div>"
      ],
      "text/plain": [
       "  perturbation group      grit cell_line  barcode_control cor_method  \\\n",
       "0       AKT1-1  AKT1  0.793952     HCC44  cutting_control    pearson   \n",
       "1       AKT1-1  AKT1  0.793952     HCC44  cutting_control    pearson   \n",
       "2       AKT1-1  AKT1  0.793952     HCC44  cutting_control    pearson   \n",
       "3       AKT1-1  AKT1  0.793952     HCC44  cutting_control    pearson   \n",
       "4       AKT1-2  AKT1  0.775840     HCC44  cutting_control    pearson   \n",
       "\n",
       "  Metadata_pert_name  mp_value  num_permutations  mp_value_neglog  \n",
       "0             AKT1-1    0.2000                10         0.698970  \n",
       "1             AKT1-1    0.2600               100         0.585027  \n",
       "2             AKT1-1    0.1450              1000         0.838632  \n",
       "3             AKT1-1    0.1678              5000         0.775208  \n",
       "4             AKT1-2    0.1000                10         1.000000  "
      ]
     },
     "execution_count": 5,
     "metadata": {},
     "output_type": "execute_result"
    }
   ],
   "source": [
    "combined_df = (\n",
    "    cell_health_grit_df.merge(\n",
    "        cell_health_mpvalue_df,\n",
    "        left_on=[\"perturbation\", \"cell_line\", \"barcode_control\"],\n",
    "        right_on=[\"Metadata_pert_name\", \"cell_line\", \"barcode_control\"]\n",
    "    )\n",
    ")\n",
    "\n",
    "print(combined_df.shape)\n",
    "combined_df.head()"
   ]
  },
  {
   "cell_type": "code",
   "execution_count": 6,
   "metadata": {},
   "outputs": [
    {
     "name": "stderr",
     "output_type": "stream",
     "text": [
      "/Users/gway/miniconda3/envs/grit-benchmark/lib/python3.9/site-packages/plotnine/ggplot.py:727: PlotnineWarning: Saving 6.5 x 3 in image.\n",
      "/Users/gway/miniconda3/envs/grit-benchmark/lib/python3.9/site-packages/plotnine/ggplot.py:730: PlotnineWarning: Filename: figures/cell_health_grit_mpvalue_comparison.png\n"
     ]
    },
    {
     "data": {
      "image/png": "[encoded data removed]",
      "text/plain": [
       "<Figure size 640x480 with 4 Axes>"
      ]
     },
     "metadata": {},
     "output_type": "display_data"
    },
    {
     "data": {
      "text/plain": [
       "<ggplot: (396759815)>"
      ]
     },
     "execution_count": 6,
     "metadata": {},
     "output_type": "execute_result"
    }
   ],
   "source": [
    "cell_line_colors = {\n",
    "  \"A549\": \"#861613\",\n",
    "  \"ES2\": \"#1CADA8\",\n",
    "  \"HCC44\": \"#2A364D\"\n",
    "}\n",
    "\n",
    "def col_func(s):\n",
    "    return f\"Permutations:\\n{s}\\n\"\n",
    "\n",
    "mp_value_comparison_gg = (\n",
    "    gg.ggplot(combined_df.dropna(), gg.aes(x=\"grit\", y=\"mp_value_neglog\"))\n",
    "    + gg.geom_point(gg.aes(fill=\"cell_line\"), size=0.7, stroke=0.2, alpha=0.7)\n",
    "    + gg.geom_vline(xintercept=0, linetype=\"dotted\", color=\"red\")\n",
    "    + gg.scale_fill_manual(name=\"Cell Line\", values=cell_line_colors)\n",
    "    + gg.xlab(\"Grit\")\n",
    "    + gg.ylab(\"-log10(mp-Value)\")\n",
    "    + gg.facet_wrap(\"~num_permutations\", ncol=4, labeller=gg.labeller(cols=col_func))\n",
    "    + gg.theme_bw()\n",
    "    + gg.theme(strip_background=gg.element_rect(color=\"black\", height=0.15, fill=\"#fdfff4\"))\n",
    ")\n",
    "\n",
    "output_file = pathlib.Path(f\"{output_dir}/cell_health_grit_mpvalue_comparison.png\")\n",
    "mp_value_comparison_gg.save(output_file, dpi=500, height=3, width=6.5)\n",
    "\n",
    "mp_value_comparison_gg"
   ]
  }
 ],
 "metadata": {
  "kernelspec": {
   "display_name": "Python [conda env:grit-benchmark] *",
   "language": "python",
   "name": "conda-env-grit-benchmark-py"
  },
  "language_info": {
   "codemirror_mode": {
    "name": "ipython",
    "version": 3
   },
   "file_extension": ".py",
   "mimetype": "text/x-python",
   "name": "python",
   "nbconvert_exporter": "python",
   "pygments_lexer": "ipython3",
   "version": "3.9.1"
  }
 },
 "nbformat": 4,
 "nbformat_minor": 4
}
