{
 "cells": [
  {
   "cell_type": "markdown",
   "metadata": {},
   "source": [
    "## Compare Pearson and Spearman correlations\n",
    "\n",
    "In grit, the user determines which similarity metric to use to compare profiles.\n",
    "Here, we empirically compare Pearson and Spearman metrics to determine if either provides any benefit over the other."
   ]
  },
  {
   "cell_type": "code",
   "execution_count": 1,
   "metadata": {},
   "outputs": [],
   "source": [
    "import pathlib\n",
    "import pandas as pd\n",
    "import plotnine as gg"
   ]
  },
  {
   "cell_type": "code",
   "execution_count": 2,
   "metadata": {},
   "outputs": [
    {
     "name": "stdout",
     "output_type": "stream",
     "text": [
      "(1428, 6)\n"
     ]
    },
    {
     "data": {
      "text/html": [
       "<div>\n",
       "<style scoped>\n",
       "    .dataframe tbody tr th:only-of-type {\n",
       "        vertical-align: middle;\n",
       "    }\n",
       "\n",
       "    .dataframe tbody tr th {\n",
       "        vertical-align: top;\n",
       "    }\n",
       "\n",
       "    .dataframe thead th {\n",
       "        text-align: right;\n",
       "    }\n",
       "</style>\n",
       "<table border=\"1\" class=\"dataframe\">\n",
       "  <thead>\n",
       "    <tr style=\"text-align: right;\">\n",
       "      <th></th>\n",
       "      <th>perturbation</th>\n",
       "      <th>group</th>\n",
       "      <th>grit</th>\n",
       "      <th>cell_line</th>\n",
       "      <th>barcode_control</th>\n",
       "      <th>cor_method</th>\n",
       "    </tr>\n",
       "  </thead>\n",
       "  <tbody>\n",
       "    <tr>\n",
       "      <th>0</th>\n",
       "      <td>AKT1-1</td>\n",
       "      <td>AKT1</td>\n",
       "      <td>0.793952</td>\n",
       "      <td>HCC44</td>\n",
       "      <td>cutting_control</td>\n",
       "      <td>pearson</td>\n",
       "    </tr>\n",
       "    <tr>\n",
       "      <th>1</th>\n",
       "      <td>AKT1-2</td>\n",
       "      <td>AKT1</td>\n",
       "      <td>0.775840</td>\n",
       "      <td>HCC44</td>\n",
       "      <td>cutting_control</td>\n",
       "      <td>pearson</td>\n",
       "    </tr>\n",
       "    <tr>\n",
       "      <th>2</th>\n",
       "      <td>ARID1B-1</td>\n",
       "      <td>ARID1B</td>\n",
       "      <td>0.448876</td>\n",
       "      <td>HCC44</td>\n",
       "      <td>cutting_control</td>\n",
       "      <td>pearson</td>\n",
       "    </tr>\n",
       "    <tr>\n",
       "      <th>3</th>\n",
       "      <td>ARID1B-2</td>\n",
       "      <td>ARID1B</td>\n",
       "      <td>0.323462</td>\n",
       "      <td>HCC44</td>\n",
       "      <td>cutting_control</td>\n",
       "      <td>pearson</td>\n",
       "    </tr>\n",
       "    <tr>\n",
       "      <th>4</th>\n",
       "      <td>ATF4-1</td>\n",
       "      <td>ATF4</td>\n",
       "      <td>0.214374</td>\n",
       "      <td>HCC44</td>\n",
       "      <td>cutting_control</td>\n",
       "      <td>pearson</td>\n",
       "    </tr>\n",
       "  </tbody>\n",
       "</table>\n",
       "</div>"
      ],
      "text/plain": [
       "  perturbation   group      grit cell_line  barcode_control cor_method\n",
       "0       AKT1-1    AKT1  0.793952     HCC44  cutting_control    pearson\n",
       "1       AKT1-2    AKT1  0.775840     HCC44  cutting_control    pearson\n",
       "2     ARID1B-1  ARID1B  0.448876     HCC44  cutting_control    pearson\n",
       "3     ARID1B-2  ARID1B  0.323462     HCC44  cutting_control    pearson\n",
       "4       ATF4-1    ATF4  0.214374     HCC44  cutting_control    pearson"
      ]
     },
     "execution_count": 2,
     "metadata": {},
     "output_type": "execute_result"
    }
   ],
   "source": [
    "output_dir = pathlib.Path(\"figures\")\n",
    "\n",
    "# Load cell health grit scores\n",
    "cell_health_dir = pathlib.Path(\"../../1.calculate-metrics/cell-health/results\")\n",
    "cell_health_grit_file = pathlib.Path(f\"{cell_health_dir}/cell_health_grit.tsv\")\n",
    "\n",
    "cell_health_grit_df = pd.read_csv(cell_health_grit_file, sep=\"\\t\")\n",
    "print(cell_health_grit_df.shape)\n",
    "cell_health_grit_df.head()"
   ]
  },
  {
   "cell_type": "code",
   "execution_count": 3,
   "metadata": {},
   "outputs": [
    {
     "name": "stdout",
     "output_type": "stream",
     "text": [
      "(714, 7)\n"
     ]
    },
    {
     "data": {
      "text/html": [
       "<div>\n",
       "<style scoped>\n",
       "    .dataframe tbody tr th:only-of-type {\n",
       "        vertical-align: middle;\n",
       "    }\n",
       "\n",
       "    .dataframe tbody tr th {\n",
       "        vertical-align: top;\n",
       "    }\n",
       "\n",
       "    .dataframe thead th {\n",
       "        text-align: right;\n",
       "    }\n",
       "</style>\n",
       "<table border=\"1\" class=\"dataframe\">\n",
       "  <thead>\n",
       "    <tr style=\"text-align: right;\">\n",
       "      <th>cor_method</th>\n",
       "      <th>perturbation</th>\n",
       "      <th>group</th>\n",
       "      <th>cell_line</th>\n",
       "      <th>barcode_control</th>\n",
       "      <th>pearson</th>\n",
       "      <th>spearman</th>\n",
       "      <th>differential</th>\n",
       "    </tr>\n",
       "  </thead>\n",
       "  <tbody>\n",
       "    <tr>\n",
       "      <th>0</th>\n",
       "      <td>AKT1-1</td>\n",
       "      <td>AKT1</td>\n",
       "      <td>A549</td>\n",
       "      <td>cutting_control</td>\n",
       "      <td>0.257727</td>\n",
       "      <td>0.219545</td>\n",
       "      <td>0.038182</td>\n",
       "    </tr>\n",
       "    <tr>\n",
       "      <th>1</th>\n",
       "      <td>AKT1-1</td>\n",
       "      <td>AKT1</td>\n",
       "      <td>A549</td>\n",
       "      <td>perturbation_control</td>\n",
       "      <td>0.327723</td>\n",
       "      <td>0.296689</td>\n",
       "      <td>0.031034</td>\n",
       "    </tr>\n",
       "    <tr>\n",
       "      <th>2</th>\n",
       "      <td>AKT1-1</td>\n",
       "      <td>AKT1</td>\n",
       "      <td>ES2</td>\n",
       "      <td>cutting_control</td>\n",
       "      <td>-0.052501</td>\n",
       "      <td>-0.090980</td>\n",
       "      <td>0.038480</td>\n",
       "    </tr>\n",
       "    <tr>\n",
       "      <th>3</th>\n",
       "      <td>AKT1-1</td>\n",
       "      <td>AKT1</td>\n",
       "      <td>ES2</td>\n",
       "      <td>perturbation_control</td>\n",
       "      <td>0.196828</td>\n",
       "      <td>0.166066</td>\n",
       "      <td>0.030762</td>\n",
       "    </tr>\n",
       "    <tr>\n",
       "      <th>4</th>\n",
       "      <td>AKT1-1</td>\n",
       "      <td>AKT1</td>\n",
       "      <td>HCC44</td>\n",
       "      <td>cutting_control</td>\n",
       "      <td>0.793952</td>\n",
       "      <td>0.760423</td>\n",
       "      <td>0.033529</td>\n",
       "    </tr>\n",
       "  </tbody>\n",
       "</table>\n",
       "</div>"
      ],
      "text/plain": [
       "cor_method perturbation group cell_line       barcode_control   pearson  \\\n",
       "0                AKT1-1  AKT1      A549       cutting_control  0.257727   \n",
       "1                AKT1-1  AKT1      A549  perturbation_control  0.327723   \n",
       "2                AKT1-1  AKT1       ES2       cutting_control -0.052501   \n",
       "3                AKT1-1  AKT1       ES2  perturbation_control  0.196828   \n",
       "4                AKT1-1  AKT1     HCC44       cutting_control  0.793952   \n",
       "\n",
       "cor_method  spearman  differential  \n",
       "0           0.219545      0.038182  \n",
       "1           0.296689      0.031034  \n",
       "2          -0.090980      0.038480  \n",
       "3           0.166066      0.030762  \n",
       "4           0.760423      0.033529  "
      ]
     },
     "execution_count": 3,
     "metadata": {},
     "output_type": "execute_result"
    }
   ],
   "source": [
    "cor_metric_df = (\n",
    "    cell_health_grit_df\n",
    "    .pivot(\n",
    "        index=[\"perturbation\", \"group\", \"cell_line\", \"barcode_control\"],\n",
    "        columns=\"cor_method\",\n",
    "        values=\"grit\"\n",
    "    )\n",
    "    .reset_index()\n",
    ")\n",
    "\n",
    "cor_metric_df = (\n",
    "    cor_metric_df.assign(differential=cor_metric_df.pearson-cor_metric_df.spearman)\n",
    ")\n",
    "\n",
    "print(cor_metric_df.shape)\n",
    "cor_metric_df.head()"
   ]
  },
  {
   "cell_type": "code",
   "execution_count": 4,
   "metadata": {},
   "outputs": [
    {
     "name": "stderr",
     "output_type": "stream",
     "text": [
      "/Users/gway/miniconda3/envs/grit-benchmark/lib/python3.9/site-packages/plotnine/ggplot.py:727: PlotnineWarning: Saving 5.4 x 3.2 in image.\n",
      "/Users/gway/miniconda3/envs/grit-benchmark/lib/python3.9/site-packages/plotnine/ggplot.py:730: PlotnineWarning: Filename: figures/cell_health_grit_correlation_metric_comparison.png\n"
     ]
    },
    {
     "data": {
      "image/png": "[encoded data removed]",
      "text/plain": [
       "<Figure size 640x310.743 with 2 Axes>"
      ]
     },
     "metadata": {},
     "output_type": "display_data"
    },
    {
     "data": {
      "text/plain": [
       "<ggplot: (400880625)>"
      ]
     },
     "execution_count": 4,
     "metadata": {},
     "output_type": "execute_result"
    }
   ],
   "source": [
    "cell_line_colors = {\n",
    "  \"A549\": \"#861613\",\n",
    "  \"ES2\": \"#1CADA8\",\n",
    "  \"HCC44\": \"#2A364D\"\n",
    "}\n",
    "\n",
    "grit_cor_comparison_gg = (\n",
    "    gg.ggplot(cor_metric_df.dropna(), gg.aes(x=\"pearson\", y=\"spearman\"))\n",
    "    + gg.geom_point(gg.aes(fill=\"cell_line\"), size=0.7, stroke=0.2, alpha=0.7)\n",
    "    + gg.facet_wrap(\"~barcode_control\")\n",
    "    + gg.geom_abline(intercept=0, slope=1, linetype=\"dotted\", color=\"red\")\n",
    "    + gg.scale_fill_manual(name=\"Cell Line\", values=cell_line_colors)\n",
    "    + gg.xlab(\"Pearson correlation\")\n",
    "    + gg.ylab(\"Spearman correlation\")\n",
    "    + gg.coord_fixed()\n",
    "    + gg.theme_bw()\n",
    "    + gg.theme(strip_background=gg.element_rect(color=\"black\", fill=\"#fdfff4\"))\n",
    ")\n",
    "\n",
    "output_file = pathlib.Path(f\"{output_dir}/cell_health_grit_correlation_metric_comparison.png\")\n",
    "grit_cor_comparison_gg.save(output_file, dpi=500, height=3.2, width=5.4)\n",
    "\n",
    "grit_cor_comparison_gg"
   ]
  }
 ],
 "metadata": {
  "kernelspec": {
   "display_name": "Python [conda env:grit-benchmark] *",
   "language": "python",
   "name": "conda-env-grit-benchmark-py"
  },
  "language_info": {
   "codemirror_mode": {
    "name": "ipython",
    "version": 3
   },
   "file_extension": ".py",
   "mimetype": "text/x-python",
   "name": "python",
   "nbconvert_exporter": "python",
   "pygments_lexer": "ipython3",
   "version": "3.9.1"
  }
 },
 "nbformat": 4,
 "nbformat_minor": 4
}
