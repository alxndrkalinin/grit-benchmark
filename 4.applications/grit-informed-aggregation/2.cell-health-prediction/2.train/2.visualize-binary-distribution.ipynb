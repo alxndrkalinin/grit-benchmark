{
 "cells": [
  {
   "cell_type": "markdown",
   "metadata": {},
   "source": [
    "## Visualize Distribution of Recoded Features\n",
    "\n",
    "**Gregory Way, 2019**\n",
    "\n",
    "We tested the ability of classification models to predict high and low cell health features.\n",
    "Ultimately, we decided that these models were unstable and not reliable.\n",
    "Therefore, we did not use them in downstream applications.\n",
    "\n",
    "One potential reason the classification approach performed poorly is because the cell health input data must be first transformed to binary response variables.\n",
    "This notebook is used to visualize the binarization scheme to force the model input into a classification framework. \n",
    "\n",
    "I also determine the extend of confounding variables in the recoding scheme.\n",
    "Basically, asking if there are any plate effects or other potential technical artifacts."
   ]
  },
  {
   "cell_type": "code",
   "execution_count": 1,
   "metadata": {},
   "outputs": [
    {
     "name": "stderr",
     "output_type": "stream",
     "text": [
      "Warning message:\n",
      "“package ‘ggplot2’ was built under R version 3.6.3”\n",
      "Warning message:\n",
      "“package ‘dplyr’ was built under R version 3.6.3”\n"
     ]
    }
   ],
   "source": [
    "suppressPackageStartupMessages(library(ggplot2))\n",
    "suppressPackageStartupMessages(library(dplyr))\n"
   ]
  },
  {
   "cell_type": "code",
   "execution_count": 2,
   "metadata": {},
   "outputs": [],
   "source": [
    "method = 'median'\n",
    "# method = 'weighted'\n",
    "consensus <- \"modz\"\n",
    "output_dir <- file.path(\"figures\", sprintf(\"%s_agg\", method), \"feature_distribution\", consensus)\n",
    "\n",
    "dir.create(output_dir, showWarnings = FALSE, recursive = TRUE)\n"
   ]
  },
  {
   "cell_type": "code",
   "execution_count": 3,
   "metadata": {},
   "outputs": [],
   "source": [
    "# Load Data\n",
    "y_cols <- readr::cols(\n",
    "    Metadata_profile_id = readr::col_character(),\n",
    "    recode_target_value = readr::col_double(),\n",
    "    target = readr::col_character(),\n",
    "    data_type = readr::col_character(),\n",
    "    shuffle = readr::col_character(),\n",
    "    y_transform = readr::col_character(),\n",
    "    y_type = readr::col_character()\n",
    ")\n",
    "\n",
    "y_file <- file.path(\"results\",sprintf('%s_agg', method),\n",
    "                    paste0(\"full_cell_health_y_labels_\", consensus, \".tsv.gz\"))\n",
    "y_df <- readr::read_tsv(y_file,\n",
    "                        col_types = y_cols)\n",
    "\n",
    "y_binary_df <- y_df %>%\n",
    "    dplyr::filter(shuffle == \"shuffle_false\",\n",
    "                  y_transform == \"binarize\",\n",
    "                  y_type == \"y_true\")\n",
    "\n",
    "y_raw_scores_df <- y_df %>%\n",
    "    dplyr::filter(shuffle == \"shuffle_false\",\n",
    "                  y_transform == \"raw\",\n",
    "                  y_type == \"y_true\")\n"
   ]
  },
  {
   "cell_type": "code",
   "execution_count": 4,
   "metadata": {},
   "outputs": [
    {
     "data": {
      "text/html": [
       "<table>\n",
       "<thead><tr><th scope=col>Metadata_profile_id</th><th scope=col>recode_target_value_raw</th><th scope=col>target</th><th scope=col>data_type</th><th scope=col>shuffle</th><th scope=col>y_transform_raw</th><th scope=col>y_type</th><th scope=col>recode_target_value_binary</th><th scope=col>y_transform_binary</th></tr></thead>\n",
       "<tbody>\n",
       "\t<tr><td>profile_153     </td><td> 9.671827e-05   </td><td>cc_all_high_h2ax</td><td>Train           </td><td>shuffle_false   </td><td>raw             </td><td>y_true          </td><td>0               </td><td>binarize        </td></tr>\n",
       "\t<tr><td>profile_149     </td><td> 4.110561e-01   </td><td>cc_all_high_h2ax</td><td>Train           </td><td>shuffle_false   </td><td>raw             </td><td>y_true          </td><td>0               </td><td>binarize        </td></tr>\n",
       "\t<tr><td>profile_331     </td><td>-1.869515e-01   </td><td>cc_all_high_h2ax</td><td>Train           </td><td>shuffle_false   </td><td>raw             </td><td>y_true          </td><td>0               </td><td>binarize        </td></tr>\n",
       "</tbody>\n",
       "</table>\n"
      ],
      "text/latex": [
       "\\begin{tabular}{r|lllllllll}\n",
       " Metadata\\_profile\\_id & recode\\_target\\_value\\_raw & target & data\\_type & shuffle & y\\_transform\\_raw & y\\_type & recode\\_target\\_value\\_binary & y\\_transform\\_binary\\\\\n",
       "\\hline\n",
       "\t profile\\_153          &  9.671827e-05          & cc\\_all\\_high\\_h2ax & Train                  & shuffle\\_false        & raw                    & y\\_true               & 0                      & binarize              \\\\\n",
       "\t profile\\_149          &  4.110561e-01          & cc\\_all\\_high\\_h2ax & Train                  & shuffle\\_false        & raw                    & y\\_true               & 0                      & binarize              \\\\\n",
       "\t profile\\_331          & -1.869515e-01          & cc\\_all\\_high\\_h2ax & Train                  & shuffle\\_false        & raw                    & y\\_true               & 0                      & binarize              \\\\\n",
       "\\end{tabular}\n"
      ],
      "text/markdown": [
       "\n",
       "| Metadata_profile_id | recode_target_value_raw | target | data_type | shuffle | y_transform_raw | y_type | recode_target_value_binary | y_transform_binary |\n",
       "|---|---|---|---|---|---|---|---|---|\n",
       "| profile_153      |  9.671827e-05    | cc_all_high_h2ax | Train            | shuffle_false    | raw              | y_true           | 0                | binarize         |\n",
       "| profile_149      |  4.110561e-01    | cc_all_high_h2ax | Train            | shuffle_false    | raw              | y_true           | 0                | binarize         |\n",
       "| profile_331      | -1.869515e-01    | cc_all_high_h2ax | Train            | shuffle_false    | raw              | y_true           | 0                | binarize         |\n",
       "\n"
      ],
      "text/plain": [
       "  Metadata_profile_id recode_target_value_raw target           data_type\n",
       "1 profile_153          9.671827e-05           cc_all_high_h2ax Train    \n",
       "2 profile_149          4.110561e-01           cc_all_high_h2ax Train    \n",
       "3 profile_331         -1.869515e-01           cc_all_high_h2ax Train    \n",
       "  shuffle       y_transform_raw y_type recode_target_value_binary\n",
       "1 shuffle_false raw             y_true 0                         \n",
       "2 shuffle_false raw             y_true 0                         \n",
       "3 shuffle_false raw             y_true 0                         \n",
       "  y_transform_binary\n",
       "1 binarize          \n",
       "2 binarize          \n",
       "3 binarize          "
      ]
     },
     "metadata": {},
     "output_type": "display_data"
    }
   ],
   "source": [
    "# Process data for plotting\n",
    "y_plot_df <- y_raw_scores_df %>%\n",
    "    dplyr::inner_join(y_binary_df,\n",
    "                      by = c(\"Metadata_profile_id\",\n",
    "                             \"target\",\n",
    "                             \"data_type\",\n",
    "                             \"shuffle\",\n",
    "                             \"y_type\"),\n",
    "                      suffix = c(\"_raw\", \"_binary\"))\n",
    "\n",
    "y_plot_df$data_type <- dplyr::recode(y_plot_df$data_type,\n",
    "                                     \"train\" = \"Train\",\n",
    "                                     \"test\" = \"Test\")\n",
    "\n",
    "head(y_plot_df, 3)\n"
   ]
  },
  {
   "cell_type": "code",
   "execution_count": 5,
   "metadata": {},
   "outputs": [
    {
     "name": "stderr",
     "output_type": "stream",
     "text": [
      "Warning message in dir.create(file.path(dirname(pdf_file))):\n",
      "“'figures/median_agg/feature_distribution/modz' already exists”\n"
     ]
    },
    {
     "data": {
      "text/html": [
       "<strong>png:</strong> 2"
      ],
      "text/latex": [
       "\\textbf{png:} 2"
      ],
      "text/markdown": [
       "**png:** 2"
      ],
      "text/plain": [
       "png \n",
       "  2 "
      ]
     },
     "metadata": {},
     "output_type": "display_data"
    }
   ],
   "source": [
    "# Generate and save figures\n",
    "pdf_file <- file.path(\n",
    "    output_dir,\n",
    "    paste0(\"all_binary_distributions_std_\", consensus, \".pdf\")\n",
    ")\n",
    "dir.create(file.path(dirname(pdf_file)))\n",
    "\n",
    "pdf(pdf_file, width = 5, height = 3.5, onefile = TRUE)\n",
    "\n",
    "for (target in unique(y_plot_df$target)) {\n",
    "    y_plot_subset_df = y_plot_df %>%\n",
    "        dplyr::filter(target == !!target)\n",
    "\n",
    "    target_gg <- \n",
    "        ggplot(y_plot_subset_df,\n",
    "               aes(x = recode_target_value_raw,\n",
    "                   fill = as.factor(recode_target_value_binary))) +\n",
    "            geom_histogram(bins = 50, alpha = 0.6) +\n",
    "            facet_grid(~ data_type,\n",
    "                       scales = \"free_y\") +\n",
    "            scale_fill_manual(name = \"Binary\\nRecoding\",\n",
    "                              labels = c(\"0\" = \"0\", \"1\" = \"1\"),\n",
    "                              values = c(\"0\" = \"#AEA367\", \"1\" = \"#403019\")) +\n",
    "            xlab(target) +\n",
    "            ylab(\"Count\") +\n",
    "            theme_bw() +\n",
    "            ggtitle(target) +\n",
    "            theme(axis.text = element_text(size = 8),\n",
    "                  axis.title = element_text(size = 9),\n",
    "                  strip.text = element_text(size = 7),\n",
    "                  legend.title = element_text(size = 8),\n",
    "                  title = element_text(size = 12),\n",
    "                  strip.background = element_rect(colour = \"black\",\n",
    "                                                  fill = \"#fdfff4\"))\n",
    "\n",
    "    output_file <- file.path(output_dir, paste0(target, \"_dist_\", consensus, \".png\"))\n",
    "    \n",
    "    ggsave(filename = output_file,\n",
    "           plot = target_gg,\n",
    "           width = 5,\n",
    "           height = 2.75,\n",
    "           dpi = 400)\n",
    "    \n",
    "    print(target_gg)\n",
    "}\n",
    "\n",
    "dev.off()\n"
   ]
  }
 ],
 "metadata": {
  "kernelspec": {
   "display_name": "R",
   "language": "R",
   "name": "ir"
  },
  "language_info": {
   "codemirror_mode": "r",
   "file_extension": ".r",
   "mimetype": "text/x-r-source",
   "name": "R",
   "pygments_lexer": "r",
   "version": "3.6.1"
  }
 },
 "nbformat": 4,
 "nbformat_minor": 4
}
