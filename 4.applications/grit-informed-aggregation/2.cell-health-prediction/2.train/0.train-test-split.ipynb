{
 "cells": [
  {
   "cell_type": "markdown",
   "id": "e1d6ab36",
   "metadata": {},
   "source": [
    "# Train Test Split"
   ]
  },
  {
   "cell_type": "code",
   "execution_count": 1,
   "id": "948047ed",
   "metadata": {},
   "outputs": [],
   "source": [
    "import os\n",
    "import numpy as np\n",
    "import pandas as pd\n",
    "from pathlib import Path\n",
    "\n",
    "from sklearn.model_selection import train_test_split\n",
    "from sklearn.preprocessing import StandardScaler\n",
    "\n",
    "from pycytominer import get_na_columns"
   ]
  },
  {
   "cell_type": "markdown",
   "id": "7bbb2af6",
   "metadata": {},
   "source": [
    "### Load the MODZ consensus profiles"
   ]
  },
  {
   "cell_type": "code",
   "execution_count": 2,
   "id": "b2edcef6",
   "metadata": {},
   "outputs": [],
   "source": [
    "consensus_folder = \"../1.generate-profiles/data/consensus/\"\n",
    "method = \"median\"\n",
    "# method = 'weighted'\n",
    "\n",
    "\n",
    "# cell painting profliles\n",
    "x_median_df = pd.read_csv(\n",
    "    Path(\"{}{}_agg_cell_painting_modz.tsv.gz\".format(consensus_folder, method)),\n",
    "    sep=\"\\t\",\n",
    ")\n",
    "\n",
    "# the cell health labels\n",
    "y_median_df = pd.read_csv(\n",
    "    Path(\"{}{}_agg_cell_health_modz.tsv.gz\".format(consensus_folder, method)), sep=\"\\t\"\n",
    ")"
   ]
  },
  {
   "cell_type": "markdown",
   "id": "f4ab91af",
   "metadata": {},
   "source": [
    "### Perform the train-test split stratified by cell line"
   ]
  },
  {
   "cell_type": "code",
   "execution_count": 3,
   "id": "d796e3e2",
   "metadata": {},
   "outputs": [
    {
     "name": "stderr",
     "output_type": "stream",
     "text": [
      "/home/ubuntu/miniconda3/envs/cell-health-HYT/lib/python3.7/site-packages/sklearn/model_selection/_split.py:1609: DeprecationWarning: `np.int` is a deprecated alias for the builtin `int`. To silence this warning, use `int` by itself. Doing this will not modify any behavior and is safe. When replacing `np.int`, you may wish to use e.g. `np.int64` or `np.int32` to specify the precision. If you wish to review your current use, check the release note link for additional information.\n",
      "Deprecated in NumPy 1.20; for more details and guidance: https://numpy.org/devdocs/release/1.20.0-notes.html#deprecations\n",
      "  return floored.astype(np.int)\n",
      "/home/ubuntu/miniconda3/envs/cell-health-HYT/lib/python3.7/site-packages/sklearn/model_selection/_split.py:1609: DeprecationWarning: `np.int` is a deprecated alias for the builtin `int`. To silence this warning, use `int` by itself. Doing this will not modify any behavior and is safe. When replacing `np.int`, you may wish to use e.g. `np.int64` or `np.int32` to specify the precision. If you wish to review your current use, check the release note link for additional information.\n",
      "Deprecated in NumPy 1.20; for more details and guidance: https://numpy.org/devdocs/release/1.20.0-notes.html#deprecations\n",
      "  return floored.astype(np.int)\n"
     ]
    }
   ],
   "source": [
    "x_train_df, x_test_df, y_train_df, y_test_df = train_test_split(\n",
    "    x_median_df,\n",
    "    y_median_df,\n",
    "    test_size=0.15,\n",
    "    stratify=x_median_df[[\"Metadata_cell_line\"]],\n",
    ")"
   ]
  },
  {
   "cell_type": "code",
   "execution_count": 4,
   "id": "3993e4df",
   "metadata": {},
   "outputs": [
    {
     "name": "stdout",
     "output_type": "stream",
     "text": [
      "(303, 946) (54, 946)\n"
     ]
    }
   ],
   "source": [
    "print(x_train_df.shape, x_test_df.shape)"
   ]
  },
  {
   "cell_type": "code",
   "execution_count": 5,
   "id": "dbf1994c",
   "metadata": {},
   "outputs": [
    {
     "data": {
      "text/plain": [
       "True"
      ]
     },
     "execution_count": 5,
     "metadata": {},
     "output_type": "execute_result"
    }
   ],
   "source": [
    "training_samples = x_train_df.Metadata_profile_id.tolist()\n",
    "testing_samples = x_test_df.Metadata_profile_id.tolist()\n",
    "training_samples == training_samples"
   ]
  },
  {
   "cell_type": "code",
   "execution_count": 6,
   "id": "1c30859e",
   "metadata": {},
   "outputs": [
    {
     "name": "stdout",
     "output_type": "stream",
     "text": [
      "CPU times: user 1.57 s, sys: 26.2 ms, total: 1.6 s\n",
      "Wall time: 1.98 s\n"
     ]
    }
   ],
   "source": [
    "%%time\n",
    "# save these splits\n",
    "splits_folder = \"data/train_test/{}_agg/\".format(method)\n",
    "if not os.path.exists(splits_folder):\n",
    "    os.makedirs(splits_folder)\n",
    "\n",
    "file = f\"{splits_folder}x_train_modz.tsv.gz\"\n",
    "x_train_df.to_csv(Path(file), sep=\"\\t\", index=False)\n",
    "\n",
    "file = f\"{splits_folder}y_train_modz.tsv.gz\"\n",
    "y_train_df.to_csv(Path(file), sep=\"\\t\", index=False)\n",
    "\n",
    "file = f\"{splits_folder}x_test_modz.tsv.gz\"\n",
    "x_test_df.to_csv(Path(file), sep=\"\\t\", index=False)\n",
    "\n",
    "file = f\"{splits_folder}y_test_modz.tsv.gz\"\n",
    "y_test_df.to_csv(Path(file), sep=\"\\t\", index=False)"
   ]
  }
 ],
 "metadata": {
  "kernelspec": {
   "display_name": "Python 3",
   "language": "python",
   "name": "python3"
  },
  "language_info": {
   "codemirror_mode": {
    "name": "ipython",
    "version": 3
   },
   "file_extension": ".py",
   "mimetype": "text/x-python",
   "name": "python",
   "nbconvert_exporter": "python",
   "pygments_lexer": "ipython3",
   "version": "3.7.1"
  }
 },
 "nbformat": 4,
 "nbformat_minor": 5
}
