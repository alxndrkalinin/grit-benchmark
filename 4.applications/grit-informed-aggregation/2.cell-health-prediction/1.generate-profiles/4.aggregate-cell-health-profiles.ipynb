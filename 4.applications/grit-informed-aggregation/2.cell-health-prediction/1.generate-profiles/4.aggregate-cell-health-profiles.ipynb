{
 "cells": [
  {
   "cell_type": "markdown",
   "id": "86ead717",
   "metadata": {},
   "source": [
    "# Aggregate single cells into bulk profiles using grit information for Cell Health prediction pipeline\n",
    "\n",
    "We use normalized, **single-cell profiles** from the Cell Health experiment and **single-cell grit scores** (calculated with respect to Chr2 cutting controls and using normalized, feature selected profiles). \n",
    "\n",
    "We only used the same cell-painting feature columns as used in the original **Cell Health project** to ensure consistency across projects.\n",
    "\n",
    "Here we aggregate profiles from the Cell Health experiments using several \"grit-informed\" methods:\n",
    "1. Standard median aggregation\n",
    "2. Weighted mean, weighting by raw grit scores"
   ]
  },
  {
   "cell_type": "code",
   "execution_count": 1,
   "id": "47311c1c",
   "metadata": {
    "scrolled": true
   },
   "outputs": [],
   "source": [
    "import os\n",
    "import glob\n",
    "import gzip\n",
    "from pathlib import Path\n",
    "from datetime import datetime\n",
    "\n",
    "import numpy as np\n",
    "import pandas as pd\n",
    "from scipy.special import softmax \n",
    "\n",
    "from pycytominer import aggregate, get_na_columns\n",
    "from pycytominer.cyto_utils import infer_cp_features\n",
    "from cytominer_eval import evaluate\n",
    "from scripts.utils import calculate_weighted_agg"
   ]
  },
  {
   "cell_type": "code",
   "execution_count": 2,
   "id": "6b2c229c",
   "metadata": {},
   "outputs": [],
   "source": [
    "def merge_metadata(cell_line, level3_profile):\n",
    "    # load metadata file from Cell Health  data\n",
    "    commit = \"07e4b40c39dd27084be36fbef4d64c5654b2960f\"\n",
    "    base_url = f\"https://github.com/broadinstitute/cell-health/raw/{commit}\"\n",
    "    url = f\"{base_url}/1.generate-profiles/data/metadata/platemap/DEPENDENCIES1_{cell_line}.csv\"\n",
    "    platemap = pd.read_csv(url, sep=\",\")\n",
    "    platemap.columns = ['Metadata_' + str(x) for x in platemap.columns]\n",
    "\n",
    "    # merge with the aggregated files\n",
    "    meta_df = pd.merge(level3_profile, platemap, left_on='Metadata_Well', right_on='Metadata_well_position')\n",
    "    # # reorder columns for metadata to be in front\n",
    "    meta_df = meta_df[sorted(meta_df, key = lambda x: x not in meta_df.filter(like=\"Metadata\").columns)]\n",
    "\n",
    "    return meta_df"
   ]
  },
  {
   "cell_type": "markdown",
   "id": "051b1ab9",
   "metadata": {},
   "source": [
    "## Load level 2 data"
   ]
  },
  {
   "cell_type": "code",
   "execution_count": 3,
   "id": "1eda7615",
   "metadata": {},
   "outputs": [],
   "source": [
    "plate_dict = {\n",
    "    \"ES2\": [\"SQ00014613\",\"SQ00014614\", \"SQ00014615\"], \n",
    "    \"A549\": [\"SQ00014610\", \"SQ00014611\", \"SQ00014612\"],\n",
    "    \"HCC44\": [\"SQ00014616\", \"SQ00014617\", \"SQ00014618\"]\n",
    "}\n"
   ]
  },
  {
   "cell_type": "code",
   "execution_count": 4,
   "id": "b028c288",
   "metadata": {},
   "outputs": [
    {
     "name": "stdout",
     "output_type": "stream",
     "text": [
      "(3456, 956)\n"
     ]
    }
   ],
   "source": [
    "# take the same columns as original Cell Health paper did\n",
    "commit = \"67729b2baf9830484e22087efcf41294ae8e0904\"\n",
    "base_url = f\"https://github.com/broadinstitute/cell-health/raw/{commit}\"\n",
    "url = f\"{base_url}/1.generate-profiles/data/processed/cell_health_profiles_merged.tsv.gz\"\n",
    "\n",
    "df = pd.read_csv(url, sep=\"\\t\")\n",
    "print(df.shape)\n",
    "df.head(2)\n",
    "\n",
    "cols_to_keep = infer_cp_features(df)"
   ]
  },
  {
   "cell_type": "code",
   "execution_count": null,
   "id": "07ca1e60",
   "metadata": {
    "scrolled": true,
    "tags": []
   },
   "outputs": [
    {
     "name": "stdout",
     "output_type": "stream",
     "text": [
      "adding scrgrit of SQ00014614 to list of ES2\n",
      "(988494, 9)\n",
      "adding scrgrit of SQ00014613 to list of ES2\n",
      "(876530, 9)\n",
      "adding scrgrit of SQ00014615 to list of ES2\n",
      "(966400, 9)\n",
      "total shape of of scgrit_df for ES2 is: (2831424, 10)\n",
      "adding scprofiles of SQ00014613 to list of ES2\n",
      "adding scprofiles of SQ00014615 to list of ES2\n",
      "adding scprofiles of SQ00014614 to list of ES2\n",
      "total shape of scprofiles_df for ES2 is: (2182688, 962)\n",
      "total shape of sc_df for ES2 is: (2831424, 971)\n"
     ]
    }
   ],
   "source": [
    "%%time\n",
    "results_folder = 'data/processed/'\n",
    "    \n",
    "for cell_line in ['ES2', 'HCC44', 'A549']: \n",
    "    ####### read in single-cell grit data #######\n",
    "    start_merge = datetime.now()\n",
    "    grit_folder = '../../../1.calculate-metrics/cell-health/results/'\n",
    "    grit_files = glob.glob(grit_folder+'*single_cell_grit*.tsv.gz')\n",
    "\n",
    "    scgrit_df = []\n",
    "    for file in grit_files:\n",
    "        plate_name=file.split('/')[-1].split('_')[-2]\n",
    "        if plate_name in plate_dict[cell_line]:\n",
    "            print(f\"adding scrgrit of {plate_name} to list of {cell_line}\")\n",
    "            scgrit_plate = pd.read_csv(file, sep='\\t').assign(plate=plate_name, cell_line = cell_line)\n",
    "            print(scgrit_plate.shape)\n",
    "            scgrit_df.append(scgrit_plate)\n",
    "    scgrit_df = pd.concat(scgrit_df)\n",
    "    scgrit_df['cell_identity'] = scgrit_df.perturbation.str.split(\"_\", expand=True)[1].astype(int)\n",
    "    scgrit_df.columns = ['Metadata_'  + str(col) for col in scgrit_df.columns]\n",
    "    print(f\"total shape of of scgrit_df for {cell_line} is: {scgrit_df.shape}\")\n",
    "    \n",
    "    ####### read in single-cell cell painting profiles #######\n",
    "    profile_folder = '../../../0.download-data/data/cell_health/normalized/' \n",
    "    profile_files = glob.glob(profile_folder+'*normalized.csv.gz')\n",
    "\n",
    "    scprofiles_df = []\n",
    "    for file in profile_files:\n",
    "        plate_name=file.split('/')[-1].split('_')[0]\n",
    "        if plate_name in plate_dict[cell_line]:\n",
    "            print(f\"adding scprofiles of {plate_name} to list of {cell_line}\")\n",
    "            scprofile_plate = (pd.read_csv(file, sep=',', low_memory=False)\n",
    "                               .reset_index()\n",
    "                               .rename({'index':'Metadata_cell_identity'}, axis='columns')\n",
    "                              ).assign(cell_line = cell_line)\n",
    "            plate_cols = infer_cp_features(scprofile_plate)\n",
    "            drop_cols = [x for x in plate_cols if x not in cols_to_keep]\n",
    "            scprofile_plate.drop(columns = drop_cols, inplace=True)\n",
    "            scprofiles_df.append(scprofile_plate)\n",
    "    scprofiles_df = pd.concat(scprofiles_df, sort=False)\n",
    "    print(f'total shape of scprofiles_df for {cell_line} is: {scprofiles_df.shape}')\n",
    "\n",
    "    ####### merge scgrit scores + cell painting profiles #######\n",
    "    scprofiles_df = (pd.merge(scprofiles_df, scgrit_df, \n",
    "         left_on=['Metadata_cell_identity', 'Metadata_Plate', 'Metadata_pert_name'], \n",
    "                 right_on=['Metadata_cell_identity', 'Metadata_plate', 'Metadata_group'])\n",
    "        )\n",
    "    del scgrit_df\n",
    "    print(f\"total shape of sc_df for {cell_line} is: {scprofiles_df.shape}\")\n",
    "    # remove columns with any NA entries\n",
    "    na_cols_to_drop = get_na_columns(scprofiles_df, cutoff=0)\n",
    "    print(f\"Dropping {len(na_cols_to_drop)} columns because of missing data\")\n",
    "    scprofiles_df = scprofiles_df.drop(na_cols_to_drop, axis=\"columns\")\n",
    "    print(f\"FINAL shape of merged data {scprofiles_df.shape}\")\n",
    "\n",
    "    print(f\"TOTAL TIME constructing merged df for cell_line {cell_line} : {str(datetime.now()-start_merge)}\")\n",
    "    \n",
    "    \n",
    "    ###### standard median aggregation ######\n",
    "    start_agg = datetime.now()\n",
    "    agg_df = aggregate(\n",
    "        population_df = scprofiles_df,\n",
    "        strata = [\"Metadata_Plate\", \"Metadata_Well\"],\n",
    "        features = \"infer\",\n",
    "        operation =\"median\"\n",
    "    ).assign(Metadata_agg_method = 'median', cell_line = cell_line)\n",
    "    agg_meta_df = merge_metadata(cell_line, agg_df)\n",
    "    display(agg_meta_df.head())\n",
    "    # writing data\n",
    "    agg_meta_df.to_csv(Path(results_folder + cell_line + \"_median.tsv\"), index=False, sep='\\t')\n",
    "    \n",
    "    ###### grit-informed aggregation methods ######\n",
    "    ### raw grit as weights ###\n",
    "    agg_df = (calculate_weighted_agg(\n",
    "        population_df = scprofiles_df,\n",
    "        columns = ['Metadata_Plate', 'Metadata_Well'],\n",
    "        features = 'infer',\n",
    "        transform = 'weighted_grit', weight = 'Metadata_grit')\n",
    "                    ).assign(Metadata_agg_method = 'weighted', cell_line = cell_line)\n",
    "    agg_meta_df = merge_metadata(cell_line, agg_df)\n",
    "    display(agg_meta_df.head())\n",
    "    # writing data\n",
    "    agg_meta_df.to_csv(Path(results_folder + cell_line + \"_weighted.tsv\"), index=False, sep='\\t')\n",
    "    \n",
    "    print(f\"TOTAL TIME performing aggregation for cell_line {cell_line} : {str(datetime.now()-start_agg)}\")\n"
   ]
  },
  {
   "cell_type": "code",
   "execution_count": null,
   "id": "600d5a73-a81a-4a7d-88dc-3b2e44394cb2",
   "metadata": {},
   "outputs": [],
   "source": []
  }
 ],
 "metadata": {
  "kernelspec": {
   "display_name": "Python 3",
   "language": "python",
   "name": "python3"
  },
  "language_info": {
   "codemirror_mode": {
    "name": "ipython",
    "version": 3
   },
   "file_extension": ".py",
   "mimetype": "text/x-python",
   "name": "python",
   "nbconvert_exporter": "python",
   "pygments_lexer": "ipython3",
   "version": "3.7.1"
  }
 },
 "nbformat": 4,
 "nbformat_minor": 5
}
