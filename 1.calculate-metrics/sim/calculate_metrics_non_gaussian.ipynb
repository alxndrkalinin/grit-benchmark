{
 "cells": [
  {
   "cell_type": "code",
   "execution_count": 2,
   "metadata": {},
   "outputs": [],
   "source": [
    "%load_ext autoreload\n",
    "%autoreload 2\n",
    "\n",
    "import pickle\n",
    "from pathlib import Path\n",
    "\n",
    "import numpy as np\n",
    "import pandas as pd\n",
    "import seaborn as sns\n",
    "from scipy.stats import poisson, nbinom, lognorm\n",
    "\n",
    "from cytominer_eval import evaluate_metrics\n",
    "from cytominer_eval.transform import metric_melt, copairs_similarity\n",
    "from cytominer_eval.utils.transform_utils import check_replicate_groups\n",
    "from cytominer_eval.utils.operation_utils import assign_replicates, set_pair_ids\n",
    "\n",
    "from cytominer_eval.operations import (\n",
    "    replicate_reproducibility,\n",
    "    precision_recall,\n",
    "    grit,\n",
    "    mp_value,\n",
    "    enrichment,\n",
    "    hitk,\n",
    ")\n",
    "\n",
    "from copairs.map import create_matcher, flatten_str_list, run_pipeline\n",
    "\n",
    "from scripts.generate_utils import (\n",
    "    generate_distribution_params,\n",
    "    generate_distribution_params_differ,\n",
    "    generate_features,\n",
    "    aggregate_metrics_results,\n",
    "    calculate_accuracy,\n",
    ")"
   ]
  },
  {
   "cell_type": "code",
   "execution_count": 3,
   "metadata": {},
   "outputs": [],
   "source": [
    "plate_col = \"Metadata_Plate\"\n",
    "plate_map_col = \"Metadata_Plate_Map\"\n",
    "well_col = \"Metadata_Well\"\n",
    "pert_col = \"Metadata_Perturbation\"\n",
    "negcon_pert_value = \"negative_control\"\n",
    "\n",
    "SEED = 42"
   ]
  },
  {
   "cell_type": "code",
   "execution_count": 4,
   "metadata": {},
   "outputs": [],
   "source": [
    "# # Example usage\n",
    "# rng = np.random.default_rng(SEED)\n",
    "# n_plates, n_wells, n_perts, n_controls, n_feats, n_plate_maps = 3, 5, 4, 1, 100, 2\n",
    "# feature_proportions = {'gaussian': 1.0, 'lognormal': 0.0, 'poisson': 0.0, 'nbinom': 0.0}\n",
    "# control_params = { \"gaussian\": (0, 1), \"lognormal\": (0, 1), \"poisson\": 3, \"nbinom\": (1, 0.5) }\n",
    "\n",
    "# pert_params = generate_distribution_params(n_perts, rng)\n",
    "\n",
    "# dframe, feats = generate_features(n_plates, n_wells, n_perts, n_controls, n_feats, n_plate_maps, feature_proportions, control_params, pert_params, rng)\n",
    "\n",
    "# print(dframe)"
   ]
  },
  {
   "cell_type": "code",
   "execution_count": 14,
   "metadata": {},
   "outputs": [],
   "source": [
    "rng = np.random.default_rng(SEED)\n",
    "\n",
    "n_plates = 2\n",
    "# n_wells = 108  -> # set to n_per_plate + n_controls\n",
    "n_perts = 100  # constant\n",
    "n_controls = 9\n",
    "n_feats = 100\n",
    "n_plate_maps = 1  # constant\n",
    "n_perts_differ = 0\n",
    "\n",
    "feature_proportions = {\"gaussian\": 1.0, \"lognormal\": 0.0, \"poisson\": 0.0, \"nbinom\": 0.0}\n",
    "features_differ = {\"gaussian\": 64, \"lognormal\": 0, \"poisson\": 0, \"nbinom\": 0}\n",
    "\n",
    "control_params = {\n",
    "    \"gaussian\": (0, 1),\n",
    "    \"lognormal\": (0, 1),\n",
    "    \"poisson\": 3,\n",
    "    \"nbinom\": (1, 0.5),\n",
    "}\n",
    "differ_params = {\n",
    "    \"gaussian\": (1, 1),\n",
    "    \"lognormal\": (0, 1),\n",
    "    \"poisson\": 3,\n",
    "    \"nbinom\": (1, 0.5),\n",
    "}\n",
    "\n",
    "replicate_groups = {\n",
    "    \"pos_sameby\": {\"all\": [f\"{pert_col} != '{negcon_pert_value}'\"], \"any\": []},\n",
    "    \"pos_diffby\": {\"all\": [], \"any\": []},\n",
    "    \"neg_sameby\": {\"all\": [], \"any\": []},\n",
    "    \"neg_diffby\": {\"all\": [\"Metadata_Perturbation_Type\"], \"any\": []},\n",
    "}\n",
    "\n",
    "metrics_config = {\n",
    "    \"replicate_reproducibility\": {\n",
    "        \"return_median_correlations\": True,\n",
    "        \"quantile_over_null\": 0.95,\n",
    "        \"replicate_groups\": [f\"{pert_col}\"],\n",
    "    },\n",
    "    # \"precision_recall\": {\"k\": 10, \"groupby_columns\": [f\"{pert_col}\"]},\n",
    "    # \"enrichment\": {\"percentile\": 0.99},\n",
    "    # \"hitk\": {\"groupby_columns\": [f\"{pert_col}\"], \"percent_list\": [2, 5, 10]},\n",
    "    \"mp_value\": {\n",
    "        \"control_perts\": [f\"{negcon_pert_value}\"],\n",
    "        \"replicate_id\": f\"{pert_col}\",\n",
    "        \"rescale_pca\": True,\n",
    "        \"nb_permutations\": 1000,\n",
    "    },\n",
    "    # \"grit\": {\n",
    "    #     \"control_perts\": [\"DMSO\"],\n",
    "    #     \"profile_col\": \"Metadata_broad_sample\",\n",
    "    #     \"replicate_group_col\": \"Metadata_mg_per_ml\",\n",
    "    #     \"replicate_summary_method\": \"mean\"\n",
    "    # }\n",
    "    \"mean_ap\": {\n",
    "        \"null_size\": 1000,\n",
    "        \"groupby_columns\": [f\"{pert_col}\"],\n",
    "    },\n",
    "}"
   ]
  },
  {
   "cell_type": "code",
   "execution_count": 15,
   "metadata": {},
   "outputs": [
    {
     "name": "stdout",
     "output_type": "stream",
     "text": [
      "\n",
      "Calculating distances.\n",
      "Pos pairs size: 100, Neg pairs size: 3600\n"
     ]
    },
    {
     "data": {
      "application/vnd.jupyter.widget-view+json": {
       "model_id": "6bc0d5088d33446bb0d630bd08f3cdb8",
       "version_major": 2,
       "version_minor": 0
      },
      "text/plain": [
       "  0%|          | 0/1 [00:00<?, ?it/s]"
      ]
     },
     "metadata": {},
     "output_type": "display_data"
    },
    {
     "data": {
      "application/vnd.jupyter.widget-view+json": {
       "model_id": "c4206a270571413b9cc79f645b9b8c50",
       "version_major": 2,
       "version_minor": 0
      },
      "text/plain": [
       "  0%|          | 0/1 [00:00<?, ?it/s]"
      ]
     },
     "metadata": {},
     "output_type": "display_data"
    },
    {
     "name": "stdout",
     "output_type": "stream",
     "text": [
      "\n",
      "Calculating metric: replicate_reproducibility\n",
      "\n",
      "Calculating metric: mean_ap\n"
     ]
    },
    {
     "name": "stderr",
     "output_type": "stream",
     "text": [
      "/Users/akalinin/Projects/copairs/src/copairs/compute.py:105: RuntimeWarning: invalid value encountered in divide\n",
      "  ap_scores = np.add.reduceat(pr_k * rel_k_list, cutoffs) / num_pos\n"
     ]
    },
    {
     "data": {
      "application/vnd.jupyter.widget-view+json": {
       "model_id": "8ac415186e934a0fa840230066a6867d",
       "version_major": 2,
       "version_minor": 0
      },
      "text/plain": [
       "  0%|          | 0/2 [00:00<?, ?it/s]"
      ]
     },
     "metadata": {},
     "output_type": "display_data"
    },
    {
     "name": "stdout",
     "output_type": "stream",
     "text": [
      "\n",
      "Calculating distances.\n",
      "Pos pairs size: 100, Neg pairs size: 3600\n",
      "\n",
      "Calculating metric: mp_value\n"
     ]
    },
    {
     "data": {
      "application/vnd.jupyter.widget-view+json": {
       "model_id": "c2b657346b4144babba0c1803ac0f4ce",
       "version_major": 2,
       "version_minor": 0
      },
      "text/plain": [
       "Calculating mp-values:   0%|          | 0/100 [00:00<?, ?it/s]"
      ]
     },
     "metadata": {},
     "output_type": "display_data"
    },
    {
     "name": "stderr",
     "output_type": "stream",
     "text": [
      "IOStream.flush timed out\n"
     ]
    },
    {
     "data": {
      "application/vnd.jupyter.widget-view+json": {
       "model_id": "39d4d2cb7c264cbd95ed02f02c4dfc41",
       "version_major": 2,
       "version_minor": 0
      },
      "text/plain": [
       "Processing groups:   0%|          | 0/100 [00:00<?, ?it/s]"
      ]
     },
     "metadata": {},
     "output_type": "display_data"
    }
   ],
   "source": [
    "pert_params, differ_perts = generate_distribution_params_differ(\n",
    "    n_perts, n_perts_differ, control_params, differ_params, rng\n",
    ")\n",
    "\n",
    "dframe, feats = generate_features(\n",
    "    n_plates,\n",
    "    n_perts + n_controls,\n",
    "    n_perts,\n",
    "    n_controls,\n",
    "    n_feats,\n",
    "    n_plate_maps,\n",
    "    feature_proportions,\n",
    "    control_params,\n",
    "    pert_params,\n",
    "    rng,\n",
    "    features_differ=features_differ,\n",
    "    differ_params=differ_params,\n",
    "    resample_perts=False,\n",
    ")\n",
    "\n",
    "metrics_results = evaluate_metrics(\n",
    "    profiles=pd.concat([dframe, feats], axis=1),\n",
    "    features=feats.columns,\n",
    "    meta_features=dframe.columns,\n",
    "    replicate_groups=replicate_groups,\n",
    "    metrics_config=metrics_config,\n",
    "    use_copairs=True,\n",
    ")\n",
    "\n",
    "acc = calculate_accuracy(metrics_results)"
   ]
  },
  {
   "cell_type": "code",
   "execution_count": 16,
   "metadata": {},
   "outputs": [
    {
     "data": {
      "text/html": [
       "<div>\n",
       "<style scoped>\n",
       "    .dataframe tbody tr th:only-of-type {\n",
       "        vertical-align: middle;\n",
       "    }\n",
       "\n",
       "    .dataframe tbody tr th {\n",
       "        vertical-align: top;\n",
       "    }\n",
       "\n",
       "    .dataframe thead th {\n",
       "        text-align: right;\n",
       "    }\n",
       "</style>\n",
       "<table border=\"1\" class=\"dataframe\">\n",
       "  <thead>\n",
       "    <tr style=\"text-align: right;\">\n",
       "      <th></th>\n",
       "      <th>index</th>\n",
       "      <th>Metadata_Perturbation</th>\n",
       "      <th>similarity_metric</th>\n",
       "      <th>mean_ap</th>\n",
       "      <th>p_value</th>\n",
       "      <th>n_pos_pairs</th>\n",
       "      <th>n_total_pairs</th>\n",
       "      <th>clique_id</th>\n",
       "      <th>mp_value</th>\n",
       "      <th>-log10(p_value)</th>\n",
       "      <th>-log10(mp_value)</th>\n",
       "      <th>percent_replicating</th>\n",
       "    </tr>\n",
       "  </thead>\n",
       "  <tbody>\n",
       "    <tr>\n",
       "      <th>0</th>\n",
       "      <td>0</td>\n",
       "      <td>c0</td>\n",
       "      <td>0.245894</td>\n",
       "      <td>1.0</td>\n",
       "      <td>0.054</td>\n",
       "      <td>1.0</td>\n",
       "      <td>19.0</td>\n",
       "      <td>1</td>\n",
       "      <td>0.031</td>\n",
       "      <td>1.267606</td>\n",
       "      <td>1.508638</td>\n",
       "      <td>0.0</td>\n",
       "    </tr>\n",
       "    <tr>\n",
       "      <th>1</th>\n",
       "      <td>1</td>\n",
       "      <td>c1</td>\n",
       "      <td>0.312643</td>\n",
       "      <td>1.0</td>\n",
       "      <td>0.054</td>\n",
       "      <td>1.0</td>\n",
       "      <td>19.0</td>\n",
       "      <td>46</td>\n",
       "      <td>0.029</td>\n",
       "      <td>1.267606</td>\n",
       "      <td>1.537602</td>\n",
       "      <td>0.0</td>\n",
       "    </tr>\n",
       "    <tr>\n",
       "      <th>2</th>\n",
       "      <td>2</td>\n",
       "      <td>c10</td>\n",
       "      <td>0.450652</td>\n",
       "      <td>1.0</td>\n",
       "      <td>0.054</td>\n",
       "      <td>1.0</td>\n",
       "      <td>19.0</td>\n",
       "      <td>2</td>\n",
       "      <td>0.079</td>\n",
       "      <td>1.267606</td>\n",
       "      <td>1.102373</td>\n",
       "      <td>0.0</td>\n",
       "    </tr>\n",
       "    <tr>\n",
       "      <th>3</th>\n",
       "      <td>3</td>\n",
       "      <td>c11</td>\n",
       "      <td>0.331626</td>\n",
       "      <td>1.0</td>\n",
       "      <td>0.054</td>\n",
       "      <td>1.0</td>\n",
       "      <td>19.0</td>\n",
       "      <td>89</td>\n",
       "      <td>0.003</td>\n",
       "      <td>1.267606</td>\n",
       "      <td>2.522879</td>\n",
       "      <td>0.0</td>\n",
       "    </tr>\n",
       "    <tr>\n",
       "      <th>4</th>\n",
       "      <td>4</td>\n",
       "      <td>c12</td>\n",
       "      <td>0.479979</td>\n",
       "      <td>1.0</td>\n",
       "      <td>0.054</td>\n",
       "      <td>1.0</td>\n",
       "      <td>19.0</td>\n",
       "      <td>0</td>\n",
       "      <td>0.038</td>\n",
       "      <td>1.267606</td>\n",
       "      <td>1.420216</td>\n",
       "      <td>0.0</td>\n",
       "    </tr>\n",
       "    <tr>\n",
       "      <th>...</th>\n",
       "      <td>...</td>\n",
       "      <td>...</td>\n",
       "      <td>...</td>\n",
       "      <td>...</td>\n",
       "      <td>...</td>\n",
       "      <td>...</td>\n",
       "      <td>...</td>\n",
       "      <td>...</td>\n",
       "      <td>...</td>\n",
       "      <td>...</td>\n",
       "      <td>...</td>\n",
       "      <td>...</td>\n",
       "    </tr>\n",
       "    <tr>\n",
       "      <th>95</th>\n",
       "      <td>95</td>\n",
       "      <td>c95</td>\n",
       "      <td>0.369688</td>\n",
       "      <td>1.0</td>\n",
       "      <td>0.054</td>\n",
       "      <td>1.0</td>\n",
       "      <td>19.0</td>\n",
       "      <td>10</td>\n",
       "      <td>0.040</td>\n",
       "      <td>1.267606</td>\n",
       "      <td>1.397940</td>\n",
       "      <td>0.0</td>\n",
       "    </tr>\n",
       "    <tr>\n",
       "      <th>96</th>\n",
       "      <td>96</td>\n",
       "      <td>c96</td>\n",
       "      <td>0.339383</td>\n",
       "      <td>1.0</td>\n",
       "      <td>0.054</td>\n",
       "      <td>1.0</td>\n",
       "      <td>19.0</td>\n",
       "      <td>50</td>\n",
       "      <td>0.026</td>\n",
       "      <td>1.267606</td>\n",
       "      <td>1.585027</td>\n",
       "      <td>0.0</td>\n",
       "    </tr>\n",
       "    <tr>\n",
       "      <th>97</th>\n",
       "      <td>97</td>\n",
       "      <td>c97</td>\n",
       "      <td>0.504686</td>\n",
       "      <td>1.0</td>\n",
       "      <td>0.054</td>\n",
       "      <td>1.0</td>\n",
       "      <td>19.0</td>\n",
       "      <td>29</td>\n",
       "      <td>0.064</td>\n",
       "      <td>1.267606</td>\n",
       "      <td>1.193820</td>\n",
       "      <td>0.0</td>\n",
       "    </tr>\n",
       "    <tr>\n",
       "      <th>98</th>\n",
       "      <td>98</td>\n",
       "      <td>c98</td>\n",
       "      <td>0.370541</td>\n",
       "      <td>1.0</td>\n",
       "      <td>0.054</td>\n",
       "      <td>1.0</td>\n",
       "      <td>19.0</td>\n",
       "      <td>76</td>\n",
       "      <td>0.058</td>\n",
       "      <td>1.267606</td>\n",
       "      <td>1.236572</td>\n",
       "      <td>0.0</td>\n",
       "    </tr>\n",
       "    <tr>\n",
       "      <th>99</th>\n",
       "      <td>99</td>\n",
       "      <td>c99</td>\n",
       "      <td>0.391750</td>\n",
       "      <td>1.0</td>\n",
       "      <td>0.054</td>\n",
       "      <td>1.0</td>\n",
       "      <td>19.0</td>\n",
       "      <td>9</td>\n",
       "      <td>0.027</td>\n",
       "      <td>1.267606</td>\n",
       "      <td>1.568636</td>\n",
       "      <td>0.0</td>\n",
       "    </tr>\n",
       "  </tbody>\n",
       "</table>\n",
       "<p>100 rows × 12 columns</p>\n",
       "</div>"
      ],
      "text/plain": [
       "    index Metadata_Perturbation  similarity_metric  mean_ap  p_value  \\\n",
       "0       0                    c0           0.245894      1.0    0.054   \n",
       "1       1                    c1           0.312643      1.0    0.054   \n",
       "2       2                   c10           0.450652      1.0    0.054   \n",
       "3       3                   c11           0.331626      1.0    0.054   \n",
       "4       4                   c12           0.479979      1.0    0.054   \n",
       "..    ...                   ...                ...      ...      ...   \n",
       "95     95                   c95           0.369688      1.0    0.054   \n",
       "96     96                   c96           0.339383      1.0    0.054   \n",
       "97     97                   c97           0.504686      1.0    0.054   \n",
       "98     98                   c98           0.370541      1.0    0.054   \n",
       "99     99                   c99           0.391750      1.0    0.054   \n",
       "\n",
       "    n_pos_pairs  n_total_pairs clique_id  mp_value  -log10(p_value)  \\\n",
       "0           1.0           19.0         1     0.031         1.267606   \n",
       "1           1.0           19.0        46     0.029         1.267606   \n",
       "2           1.0           19.0         2     0.079         1.267606   \n",
       "3           1.0           19.0        89     0.003         1.267606   \n",
       "4           1.0           19.0         0     0.038         1.267606   \n",
       "..          ...            ...       ...       ...              ...   \n",
       "95          1.0           19.0        10     0.040         1.267606   \n",
       "96          1.0           19.0        50     0.026         1.267606   \n",
       "97          1.0           19.0        29     0.064         1.267606   \n",
       "98          1.0           19.0        76     0.058         1.267606   \n",
       "99          1.0           19.0         9     0.027         1.267606   \n",
       "\n",
       "    -log10(mp_value)  percent_replicating  \n",
       "0           1.508638                  0.0  \n",
       "1           1.537602                  0.0  \n",
       "2           1.102373                  0.0  \n",
       "3           2.522879                  0.0  \n",
       "4           1.420216                  0.0  \n",
       "..               ...                  ...  \n",
       "95          1.397940                  0.0  \n",
       "96          1.585027                  0.0  \n",
       "97          1.193820                  0.0  \n",
       "98          1.236572                  0.0  \n",
       "99          1.568636                  0.0  \n",
       "\n",
       "[100 rows x 12 columns]"
      ]
     },
     "execution_count": 16,
     "metadata": {},
     "output_type": "execute_result"
    }
   ],
   "source": [
    "merged_metrics = aggregate_metrics_results(metrics_results, pert_col)\n",
    "merged_metrics"
   ]
  },
  {
   "cell_type": "code",
   "execution_count": 17,
   "metadata": {},
   "outputs": [
    {
     "data": {
      "text/plain": [
       "{'replicate_reproducibility': 0.0,\n",
       " 'mp_value': 0.71,\n",
       " 'mean_ap': 0.98,\n",
       " 'mean_ap_p_value': 0.0}"
      ]
     },
     "execution_count": 17,
     "metadata": {},
     "output_type": "execute_result"
    }
   ],
   "source": [
    "acc"
   ]
  },
  {
   "cell_type": "markdown",
   "metadata": {},
   "source": [
    "### Run gaussian sweeps over params"
   ]
  },
  {
   "cell_type": "code",
   "execution_count": 8,
   "metadata": {},
   "outputs": [
    {
     "name": "stdout",
     "output_type": "stream",
     "text": [
      "[{'gaussian': 0.4, 'lognormal': 0.4, 'poisson': 0.1, 'nbinom': 0.1}, {'gaussian': 0.3, 'lognormal': 0.3, 'poisson': 0.2, 'nbinom': 0.2}]\n"
     ]
    }
   ],
   "source": [
    "feature_proportions_config = [\n",
    "    # {\"gaussian\": 0.97, \"lognormal\": 0.01, \"poisson\": 0.01, \"nbinom\": 0.01},\n",
    "    {\"gaussian\": 0.4, \"lognormal\": 0.4, \"poisson\": 0.1, \"nbinom\": 0.1},\n",
    "    {\"gaussian\": 0.3, \"lognormal\": 0.3, \"poisson\": 0.2, \"nbinom\": 0.2},\n",
    "]\n",
    "print(feature_proportions_config)"
   ]
  },
  {
   "cell_type": "code",
   "execution_count": 9,
   "metadata": {},
   "outputs": [],
   "source": [
    "# plate_nums = range(2, 4)\n",
    "# control_nums = [4, 8, 16, 24]\n",
    "\n",
    "# differ_params_configs = [{\"gaussian\": (i, 1), \"lognormal\": (i, 1), \"poisson\": i+1, \"nbinom\": (1, 0.5)} for i in range(1, 4)]\n",
    "# print(differ_params_configs)\n",
    "\n",
    "# features_differ_configs = [{\"gaussian\": 2**i, \"lognormal\": 0, \"poisson\": 0, \"nbinom\": 0} for i in range(7)]\n",
    "# print(features_differ_configs)\n",
    "\n",
    "features_differ = {\"gaussian\": 8, \"lognormal\": 8, \"poisson\": 8, \"nbinom\": 8}\n",
    "differ_params = {\"gaussian\": (1, 1), \"lognormal\": (1, 1), \"poisson\": 2, \"nbinom\": (3, 0.2)}"
   ]
  },
  {
   "cell_type": "code",
   "execution_count": 10,
   "metadata": {},
   "outputs": [
    {
     "name": "stdout",
     "output_type": "stream",
     "text": [
      "\n",
      "Processing features_differ: {'gaussian': 0.4, 'lognormal': 0.4, 'poisson': 0.1, 'nbinom': 0.1}\n",
      "\n",
      "Calculating distances.\n",
      "Pos pairs size: 100, Neg pairs size: 3200\n"
     ]
    },
    {
     "data": {
      "application/vnd.jupyter.widget-view+json": {
       "model_id": "1aac6e29ce184f25b11dd5a95e6836c3",
       "version_major": 2,
       "version_minor": 0
      },
      "text/plain": [
       "  0%|          | 0/1 [00:00<?, ?it/s]"
      ]
     },
     "metadata": {},
     "output_type": "display_data"
    },
    {
     "data": {
      "application/vnd.jupyter.widget-view+json": {
       "model_id": "86adb577ca41443188cdcca47893994a",
       "version_major": 2,
       "version_minor": 0
      },
      "text/plain": [
       "  0%|          | 0/1 [00:00<?, ?it/s]"
      ]
     },
     "metadata": {},
     "output_type": "display_data"
    },
    {
     "name": "stdout",
     "output_type": "stream",
     "text": [
      "\n",
      "Calculating metric: replicate_reproducibility\n",
      "\n",
      "Calculating metric: mean_ap\n"
     ]
    },
    {
     "name": "stderr",
     "output_type": "stream",
     "text": [
      "/Users/akalinin/Projects/copairs/src/copairs/compute.py:105: RuntimeWarning: invalid value encountered in divide\n",
      "  ap_scores = np.add.reduceat(pr_k * rel_k_list, cutoffs) / num_pos\n"
     ]
    },
    {
     "data": {
      "application/vnd.jupyter.widget-view+json": {
       "model_id": "70e7a14b59a74c8dbf231e2f806eb424",
       "version_major": 2,
       "version_minor": 0
      },
      "text/plain": [
       "  0%|          | 0/2 [00:00<?, ?it/s]"
      ]
     },
     "metadata": {},
     "output_type": "display_data"
    },
    {
     "name": "stdout",
     "output_type": "stream",
     "text": [
      "\n",
      "Calculating distances.\n",
      "Pos pairs size: 100, Neg pairs size: 3200\n",
      "\n",
      "Calculating metric: mp_value\n"
     ]
    },
    {
     "data": {
      "application/vnd.jupyter.widget-view+json": {
       "model_id": "cc354256bbec429e886090e7a8114ad9",
       "version_major": 2,
       "version_minor": 0
      },
      "text/plain": [
       "Calculating mp-values:   0%|          | 0/100 [00:00<?, ?it/s]"
      ]
     },
     "metadata": {},
     "output_type": "display_data"
    },
    {
     "name": "stderr",
     "output_type": "stream",
     "text": [
      "IOStream.flush timed out\n"
     ]
    },
    {
     "data": {
      "application/vnd.jupyter.widget-view+json": {
       "model_id": "4fd3361bab5941b094424e95792d367c",
       "version_major": 2,
       "version_minor": 0
      },
      "text/plain": [
       "Processing groups:   0%|          | 0/100 [00:02<?, ?it/s]"
      ]
     },
     "metadata": {},
     "output_type": "display_data"
    },
    {
     "name": "stdout",
     "output_type": "stream",
     "text": [
      "\n",
      "Processing features_differ: {'gaussian': 0.3, 'lognormal': 0.3, 'poisson': 0.2, 'nbinom': 0.2}\n",
      "\n",
      "Calculating distances.\n",
      "Pos pairs size: 100, Neg pairs size: 3200\n"
     ]
    },
    {
     "data": {
      "application/vnd.jupyter.widget-view+json": {
       "model_id": "387d7c46f5fd4ef1ae72a2eb6d83f323",
       "version_major": 2,
       "version_minor": 0
      },
      "text/plain": [
       "  0%|          | 0/1 [00:00<?, ?it/s]"
      ]
     },
     "metadata": {},
     "output_type": "display_data"
    },
    {
     "data": {
      "application/vnd.jupyter.widget-view+json": {
       "model_id": "327e06462d53488bb9c6f6670340b6d6",
       "version_major": 2,
       "version_minor": 0
      },
      "text/plain": [
       "  0%|          | 0/1 [00:00<?, ?it/s]"
      ]
     },
     "metadata": {},
     "output_type": "display_data"
    },
    {
     "name": "stdout",
     "output_type": "stream",
     "text": [
      "\n",
      "Calculating metric: replicate_reproducibility\n",
      "\n",
      "Calculating metric: mean_ap\n"
     ]
    },
    {
     "name": "stderr",
     "output_type": "stream",
     "text": [
      "/Users/akalinin/Projects/copairs/src/copairs/compute.py:105: RuntimeWarning: invalid value encountered in divide\n",
      "  ap_scores = np.add.reduceat(pr_k * rel_k_list, cutoffs) / num_pos\n"
     ]
    },
    {
     "data": {
      "application/vnd.jupyter.widget-view+json": {
       "model_id": "1dc0e87f42424b6aa734598e187fd50a",
       "version_major": 2,
       "version_minor": 0
      },
      "text/plain": [
       "  0%|          | 0/2 [00:00<?, ?it/s]"
      ]
     },
     "metadata": {},
     "output_type": "display_data"
    },
    {
     "name": "stdout",
     "output_type": "stream",
     "text": [
      "\n",
      "Calculating distances.\n",
      "Pos pairs size: 100, Neg pairs size: 3200\n",
      "\n",
      "Calculating metric: mp_value\n"
     ]
    },
    {
     "data": {
      "application/vnd.jupyter.widget-view+json": {
       "model_id": "2976f12053a1488987b248bc14686dd8",
       "version_major": 2,
       "version_minor": 0
      },
      "text/plain": [
       "Calculating mp-values:   0%|          | 0/100 [00:00<?, ?it/s]"
      ]
     },
     "metadata": {},
     "output_type": "display_data"
    },
    {
     "data": {
      "application/vnd.jupyter.widget-view+json": {
       "model_id": "dbd2188e02e9447bbbe6482797e69d9f",
       "version_major": 2,
       "version_minor": 0
      },
      "text/plain": [
       "Processing groups:   0%|          | 0/100 [00:00<?, ?it/s]"
      ]
     },
     "metadata": {},
     "output_type": "display_data"
    }
   ],
   "source": [
    "non_gaussian_accuracy_results = []\n",
    "\n",
    "pert_params, differ_perts = generate_distribution_params_differ(\n",
    "    n_perts, n_perts_differ, control_params, differ_params, rng\n",
    ")\n",
    "\n",
    "for feature_proportions in feature_proportions_config:\n",
    "    print(f\"\\nProcessing features_differ: {feature_proportions}\")\n",
    "\n",
    "    dframe, feats = generate_features(\n",
    "        n_plates,\n",
    "        n_perts + n_controls,\n",
    "        n_perts,\n",
    "        n_controls,\n",
    "        n_feats,\n",
    "        n_plate_maps,\n",
    "        feature_proportions,\n",
    "        control_params,\n",
    "        pert_params,\n",
    "        rng,\n",
    "        features_differ=features_differ,\n",
    "        differ_params=differ_params,\n",
    "        resample_perts=False,\n",
    "    )\n",
    "\n",
    "    metrics_results = evaluate_metrics(\n",
    "        profiles=pd.concat([dframe, feats], axis=1),\n",
    "        features=feats.columns,\n",
    "        meta_features=dframe.columns,\n",
    "        replicate_groups=replicate_groups,\n",
    "        metrics_config=metrics_config,\n",
    "        use_copairs=True,\n",
    "    )\n",
    "\n",
    "    acc = calculate_accuracy(metrics_results)\n",
    "    acc.update(\n",
    "        {\n",
    "            \"n_plates\": n_plates,\n",
    "            \"n_controls\": n_controls,\n",
    "            \"feature_proportions\": feature_proportions,\n",
    "            \"features_differ\": features_differ,\n",
    "            \"differ_params\": differ_params,\n",
    "        }\n",
    "    )\n",
    "    non_gaussian_accuracy_results.append(acc)\n",
    "\n",
    "# with open(\"non_gaussian_accuracy_results.pkl\", \"wb\") as f:\n",
    "#     pickle.dump(non_gaussian_accuracy_results, f)"
   ]
  },
  {
   "cell_type": "code",
   "execution_count": 16,
   "metadata": {},
   "outputs": [
    {
     "data": {
      "text/plain": [
       "[{'replicate_reproducibility': 0.0,\n",
       "  'mp_value': 0.96,\n",
       "  'mean_ap': 0.91,\n",
       "  'mean_ap_p_value': 1.0,\n",
       "  'n_plates': 2,\n",
       "  'n_controls': 8,\n",
       "  'feature_proportions': {'gaussian': 0.4,\n",
       "   'lognormal': 0.4,\n",
       "   'poisson': 0.1,\n",
       "   'nbinom': 0.1},\n",
       "  'features_differ': {'gaussian': 8,\n",
       "   'lognormal': 8,\n",
       "   'poisson': 8,\n",
       "   'nbinom': 8},\n",
       "  'differ_params': {'gaussian': (1, 1),\n",
       "   'lognormal': (1, 1),\n",
       "   'poisson': 2,\n",
       "   'nbinom': (3, 0.2)}},\n",
       " {'replicate_reproducibility': 0.0,\n",
       "  'mp_value': 1.0,\n",
       "  'mean_ap': 0.83,\n",
       "  'mean_ap_p_value': 0.91,\n",
       "  'n_plates': 2,\n",
       "  'n_controls': 8,\n",
       "  'feature_proportions': {'gaussian': 0.3,\n",
       "   'lognormal': 0.3,\n",
       "   'poisson': 0.2,\n",
       "   'nbinom': 0.2},\n",
       "  'features_differ': {'gaussian': 8,\n",
       "   'lognormal': 8,\n",
       "   'poisson': 8,\n",
       "   'nbinom': 8},\n",
       "  'differ_params': {'gaussian': (1, 1),\n",
       "   'lognormal': (1, 1),\n",
       "   'poisson': 2,\n",
       "   'nbinom': (3, 0.2)}}]"
      ]
     },
     "execution_count": 16,
     "metadata": {},
     "output_type": "execute_result"
    }
   ],
   "source": [
    "non_gaussian_accuracy_results"
   ]
  },
  {
   "cell_type": "code",
   "execution_count": 12,
   "metadata": {},
   "outputs": [
    {
     "data": {
      "text/plain": [
       "<seaborn.axisgrid.PairGrid at 0x16004ef50>"
      ]
     },
     "execution_count": 12,
     "metadata": {},
     "output_type": "execute_result"
    },
    {
     "data": {
      "image/png": "[encoded data removed]",
      "text/plain": [
       "<Figure size 1000x1000 with 20 Axes>"
      ]
     },
     "metadata": {},
     "output_type": "display_data"
    }
   ],
   "source": [
    "merged_metrics = aggregate_metrics_results(metrics_results, pert_col)\n",
    "\n",
    "sns.pairplot(\n",
    "    merged_metrics[\n",
    "        [\n",
    "            \"similarity_metric\",\n",
    "            # \"precision\",\n",
    "            # \"recall\",\n",
    "            \"-log10(mp_value)\",\n",
    "            \"mean_ap\",\n",
    "            \"-log10(p_value)\",\n",
    "        ]\n",
    "    ]\n",
    ")"
   ]
  },
  {
   "cell_type": "code",
   "execution_count": 13,
   "metadata": {},
   "outputs": [
    {
     "data": {
      "text/plain": [
       "0     0.962191\n",
       "1     0.985799\n",
       "2     0.981398\n",
       "3     0.992798\n",
       "4     0.890185\n",
       "        ...   \n",
       "95    0.955000\n",
       "96    0.935000\n",
       "97    0.945000\n",
       "98    1.180000\n",
       "99    0.965000\n",
       "Length: 100, dtype: float64"
      ]
     },
     "execution_count": 13,
     "metadata": {},
     "output_type": "execute_result"
    }
   ],
   "source": [
    "feats[dframe[\"Metadata_Perturbation_Type\"] == \"treatment\"].mean()"
   ]
  },
  {
   "cell_type": "code",
   "execution_count": 14,
   "metadata": {},
   "outputs": [
    {
     "data": {
      "text/plain": [
       "0     0.280146\n",
       "1    -0.272737\n",
       "2    -0.498241\n",
       "3     0.136198\n",
       "4    -0.225594\n",
       "        ...   \n",
       "95    1.125000\n",
       "96    0.625000\n",
       "97    0.937500\n",
       "98    1.250000\n",
       "99    1.375000\n",
       "Length: 100, dtype: float64"
      ]
     },
     "execution_count": 14,
     "metadata": {},
     "output_type": "execute_result"
    }
   ],
   "source": [
    "feats[dframe[\"Metadata_Perturbation_Type\"] == \"negative_control\"].mean()"
   ]
  },
  {
   "cell_type": "code",
   "execution_count": null,
   "metadata": {},
   "outputs": [],
   "source": []
  }
 ],
 "metadata": {
  "kernelspec": {
   "display_name": "grit-benchmark",
   "language": "python",
   "name": "python3"
  },
  "language_info": {
   "codemirror_mode": {
    "name": "ipython",
    "version": 3
   },
   "file_extension": ".py",
   "mimetype": "text/x-python",
   "name": "python",
   "nbconvert_exporter": "python",
   "pygments_lexer": "ipython3",
   "version": "3.10.8"
  }
 },
 "nbformat": 4,
 "nbformat_minor": 2
}
