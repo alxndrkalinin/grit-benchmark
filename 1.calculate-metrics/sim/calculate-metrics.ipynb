{
 "cells": [
  {
   "cell_type": "code",
   "execution_count": 13,
   "metadata": {},
   "outputs": [
    {
     "name": "stdout",
     "output_type": "stream",
     "text": [
      "The autoreload extension is already loaded. To reload it, use:\n",
      "  %reload_ext autoreload\n"
     ]
    }
   ],
   "source": [
    "%load_ext autoreload\n",
    "%autoreload 2\n",
    "\n",
    "import pickle\n",
    "from pathlib import Path\n",
    "\n",
    "from tqdm import tqdm\n",
    "import numpy as np\n",
    "import pandas as pd\n",
    "import seaborn as sns\n",
    "from scipy.stats import poisson, nbinom, lognorm\n",
    "\n",
    "from cytominer_eval import evaluate_metrics\n",
    "from cytominer_eval.transform import metric_melt, copairs_similarity\n",
    "from cytominer_eval.utils.transform_utils import check_replicate_groups\n",
    "from cytominer_eval.utils.operation_utils import assign_replicates, set_pair_ids\n",
    "\n",
    "from cytominer_eval.operations import (\n",
    "    replicate_reproducibility,\n",
    "    precision_recall,\n",
    "    grit,\n",
    "    mp_value,\n",
    "    enrichment,\n",
    "    hitk,\n",
    ")\n",
    "\n",
    "from copairs.map import create_matcher, flatten_str_list, run_pipeline\n",
    "\n",
    "from scripts.generate_utils import (\n",
    "    generate_distribution_params,\n",
    "    generate_distribution_params_differ,\n",
    "    generate_features,\n",
    "    aggregate_metrics_results,\n",
    "    calculate_accuracy,\n",
    ")"
   ]
  },
  {
   "cell_type": "code",
   "execution_count": 14,
   "metadata": {},
   "outputs": [],
   "source": [
    "plate_col = \"Metadata_Plate\"\n",
    "plate_map_col = \"Metadata_Plate_Map\"\n",
    "well_col = \"Metadata_Well\"\n",
    "pert_col = \"Metadata_Perturbation\"\n",
    "negcon_pert_value = \"negative_control\"\n",
    "\n",
    "SEED = 42"
   ]
  },
  {
   "cell_type": "code",
   "execution_count": 15,
   "metadata": {},
   "outputs": [],
   "source": [
    "# # Example usage\n",
    "# rng = np.random.default_rng(SEED)\n",
    "# n_plates, n_wells, n_perts, n_controls, n_feats, n_plate_maps = 3, 5, 4, 1, 100, 2\n",
    "# feature_proportions = {'gaussian': 1.0, 'lognormal': 0.0, 'poisson': 0.0, 'nbinom': 0.0}\n",
    "# control_params = { \"gaussian\": (0, 1), \"lognormal\": (0, 1), \"poisson\": 3, \"nbinom\": (1, 0.5) }\n",
    "\n",
    "# pert_params = generate_distribution_params(n_perts, rng)\n",
    "\n",
    "# dframe, feats = generate_features(n_plates, n_wells, n_perts, n_controls, n_feats, n_plate_maps, feature_proportions, control_params, pert_params, rng)\n",
    "\n",
    "# print(dframe)"
   ]
  },
  {
   "cell_type": "code",
   "execution_count": 4,
   "metadata": {},
   "outputs": [],
   "source": [
    "rng = np.random.default_rng(SEED)\n",
    "\n",
    "n_plates = 2\n",
    "# n_wells = 108  -> # set to n_per_plate + n_controls\n",
    "n_perts = 100  # constant\n",
    "n_controls = 8\n",
    "n_feats = 100  # constant\n",
    "n_plate_maps = 1  # constant\n",
    "n_perts_differ = 0\n",
    "\n",
    "feature_proportions = {\"gaussian\": 1.0, \"lognormal\": 0.0, \"poisson\": 0.0, \"nbinom\": 0.0}\n",
    "features_differ = {\"gaussian\": 1, \"lognormal\": 0, \"poisson\": 0, \"nbinom\": 0}\n",
    "\n",
    "control_params = {\n",
    "    \"gaussian\": (0, 1),\n",
    "    \"lognormal\": (0, 1),\n",
    "    \"poisson\": 3,\n",
    "    \"nbinom\": (1, 0.5),\n",
    "}\n",
    "differ_params = {\n",
    "    \"gaussian\": (1, 1),\n",
    "    \"lognormal\": (0, 1),\n",
    "    \"poisson\": 3,\n",
    "    \"nbinom\": (1, 0.5),\n",
    "}\n",
    "\n",
    "replicate_groups = {\n",
    "    \"pos_sameby\": {\"all\": [f\"{pert_col} != '{negcon_pert_value}'\"], \"any\": []},\n",
    "    \"pos_diffby\": {\"all\": [], \"any\": []},\n",
    "    \"neg_sameby\": {\"all\": [], \"any\": []},\n",
    "    \"neg_diffby\": {\"all\": [\"Metadata_Perturbation_Type\"], \"any\": []},\n",
    "}\n",
    "\n",
    "metrics_config = {\n",
    "    \"replicate_reproducibility\": {\n",
    "        \"return_median_correlations\": True,\n",
    "        \"quantile_over_null\": 0.95,\n",
    "        \"replicate_groups\": [f\"{pert_col}\"],\n",
    "    },\n",
    "    # \"precision_recall\": {\"k\": 10, \"groupby_columns\": [f\"{pert_col}\"]},\n",
    "    # \"enrichment\": {\"percentile\": 0.99},\n",
    "    # \"hitk\": {\"groupby_columns\": [f\"{pert_col}\"], \"percent_list\": [2, 5, 10]},\n",
    "    \"mp_value\": {\n",
    "        \"control_perts\": [f\"{negcon_pert_value}\"],\n",
    "        \"replicate_id\": f\"{pert_col}\",\n",
    "        \"rescale_pca\": True,\n",
    "        \"nb_permutations\": 1000,\n",
    "    },\n",
    "    # \"grit\": {\n",
    "    #     \"control_perts\": [\"DMSO\"],\n",
    "    #     \"profile_col\": \"Metadata_broad_sample\",\n",
    "    #     \"replicate_group_col\": \"Metadata_mg_per_ml\",\n",
    "    #     \"replicate_summary_method\": \"mean\"\n",
    "    # }\n",
    "    \"mean_ap\": {\n",
    "        \"null_size\": 1000,\n",
    "        \"groupby_columns\": [f\"{pert_col}\"],\n",
    "    },\n",
    "}"
   ]
  },
  {
   "cell_type": "code",
   "execution_count": 5,
   "metadata": {},
   "outputs": [
    {
     "name": "stdout",
     "output_type": "stream",
     "text": [
      "\n",
      "Calculating distances.\n",
      "Pos pairs size: 100, Neg pairs size: 3200\n"
     ]
    },
    {
     "data": {
      "application/vnd.jupyter.widget-view+json": {
       "model_id": "15285943d4dc4be790de78d2a78cf65b",
       "version_major": 2,
       "version_minor": 0
      },
      "text/plain": [
       "  0%|          | 0/1 [00:00<?, ?it/s]"
      ]
     },
     "metadata": {},
     "output_type": "display_data"
    },
    {
     "data": {
      "application/vnd.jupyter.widget-view+json": {
       "model_id": "6be24bf4fef4442a9db3617274cf374d",
       "version_major": 2,
       "version_minor": 0
      },
      "text/plain": [
       "  0%|          | 0/1 [00:00<?, ?it/s]"
      ]
     },
     "metadata": {},
     "output_type": "display_data"
    },
    {
     "name": "stdout",
     "output_type": "stream",
     "text": [
      "\n",
      "Calculating metric: replicate_reproducibility\n",
      "\n",
      "Calculating metric: mean_ap\n"
     ]
    },
    {
     "name": "stderr",
     "output_type": "stream",
     "text": [
      "/Users/akalinin/Projects/copairs/src/copairs/compute.py:105: RuntimeWarning: invalid value encountered in divide\n",
      "  ap_scores = np.add.reduceat(pr_k * rel_k_list, cutoffs) / num_pos\n"
     ]
    },
    {
     "data": {
      "application/vnd.jupyter.widget-view+json": {
       "model_id": "27c23fcb22fa4b17b478581f351be42d",
       "version_major": 2,
       "version_minor": 0
      },
      "text/plain": [
       "  0%|          | 0/2 [00:00<?, ?it/s]"
      ]
     },
     "metadata": {},
     "output_type": "display_data"
    },
    {
     "name": "stdout",
     "output_type": "stream",
     "text": [
      "\n",
      "Calculating distances.\n",
      "Pos pairs size: 100, Neg pairs size: 3200\n",
      "\n",
      "Calculating metric: mp_value\n"
     ]
    },
    {
     "data": {
      "application/vnd.jupyter.widget-view+json": {
       "model_id": "519cf90ddf264546b6a53f90c21b5a3b",
       "version_major": 2,
       "version_minor": 0
      },
      "text/plain": [
       "Calculating mp-values:   0%|          | 0/100 [00:00<?, ?it/s]"
      ]
     },
     "metadata": {},
     "output_type": "display_data"
    },
    {
     "name": "stderr",
     "output_type": "stream",
     "text": [
      "IOStream.flush timed out\n"
     ]
    },
    {
     "data": {
      "application/vnd.jupyter.widget-view+json": {
       "model_id": "ef507d372de64f948e985d62644cb566",
       "version_major": 2,
       "version_minor": 0
      },
      "text/plain": [
       "Processing groups:   0%|          | 0/100 [00:01<?, ?it/s]"
      ]
     },
     "metadata": {},
     "output_type": "display_data"
    }
   ],
   "source": [
    "pert_params, differ_perts = generate_distribution_params_differ(\n",
    "    n_perts, n_perts_differ, control_params, differ_params, rng\n",
    ")\n",
    "\n",
    "dframe, feats = generate_features(\n",
    "    n_plates,\n",
    "    n_perts + n_controls,\n",
    "    n_perts,\n",
    "    n_controls,\n",
    "    n_feats,\n",
    "    n_plate_maps,\n",
    "    feature_proportions,\n",
    "    control_params,\n",
    "    pert_params,\n",
    "    rng,\n",
    "    features_differ=features_differ,\n",
    "    differ_params=differ_params,\n",
    "    resample_perts=False,\n",
    ")\n",
    "\n",
    "metrics_results = evaluate_metrics(\n",
    "    profiles=pd.concat([dframe, feats], axis=1),\n",
    "    features=feats.columns,\n",
    "    meta_features=dframe.columns,\n",
    "    replicate_groups=replicate_groups,\n",
    "    metrics_config=metrics_config,\n",
    "    use_copairs=True,\n",
    ")\n",
    "\n",
    "acc = calculate_accuracy(metrics_results)"
   ]
  },
  {
   "cell_type": "code",
   "execution_count": 6,
   "metadata": {},
   "outputs": [
    {
     "data": {
      "text/html": [
       "<div>\n",
       "<style scoped>\n",
       "    .dataframe tbody tr th:only-of-type {\n",
       "        vertical-align: middle;\n",
       "    }\n",
       "\n",
       "    .dataframe tbody tr th {\n",
       "        vertical-align: top;\n",
       "    }\n",
       "\n",
       "    .dataframe thead th {\n",
       "        text-align: right;\n",
       "    }\n",
       "</style>\n",
       "<table border=\"1\" class=\"dataframe\">\n",
       "  <thead>\n",
       "    <tr style=\"text-align: right;\">\n",
       "      <th></th>\n",
       "      <th>index</th>\n",
       "      <th>Metadata_Perturbation</th>\n",
       "      <th>similarity_metric</th>\n",
       "      <th>mean_ap</th>\n",
       "      <th>p_value</th>\n",
       "      <th>n_pos_pairs</th>\n",
       "      <th>n_total_pairs</th>\n",
       "      <th>clique_id</th>\n",
       "      <th>mp_value</th>\n",
       "      <th>-log10(p_value)</th>\n",
       "      <th>-log10(mp_value)</th>\n",
       "      <th>percent_replicating</th>\n",
       "    </tr>\n",
       "  </thead>\n",
       "  <tbody>\n",
       "    <tr>\n",
       "      <th>0</th>\n",
       "      <td>0</td>\n",
       "      <td>c0</td>\n",
       "      <td>0.434420</td>\n",
       "      <td>1.00</td>\n",
       "      <td>0.000999</td>\n",
       "      <td>1.0</td>\n",
       "      <td>17.0</td>\n",
       "      <td>1</td>\n",
       "      <td>0.087</td>\n",
       "      <td>3.000434</td>\n",
       "      <td>1.060481</td>\n",
       "      <td>0.0</td>\n",
       "    </tr>\n",
       "    <tr>\n",
       "      <th>1</th>\n",
       "      <td>1</td>\n",
       "      <td>c1</td>\n",
       "      <td>0.210157</td>\n",
       "      <td>0.75</td>\n",
       "      <td>0.031469</td>\n",
       "      <td>1.0</td>\n",
       "      <td>17.0</td>\n",
       "      <td>43</td>\n",
       "      <td>0.000</td>\n",
       "      <td>1.502123</td>\n",
       "      <td>15.653560</td>\n",
       "      <td>0.0</td>\n",
       "    </tr>\n",
       "    <tr>\n",
       "      <th>2</th>\n",
       "      <td>2</td>\n",
       "      <td>c10</td>\n",
       "      <td>0.364799</td>\n",
       "      <td>1.00</td>\n",
       "      <td>0.000999</td>\n",
       "      <td>1.0</td>\n",
       "      <td>17.0</td>\n",
       "      <td>87</td>\n",
       "      <td>0.052</td>\n",
       "      <td>3.000434</td>\n",
       "      <td>1.283997</td>\n",
       "      <td>0.0</td>\n",
       "    </tr>\n",
       "    <tr>\n",
       "      <th>3</th>\n",
       "      <td>3</td>\n",
       "      <td>c11</td>\n",
       "      <td>0.396015</td>\n",
       "      <td>1.00</td>\n",
       "      <td>0.000999</td>\n",
       "      <td>1.0</td>\n",
       "      <td>17.0</td>\n",
       "      <td>4</td>\n",
       "      <td>0.000</td>\n",
       "      <td>3.000434</td>\n",
       "      <td>15.653560</td>\n",
       "      <td>0.0</td>\n",
       "    </tr>\n",
       "    <tr>\n",
       "      <th>4</th>\n",
       "      <td>4</td>\n",
       "      <td>c12</td>\n",
       "      <td>0.408147</td>\n",
       "      <td>1.00</td>\n",
       "      <td>0.000999</td>\n",
       "      <td>1.0</td>\n",
       "      <td>17.0</td>\n",
       "      <td>13</td>\n",
       "      <td>0.114</td>\n",
       "      <td>3.000434</td>\n",
       "      <td>0.943095</td>\n",
       "      <td>0.0</td>\n",
       "    </tr>\n",
       "    <tr>\n",
       "      <th>...</th>\n",
       "      <td>...</td>\n",
       "      <td>...</td>\n",
       "      <td>...</td>\n",
       "      <td>...</td>\n",
       "      <td>...</td>\n",
       "      <td>...</td>\n",
       "      <td>...</td>\n",
       "      <td>...</td>\n",
       "      <td>...</td>\n",
       "      <td>...</td>\n",
       "      <td>...</td>\n",
       "      <td>...</td>\n",
       "    </tr>\n",
       "    <tr>\n",
       "      <th>95</th>\n",
       "      <td>95</td>\n",
       "      <td>c95</td>\n",
       "      <td>0.389650</td>\n",
       "      <td>1.00</td>\n",
       "      <td>0.000999</td>\n",
       "      <td>1.0</td>\n",
       "      <td>17.0</td>\n",
       "      <td>25</td>\n",
       "      <td>0.064</td>\n",
       "      <td>3.000434</td>\n",
       "      <td>1.193820</td>\n",
       "      <td>0.0</td>\n",
       "    </tr>\n",
       "    <tr>\n",
       "      <th>96</th>\n",
       "      <td>96</td>\n",
       "      <td>c96</td>\n",
       "      <td>0.389628</td>\n",
       "      <td>1.00</td>\n",
       "      <td>0.000999</td>\n",
       "      <td>1.0</td>\n",
       "      <td>17.0</td>\n",
       "      <td>15</td>\n",
       "      <td>0.120</td>\n",
       "      <td>3.000434</td>\n",
       "      <td>0.920819</td>\n",
       "      <td>0.0</td>\n",
       "    </tr>\n",
       "    <tr>\n",
       "      <th>97</th>\n",
       "      <td>97</td>\n",
       "      <td>c97</td>\n",
       "      <td>0.494412</td>\n",
       "      <td>1.00</td>\n",
       "      <td>0.000999</td>\n",
       "      <td>1.0</td>\n",
       "      <td>17.0</td>\n",
       "      <td>27</td>\n",
       "      <td>0.014</td>\n",
       "      <td>3.000434</td>\n",
       "      <td>1.853872</td>\n",
       "      <td>0.0</td>\n",
       "    </tr>\n",
       "    <tr>\n",
       "      <th>98</th>\n",
       "      <td>98</td>\n",
       "      <td>c98</td>\n",
       "      <td>0.386932</td>\n",
       "      <td>1.00</td>\n",
       "      <td>0.000999</td>\n",
       "      <td>1.0</td>\n",
       "      <td>17.0</td>\n",
       "      <td>61</td>\n",
       "      <td>0.052</td>\n",
       "      <td>3.000434</td>\n",
       "      <td>1.283997</td>\n",
       "      <td>0.0</td>\n",
       "    </tr>\n",
       "    <tr>\n",
       "      <th>99</th>\n",
       "      <td>99</td>\n",
       "      <td>c99</td>\n",
       "      <td>0.326848</td>\n",
       "      <td>1.00</td>\n",
       "      <td>0.000999</td>\n",
       "      <td>1.0</td>\n",
       "      <td>17.0</td>\n",
       "      <td>38</td>\n",
       "      <td>0.052</td>\n",
       "      <td>3.000434</td>\n",
       "      <td>1.283997</td>\n",
       "      <td>0.0</td>\n",
       "    </tr>\n",
       "  </tbody>\n",
       "</table>\n",
       "<p>100 rows × 12 columns</p>\n",
       "</div>"
      ],
      "text/plain": [
       "    index Metadata_Perturbation  similarity_metric  mean_ap   p_value  \\\n",
       "0       0                    c0           0.434420     1.00  0.000999   \n",
       "1       1                    c1           0.210157     0.75  0.031469   \n",
       "2       2                   c10           0.364799     1.00  0.000999   \n",
       "3       3                   c11           0.396015     1.00  0.000999   \n",
       "4       4                   c12           0.408147     1.00  0.000999   \n",
       "..    ...                   ...                ...      ...       ...   \n",
       "95     95                   c95           0.389650     1.00  0.000999   \n",
       "96     96                   c96           0.389628     1.00  0.000999   \n",
       "97     97                   c97           0.494412     1.00  0.000999   \n",
       "98     98                   c98           0.386932     1.00  0.000999   \n",
       "99     99                   c99           0.326848     1.00  0.000999   \n",
       "\n",
       "    n_pos_pairs  n_total_pairs clique_id  mp_value  -log10(p_value)  \\\n",
       "0           1.0           17.0         1     0.087         3.000434   \n",
       "1           1.0           17.0        43     0.000         1.502123   \n",
       "2           1.0           17.0        87     0.052         3.000434   \n",
       "3           1.0           17.0         4     0.000         3.000434   \n",
       "4           1.0           17.0        13     0.114         3.000434   \n",
       "..          ...            ...       ...       ...              ...   \n",
       "95          1.0           17.0        25     0.064         3.000434   \n",
       "96          1.0           17.0        15     0.120         3.000434   \n",
       "97          1.0           17.0        27     0.014         3.000434   \n",
       "98          1.0           17.0        61     0.052         3.000434   \n",
       "99          1.0           17.0        38     0.052         3.000434   \n",
       "\n",
       "    -log10(mp_value)  percent_replicating  \n",
       "0           1.060481                  0.0  \n",
       "1          15.653560                  0.0  \n",
       "2           1.283997                  0.0  \n",
       "3          15.653560                  0.0  \n",
       "4           0.943095                  0.0  \n",
       "..               ...                  ...  \n",
       "95          1.193820                  0.0  \n",
       "96          0.920819                  0.0  \n",
       "97          1.853872                  0.0  \n",
       "98          1.283997                  0.0  \n",
       "99          1.283997                  0.0  \n",
       "\n",
       "[100 rows x 12 columns]"
      ]
     },
     "execution_count": 6,
     "metadata": {},
     "output_type": "execute_result"
    }
   ],
   "source": [
    "merged_metrics = aggregate_metrics_results(metrics_results, pert_col)\n",
    "merged_metrics"
   ]
  },
  {
   "cell_type": "code",
   "execution_count": 7,
   "metadata": {},
   "outputs": [
    {
     "data": {
      "text/plain": [
       "{'replicate_reproducibility': 0.0,\n",
       " 'mp_value': 0.36,\n",
       " 'mean_ap': 0.96,\n",
       " 'mean_ap_p_value': 0.99}"
      ]
     },
     "execution_count": 7,
     "metadata": {},
     "output_type": "execute_result"
    }
   ],
   "source": [
    "acc"
   ]
  },
  {
   "cell_type": "markdown",
   "metadata": {},
   "source": [
    "### Run gaussian sweeps over params"
   ]
  },
  {
   "cell_type": "code",
   "execution_count": 8,
   "metadata": {},
   "outputs": [],
   "source": [
    "# feature_proportions_config = [\n",
    "#     {\"gaussian\": 1.0, \"lognormal\": 0.0, \"poisson\": 0.0, \"nbinom\": 0.0},\n",
    "#     {\"gaussian\": 0.4, \"lognormal\": 0.4, \"poisson\": 0.1, \"nbinom\": 0.1},\n",
    "#     {\"gaussian\": 0.3, \"lognormal\": 0.3, \"poisson\": 0.2, \"nbinom\": 0.2}\n",
    "# ]\n",
    "# print(feature_proportions_config)"
   ]
  },
  {
   "cell_type": "code",
   "execution_count": 9,
   "metadata": {},
   "outputs": [
    {
     "name": "stdout",
     "output_type": "stream",
     "text": [
      "[{'gaussian': (1, 1), 'lognormal': (0, 1), 'poisson': 3, 'nbinom': (1, 0.5)}]\n",
      "[{'gaussian': 1, 'lognormal': 0, 'poisson': 0, 'nbinom': 0}, {'gaussian': 2, 'lognormal': 0, 'poisson': 0, 'nbinom': 0}]\n"
     ]
    }
   ],
   "source": [
    "plate_nums = [2, 3, 4]\n",
    "# plate_nums = [2]\n",
    "\n",
    "control_nums = [4, 8, 16, 24]\n",
    "# control_nums = [8]\n",
    "\n",
    "differ_params_configs = [\n",
    "    {\"gaussian\": (i, 1), \"lognormal\": (0, 1), \"poisson\": 3, \"nbinom\": (1, 0.5)} for i in range(1, 2)\n",
    "]\n",
    "# differ_params_configs = [{\"gaussian\": (i, 1), \"lognormal\": (0, 1), \"poisson\": 3, \"nbinom\": (1, 0.5)} for i in range(1, 4)]\n",
    "print(differ_params_configs)\n",
    "\n",
    "features_differ_configs = [{\"gaussian\": 2**i, \"lognormal\": 0, \"poisson\": 0, \"nbinom\": 0} for i in range(5)]\n",
    "# features_differ_configs = [{\"gaussian\": 2**i, \"lognormal\": 0, \"poisson\": 0, \"nbinom\": 0} for i in range(7)]\n",
    "print(features_differ_configs)"
   ]
  },
  {
   "cell_type": "code",
   "execution_count": 10,
   "metadata": {},
   "outputs": [
    {
     "name": "stdout",
     "output_type": "stream",
     "text": [
      "\n",
      "Processing n_plates: 2\n",
      "\n",
      "Processing n_controls: 8\n",
      "\n",
      "Processing differ_params: {'gaussian': (1, 1), 'lognormal': (0, 1), 'poisson': 3, 'nbinom': (1, 0.5)}\n",
      "\n",
      "Processing features_differ: {'gaussian': 1, 'lognormal': 0, 'poisson': 0, 'nbinom': 0}\n",
      "\n",
      "Calculating distances.\n",
      "Pos pairs size: 100, Neg pairs size: 3200\n"
     ]
    },
    {
     "data": {
      "application/vnd.jupyter.widget-view+json": {
       "model_id": "0666fad703fa459abf13c5490420d336",
       "version_major": 2,
       "version_minor": 0
      },
      "text/plain": [
       "  0%|          | 0/1 [00:00<?, ?it/s]"
      ]
     },
     "metadata": {},
     "output_type": "display_data"
    },
    {
     "data": {
      "application/vnd.jupyter.widget-view+json": {
       "model_id": "b2cad80161eb45358a0257a1ae1249ee",
       "version_major": 2,
       "version_minor": 0
      },
      "text/plain": [
       "  0%|          | 0/1 [00:00<?, ?it/s]"
      ]
     },
     "metadata": {},
     "output_type": "display_data"
    },
    {
     "name": "stdout",
     "output_type": "stream",
     "text": [
      "\n",
      "Calculating metric: replicate_reproducibility\n",
      "\n",
      "Calculating metric: mean_ap\n"
     ]
    },
    {
     "name": "stderr",
     "output_type": "stream",
     "text": [
      "/Users/akalinin/Projects/copairs/src/copairs/compute.py:105: RuntimeWarning: invalid value encountered in divide\n",
      "  ap_scores = np.add.reduceat(pr_k * rel_k_list, cutoffs) / num_pos\n"
     ]
    },
    {
     "data": {
      "application/vnd.jupyter.widget-view+json": {
       "model_id": "021c660daa594fecb443c2f43339dcbe",
       "version_major": 2,
       "version_minor": 0
      },
      "text/plain": [
       "  0%|          | 0/2 [00:00<?, ?it/s]"
      ]
     },
     "metadata": {},
     "output_type": "display_data"
    },
    {
     "name": "stdout",
     "output_type": "stream",
     "text": [
      "\n",
      "Calculating distances.\n",
      "Pos pairs size: 100, Neg pairs size: 3200\n",
      "\n",
      "Calculating metric: mp_value\n"
     ]
    },
    {
     "data": {
      "application/vnd.jupyter.widget-view+json": {
       "model_id": "f099667d88834bc2a12ba5eb19c2e0f4",
       "version_major": 2,
       "version_minor": 0
      },
      "text/plain": [
       "Calculating mp-values:   0%|          | 0/100 [00:00<?, ?it/s]"
      ]
     },
     "metadata": {},
     "output_type": "display_data"
    },
    {
     "name": "stderr",
     "output_type": "stream",
     "text": [
      "IOStream.flush timed out\n"
     ]
    },
    {
     "data": {
      "application/vnd.jupyter.widget-view+json": {
       "model_id": "7cea8148bb784cc28edb2c5c6c7f2411",
       "version_major": 2,
       "version_minor": 0
      },
      "text/plain": [
       "Processing groups:   0%|          | 0/100 [00:01<?, ?it/s]"
      ]
     },
     "metadata": {},
     "output_type": "display_data"
    },
    {
     "name": "stdout",
     "output_type": "stream",
     "text": [
      "\n",
      "Processing features_differ: {'gaussian': 2, 'lognormal': 0, 'poisson': 0, 'nbinom': 0}\n",
      "\n",
      "Calculating distances.\n",
      "Pos pairs size: 100, Neg pairs size: 3200\n"
     ]
    },
    {
     "data": {
      "application/vnd.jupyter.widget-view+json": {
       "model_id": "97c61fe046084e97b5195b7ab18ecf32",
       "version_major": 2,
       "version_minor": 0
      },
      "text/plain": [
       "  0%|          | 0/1 [00:00<?, ?it/s]"
      ]
     },
     "metadata": {},
     "output_type": "display_data"
    },
    {
     "data": {
      "application/vnd.jupyter.widget-view+json": {
       "model_id": "45a23f7e317541c48bb6887949cb37d4",
       "version_major": 2,
       "version_minor": 0
      },
      "text/plain": [
       "  0%|          | 0/1 [00:00<?, ?it/s]"
      ]
     },
     "metadata": {},
     "output_type": "display_data"
    },
    {
     "name": "stdout",
     "output_type": "stream",
     "text": [
      "\n",
      "Calculating metric: replicate_reproducibility\n",
      "\n",
      "Calculating metric: mean_ap\n"
     ]
    },
    {
     "name": "stderr",
     "output_type": "stream",
     "text": [
      "/Users/akalinin/Projects/copairs/src/copairs/compute.py:105: RuntimeWarning: invalid value encountered in divide\n",
      "  ap_scores = np.add.reduceat(pr_k * rel_k_list, cutoffs) / num_pos\n"
     ]
    },
    {
     "data": {
      "application/vnd.jupyter.widget-view+json": {
       "model_id": "bc5df1f0607f49249f0e4e5b0137a27b",
       "version_major": 2,
       "version_minor": 0
      },
      "text/plain": [
       "  0%|          | 0/2 [00:00<?, ?it/s]"
      ]
     },
     "metadata": {},
     "output_type": "display_data"
    },
    {
     "name": "stdout",
     "output_type": "stream",
     "text": [
      "\n",
      "Calculating distances.\n",
      "Pos pairs size: 100, Neg pairs size: 3200\n",
      "\n",
      "Calculating metric: mp_value\n"
     ]
    },
    {
     "data": {
      "application/vnd.jupyter.widget-view+json": {
       "model_id": "8a0d9223b2be496289ea016a80c4b5d8",
       "version_major": 2,
       "version_minor": 0
      },
      "text/plain": [
       "Calculating mp-values:   0%|          | 0/100 [00:00<?, ?it/s]"
      ]
     },
     "metadata": {},
     "output_type": "display_data"
    },
    {
     "data": {
      "application/vnd.jupyter.widget-view+json": {
       "model_id": "6b78af116cc24271bf034ac15aeb1c7e",
       "version_major": 2,
       "version_minor": 0
      },
      "text/plain": [
       "Processing groups:   0%|          | 0/100 [00:02<?, ?it/s]"
      ]
     },
     "metadata": {},
     "output_type": "display_data"
    }
   ],
   "source": [
    "gaussian_accuracy_results = []\n",
    "\n",
    "for n_plates in plate_nums:\n",
    "    print(f\"\\nProcessing n_plates: {n_plates}\")\n",
    "\n",
    "    for n_controls in control_nums:\n",
    "        print(f\"\\nProcessing n_controls: {n_controls}\")\n",
    "\n",
    "        for differ_params in differ_params_configs:\n",
    "            print(f\"\\nProcessing differ_params: {differ_params}\")\n",
    "\n",
    "            pert_params, differ_perts = generate_distribution_params_differ(\n",
    "                n_perts, n_perts_differ, control_params, differ_params, rng\n",
    "            )\n",
    "\n",
    "            for features_differ in features_differ_configs:\n",
    "                print(f\"\\nProcessing features_differ: {features_differ}\")\n",
    "\n",
    "                dframe, feats = generate_features(\n",
    "                    n_plates,\n",
    "                    n_perts + n_controls,\n",
    "                    n_perts,\n",
    "                    n_controls,\n",
    "                    n_feats,\n",
    "                    n_plate_maps,\n",
    "                    feature_proportions,\n",
    "                    control_params,\n",
    "                    pert_params,\n",
    "                    rng,\n",
    "                    features_differ=features_differ,\n",
    "                    differ_params=differ_params,\n",
    "                    resample_perts=False,\n",
    "                )\n",
    "\n",
    "                metrics_results = evaluate_metrics(\n",
    "                    profiles=pd.concat([dframe, feats], axis=1),\n",
    "                    features=feats.columns,\n",
    "                    meta_features=dframe.columns,\n",
    "                    replicate_groups=replicate_groups,\n",
    "                    metrics_config=metrics_config,\n",
    "                    use_copairs=True,\n",
    "                )\n",
    "\n",
    "                acc = calculate_accuracy(metrics_results)\n",
    "                acc.update(\n",
    "                    {\n",
    "                        \"n_plates\": n_plates,\n",
    "                        \"n_controls\": n_controls,\n",
    "                        \"features_differ\": features_differ[\"gaussian\"],\n",
    "                        \"differ_params\": differ_params[\"gaussian\"][0],\n",
    "                    }\n",
    "                )\n",
    "                gaussian_accuracy_results.append(acc)\n",
    "\n",
    "# with open(\"gaussian_accuracy_results.pkl\", \"wb\") as f:\n",
    "#     pickle.dump(gaussian_accuracy_results, f)"
   ]
  },
  {
   "cell_type": "code",
   "execution_count": 11,
   "metadata": {},
   "outputs": [
    {
     "data": {
      "text/plain": [
       "[{'replicate_reproducibility': 0.02,\n",
       "  'mp_value': 0.14,\n",
       "  'mean_ap': 0.03,\n",
       "  'mean_ap_p_value': 0.06,\n",
       "  'n_plates': 2,\n",
       "  'n_controls': 8,\n",
       "  'features_differ': 1,\n",
       "  'differ_params': 1},\n",
       " {'replicate_reproducibility': 0.03,\n",
       "  'mp_value': 0.01,\n",
       "  'mean_ap': 0.03,\n",
       "  'mean_ap_p_value': 0.08,\n",
       "  'n_plates': 2,\n",
       "  'n_controls': 8,\n",
       "  'features_differ': 2,\n",
       "  'differ_params': 1}]"
      ]
     },
     "execution_count": 11,
     "metadata": {},
     "output_type": "execute_result"
    }
   ],
   "source": [
    "gaussian_accuracy_results"
   ]
  },
  {
   "cell_type": "code",
   "execution_count": 12,
   "metadata": {},
   "outputs": [],
   "source": [
    "# merged_metrics = aggregate_metrics_results(metrics_results, pert_col)\n",
    "\n",
    "# sns.pairplot(\n",
    "#     merged_metrics[\n",
    "#         [\n",
    "#             \"similarity_metric\",\n",
    "#             \"precision\",\n",
    "#             \"recall\",\n",
    "#             \"-log10(mp_value)\",\n",
    "#             \"mean_ap\",\n",
    "#             \"-log10(p_value)\",\n",
    "#         ]\n",
    "#     ]\n",
    "# )"
   ]
  },
  {
   "cell_type": "code",
   "execution_count": null,
   "metadata": {},
   "outputs": [],
   "source": []
  }
 ],
 "metadata": {
  "kernelspec": {
   "display_name": "grit-benchmark",
   "language": "python",
   "name": "python3"
  },
  "language_info": {
   "codemirror_mode": {
    "name": "ipython",
    "version": 3
   },
   "file_extension": ".py",
   "mimetype": "text/x-python",
   "name": "python",
   "nbconvert_exporter": "python",
   "pygments_lexer": "ipython3",
   "version": "3.10.8"
  }
 },
 "nbformat": 4,
 "nbformat_minor": 2
}
