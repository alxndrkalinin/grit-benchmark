{
 "cells": [
  {
   "cell_type": "markdown",
   "metadata": {},
   "source": [
    "## Calculate Grit for bulk and single cell perturbseq data\n",
    "\n",
    "Also calculate UMAP embeddings for each perturbation at the same time."
   ]
  },
  {
   "cell_type": "code",
   "execution_count": null,
   "metadata": {},
   "outputs": [],
   "source": [
    "import pathlib\n",
    "import numpy as np\n",
    "import pandas as pd\n",
    "\n",
    "from pycytominer import aggregate\n",
    "from pycytominer.cyto_utils import infer_cp_features\n",
    "\n",
    "from cytominer_eval import evaluate\n",
    "\n",
    "import umap"
   ]
  },
  {
   "cell_type": "code",
   "execution_count": null,
   "metadata": {},
   "outputs": [],
   "source": [
    "np.random.seed(2021)"
   ]
  },
  {
   "cell_type": "code",
   "execution_count": null,
   "metadata": {},
   "outputs": [],
   "source": [
    "gse_id = \"GSE132080\"\n",
    "perturbseq_data_dir = pathlib.Path(\"../../0.download-data/data/perturbseq/\")\n",
    "perturbseq_screen_phenotypes = \"paper_supplement/Table_S16_perturb-seq_screen_phenotypes.txt\""
   ]
  },
  {
   "cell_type": "code",
   "execution_count": null,
   "metadata": {},
   "outputs": [],
   "source": [
    "# Load finalized single cell perturbseq data\n",
    "gene_exp_file = pathlib.Path(f\"{perturbseq_data_dir}/{gse_id}_final_analytical.tsv.gz\")\n",
    "\n",
    "sc_gene_exp_df = pd.read_csv(gene_exp_file, sep=\"\\t\")\n",
    "gene_features = [x for x in sc_gene_exp_df if not x.startswith(\"Metadata_\")]\n",
    "\n",
    "print(sc_gene_exp_df.shape)\n",
    "sc_gene_exp_df.head()"
   ]
  },
  {
   "cell_type": "code",
   "execution_count": null,
   "metadata": {},
   "outputs": [],
   "source": [
    "print(len(gene_features))"
   ]
  },
  {
   "cell_type": "code",
   "execution_count": null,
   "metadata": {},
   "outputs": [],
   "source": [
    "# Load activities results (bulk)\n",
    "file = perturbseq_data_dir / perturbseq_screen_phenotypes\n",
    "activity_df = pd.read_csv(file, sep=\"\\t\").rename({\"Unnamed: 0\": \"id\"}, axis=\"columns\")\n",
    "\n",
    "# Create a perturbation column to match with other IDs\n",
    "activity_df = activity_df.assign(perturbation=activity_df.gene + \"_\" + activity_df.id)\n",
    "\n",
    "print(activity_df.shape)\n",
    "activity_df.head()"
   ]
  },
  {
   "cell_type": "code",
   "execution_count": null,
   "metadata": {},
   "outputs": [],
   "source": [
    "# Load bulk perturbseq data\n",
    "bulk_file = pathlib.Path(f\"{perturbseq_data_dir}/{gse_id}_bulk_final_analytical.tsv.gz\")\n",
    "bulk_df = pd.read_csv(bulk_file, sep=\"\\t\")\n",
    "\n",
    "# Some genes have very small variance still, remove these!\n",
    "genes_to_retain = (\n",
    "    pd.DataFrame(bulk_df.var() > 0.001)\n",
    "    .reset_index()\n",
    "    .rename({\"index\": \"gene\", 0: \"keep\"}, axis=\"columns\")\n",
    "    .query(\"keep\")\n",
    "    .gene\n",
    "    .tolist()\n",
    ")\n",
    "\n",
    "bulk_subset_df = bulk_df.loc[:, [\"Metadata_guide_identity\"] + genes_to_retain]\n",
    "\n",
    "# create a column for the gene\n",
    "bulk_subset_df = (\n",
    "    bulk_df\n",
    "    .assign(Metadata_gene_identity=[x.split(\"_\")[0] for x in bulk_subset_df.Metadata_guide_identity])\n",
    "    .query(\"Metadata_gene_identity != '*'\")\n",
    ")\n",
    "\n",
    "print(bulk_subset_df.shape)\n",
    "bulk_subset_df.head()"
   ]
  },
  {
   "cell_type": "markdown",
   "metadata": {},
   "source": [
    "## Calculate Grit\n",
    "\n",
    "### Bulk profiles"
   ]
  },
  {
   "cell_type": "code",
   "execution_count": null,
   "metadata": {},
   "outputs": [],
   "source": [
    "barcode_col = \"Metadata_guide_identity\"\n",
    "gene_col = \"Metadata_gene_identity\"\n",
    "\n",
    "replicate_group_grit = {\n",
    "    \"profile_col\": barcode_col,\n",
    "    \"replicate_group_col\": gene_col\n",
    "}\n",
    "\n",
    "neg_controls = [x for x in bulk_subset_df.Metadata_guide_identity if \"neg_ctrl\" in x]\n",
    "neg_controls"
   ]
  },
  {
   "cell_type": "code",
   "execution_count": null,
   "metadata": {},
   "outputs": [],
   "source": [
    "result = evaluate(\n",
    "    profiles=bulk_df,\n",
    "    features=genes_to_retain,\n",
    "    meta_features=[barcode_col, gene_col],\n",
    "    replicate_groups=replicate_group_grit,\n",
    "    operation=\"grit\",\n",
    "    grit_control_perts=neg_controls\n",
    ")\n",
    "\n",
    "result = result.dropna().sort_values(by=\"grit\", ascending=False).reset_index(drop=True)\n",
    "\n",
    "print(result.shape)\n",
    "result.head(3)"
   ]
  },
  {
   "cell_type": "code",
   "execution_count": null,
   "metadata": {},
   "outputs": [],
   "source": [
    "# Merge with activity results and output file\n",
    "output_results_file = pathlib.Path(f\"results/{gse_id}_grit.tsv\")\n",
    "\n",
    "result = result.merge(activity_df, left_on=\"perturbation\", right_on=\"perturbation\")\n",
    "\n",
    "result.to_csv(output_results_file, sep=\"\\t\", index=False)\n",
    "\n",
    "print(result.shape)\n",
    "result.head(3)"
   ]
  },
  {
   "cell_type": "markdown",
   "metadata": {},
   "source": [
    "### Single cells"
   ]
  },
  {
   "cell_type": "code",
   "execution_count": null,
   "metadata": {},
   "outputs": [],
   "source": [
    "# Determine a proportion of negative control guide population\n",
    "sc_neg_controls_df = sc_gene_exp_df.query(\"Metadata_guide_identity in @neg_controls\").sample(frac=0.2)\n",
    "\n",
    "sc_neg_controls = (\n",
    "    sc_neg_controls_df\n",
    "    .query(\"Metadata_guide_identity in @neg_controls\")\n",
    "    .Metadata_cell_identity\n",
    "    .tolist()\n",
    ")\n",
    "\n",
    "replicate_group_grit = {\n",
    "    \"profile_col\": \"Metadata_cell_identity\",\n",
    "    \"replicate_group_col\": \"Metadata_guide_identity\"\n",
    "}"
   ]
  },
  {
   "cell_type": "code",
   "execution_count": null,
   "metadata": {},
   "outputs": [],
   "source": [
    "all_sc_grit_results = []\n",
    "all_sc_umap_embeddings = []\n",
    "\n",
    "genes = sc_gene_exp_df.Metadata_gene_identity.unique()\n",
    "for gene in genes:\n",
    "    if gene not in [\"neg\", \"*\", \"nan\", np.nan]:\n",
    "        print(f\"Now analyzing {gene}...\")\n",
    "        subset_sc_df = sc_gene_exp_df.query(\"Metadata_gene_identity in @gene\")\n",
    "        \n",
    "        # There are a certain number of guides targeting each gene\n",
    "        guides = subset_sc_df.Metadata_guide_identity.unique()\n",
    "\n",
    "        # Use the same controls in every experiment\n",
    "        subset_sc_df = pd.concat([subset_sc_df, sc_neg_controls_df]).reset_index(drop=True)\n",
    "\n",
    "        # Apply UMAP to single cell profiles (all profiles of one gene + neg controls)\n",
    "        embedding = umap.UMAP().fit_transform(subset_sc_df.loc[:, genes_to_retain])\n",
    "        \n",
    "        # Combine results with single cell dataframe\n",
    "        embedding_df = pd.concat(\n",
    "            [\n",
    "                subset_sc_df.drop(gene_features, axis=\"columns\").reset_index(drop=True),\n",
    "                pd.DataFrame(embedding, columns=[\"umap_0\", \"umap_1\"])\n",
    "            ],\n",
    "            axis=\"columns\"\n",
    "        )\n",
    "        \n",
    "        # Append to list\n",
    "        all_sc_umap_embeddings.append(embedding_df.assign(grit_gene=gene))\n",
    "        \n",
    "        # Now calculate sc-Grit per guide\n",
    "        for guide in guides:\n",
    "            subset_guide_df = pd.concat(\n",
    "                [\n",
    "                    subset_sc_df.query(\"Metadata_guide_identity == @guide\"),\n",
    "                    sc_neg_controls_df\n",
    "                ]\n",
    "            ).reset_index(drop=True)\n",
    "            \n",
    "            # Calculate Grit\n",
    "            # Note, every negative control single cell will recieve MULTIPLE grit scores\n",
    "            # depending on the replicate group information (group_id)!\n",
    "            sc_grit_result = evaluate(\n",
    "                profiles=subset_guide_df,\n",
    "                features=genes_to_retain,\n",
    "                meta_features=[\"Metadata_guide_identity\", \"Metadata_cell_identity\"],\n",
    "                replicate_groups=replicate_group_grit,\n",
    "                operation=\"grit\",\n",
    "                grit_control_perts=[str(x) for x in sc_neg_controls]\n",
    "            )\n",
    "\n",
    "            all_sc_grit_results.append(\n",
    "                sc_grit_result.assign(grit_gene=gene, grit_guide=guide)\n",
    "            )"
   ]
  },
  {
   "cell_type": "code",
   "execution_count": null,
   "metadata": {},
   "outputs": [],
   "source": [
    "all_sc_umap_embeddings = pd.concat(all_sc_umap_embeddings).reset_index(drop=True)\n",
    "\n",
    "# Output file\n",
    "output_results_file = pathlib.Path(f\"results/{gse_id}_single_cell_umap_embeddings.tsv.gz\")\n",
    "all_sc_umap_embeddings.to_csv(output_results_file, sep=\"\\t\", compression=\"gzip\", index=False)\n",
    "\n",
    "print(all_sc_umap_embeddings.shape)\n",
    "all_sc_umap_embeddings.head()"
   ]
  },
  {
   "cell_type": "code",
   "execution_count": null,
   "metadata": {},
   "outputs": [],
   "source": [
    "all_sc_grit_results = pd.concat(all_sc_grit_results).reset_index(drop=True)\n",
    "\n",
    "# Output file\n",
    "output_results_file = pathlib.Path(f\"results/{gse_id}_single_cell_grit.tsv.gz\")\n",
    "all_sc_grit_results.to_csv(output_results_file, sep=\"\\t\", compression=\"gzip\", index=False)\n",
    "\n",
    "print(all_sc_grit_results.shape)\n",
    "all_sc_grit_results.head()"
   ]
  }
 ],
 "metadata": {
  "kernelspec": {
   "display_name": "Python 3 (ipykernel)",
   "language": "python",
   "name": "python3"
  },
  "language_info": {
   "codemirror_mode": {
    "name": "ipython",
    "version": 3
   },
   "file_extension": ".py",
   "mimetype": "text/x-python",
   "name": "python",
   "nbconvert_exporter": "python",
   "pygments_lexer": "ipython3",
   "version": "3.10.8"
  }
 },
 "nbformat": 4,
 "nbformat_minor": 4
}
