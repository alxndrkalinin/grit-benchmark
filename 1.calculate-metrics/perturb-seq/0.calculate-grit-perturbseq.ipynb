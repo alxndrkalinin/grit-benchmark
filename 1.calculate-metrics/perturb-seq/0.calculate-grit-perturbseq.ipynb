{
 "cells": [
  {
   "cell_type": "markdown",
   "metadata": {},
   "source": [
    "## Calculate Grit for bulk and single cell perturbseq data\n",
    "\n",
    "Also calculate UMAP embeddings for each perturbation at the same time."
   ]
  },
  {
   "cell_type": "code",
   "execution_count": 1,
   "metadata": {},
   "outputs": [],
   "source": [
    "import pathlib\n",
    "import numpy as np\n",
    "import pandas as pd\n",
    "\n",
    "from pycytominer import aggregate\n",
    "from pycytominer.cyto_utils import infer_cp_features\n",
    "\n",
    "from cytominer_eval import evaluate_metrics\n",
    "\n",
    "import umap\n",
    "\n",
    "import seaborn as sns\n",
    "import matplotlib.pyplot as plt"
   ]
  },
  {
   "cell_type": "code",
   "execution_count": 11,
   "metadata": {},
   "outputs": [
    {
     "data": {
      "text/plain": [
       "False"
      ]
     },
     "execution_count": 11,
     "metadata": {},
     "output_type": "execute_result"
    }
   ],
   "source": [
    "import numpy as np\n",
    "from scipy.spatial.distance import pdist, squareform\n",
    "from sklearn.decomposition import PCA\n",
    "\n",
    "# Step 1: Create a random matrix\n",
    "np.random.seed(0)\n",
    "matrix = np.random.rand(10, 5)  # 10 data points, 5 features each\n",
    "\n",
    "# Step 2: Apply PCA (optional)\n",
    "pca = PCA(n_components=3)  # Reducing to 3 dimensions\n",
    "matrix_pca = pca.fit_transform(matrix)\n",
    "\n",
    "# Step 3: Compute Cosine Distances\n",
    "cosine_distances = squareform(pdist(matrix, 'cosine'))\n",
    "cosine_distances_pca = squareform(pdist(matrix_pca, 'cosine'))\n",
    "\n",
    "# Step 4: L2-Normalize the matrix\n",
    "matrix_normed = matrix / np.linalg.norm(matrix, axis=1, keepdims=True)\n",
    "matrix_pca_normed = pca.fit_transform(matrix_normed)\n",
    "# matrix_pca_normed = matrix_pca / np.linalg.norm(matrix_pca, axis=1, keepdims=True)\n",
    "\n",
    "# Step 5: Compute Euclidean Distances\n",
    "euclidean_distances = squareform(pdist(matrix_normed, 'sqeuclidean')) / 2\n",
    "euclidean_distances_pca = squareform(pdist(matrix_pca_normed, 'sqeuclidean')) / 2\n",
    "\n",
    "np.allclose(cosine_distances, euclidean_distances)\n",
    "np.allclose(cosine_distances_pca, euclidean_distances_pca)"
   ]
  },
  {
   "cell_type": "code",
   "execution_count": 7,
   "metadata": {},
   "outputs": [
    {
     "data": {
      "text/plain": [
       "True"
      ]
     },
     "execution_count": 7,
     "metadata": {},
     "output_type": "execute_result"
    }
   ],
   "source": []
  },
  {
   "cell_type": "code",
   "execution_count": 9,
   "metadata": {},
   "outputs": [
    {
     "data": {
      "text/plain": [
       "True"
      ]
     },
     "execution_count": 9,
     "metadata": {},
     "output_type": "execute_result"
    }
   ],
   "source": []
  },
  {
   "cell_type": "code",
   "execution_count": null,
   "metadata": {},
   "outputs": [],
   "source": []
  },
  {
   "cell_type": "code",
   "execution_count": 4,
   "metadata": {},
   "outputs": [],
   "source": [
    "np.random.seed(2021)"
   ]
  },
  {
   "cell_type": "code",
   "execution_count": 5,
   "metadata": {},
   "outputs": [],
   "source": [
    "gse_id = \"GSE132080\"\n",
    "perturbseq_data_dir = pathlib.Path(\"../../0.download-data/data/perturbseq/\")\n",
    "perturbseq_screen_phenotypes = \"paper_supplement/Table_S16_perturb-seq_screen_phenotypes.txt\""
   ]
  },
  {
   "cell_type": "code",
   "execution_count": 6,
   "metadata": {},
   "outputs": [
    {
     "name": "stderr",
     "output_type": "stream",
     "text": [
      "/tmp/ipykernel_40914/545283870.py:4: DtypeWarning: Columns (7) have mixed types. Specify dtype option on import or set low_memory=False.\n",
      "  sc_gene_exp_df = pd.read_csv(gene_exp_file, sep=\"\\t\")\n"
     ]
    },
    {
     "name": "stdout",
     "output_type": "stream",
     "text": [
      "(23537, 1012)\n"
     ]
    },
    {
     "data": {
      "text/html": [
       "<div>\n",
       "<style scoped>\n",
       "    .dataframe tbody tr th:only-of-type {\n",
       "        vertical-align: middle;\n",
       "    }\n",
       "\n",
       "    .dataframe tbody tr th {\n",
       "        vertical-align: top;\n",
       "    }\n",
       "\n",
       "    .dataframe thead th {\n",
       "        text-align: right;\n",
       "    }\n",
       "</style>\n",
       "<table border=\"1\" class=\"dataframe\">\n",
       "  <thead>\n",
       "    <tr style=\"text-align: right;\">\n",
       "      <th></th>\n",
       "      <th>Metadata_cell_identity</th>\n",
       "      <th>Metadata_cell_barcode</th>\n",
       "      <th>Metadata_guide_identity</th>\n",
       "      <th>Metadata_read_count</th>\n",
       "      <th>Metadata_UMI_count</th>\n",
       "      <th>Metadata_coverage</th>\n",
       "      <th>Metadata_gemgroup</th>\n",
       "      <th>Metadata_good_coverage</th>\n",
       "      <th>Metadata_number_of_cells</th>\n",
       "      <th>Metadata_gene_identity</th>\n",
       "      <th>...</th>\n",
       "      <th>YPEL4</th>\n",
       "      <th>YPEL5</th>\n",
       "      <th>ZBTB38</th>\n",
       "      <th>ZFAS1</th>\n",
       "      <th>ZFP36L1</th>\n",
       "      <th>ZNF365</th>\n",
       "      <th>ZNF43</th>\n",
       "      <th>ZNF483</th>\n",
       "      <th>ZNF556</th>\n",
       "      <th>ZYX</th>\n",
       "    </tr>\n",
       "  </thead>\n",
       "  <tbody>\n",
       "    <tr>\n",
       "      <th>0</th>\n",
       "      <td>sc_profile_0</td>\n",
       "      <td>AAACCTGAGAGTAATC-1</td>\n",
       "      <td>RAN_RAN_+_131356438.23-P1P2_12</td>\n",
       "      <td>544.0</td>\n",
       "      <td>34.0</td>\n",
       "      <td>16.000000</td>\n",
       "      <td>1.0</td>\n",
       "      <td>True</td>\n",
       "      <td>1.0</td>\n",
       "      <td>RAN</td>\n",
       "      <td>...</td>\n",
       "      <td>-0.09309</td>\n",
       "      <td>-0.632468</td>\n",
       "      <td>-0.539091</td>\n",
       "      <td>-1.633805</td>\n",
       "      <td>-0.876912</td>\n",
       "      <td>-0.012155</td>\n",
       "      <td>-0.017763</td>\n",
       "      <td>-0.026877</td>\n",
       "      <td>-0.0524</td>\n",
       "      <td>-0.452229</td>\n",
       "    </tr>\n",
       "    <tr>\n",
       "      <th>1</th>\n",
       "      <td>sc_profile_1</td>\n",
       "      <td>AAACCTGAGGGATCTG-1</td>\n",
       "      <td>neg_ctrl_non-targeting_00089</td>\n",
       "      <td>267.0</td>\n",
       "      <td>19.0</td>\n",
       "      <td>14.052632</td>\n",
       "      <td>1.0</td>\n",
       "      <td>True</td>\n",
       "      <td>1.0</td>\n",
       "      <td>neg</td>\n",
       "      <td>...</td>\n",
       "      <td>-0.09309</td>\n",
       "      <td>-0.632468</td>\n",
       "      <td>-0.539091</td>\n",
       "      <td>1.610220</td>\n",
       "      <td>1.322265</td>\n",
       "      <td>-0.012155</td>\n",
       "      <td>-0.017763</td>\n",
       "      <td>-0.026877</td>\n",
       "      <td>-0.0524</td>\n",
       "      <td>-0.452229</td>\n",
       "    </tr>\n",
       "    <tr>\n",
       "      <th>2</th>\n",
       "      <td>sc_profile_2</td>\n",
       "      <td>AAACCTGAGGTCATCT-1</td>\n",
       "      <td>POLR2H_POLR2H_+_184081251.23-P1P2_08</td>\n",
       "      <td>622.0</td>\n",
       "      <td>34.0</td>\n",
       "      <td>18.294118</td>\n",
       "      <td>1.0</td>\n",
       "      <td>True</td>\n",
       "      <td>1.0</td>\n",
       "      <td>POLR2H</td>\n",
       "      <td>...</td>\n",
       "      <td>-0.09309</td>\n",
       "      <td>-0.632468</td>\n",
       "      <td>-0.539091</td>\n",
       "      <td>-0.567252</td>\n",
       "      <td>0.057540</td>\n",
       "      <td>-0.012155</td>\n",
       "      <td>-0.017763</td>\n",
       "      <td>-0.026877</td>\n",
       "      <td>-0.0524</td>\n",
       "      <td>-0.452229</td>\n",
       "    </tr>\n",
       "    <tr>\n",
       "      <th>3</th>\n",
       "      <td>sc_profile_3</td>\n",
       "      <td>AAACCTGCAATGGAGC-1</td>\n",
       "      <td>TUBB_TUBB_+_30688126.23-P1_03</td>\n",
       "      <td>433.0</td>\n",
       "      <td>20.0</td>\n",
       "      <td>21.650000</td>\n",
       "      <td>1.0</td>\n",
       "      <td>True</td>\n",
       "      <td>1.0</td>\n",
       "      <td>TUBB</td>\n",
       "      <td>...</td>\n",
       "      <td>-0.09309</td>\n",
       "      <td>1.765279</td>\n",
       "      <td>-0.539091</td>\n",
       "      <td>-1.659420</td>\n",
       "      <td>-0.876912</td>\n",
       "      <td>-0.012155</td>\n",
       "      <td>-0.017763</td>\n",
       "      <td>-0.026877</td>\n",
       "      <td>-0.0524</td>\n",
       "      <td>-0.452229</td>\n",
       "    </tr>\n",
       "    <tr>\n",
       "      <th>4</th>\n",
       "      <td>sc_profile_4</td>\n",
       "      <td>AAACCTGCACCAGGCT-1</td>\n",
       "      <td>CDC23_CDC23_-_137548987.23-P1P2_04</td>\n",
       "      <td>136.0</td>\n",
       "      <td>8.0</td>\n",
       "      <td>17.000000</td>\n",
       "      <td>1.0</td>\n",
       "      <td>True</td>\n",
       "      <td>1.0</td>\n",
       "      <td>CDC23</td>\n",
       "      <td>...</td>\n",
       "      <td>-0.09309</td>\n",
       "      <td>0.686753</td>\n",
       "      <td>-0.539091</td>\n",
       "      <td>0.541260</td>\n",
       "      <td>0.934539</td>\n",
       "      <td>-0.012155</td>\n",
       "      <td>-0.017763</td>\n",
       "      <td>-0.026877</td>\n",
       "      <td>-0.0524</td>\n",
       "      <td>1.406718</td>\n",
       "    </tr>\n",
       "    <tr>\n",
       "      <th>...</th>\n",
       "      <td>...</td>\n",
       "      <td>...</td>\n",
       "      <td>...</td>\n",
       "      <td>...</td>\n",
       "      <td>...</td>\n",
       "      <td>...</td>\n",
       "      <td>...</td>\n",
       "      <td>...</td>\n",
       "      <td>...</td>\n",
       "      <td>...</td>\n",
       "      <td>...</td>\n",
       "      <td>...</td>\n",
       "      <td>...</td>\n",
       "      <td>...</td>\n",
       "      <td>...</td>\n",
       "      <td>...</td>\n",
       "      <td>...</td>\n",
       "      <td>...</td>\n",
       "      <td>...</td>\n",
       "      <td>...</td>\n",
       "      <td>...</td>\n",
       "    </tr>\n",
       "    <tr>\n",
       "      <th>23532</th>\n",
       "      <td>sc_profile_23532</td>\n",
       "      <td>TTTGTCAGTTTGACTG-3</td>\n",
       "      <td>CDC23_CDC23_-_137548987.23-P1P2_11</td>\n",
       "      <td>1509.0</td>\n",
       "      <td>106.0</td>\n",
       "      <td>14.235849</td>\n",
       "      <td>3.0</td>\n",
       "      <td>True</td>\n",
       "      <td>3.0</td>\n",
       "      <td>CDC23</td>\n",
       "      <td>...</td>\n",
       "      <td>-0.09309</td>\n",
       "      <td>0.207130</td>\n",
       "      <td>-0.539091</td>\n",
       "      <td>-0.772589</td>\n",
       "      <td>-0.876912</td>\n",
       "      <td>-0.012155</td>\n",
       "      <td>-0.017763</td>\n",
       "      <td>-0.026877</td>\n",
       "      <td>-0.0524</td>\n",
       "      <td>-0.452229</td>\n",
       "    </tr>\n",
       "    <tr>\n",
       "      <th>23533</th>\n",
       "      <td>sc_profile_23533</td>\n",
       "      <td>TTTGTCAGTTTGTTGG-3</td>\n",
       "      <td>ATP5E_ATP5E_-_57607036.23-P1P2_16</td>\n",
       "      <td>1207.0</td>\n",
       "      <td>73.0</td>\n",
       "      <td>16.534247</td>\n",
       "      <td>3.0</td>\n",
       "      <td>True</td>\n",
       "      <td>1.0</td>\n",
       "      <td>ATP5E</td>\n",
       "      <td>...</td>\n",
       "      <td>-0.09309</td>\n",
       "      <td>-0.632468</td>\n",
       "      <td>-0.539091</td>\n",
       "      <td>-0.539488</td>\n",
       "      <td>-0.876912</td>\n",
       "      <td>-0.012155</td>\n",
       "      <td>-0.017763</td>\n",
       "      <td>-0.026877</td>\n",
       "      <td>-0.0524</td>\n",
       "      <td>-0.452229</td>\n",
       "    </tr>\n",
       "    <tr>\n",
       "      <th>23534</th>\n",
       "      <td>sc_profile_23534</td>\n",
       "      <td>TTTGTCATCACAAACC-3</td>\n",
       "      <td>HSPE1_HSPE1_+_198365089.23-P1P2_01</td>\n",
       "      <td>378.0</td>\n",
       "      <td>25.0</td>\n",
       "      <td>15.120000</td>\n",
       "      <td>3.0</td>\n",
       "      <td>True</td>\n",
       "      <td>1.0</td>\n",
       "      <td>HSPE1</td>\n",
       "      <td>...</td>\n",
       "      <td>-0.09309</td>\n",
       "      <td>-0.632468</td>\n",
       "      <td>0.738755</td>\n",
       "      <td>-0.341440</td>\n",
       "      <td>-0.876912</td>\n",
       "      <td>-0.012155</td>\n",
       "      <td>-0.017763</td>\n",
       "      <td>-0.026877</td>\n",
       "      <td>-0.0524</td>\n",
       "      <td>-0.452229</td>\n",
       "    </tr>\n",
       "    <tr>\n",
       "      <th>23535</th>\n",
       "      <td>sc_profile_23535</td>\n",
       "      <td>TTTGTCATCAGCATGT-3</td>\n",
       "      <td>neg_ctrl_non-targeting_00028</td>\n",
       "      <td>856.0</td>\n",
       "      <td>53.0</td>\n",
       "      <td>16.150943</td>\n",
       "      <td>3.0</td>\n",
       "      <td>True</td>\n",
       "      <td>1.0</td>\n",
       "      <td>neg</td>\n",
       "      <td>...</td>\n",
       "      <td>-0.09309</td>\n",
       "      <td>0.379025</td>\n",
       "      <td>0.571873</td>\n",
       "      <td>0.294543</td>\n",
       "      <td>-0.876912</td>\n",
       "      <td>-0.012155</td>\n",
       "      <td>-0.017763</td>\n",
       "      <td>-0.026877</td>\n",
       "      <td>-0.0524</td>\n",
       "      <td>-0.452229</td>\n",
       "    </tr>\n",
       "    <tr>\n",
       "      <th>23536</th>\n",
       "      <td>sc_profile_23536</td>\n",
       "      <td>TTTGTCATCTTAGAGC-3</td>\n",
       "      <td>CAD_CAD_+_27440280.23-P1P2_07</td>\n",
       "      <td>352.0</td>\n",
       "      <td>21.0</td>\n",
       "      <td>16.761905</td>\n",
       "      <td>3.0</td>\n",
       "      <td>True</td>\n",
       "      <td>2.0</td>\n",
       "      <td>CAD</td>\n",
       "      <td>...</td>\n",
       "      <td>-0.09309</td>\n",
       "      <td>-0.632468</td>\n",
       "      <td>-0.539091</td>\n",
       "      <td>-0.397055</td>\n",
       "      <td>1.748824</td>\n",
       "      <td>-0.012155</td>\n",
       "      <td>-0.017763</td>\n",
       "      <td>-0.026877</td>\n",
       "      <td>-0.0524</td>\n",
       "      <td>-0.452229</td>\n",
       "    </tr>\n",
       "  </tbody>\n",
       "</table>\n",
       "<p>23537 rows × 1012 columns</p>\n",
       "</div>"
      ],
      "text/plain": [
       "      Metadata_cell_identity Metadata_cell_barcode  \\\n",
       "0               sc_profile_0    AAACCTGAGAGTAATC-1   \n",
       "1               sc_profile_1    AAACCTGAGGGATCTG-1   \n",
       "2               sc_profile_2    AAACCTGAGGTCATCT-1   \n",
       "3               sc_profile_3    AAACCTGCAATGGAGC-1   \n",
       "4               sc_profile_4    AAACCTGCACCAGGCT-1   \n",
       "...                      ...                   ...   \n",
       "23532       sc_profile_23532    TTTGTCAGTTTGACTG-3   \n",
       "23533       sc_profile_23533    TTTGTCAGTTTGTTGG-3   \n",
       "23534       sc_profile_23534    TTTGTCATCACAAACC-3   \n",
       "23535       sc_profile_23535    TTTGTCATCAGCATGT-3   \n",
       "23536       sc_profile_23536    TTTGTCATCTTAGAGC-3   \n",
       "\n",
       "                    Metadata_guide_identity  Metadata_read_count  \\\n",
       "0            RAN_RAN_+_131356438.23-P1P2_12                544.0   \n",
       "1              neg_ctrl_non-targeting_00089                267.0   \n",
       "2      POLR2H_POLR2H_+_184081251.23-P1P2_08                622.0   \n",
       "3             TUBB_TUBB_+_30688126.23-P1_03                433.0   \n",
       "4        CDC23_CDC23_-_137548987.23-P1P2_04                136.0   \n",
       "...                                     ...                  ...   \n",
       "23532    CDC23_CDC23_-_137548987.23-P1P2_11               1509.0   \n",
       "23533     ATP5E_ATP5E_-_57607036.23-P1P2_16               1207.0   \n",
       "23534    HSPE1_HSPE1_+_198365089.23-P1P2_01                378.0   \n",
       "23535          neg_ctrl_non-targeting_00028                856.0   \n",
       "23536         CAD_CAD_+_27440280.23-P1P2_07                352.0   \n",
       "\n",
       "       Metadata_UMI_count  Metadata_coverage  Metadata_gemgroup  \\\n",
       "0                    34.0          16.000000                1.0   \n",
       "1                    19.0          14.052632                1.0   \n",
       "2                    34.0          18.294118                1.0   \n",
       "3                    20.0          21.650000                1.0   \n",
       "4                     8.0          17.000000                1.0   \n",
       "...                   ...                ...                ...   \n",
       "23532               106.0          14.235849                3.0   \n",
       "23533                73.0          16.534247                3.0   \n",
       "23534                25.0          15.120000                3.0   \n",
       "23535                53.0          16.150943                3.0   \n",
       "23536                21.0          16.761905                3.0   \n",
       "\n",
       "      Metadata_good_coverage  Metadata_number_of_cells Metadata_gene_identity  \\\n",
       "0                       True                       1.0                    RAN   \n",
       "1                       True                       1.0                    neg   \n",
       "2                       True                       1.0                 POLR2H   \n",
       "3                       True                       1.0                   TUBB   \n",
       "4                       True                       1.0                  CDC23   \n",
       "...                      ...                       ...                    ...   \n",
       "23532                   True                       3.0                  CDC23   \n",
       "23533                   True                       1.0                  ATP5E   \n",
       "23534                   True                       1.0                  HSPE1   \n",
       "23535                   True                       1.0                    neg   \n",
       "23536                   True                       2.0                    CAD   \n",
       "\n",
       "       ...    YPEL4     YPEL5    ZBTB38     ZFAS1   ZFP36L1    ZNF365  \\\n",
       "0      ... -0.09309 -0.632468 -0.539091 -1.633805 -0.876912 -0.012155   \n",
       "1      ... -0.09309 -0.632468 -0.539091  1.610220  1.322265 -0.012155   \n",
       "2      ... -0.09309 -0.632468 -0.539091 -0.567252  0.057540 -0.012155   \n",
       "3      ... -0.09309  1.765279 -0.539091 -1.659420 -0.876912 -0.012155   \n",
       "4      ... -0.09309  0.686753 -0.539091  0.541260  0.934539 -0.012155   \n",
       "...    ...      ...       ...       ...       ...       ...       ...   \n",
       "23532  ... -0.09309  0.207130 -0.539091 -0.772589 -0.876912 -0.012155   \n",
       "23533  ... -0.09309 -0.632468 -0.539091 -0.539488 -0.876912 -0.012155   \n",
       "23534  ... -0.09309 -0.632468  0.738755 -0.341440 -0.876912 -0.012155   \n",
       "23535  ... -0.09309  0.379025  0.571873  0.294543 -0.876912 -0.012155   \n",
       "23536  ... -0.09309 -0.632468 -0.539091 -0.397055  1.748824 -0.012155   \n",
       "\n",
       "          ZNF43    ZNF483  ZNF556       ZYX  \n",
       "0     -0.017763 -0.026877 -0.0524 -0.452229  \n",
       "1     -0.017763 -0.026877 -0.0524 -0.452229  \n",
       "2     -0.017763 -0.026877 -0.0524 -0.452229  \n",
       "3     -0.017763 -0.026877 -0.0524 -0.452229  \n",
       "4     -0.017763 -0.026877 -0.0524  1.406718  \n",
       "...         ...       ...     ...       ...  \n",
       "23532 -0.017763 -0.026877 -0.0524 -0.452229  \n",
       "23533 -0.017763 -0.026877 -0.0524 -0.452229  \n",
       "23534 -0.017763 -0.026877 -0.0524 -0.452229  \n",
       "23535 -0.017763 -0.026877 -0.0524 -0.452229  \n",
       "23536 -0.017763 -0.026877 -0.0524 -0.452229  \n",
       "\n",
       "[23537 rows x 1012 columns]"
      ]
     },
     "execution_count": 6,
     "metadata": {},
     "output_type": "execute_result"
    }
   ],
   "source": [
    "# Load finalized single cell perturbseq data\n",
    "gene_exp_file = pathlib.Path(f\"{perturbseq_data_dir}/{gse_id}_final_analytical.tsv.gz\")\n",
    "\n",
    "sc_gene_exp_df = pd.read_csv(gene_exp_file, sep=\"\\t\")\n",
    "gene_features = [x for x in sc_gene_exp_df if not x.startswith(\"Metadata_\")]\n",
    "\n",
    "print(sc_gene_exp_df.shape)\n",
    "sc_gene_exp_df"
   ]
  },
  {
   "cell_type": "code",
   "execution_count": 7,
   "metadata": {},
   "outputs": [
    {
     "data": {
      "text/plain": [
       "Index(['Metadata_cell_identity', 'Metadata_cell_barcode',\n",
       "       'Metadata_guide_identity', 'Metadata_read_count', 'Metadata_UMI_count',\n",
       "       'Metadata_coverage', 'Metadata_gemgroup', 'Metadata_good_coverage',\n",
       "       'Metadata_number_of_cells', 'Metadata_gene_identity',\n",
       "       'Metadata_barcode', 'Metadata_sequence'],\n",
       "      dtype='object')"
      ]
     },
     "execution_count": 7,
     "metadata": {},
     "output_type": "execute_result"
    }
   ],
   "source": [
    "sc_gene_exp_df.filter(regex=\"Metadata\").columns\n"
   ]
  },
  {
   "cell_type": "code",
   "execution_count": 8,
   "metadata": {},
   "outputs": [
    {
     "data": {
      "text/plain": [
       "0              RAN_RAN_+_131356438.23-P1P2_12\n",
       "1                neg_ctrl_non-targeting_00089\n",
       "2        POLR2H_POLR2H_+_184081251.23-P1P2_08\n",
       "3               TUBB_TUBB_+_30688126.23-P1_03\n",
       "4          CDC23_CDC23_-_137548987.23-P1P2_04\n",
       "                         ...                 \n",
       "23532      CDC23_CDC23_-_137548987.23-P1P2_11\n",
       "23533       ATP5E_ATP5E_-_57607036.23-P1P2_16\n",
       "23534      HSPE1_HSPE1_+_198365089.23-P1P2_01\n",
       "23535            neg_ctrl_non-targeting_00028\n",
       "23536           CAD_CAD_+_27440280.23-P1P2_07\n",
       "Name: Metadata_guide_identity, Length: 23537, dtype: object"
      ]
     },
     "execution_count": 8,
     "metadata": {},
     "output_type": "execute_result"
    }
   ],
   "source": [
    "sc_gene_exp_df.Metadata_guide_identity"
   ]
  },
  {
   "cell_type": "code",
   "execution_count": 9,
   "metadata": {},
   "outputs": [
    {
     "data": {
      "text/html": [
       "<div>\n",
       "<style scoped>\n",
       "    .dataframe tbody tr th:only-of-type {\n",
       "        vertical-align: middle;\n",
       "    }\n",
       "\n",
       "    .dataframe tbody tr th {\n",
       "        vertical-align: top;\n",
       "    }\n",
       "\n",
       "    .dataframe thead th {\n",
       "        text-align: right;\n",
       "    }\n",
       "</style>\n",
       "<table border=\"1\" class=\"dataframe\">\n",
       "  <thead>\n",
       "    <tr style=\"text-align: right;\">\n",
       "      <th></th>\n",
       "      <th>Metadata_cell_identity</th>\n",
       "      <th>Metadata_cell_barcode</th>\n",
       "      <th>Metadata_guide_identity</th>\n",
       "      <th>Metadata_read_count</th>\n",
       "      <th>Metadata_UMI_count</th>\n",
       "      <th>Metadata_coverage</th>\n",
       "      <th>Metadata_gemgroup</th>\n",
       "      <th>Metadata_good_coverage</th>\n",
       "      <th>Metadata_number_of_cells</th>\n",
       "      <th>Metadata_gene_identity</th>\n",
       "      <th>Metadata_barcode</th>\n",
       "      <th>Metadata_sequence</th>\n",
       "    </tr>\n",
       "  </thead>\n",
       "  <tbody>\n",
       "    <tr>\n",
       "      <th>count</th>\n",
       "      <td>23537</td>\n",
       "      <td>23513</td>\n",
       "      <td>23513</td>\n",
       "      <td>23513.000000</td>\n",
       "      <td>23513.000000</td>\n",
       "      <td>23513.000000</td>\n",
       "      <td>23513.000000</td>\n",
       "      <td>23513</td>\n",
       "      <td>23513.000000</td>\n",
       "      <td>23513</td>\n",
       "      <td>23537</td>\n",
       "      <td>23537</td>\n",
       "    </tr>\n",
       "    <tr>\n",
       "      <th>unique</th>\n",
       "      <td>23537</td>\n",
       "      <td>23513</td>\n",
       "      <td>139</td>\n",
       "      <td>NaN</td>\n",
       "      <td>NaN</td>\n",
       "      <td>NaN</td>\n",
       "      <td>NaN</td>\n",
       "      <td>2</td>\n",
       "      <td>NaN</td>\n",
       "      <td>27</td>\n",
       "      <td>23537</td>\n",
       "      <td>23253</td>\n",
       "    </tr>\n",
       "    <tr>\n",
       "      <th>top</th>\n",
       "      <td>sc_profile_0</td>\n",
       "      <td>AAACCTGAGAGTAATC-1</td>\n",
       "      <td>GNB2L1_GNB2L1_+_180670873.23-P1P2_08</td>\n",
       "      <td>NaN</td>\n",
       "      <td>NaN</td>\n",
       "      <td>NaN</td>\n",
       "      <td>NaN</td>\n",
       "      <td>True</td>\n",
       "      <td>NaN</td>\n",
       "      <td>neg</td>\n",
       "      <td>AAACCTGAGAGTAATC-1</td>\n",
       "      <td>TAAGTGCCAACGATCT</td>\n",
       "    </tr>\n",
       "    <tr>\n",
       "      <th>freq</th>\n",
       "      <td>1</td>\n",
       "      <td>1</td>\n",
       "      <td>584</td>\n",
       "      <td>NaN</td>\n",
       "      <td>NaN</td>\n",
       "      <td>NaN</td>\n",
       "      <td>NaN</td>\n",
       "      <td>22268</td>\n",
       "      <td>NaN</td>\n",
       "      <td>2436</td>\n",
       "      <td>1</td>\n",
       "      <td>3</td>\n",
       "    </tr>\n",
       "    <tr>\n",
       "      <th>mean</th>\n",
       "      <td>NaN</td>\n",
       "      <td>NaN</td>\n",
       "      <td>NaN</td>\n",
       "      <td>679.586739</td>\n",
       "      <td>32.831625</td>\n",
       "      <td>20.660006</td>\n",
       "      <td>1.957428</td>\n",
       "      <td>NaN</td>\n",
       "      <td>1.076511</td>\n",
       "      <td>NaN</td>\n",
       "      <td>NaN</td>\n",
       "      <td>NaN</td>\n",
       "    </tr>\n",
       "    <tr>\n",
       "      <th>std</th>\n",
       "      <td>NaN</td>\n",
       "      <td>NaN</td>\n",
       "      <td>NaN</td>\n",
       "      <td>449.452077</td>\n",
       "      <td>20.562185</td>\n",
       "      <td>6.874787</td>\n",
       "      <td>0.819193</td>\n",
       "      <td>NaN</td>\n",
       "      <td>0.456669</td>\n",
       "      <td>NaN</td>\n",
       "      <td>NaN</td>\n",
       "      <td>NaN</td>\n",
       "    </tr>\n",
       "    <tr>\n",
       "      <th>min</th>\n",
       "      <td>NaN</td>\n",
       "      <td>NaN</td>\n",
       "      <td>NaN</td>\n",
       "      <td>1.000000</td>\n",
       "      <td>1.000000</td>\n",
       "      <td>1.000000</td>\n",
       "      <td>1.000000</td>\n",
       "      <td>NaN</td>\n",
       "      <td>0.000000</td>\n",
       "      <td>NaN</td>\n",
       "      <td>NaN</td>\n",
       "      <td>NaN</td>\n",
       "    </tr>\n",
       "    <tr>\n",
       "      <th>25%</th>\n",
       "      <td>NaN</td>\n",
       "      <td>NaN</td>\n",
       "      <td>NaN</td>\n",
       "      <td>353.000000</td>\n",
       "      <td>18.000000</td>\n",
       "      <td>16.400000</td>\n",
       "      <td>1.000000</td>\n",
       "      <td>NaN</td>\n",
       "      <td>1.000000</td>\n",
       "      <td>NaN</td>\n",
       "      <td>NaN</td>\n",
       "      <td>NaN</td>\n",
       "    </tr>\n",
       "    <tr>\n",
       "      <th>50%</th>\n",
       "      <td>NaN</td>\n",
       "      <td>NaN</td>\n",
       "      <td>NaN</td>\n",
       "      <td>619.000000</td>\n",
       "      <td>31.000000</td>\n",
       "      <td>19.181818</td>\n",
       "      <td>2.000000</td>\n",
       "      <td>NaN</td>\n",
       "      <td>1.000000</td>\n",
       "      <td>NaN</td>\n",
       "      <td>NaN</td>\n",
       "      <td>NaN</td>\n",
       "    </tr>\n",
       "    <tr>\n",
       "      <th>75%</th>\n",
       "      <td>NaN</td>\n",
       "      <td>NaN</td>\n",
       "      <td>NaN</td>\n",
       "      <td>924.000000</td>\n",
       "      <td>44.000000</td>\n",
       "      <td>25.153846</td>\n",
       "      <td>3.000000</td>\n",
       "      <td>NaN</td>\n",
       "      <td>1.000000</td>\n",
       "      <td>NaN</td>\n",
       "      <td>NaN</td>\n",
       "      <td>NaN</td>\n",
       "    </tr>\n",
       "    <tr>\n",
       "      <th>max</th>\n",
       "      <td>NaN</td>\n",
       "      <td>NaN</td>\n",
       "      <td>NaN</td>\n",
       "      <td>7452.000000</td>\n",
       "      <td>457.000000</td>\n",
       "      <td>91.000000</td>\n",
       "      <td>3.000000</td>\n",
       "      <td>NaN</td>\n",
       "      <td>6.000000</td>\n",
       "      <td>NaN</td>\n",
       "      <td>NaN</td>\n",
       "      <td>NaN</td>\n",
       "    </tr>\n",
       "  </tbody>\n",
       "</table>\n",
       "</div>"
      ],
      "text/plain": [
       "       Metadata_cell_identity Metadata_cell_barcode  \\\n",
       "count                   23537                 23513   \n",
       "unique                  23537                 23513   \n",
       "top              sc_profile_0    AAACCTGAGAGTAATC-1   \n",
       "freq                        1                     1   \n",
       "mean                      NaN                   NaN   \n",
       "std                       NaN                   NaN   \n",
       "min                       NaN                   NaN   \n",
       "25%                       NaN                   NaN   \n",
       "50%                       NaN                   NaN   \n",
       "75%                       NaN                   NaN   \n",
       "max                       NaN                   NaN   \n",
       "\n",
       "                     Metadata_guide_identity  Metadata_read_count  \\\n",
       "count                                  23513         23513.000000   \n",
       "unique                                   139                  NaN   \n",
       "top     GNB2L1_GNB2L1_+_180670873.23-P1P2_08                  NaN   \n",
       "freq                                     584                  NaN   \n",
       "mean                                     NaN           679.586739   \n",
       "std                                      NaN           449.452077   \n",
       "min                                      NaN             1.000000   \n",
       "25%                                      NaN           353.000000   \n",
       "50%                                      NaN           619.000000   \n",
       "75%                                      NaN           924.000000   \n",
       "max                                      NaN          7452.000000   \n",
       "\n",
       "        Metadata_UMI_count  Metadata_coverage  Metadata_gemgroup  \\\n",
       "count         23513.000000       23513.000000       23513.000000   \n",
       "unique                 NaN                NaN                NaN   \n",
       "top                    NaN                NaN                NaN   \n",
       "freq                   NaN                NaN                NaN   \n",
       "mean             32.831625          20.660006           1.957428   \n",
       "std              20.562185           6.874787           0.819193   \n",
       "min               1.000000           1.000000           1.000000   \n",
       "25%              18.000000          16.400000           1.000000   \n",
       "50%              31.000000          19.181818           2.000000   \n",
       "75%              44.000000          25.153846           3.000000   \n",
       "max             457.000000          91.000000           3.000000   \n",
       "\n",
       "       Metadata_good_coverage  Metadata_number_of_cells  \\\n",
       "count                   23513              23513.000000   \n",
       "unique                      2                       NaN   \n",
       "top                      True                       NaN   \n",
       "freq                    22268                       NaN   \n",
       "mean                      NaN                  1.076511   \n",
       "std                       NaN                  0.456669   \n",
       "min                       NaN                  0.000000   \n",
       "25%                       NaN                  1.000000   \n",
       "50%                       NaN                  1.000000   \n",
       "75%                       NaN                  1.000000   \n",
       "max                       NaN                  6.000000   \n",
       "\n",
       "       Metadata_gene_identity    Metadata_barcode Metadata_sequence  \n",
       "count                   23513               23537             23537  \n",
       "unique                     27               23537             23253  \n",
       "top                       neg  AAACCTGAGAGTAATC-1  TAAGTGCCAACGATCT  \n",
       "freq                     2436                   1                 3  \n",
       "mean                      NaN                 NaN               NaN  \n",
       "std                       NaN                 NaN               NaN  \n",
       "min                       NaN                 NaN               NaN  \n",
       "25%                       NaN                 NaN               NaN  \n",
       "50%                       NaN                 NaN               NaN  \n",
       "75%                       NaN                 NaN               NaN  \n",
       "max                       NaN                 NaN               NaN  "
      ]
     },
     "execution_count": 9,
     "metadata": {},
     "output_type": "execute_result"
    }
   ],
   "source": [
    "sc_gene_exp_df.filter(regex=\"Metadata\").describe(include=\"all\")"
   ]
  },
  {
   "cell_type": "code",
   "execution_count": 10,
   "metadata": {},
   "outputs": [
    {
     "data": {
      "text/html": [
       "<div>\n",
       "<style scoped>\n",
       "    .dataframe tbody tr th:only-of-type {\n",
       "        vertical-align: middle;\n",
       "    }\n",
       "\n",
       "    .dataframe tbody tr th {\n",
       "        vertical-align: top;\n",
       "    }\n",
       "\n",
       "    .dataframe thead th {\n",
       "        text-align: right;\n",
       "    }\n",
       "</style>\n",
       "<table border=\"1\" class=\"dataframe\">\n",
       "  <thead>\n",
       "    <tr style=\"text-align: right;\">\n",
       "      <th></th>\n",
       "      <th></th>\n",
       "      <th>Metadata_cell_identity</th>\n",
       "      <th>Metadata_cell_barcode</th>\n",
       "      <th>Metadata_read_count</th>\n",
       "      <th>Metadata_UMI_count</th>\n",
       "      <th>Metadata_coverage</th>\n",
       "      <th>Metadata_gemgroup</th>\n",
       "      <th>Metadata_good_coverage</th>\n",
       "      <th>Metadata_number_of_cells</th>\n",
       "      <th>Metadata_barcode</th>\n",
       "      <th>Metadata_sequence</th>\n",
       "      <th>...</th>\n",
       "      <th>YPEL4</th>\n",
       "      <th>YPEL5</th>\n",
       "      <th>ZBTB38</th>\n",
       "      <th>ZFAS1</th>\n",
       "      <th>ZFP36L1</th>\n",
       "      <th>ZNF365</th>\n",
       "      <th>ZNF43</th>\n",
       "      <th>ZNF483</th>\n",
       "      <th>ZNF556</th>\n",
       "      <th>ZYX</th>\n",
       "    </tr>\n",
       "    <tr>\n",
       "      <th>Metadata_gene_identity</th>\n",
       "      <th>Metadata_guide_identity</th>\n",
       "      <th></th>\n",
       "      <th></th>\n",
       "      <th></th>\n",
       "      <th></th>\n",
       "      <th></th>\n",
       "      <th></th>\n",
       "      <th></th>\n",
       "      <th></th>\n",
       "      <th></th>\n",
       "      <th></th>\n",
       "      <th></th>\n",
       "      <th></th>\n",
       "      <th></th>\n",
       "      <th></th>\n",
       "      <th></th>\n",
       "      <th></th>\n",
       "      <th></th>\n",
       "      <th></th>\n",
       "      <th></th>\n",
       "      <th></th>\n",
       "      <th></th>\n",
       "    </tr>\n",
       "  </thead>\n",
       "  <tbody>\n",
       "    <tr>\n",
       "      <th>*</th>\n",
       "      <th>*</th>\n",
       "      <td>308</td>\n",
       "      <td>308</td>\n",
       "      <td>308</td>\n",
       "      <td>308</td>\n",
       "      <td>308</td>\n",
       "      <td>308</td>\n",
       "      <td>308</td>\n",
       "      <td>308</td>\n",
       "      <td>308</td>\n",
       "      <td>308</td>\n",
       "      <td>...</td>\n",
       "      <td>308</td>\n",
       "      <td>308</td>\n",
       "      <td>308</td>\n",
       "      <td>308</td>\n",
       "      <td>308</td>\n",
       "      <td>308</td>\n",
       "      <td>308</td>\n",
       "      <td>308</td>\n",
       "      <td>308</td>\n",
       "      <td>308</td>\n",
       "    </tr>\n",
       "    <tr>\n",
       "      <th rowspan=\"4\" valign=\"top\">ALDOA</th>\n",
       "      <th>ALDOA_ALDOA_+_30077139.23-P1P2_00</th>\n",
       "      <td>115</td>\n",
       "      <td>115</td>\n",
       "      <td>115</td>\n",
       "      <td>115</td>\n",
       "      <td>115</td>\n",
       "      <td>115</td>\n",
       "      <td>115</td>\n",
       "      <td>115</td>\n",
       "      <td>115</td>\n",
       "      <td>115</td>\n",
       "      <td>...</td>\n",
       "      <td>115</td>\n",
       "      <td>115</td>\n",
       "      <td>115</td>\n",
       "      <td>115</td>\n",
       "      <td>115</td>\n",
       "      <td>115</td>\n",
       "      <td>115</td>\n",
       "      <td>115</td>\n",
       "      <td>115</td>\n",
       "      <td>115</td>\n",
       "    </tr>\n",
       "    <tr>\n",
       "      <th>ALDOA_ALDOA_+_30077139.23-P1P2_06</th>\n",
       "      <td>156</td>\n",
       "      <td>156</td>\n",
       "      <td>156</td>\n",
       "      <td>156</td>\n",
       "      <td>156</td>\n",
       "      <td>156</td>\n",
       "      <td>156</td>\n",
       "      <td>156</td>\n",
       "      <td>156</td>\n",
       "      <td>156</td>\n",
       "      <td>...</td>\n",
       "      <td>156</td>\n",
       "      <td>156</td>\n",
       "      <td>156</td>\n",
       "      <td>156</td>\n",
       "      <td>156</td>\n",
       "      <td>156</td>\n",
       "      <td>156</td>\n",
       "      <td>156</td>\n",
       "      <td>156</td>\n",
       "      <td>156</td>\n",
       "    </tr>\n",
       "    <tr>\n",
       "      <th>ALDOA_ALDOA_+_30077139.23-P1P2_07</th>\n",
       "      <td>103</td>\n",
       "      <td>103</td>\n",
       "      <td>103</td>\n",
       "      <td>103</td>\n",
       "      <td>103</td>\n",
       "      <td>103</td>\n",
       "      <td>103</td>\n",
       "      <td>103</td>\n",
       "      <td>103</td>\n",
       "      <td>103</td>\n",
       "      <td>...</td>\n",
       "      <td>103</td>\n",
       "      <td>103</td>\n",
       "      <td>103</td>\n",
       "      <td>103</td>\n",
       "      <td>103</td>\n",
       "      <td>103</td>\n",
       "      <td>103</td>\n",
       "      <td>103</td>\n",
       "      <td>103</td>\n",
       "      <td>103</td>\n",
       "    </tr>\n",
       "    <tr>\n",
       "      <th>ALDOA_ALDOA_+_30077139.23-P1P2_13</th>\n",
       "      <td>170</td>\n",
       "      <td>170</td>\n",
       "      <td>170</td>\n",
       "      <td>170</td>\n",
       "      <td>170</td>\n",
       "      <td>170</td>\n",
       "      <td>170</td>\n",
       "      <td>170</td>\n",
       "      <td>170</td>\n",
       "      <td>170</td>\n",
       "      <td>...</td>\n",
       "      <td>170</td>\n",
       "      <td>170</td>\n",
       "      <td>170</td>\n",
       "      <td>170</td>\n",
       "      <td>170</td>\n",
       "      <td>170</td>\n",
       "      <td>170</td>\n",
       "      <td>170</td>\n",
       "      <td>170</td>\n",
       "      <td>170</td>\n",
       "    </tr>\n",
       "    <tr>\n",
       "      <th>...</th>\n",
       "      <th>...</th>\n",
       "      <td>...</td>\n",
       "      <td>...</td>\n",
       "      <td>...</td>\n",
       "      <td>...</td>\n",
       "      <td>...</td>\n",
       "      <td>...</td>\n",
       "      <td>...</td>\n",
       "      <td>...</td>\n",
       "      <td>...</td>\n",
       "      <td>...</td>\n",
       "      <td>...</td>\n",
       "      <td>...</td>\n",
       "      <td>...</td>\n",
       "      <td>...</td>\n",
       "      <td>...</td>\n",
       "      <td>...</td>\n",
       "      <td>...</td>\n",
       "      <td>...</td>\n",
       "      <td>...</td>\n",
       "      <td>...</td>\n",
       "      <td>...</td>\n",
       "    </tr>\n",
       "    <tr>\n",
       "      <th rowspan=\"5\" valign=\"top\">neg</th>\n",
       "      <th>neg_ctrl_non-targeting_00283</th>\n",
       "      <td>212</td>\n",
       "      <td>212</td>\n",
       "      <td>212</td>\n",
       "      <td>212</td>\n",
       "      <td>212</td>\n",
       "      <td>212</td>\n",
       "      <td>212</td>\n",
       "      <td>212</td>\n",
       "      <td>212</td>\n",
       "      <td>212</td>\n",
       "      <td>...</td>\n",
       "      <td>212</td>\n",
       "      <td>212</td>\n",
       "      <td>212</td>\n",
       "      <td>212</td>\n",
       "      <td>212</td>\n",
       "      <td>212</td>\n",
       "      <td>212</td>\n",
       "      <td>212</td>\n",
       "      <td>212</td>\n",
       "      <td>212</td>\n",
       "    </tr>\n",
       "    <tr>\n",
       "      <th>neg_ctrl_non-targeting_00406</th>\n",
       "      <td>260</td>\n",
       "      <td>260</td>\n",
       "      <td>260</td>\n",
       "      <td>260</td>\n",
       "      <td>260</td>\n",
       "      <td>260</td>\n",
       "      <td>260</td>\n",
       "      <td>260</td>\n",
       "      <td>260</td>\n",
       "      <td>260</td>\n",
       "      <td>...</td>\n",
       "      <td>260</td>\n",
       "      <td>260</td>\n",
       "      <td>260</td>\n",
       "      <td>260</td>\n",
       "      <td>260</td>\n",
       "      <td>260</td>\n",
       "      <td>260</td>\n",
       "      <td>260</td>\n",
       "      <td>260</td>\n",
       "      <td>260</td>\n",
       "    </tr>\n",
       "    <tr>\n",
       "      <th>neg_ctrl_non-targeting_00527</th>\n",
       "      <td>177</td>\n",
       "      <td>177</td>\n",
       "      <td>177</td>\n",
       "      <td>177</td>\n",
       "      <td>177</td>\n",
       "      <td>177</td>\n",
       "      <td>177</td>\n",
       "      <td>177</td>\n",
       "      <td>177</td>\n",
       "      <td>177</td>\n",
       "      <td>...</td>\n",
       "      <td>177</td>\n",
       "      <td>177</td>\n",
       "      <td>177</td>\n",
       "      <td>177</td>\n",
       "      <td>177</td>\n",
       "      <td>177</td>\n",
       "      <td>177</td>\n",
       "      <td>177</td>\n",
       "      <td>177</td>\n",
       "      <td>177</td>\n",
       "    </tr>\n",
       "    <tr>\n",
       "      <th>neg_ctrl_non-targeting_00802</th>\n",
       "      <td>185</td>\n",
       "      <td>185</td>\n",
       "      <td>185</td>\n",
       "      <td>185</td>\n",
       "      <td>185</td>\n",
       "      <td>185</td>\n",
       "      <td>185</td>\n",
       "      <td>185</td>\n",
       "      <td>185</td>\n",
       "      <td>185</td>\n",
       "      <td>...</td>\n",
       "      <td>185</td>\n",
       "      <td>185</td>\n",
       "      <td>185</td>\n",
       "      <td>185</td>\n",
       "      <td>185</td>\n",
       "      <td>185</td>\n",
       "      <td>185</td>\n",
       "      <td>185</td>\n",
       "      <td>185</td>\n",
       "      <td>185</td>\n",
       "    </tr>\n",
       "    <tr>\n",
       "      <th>neg_ctrl_non-targeting_01040</th>\n",
       "      <td>280</td>\n",
       "      <td>280</td>\n",
       "      <td>280</td>\n",
       "      <td>280</td>\n",
       "      <td>280</td>\n",
       "      <td>280</td>\n",
       "      <td>280</td>\n",
       "      <td>280</td>\n",
       "      <td>280</td>\n",
       "      <td>280</td>\n",
       "      <td>...</td>\n",
       "      <td>280</td>\n",
       "      <td>280</td>\n",
       "      <td>280</td>\n",
       "      <td>280</td>\n",
       "      <td>280</td>\n",
       "      <td>280</td>\n",
       "      <td>280</td>\n",
       "      <td>280</td>\n",
       "      <td>280</td>\n",
       "      <td>280</td>\n",
       "    </tr>\n",
       "  </tbody>\n",
       "</table>\n",
       "<p>139 rows × 1010 columns</p>\n",
       "</div>"
      ],
      "text/plain": [
       "                                                          Metadata_cell_identity  \\\n",
       "Metadata_gene_identity Metadata_guide_identity                                     \n",
       "*                      *                                                     308   \n",
       "ALDOA                  ALDOA_ALDOA_+_30077139.23-P1P2_00                     115   \n",
       "                       ALDOA_ALDOA_+_30077139.23-P1P2_06                     156   \n",
       "                       ALDOA_ALDOA_+_30077139.23-P1P2_07                     103   \n",
       "                       ALDOA_ALDOA_+_30077139.23-P1P2_13                     170   \n",
       "...                                                                          ...   \n",
       "neg                    neg_ctrl_non-targeting_00283                          212   \n",
       "                       neg_ctrl_non-targeting_00406                          260   \n",
       "                       neg_ctrl_non-targeting_00527                          177   \n",
       "                       neg_ctrl_non-targeting_00802                          185   \n",
       "                       neg_ctrl_non-targeting_01040                          280   \n",
       "\n",
       "                                                          Metadata_cell_barcode  \\\n",
       "Metadata_gene_identity Metadata_guide_identity                                    \n",
       "*                      *                                                    308   \n",
       "ALDOA                  ALDOA_ALDOA_+_30077139.23-P1P2_00                    115   \n",
       "                       ALDOA_ALDOA_+_30077139.23-P1P2_06                    156   \n",
       "                       ALDOA_ALDOA_+_30077139.23-P1P2_07                    103   \n",
       "                       ALDOA_ALDOA_+_30077139.23-P1P2_13                    170   \n",
       "...                                                                         ...   \n",
       "neg                    neg_ctrl_non-targeting_00283                         212   \n",
       "                       neg_ctrl_non-targeting_00406                         260   \n",
       "                       neg_ctrl_non-targeting_00527                         177   \n",
       "                       neg_ctrl_non-targeting_00802                         185   \n",
       "                       neg_ctrl_non-targeting_01040                         280   \n",
       "\n",
       "                                                          Metadata_read_count  \\\n",
       "Metadata_gene_identity Metadata_guide_identity                                  \n",
       "*                      *                                                  308   \n",
       "ALDOA                  ALDOA_ALDOA_+_30077139.23-P1P2_00                  115   \n",
       "                       ALDOA_ALDOA_+_30077139.23-P1P2_06                  156   \n",
       "                       ALDOA_ALDOA_+_30077139.23-P1P2_07                  103   \n",
       "                       ALDOA_ALDOA_+_30077139.23-P1P2_13                  170   \n",
       "...                                                                       ...   \n",
       "neg                    neg_ctrl_non-targeting_00283                       212   \n",
       "                       neg_ctrl_non-targeting_00406                       260   \n",
       "                       neg_ctrl_non-targeting_00527                       177   \n",
       "                       neg_ctrl_non-targeting_00802                       185   \n",
       "                       neg_ctrl_non-targeting_01040                       280   \n",
       "\n",
       "                                                          Metadata_UMI_count  \\\n",
       "Metadata_gene_identity Metadata_guide_identity                                 \n",
       "*                      *                                                 308   \n",
       "ALDOA                  ALDOA_ALDOA_+_30077139.23-P1P2_00                 115   \n",
       "                       ALDOA_ALDOA_+_30077139.23-P1P2_06                 156   \n",
       "                       ALDOA_ALDOA_+_30077139.23-P1P2_07                 103   \n",
       "                       ALDOA_ALDOA_+_30077139.23-P1P2_13                 170   \n",
       "...                                                                      ...   \n",
       "neg                    neg_ctrl_non-targeting_00283                      212   \n",
       "                       neg_ctrl_non-targeting_00406                      260   \n",
       "                       neg_ctrl_non-targeting_00527                      177   \n",
       "                       neg_ctrl_non-targeting_00802                      185   \n",
       "                       neg_ctrl_non-targeting_01040                      280   \n",
       "\n",
       "                                                          Metadata_coverage  \\\n",
       "Metadata_gene_identity Metadata_guide_identity                                \n",
       "*                      *                                                308   \n",
       "ALDOA                  ALDOA_ALDOA_+_30077139.23-P1P2_00                115   \n",
       "                       ALDOA_ALDOA_+_30077139.23-P1P2_06                156   \n",
       "                       ALDOA_ALDOA_+_30077139.23-P1P2_07                103   \n",
       "                       ALDOA_ALDOA_+_30077139.23-P1P2_13                170   \n",
       "...                                                                     ...   \n",
       "neg                    neg_ctrl_non-targeting_00283                     212   \n",
       "                       neg_ctrl_non-targeting_00406                     260   \n",
       "                       neg_ctrl_non-targeting_00527                     177   \n",
       "                       neg_ctrl_non-targeting_00802                     185   \n",
       "                       neg_ctrl_non-targeting_01040                     280   \n",
       "\n",
       "                                                          Metadata_gemgroup  \\\n",
       "Metadata_gene_identity Metadata_guide_identity                                \n",
       "*                      *                                                308   \n",
       "ALDOA                  ALDOA_ALDOA_+_30077139.23-P1P2_00                115   \n",
       "                       ALDOA_ALDOA_+_30077139.23-P1P2_06                156   \n",
       "                       ALDOA_ALDOA_+_30077139.23-P1P2_07                103   \n",
       "                       ALDOA_ALDOA_+_30077139.23-P1P2_13                170   \n",
       "...                                                                     ...   \n",
       "neg                    neg_ctrl_non-targeting_00283                     212   \n",
       "                       neg_ctrl_non-targeting_00406                     260   \n",
       "                       neg_ctrl_non-targeting_00527                     177   \n",
       "                       neg_ctrl_non-targeting_00802                     185   \n",
       "                       neg_ctrl_non-targeting_01040                     280   \n",
       "\n",
       "                                                          Metadata_good_coverage  \\\n",
       "Metadata_gene_identity Metadata_guide_identity                                     \n",
       "*                      *                                                     308   \n",
       "ALDOA                  ALDOA_ALDOA_+_30077139.23-P1P2_00                     115   \n",
       "                       ALDOA_ALDOA_+_30077139.23-P1P2_06                     156   \n",
       "                       ALDOA_ALDOA_+_30077139.23-P1P2_07                     103   \n",
       "                       ALDOA_ALDOA_+_30077139.23-P1P2_13                     170   \n",
       "...                                                                          ...   \n",
       "neg                    neg_ctrl_non-targeting_00283                          212   \n",
       "                       neg_ctrl_non-targeting_00406                          260   \n",
       "                       neg_ctrl_non-targeting_00527                          177   \n",
       "                       neg_ctrl_non-targeting_00802                          185   \n",
       "                       neg_ctrl_non-targeting_01040                          280   \n",
       "\n",
       "                                                          Metadata_number_of_cells  \\\n",
       "Metadata_gene_identity Metadata_guide_identity                                       \n",
       "*                      *                                                       308   \n",
       "ALDOA                  ALDOA_ALDOA_+_30077139.23-P1P2_00                       115   \n",
       "                       ALDOA_ALDOA_+_30077139.23-P1P2_06                       156   \n",
       "                       ALDOA_ALDOA_+_30077139.23-P1P2_07                       103   \n",
       "                       ALDOA_ALDOA_+_30077139.23-P1P2_13                       170   \n",
       "...                                                                            ...   \n",
       "neg                    neg_ctrl_non-targeting_00283                            212   \n",
       "                       neg_ctrl_non-targeting_00406                            260   \n",
       "                       neg_ctrl_non-targeting_00527                            177   \n",
       "                       neg_ctrl_non-targeting_00802                            185   \n",
       "                       neg_ctrl_non-targeting_01040                            280   \n",
       "\n",
       "                                                          Metadata_barcode  \\\n",
       "Metadata_gene_identity Metadata_guide_identity                               \n",
       "*                      *                                               308   \n",
       "ALDOA                  ALDOA_ALDOA_+_30077139.23-P1P2_00               115   \n",
       "                       ALDOA_ALDOA_+_30077139.23-P1P2_06               156   \n",
       "                       ALDOA_ALDOA_+_30077139.23-P1P2_07               103   \n",
       "                       ALDOA_ALDOA_+_30077139.23-P1P2_13               170   \n",
       "...                                                                    ...   \n",
       "neg                    neg_ctrl_non-targeting_00283                    212   \n",
       "                       neg_ctrl_non-targeting_00406                    260   \n",
       "                       neg_ctrl_non-targeting_00527                    177   \n",
       "                       neg_ctrl_non-targeting_00802                    185   \n",
       "                       neg_ctrl_non-targeting_01040                    280   \n",
       "\n",
       "                                                          Metadata_sequence  \\\n",
       "Metadata_gene_identity Metadata_guide_identity                                \n",
       "*                      *                                                308   \n",
       "ALDOA                  ALDOA_ALDOA_+_30077139.23-P1P2_00                115   \n",
       "                       ALDOA_ALDOA_+_30077139.23-P1P2_06                156   \n",
       "                       ALDOA_ALDOA_+_30077139.23-P1P2_07                103   \n",
       "                       ALDOA_ALDOA_+_30077139.23-P1P2_13                170   \n",
       "...                                                                     ...   \n",
       "neg                    neg_ctrl_non-targeting_00283                     212   \n",
       "                       neg_ctrl_non-targeting_00406                     260   \n",
       "                       neg_ctrl_non-targeting_00527                     177   \n",
       "                       neg_ctrl_non-targeting_00802                     185   \n",
       "                       neg_ctrl_non-targeting_01040                     280   \n",
       "\n",
       "                                                          ...  YPEL4  YPEL5  \\\n",
       "Metadata_gene_identity Metadata_guide_identity            ...                 \n",
       "*                      *                                  ...    308    308   \n",
       "ALDOA                  ALDOA_ALDOA_+_30077139.23-P1P2_00  ...    115    115   \n",
       "                       ALDOA_ALDOA_+_30077139.23-P1P2_06  ...    156    156   \n",
       "                       ALDOA_ALDOA_+_30077139.23-P1P2_07  ...    103    103   \n",
       "                       ALDOA_ALDOA_+_30077139.23-P1P2_13  ...    170    170   \n",
       "...                                                       ...    ...    ...   \n",
       "neg                    neg_ctrl_non-targeting_00283       ...    212    212   \n",
       "                       neg_ctrl_non-targeting_00406       ...    260    260   \n",
       "                       neg_ctrl_non-targeting_00527       ...    177    177   \n",
       "                       neg_ctrl_non-targeting_00802       ...    185    185   \n",
       "                       neg_ctrl_non-targeting_01040       ...    280    280   \n",
       "\n",
       "                                                          ZBTB38  ZFAS1  \\\n",
       "Metadata_gene_identity Metadata_guide_identity                            \n",
       "*                      *                                     308    308   \n",
       "ALDOA                  ALDOA_ALDOA_+_30077139.23-P1P2_00     115    115   \n",
       "                       ALDOA_ALDOA_+_30077139.23-P1P2_06     156    156   \n",
       "                       ALDOA_ALDOA_+_30077139.23-P1P2_07     103    103   \n",
       "                       ALDOA_ALDOA_+_30077139.23-P1P2_13     170    170   \n",
       "...                                                          ...    ...   \n",
       "neg                    neg_ctrl_non-targeting_00283          212    212   \n",
       "                       neg_ctrl_non-targeting_00406          260    260   \n",
       "                       neg_ctrl_non-targeting_00527          177    177   \n",
       "                       neg_ctrl_non-targeting_00802          185    185   \n",
       "                       neg_ctrl_non-targeting_01040          280    280   \n",
       "\n",
       "                                                          ZFP36L1  ZNF365  \\\n",
       "Metadata_gene_identity Metadata_guide_identity                              \n",
       "*                      *                                      308     308   \n",
       "ALDOA                  ALDOA_ALDOA_+_30077139.23-P1P2_00      115     115   \n",
       "                       ALDOA_ALDOA_+_30077139.23-P1P2_06      156     156   \n",
       "                       ALDOA_ALDOA_+_30077139.23-P1P2_07      103     103   \n",
       "                       ALDOA_ALDOA_+_30077139.23-P1P2_13      170     170   \n",
       "...                                                           ...     ...   \n",
       "neg                    neg_ctrl_non-targeting_00283           212     212   \n",
       "                       neg_ctrl_non-targeting_00406           260     260   \n",
       "                       neg_ctrl_non-targeting_00527           177     177   \n",
       "                       neg_ctrl_non-targeting_00802           185     185   \n",
       "                       neg_ctrl_non-targeting_01040           280     280   \n",
       "\n",
       "                                                          ZNF43  ZNF483  \\\n",
       "Metadata_gene_identity Metadata_guide_identity                            \n",
       "*                      *                                    308     308   \n",
       "ALDOA                  ALDOA_ALDOA_+_30077139.23-P1P2_00    115     115   \n",
       "                       ALDOA_ALDOA_+_30077139.23-P1P2_06    156     156   \n",
       "                       ALDOA_ALDOA_+_30077139.23-P1P2_07    103     103   \n",
       "                       ALDOA_ALDOA_+_30077139.23-P1P2_13    170     170   \n",
       "...                                                         ...     ...   \n",
       "neg                    neg_ctrl_non-targeting_00283         212     212   \n",
       "                       neg_ctrl_non-targeting_00406         260     260   \n",
       "                       neg_ctrl_non-targeting_00527         177     177   \n",
       "                       neg_ctrl_non-targeting_00802         185     185   \n",
       "                       neg_ctrl_non-targeting_01040         280     280   \n",
       "\n",
       "                                                          ZNF556  ZYX  \n",
       "Metadata_gene_identity Metadata_guide_identity                         \n",
       "*                      *                                     308  308  \n",
       "ALDOA                  ALDOA_ALDOA_+_30077139.23-P1P2_00     115  115  \n",
       "                       ALDOA_ALDOA_+_30077139.23-P1P2_06     156  156  \n",
       "                       ALDOA_ALDOA_+_30077139.23-P1P2_07     103  103  \n",
       "                       ALDOA_ALDOA_+_30077139.23-P1P2_13     170  170  \n",
       "...                                                          ...  ...  \n",
       "neg                    neg_ctrl_non-targeting_00283          212  212  \n",
       "                       neg_ctrl_non-targeting_00406          260  260  \n",
       "                       neg_ctrl_non-targeting_00527          177  177  \n",
       "                       neg_ctrl_non-targeting_00802          185  185  \n",
       "                       neg_ctrl_non-targeting_01040          280  280  \n",
       "\n",
       "[139 rows x 1010 columns]"
      ]
     },
     "execution_count": 10,
     "metadata": {},
     "output_type": "execute_result"
    }
   ],
   "source": [
    "sc_gene_exp_df.groupby([\"Metadata_gene_identity\", \"Metadata_guide_identity\"]).count()"
   ]
  },
  {
   "cell_type": "code",
   "execution_count": 11,
   "metadata": {},
   "outputs": [
    {
     "data": {
      "text/plain": [
       "Metadata_guide_identity\n",
       "ALDOA_ALDOA_+_30077139.23-P1P2_13    170\n",
       "ALDOA_ALDOA_+_30077139.23-P1P2_06    156\n",
       "ALDOA_ALDOA_+_30077139.23-P1P2_00    115\n",
       "ALDOA_ALDOA_+_30077139.23-P1P2_07    103\n",
       "ALDOA_ALDOA_+_30077139.23-P1P2_14     81\n",
       "Name: count, dtype: int64"
      ]
     },
     "execution_count": 11,
     "metadata": {},
     "output_type": "execute_result"
    }
   ],
   "source": [
    "sc_gene_exp_df[sc_gene_exp_df.Metadata_gene_identity == \"ALDOA\"][\"Metadata_guide_identity\"].value_counts()"
   ]
  },
  {
   "cell_type": "code",
   "execution_count": 12,
   "metadata": {},
   "outputs": [
    {
     "data": {
      "text/plain": [
       "2436"
      ]
     },
     "execution_count": 12,
     "metadata": {},
     "output_type": "execute_result"
    }
   ],
   "source": [
    "sc_gene_exp_df.query(\"Metadata_gene_identity == 'neg'\").Metadata_guide_identity.str.contains(\"neg_ctrl\").sum()"
   ]
  },
  {
   "cell_type": "code",
   "execution_count": 13,
   "metadata": {},
   "outputs": [
    {
     "data": {
      "text/plain": [
       "Metadata_good_coverage\n",
       "True     22268\n",
       "False     1245\n",
       "Name: count, dtype: int64"
      ]
     },
     "execution_count": 13,
     "metadata": {},
     "output_type": "execute_result"
    }
   ],
   "source": [
    "sc_gene_exp_df.Metadata_good_coverage.value_counts()"
   ]
  },
  {
   "cell_type": "code",
   "execution_count": 14,
   "metadata": {},
   "outputs": [
    {
     "data": {
      "text/plain": [
       "Metadata_gene_identity\n",
       "*          301\n",
       "GATA1       98\n",
       "neg         76\n",
       "POLR1D      55\n",
       "DBR1        50\n",
       "BCR         44\n",
       "GNB2L1      40\n",
       "RPS14       37\n",
       "COX11       36\n",
       "POLR2H      36\n",
       "ATP5E       36\n",
       "SEC61A1     35\n",
       "RAN         35\n",
       "DUT         35\n",
       "GINS1       35\n",
       "CDC23       33\n",
       "CAD         31\n",
       "RPS15       30\n",
       "TUBB        29\n",
       "HSPA5       28\n",
       "MTOR        28\n",
       "RPS18       26\n",
       "HSPE1       24\n",
       "HSPA9       19\n",
       "ALDOA       18\n",
       "RPL9        17\n",
       "EIF2S1      13\n",
       "Name: count, dtype: int64"
      ]
     },
     "execution_count": 14,
     "metadata": {},
     "output_type": "execute_result"
    }
   ],
   "source": [
    "sc_gene_exp_df.query(\"Metadata_good_coverage == False\").Metadata_gene_identity.value_counts()"
   ]
  },
  {
   "cell_type": "code",
   "execution_count": 15,
   "metadata": {},
   "outputs": [
    {
     "data": {
      "text/html": [
       "<div>\n",
       "<style scoped>\n",
       "    .dataframe tbody tr th:only-of-type {\n",
       "        vertical-align: middle;\n",
       "    }\n",
       "\n",
       "    .dataframe tbody tr th {\n",
       "        vertical-align: top;\n",
       "    }\n",
       "\n",
       "    .dataframe thead th {\n",
       "        text-align: right;\n",
       "    }\n",
       "</style>\n",
       "<table border=\"1\" class=\"dataframe\">\n",
       "  <thead>\n",
       "    <tr style=\"text-align: right;\">\n",
       "      <th></th>\n",
       "      <th></th>\n",
       "      <th>Metadata_cell_identity</th>\n",
       "      <th>Metadata_cell_barcode</th>\n",
       "      <th>Metadata_read_count</th>\n",
       "      <th>Metadata_UMI_count</th>\n",
       "      <th>Metadata_coverage</th>\n",
       "      <th>Metadata_gemgroup</th>\n",
       "      <th>Metadata_number_of_cells</th>\n",
       "      <th>Metadata_gene_identity</th>\n",
       "      <th>Metadata_barcode</th>\n",
       "      <th>Metadata_sequence</th>\n",
       "      <th>...</th>\n",
       "      <th>YPEL4</th>\n",
       "      <th>YPEL5</th>\n",
       "      <th>ZBTB38</th>\n",
       "      <th>ZFAS1</th>\n",
       "      <th>ZFP36L1</th>\n",
       "      <th>ZNF365</th>\n",
       "      <th>ZNF43</th>\n",
       "      <th>ZNF483</th>\n",
       "      <th>ZNF556</th>\n",
       "      <th>ZYX</th>\n",
       "    </tr>\n",
       "    <tr>\n",
       "      <th>Metadata_guide_identity</th>\n",
       "      <th>Metadata_good_coverage</th>\n",
       "      <th></th>\n",
       "      <th></th>\n",
       "      <th></th>\n",
       "      <th></th>\n",
       "      <th></th>\n",
       "      <th></th>\n",
       "      <th></th>\n",
       "      <th></th>\n",
       "      <th></th>\n",
       "      <th></th>\n",
       "      <th></th>\n",
       "      <th></th>\n",
       "      <th></th>\n",
       "      <th></th>\n",
       "      <th></th>\n",
       "      <th></th>\n",
       "      <th></th>\n",
       "      <th></th>\n",
       "      <th></th>\n",
       "      <th></th>\n",
       "      <th></th>\n",
       "    </tr>\n",
       "  </thead>\n",
       "  <tbody>\n",
       "    <tr>\n",
       "      <th rowspan=\"2\" valign=\"top\">GATA1_GATA1_-_48645022.23-P1P2_00</th>\n",
       "      <th>False</th>\n",
       "      <td>15</td>\n",
       "      <td>15</td>\n",
       "      <td>15</td>\n",
       "      <td>15</td>\n",
       "      <td>15</td>\n",
       "      <td>15</td>\n",
       "      <td>15</td>\n",
       "      <td>15</td>\n",
       "      <td>15</td>\n",
       "      <td>15</td>\n",
       "      <td>...</td>\n",
       "      <td>15</td>\n",
       "      <td>15</td>\n",
       "      <td>15</td>\n",
       "      <td>15</td>\n",
       "      <td>15</td>\n",
       "      <td>15</td>\n",
       "      <td>15</td>\n",
       "      <td>15</td>\n",
       "      <td>15</td>\n",
       "      <td>15</td>\n",
       "    </tr>\n",
       "    <tr>\n",
       "      <th>True</th>\n",
       "      <td>41</td>\n",
       "      <td>41</td>\n",
       "      <td>41</td>\n",
       "      <td>41</td>\n",
       "      <td>41</td>\n",
       "      <td>41</td>\n",
       "      <td>41</td>\n",
       "      <td>41</td>\n",
       "      <td>41</td>\n",
       "      <td>41</td>\n",
       "      <td>...</td>\n",
       "      <td>41</td>\n",
       "      <td>41</td>\n",
       "      <td>41</td>\n",
       "      <td>41</td>\n",
       "      <td>41</td>\n",
       "      <td>41</td>\n",
       "      <td>41</td>\n",
       "      <td>41</td>\n",
       "      <td>41</td>\n",
       "      <td>41</td>\n",
       "    </tr>\n",
       "    <tr>\n",
       "      <th rowspan=\"2\" valign=\"top\">GATA1_GATA1_-_48645022.23-P1P2_03</th>\n",
       "      <th>False</th>\n",
       "      <td>31</td>\n",
       "      <td>31</td>\n",
       "      <td>31</td>\n",
       "      <td>31</td>\n",
       "      <td>31</td>\n",
       "      <td>31</td>\n",
       "      <td>31</td>\n",
       "      <td>31</td>\n",
       "      <td>31</td>\n",
       "      <td>31</td>\n",
       "      <td>...</td>\n",
       "      <td>31</td>\n",
       "      <td>31</td>\n",
       "      <td>31</td>\n",
       "      <td>31</td>\n",
       "      <td>31</td>\n",
       "      <td>31</td>\n",
       "      <td>31</td>\n",
       "      <td>31</td>\n",
       "      <td>31</td>\n",
       "      <td>31</td>\n",
       "    </tr>\n",
       "    <tr>\n",
       "      <th>True</th>\n",
       "      <td>112</td>\n",
       "      <td>112</td>\n",
       "      <td>112</td>\n",
       "      <td>112</td>\n",
       "      <td>112</td>\n",
       "      <td>112</td>\n",
       "      <td>112</td>\n",
       "      <td>112</td>\n",
       "      <td>112</td>\n",
       "      <td>112</td>\n",
       "      <td>...</td>\n",
       "      <td>112</td>\n",
       "      <td>112</td>\n",
       "      <td>112</td>\n",
       "      <td>112</td>\n",
       "      <td>112</td>\n",
       "      <td>112</td>\n",
       "      <td>112</td>\n",
       "      <td>112</td>\n",
       "      <td>112</td>\n",
       "      <td>112</td>\n",
       "    </tr>\n",
       "    <tr>\n",
       "      <th rowspan=\"2\" valign=\"top\">GATA1_GATA1_-_48645022.23-P1P2_04</th>\n",
       "      <th>False</th>\n",
       "      <td>10</td>\n",
       "      <td>10</td>\n",
       "      <td>10</td>\n",
       "      <td>10</td>\n",
       "      <td>10</td>\n",
       "      <td>10</td>\n",
       "      <td>10</td>\n",
       "      <td>10</td>\n",
       "      <td>10</td>\n",
       "      <td>10</td>\n",
       "      <td>...</td>\n",
       "      <td>10</td>\n",
       "      <td>10</td>\n",
       "      <td>10</td>\n",
       "      <td>10</td>\n",
       "      <td>10</td>\n",
       "      <td>10</td>\n",
       "      <td>10</td>\n",
       "      <td>10</td>\n",
       "      <td>10</td>\n",
       "      <td>10</td>\n",
       "    </tr>\n",
       "    <tr>\n",
       "      <th>True</th>\n",
       "      <td>42</td>\n",
       "      <td>42</td>\n",
       "      <td>42</td>\n",
       "      <td>42</td>\n",
       "      <td>42</td>\n",
       "      <td>42</td>\n",
       "      <td>42</td>\n",
       "      <td>42</td>\n",
       "      <td>42</td>\n",
       "      <td>42</td>\n",
       "      <td>...</td>\n",
       "      <td>42</td>\n",
       "      <td>42</td>\n",
       "      <td>42</td>\n",
       "      <td>42</td>\n",
       "      <td>42</td>\n",
       "      <td>42</td>\n",
       "      <td>42</td>\n",
       "      <td>42</td>\n",
       "      <td>42</td>\n",
       "      <td>42</td>\n",
       "    </tr>\n",
       "    <tr>\n",
       "      <th rowspan=\"2\" valign=\"top\">GATA1_GATA1_-_48645022.23-P1P2_06</th>\n",
       "      <th>False</th>\n",
       "      <td>19</td>\n",
       "      <td>19</td>\n",
       "      <td>19</td>\n",
       "      <td>19</td>\n",
       "      <td>19</td>\n",
       "      <td>19</td>\n",
       "      <td>19</td>\n",
       "      <td>19</td>\n",
       "      <td>19</td>\n",
       "      <td>19</td>\n",
       "      <td>...</td>\n",
       "      <td>19</td>\n",
       "      <td>19</td>\n",
       "      <td>19</td>\n",
       "      <td>19</td>\n",
       "      <td>19</td>\n",
       "      <td>19</td>\n",
       "      <td>19</td>\n",
       "      <td>19</td>\n",
       "      <td>19</td>\n",
       "      <td>19</td>\n",
       "    </tr>\n",
       "    <tr>\n",
       "      <th>True</th>\n",
       "      <td>121</td>\n",
       "      <td>121</td>\n",
       "      <td>121</td>\n",
       "      <td>121</td>\n",
       "      <td>121</td>\n",
       "      <td>121</td>\n",
       "      <td>121</td>\n",
       "      <td>121</td>\n",
       "      <td>121</td>\n",
       "      <td>121</td>\n",
       "      <td>...</td>\n",
       "      <td>121</td>\n",
       "      <td>121</td>\n",
       "      <td>121</td>\n",
       "      <td>121</td>\n",
       "      <td>121</td>\n",
       "      <td>121</td>\n",
       "      <td>121</td>\n",
       "      <td>121</td>\n",
       "      <td>121</td>\n",
       "      <td>121</td>\n",
       "    </tr>\n",
       "    <tr>\n",
       "      <th rowspan=\"2\" valign=\"top\">GATA1_GATA1_-_48645022.23-P1P2_08</th>\n",
       "      <th>False</th>\n",
       "      <td>19</td>\n",
       "      <td>19</td>\n",
       "      <td>19</td>\n",
       "      <td>19</td>\n",
       "      <td>19</td>\n",
       "      <td>19</td>\n",
       "      <td>19</td>\n",
       "      <td>19</td>\n",
       "      <td>19</td>\n",
       "      <td>19</td>\n",
       "      <td>...</td>\n",
       "      <td>19</td>\n",
       "      <td>19</td>\n",
       "      <td>19</td>\n",
       "      <td>19</td>\n",
       "      <td>19</td>\n",
       "      <td>19</td>\n",
       "      <td>19</td>\n",
       "      <td>19</td>\n",
       "      <td>19</td>\n",
       "      <td>19</td>\n",
       "    </tr>\n",
       "    <tr>\n",
       "      <th>True</th>\n",
       "      <td>60</td>\n",
       "      <td>60</td>\n",
       "      <td>60</td>\n",
       "      <td>60</td>\n",
       "      <td>60</td>\n",
       "      <td>60</td>\n",
       "      <td>60</td>\n",
       "      <td>60</td>\n",
       "      <td>60</td>\n",
       "      <td>60</td>\n",
       "      <td>...</td>\n",
       "      <td>60</td>\n",
       "      <td>60</td>\n",
       "      <td>60</td>\n",
       "      <td>60</td>\n",
       "      <td>60</td>\n",
       "      <td>60</td>\n",
       "      <td>60</td>\n",
       "      <td>60</td>\n",
       "      <td>60</td>\n",
       "      <td>60</td>\n",
       "    </tr>\n",
       "    <tr>\n",
       "      <th rowspan=\"2\" valign=\"top\">GATA1_GATA1_-_48645022.23-P1P2_12</th>\n",
       "      <th>False</th>\n",
       "      <td>4</td>\n",
       "      <td>4</td>\n",
       "      <td>4</td>\n",
       "      <td>4</td>\n",
       "      <td>4</td>\n",
       "      <td>4</td>\n",
       "      <td>4</td>\n",
       "      <td>4</td>\n",
       "      <td>4</td>\n",
       "      <td>4</td>\n",
       "      <td>...</td>\n",
       "      <td>4</td>\n",
       "      <td>4</td>\n",
       "      <td>4</td>\n",
       "      <td>4</td>\n",
       "      <td>4</td>\n",
       "      <td>4</td>\n",
       "      <td>4</td>\n",
       "      <td>4</td>\n",
       "      <td>4</td>\n",
       "      <td>4</td>\n",
       "    </tr>\n",
       "    <tr>\n",
       "      <th>True</th>\n",
       "      <td>103</td>\n",
       "      <td>103</td>\n",
       "      <td>103</td>\n",
       "      <td>103</td>\n",
       "      <td>103</td>\n",
       "      <td>103</td>\n",
       "      <td>103</td>\n",
       "      <td>103</td>\n",
       "      <td>103</td>\n",
       "      <td>103</td>\n",
       "      <td>...</td>\n",
       "      <td>103</td>\n",
       "      <td>103</td>\n",
       "      <td>103</td>\n",
       "      <td>103</td>\n",
       "      <td>103</td>\n",
       "      <td>103</td>\n",
       "      <td>103</td>\n",
       "      <td>103</td>\n",
       "      <td>103</td>\n",
       "      <td>103</td>\n",
       "    </tr>\n",
       "  </tbody>\n",
       "</table>\n",
       "<p>12 rows × 1010 columns</p>\n",
       "</div>"
      ],
      "text/plain": [
       "                                                          Metadata_cell_identity  \\\n",
       "Metadata_guide_identity           Metadata_good_coverage                           \n",
       "GATA1_GATA1_-_48645022.23-P1P2_00 False                                       15   \n",
       "                                  True                                        41   \n",
       "GATA1_GATA1_-_48645022.23-P1P2_03 False                                       31   \n",
       "                                  True                                       112   \n",
       "GATA1_GATA1_-_48645022.23-P1P2_04 False                                       10   \n",
       "                                  True                                        42   \n",
       "GATA1_GATA1_-_48645022.23-P1P2_06 False                                       19   \n",
       "                                  True                                       121   \n",
       "GATA1_GATA1_-_48645022.23-P1P2_08 False                                       19   \n",
       "                                  True                                        60   \n",
       "GATA1_GATA1_-_48645022.23-P1P2_12 False                                        4   \n",
       "                                  True                                       103   \n",
       "\n",
       "                                                          Metadata_cell_barcode  \\\n",
       "Metadata_guide_identity           Metadata_good_coverage                          \n",
       "GATA1_GATA1_-_48645022.23-P1P2_00 False                                      15   \n",
       "                                  True                                       41   \n",
       "GATA1_GATA1_-_48645022.23-P1P2_03 False                                      31   \n",
       "                                  True                                      112   \n",
       "GATA1_GATA1_-_48645022.23-P1P2_04 False                                      10   \n",
       "                                  True                                       42   \n",
       "GATA1_GATA1_-_48645022.23-P1P2_06 False                                      19   \n",
       "                                  True                                      121   \n",
       "GATA1_GATA1_-_48645022.23-P1P2_08 False                                      19   \n",
       "                                  True                                       60   \n",
       "GATA1_GATA1_-_48645022.23-P1P2_12 False                                       4   \n",
       "                                  True                                      103   \n",
       "\n",
       "                                                          Metadata_read_count  \\\n",
       "Metadata_guide_identity           Metadata_good_coverage                        \n",
       "GATA1_GATA1_-_48645022.23-P1P2_00 False                                    15   \n",
       "                                  True                                     41   \n",
       "GATA1_GATA1_-_48645022.23-P1P2_03 False                                    31   \n",
       "                                  True                                    112   \n",
       "GATA1_GATA1_-_48645022.23-P1P2_04 False                                    10   \n",
       "                                  True                                     42   \n",
       "GATA1_GATA1_-_48645022.23-P1P2_06 False                                    19   \n",
       "                                  True                                    121   \n",
       "GATA1_GATA1_-_48645022.23-P1P2_08 False                                    19   \n",
       "                                  True                                     60   \n",
       "GATA1_GATA1_-_48645022.23-P1P2_12 False                                     4   \n",
       "                                  True                                    103   \n",
       "\n",
       "                                                          Metadata_UMI_count  \\\n",
       "Metadata_guide_identity           Metadata_good_coverage                       \n",
       "GATA1_GATA1_-_48645022.23-P1P2_00 False                                   15   \n",
       "                                  True                                    41   \n",
       "GATA1_GATA1_-_48645022.23-P1P2_03 False                                   31   \n",
       "                                  True                                   112   \n",
       "GATA1_GATA1_-_48645022.23-P1P2_04 False                                   10   \n",
       "                                  True                                    42   \n",
       "GATA1_GATA1_-_48645022.23-P1P2_06 False                                   19   \n",
       "                                  True                                   121   \n",
       "GATA1_GATA1_-_48645022.23-P1P2_08 False                                   19   \n",
       "                                  True                                    60   \n",
       "GATA1_GATA1_-_48645022.23-P1P2_12 False                                    4   \n",
       "                                  True                                   103   \n",
       "\n",
       "                                                          Metadata_coverage  \\\n",
       "Metadata_guide_identity           Metadata_good_coverage                      \n",
       "GATA1_GATA1_-_48645022.23-P1P2_00 False                                  15   \n",
       "                                  True                                   41   \n",
       "GATA1_GATA1_-_48645022.23-P1P2_03 False                                  31   \n",
       "                                  True                                  112   \n",
       "GATA1_GATA1_-_48645022.23-P1P2_04 False                                  10   \n",
       "                                  True                                   42   \n",
       "GATA1_GATA1_-_48645022.23-P1P2_06 False                                  19   \n",
       "                                  True                                  121   \n",
       "GATA1_GATA1_-_48645022.23-P1P2_08 False                                  19   \n",
       "                                  True                                   60   \n",
       "GATA1_GATA1_-_48645022.23-P1P2_12 False                                   4   \n",
       "                                  True                                  103   \n",
       "\n",
       "                                                          Metadata_gemgroup  \\\n",
       "Metadata_guide_identity           Metadata_good_coverage                      \n",
       "GATA1_GATA1_-_48645022.23-P1P2_00 False                                  15   \n",
       "                                  True                                   41   \n",
       "GATA1_GATA1_-_48645022.23-P1P2_03 False                                  31   \n",
       "                                  True                                  112   \n",
       "GATA1_GATA1_-_48645022.23-P1P2_04 False                                  10   \n",
       "                                  True                                   42   \n",
       "GATA1_GATA1_-_48645022.23-P1P2_06 False                                  19   \n",
       "                                  True                                  121   \n",
       "GATA1_GATA1_-_48645022.23-P1P2_08 False                                  19   \n",
       "                                  True                                   60   \n",
       "GATA1_GATA1_-_48645022.23-P1P2_12 False                                   4   \n",
       "                                  True                                  103   \n",
       "\n",
       "                                                          Metadata_number_of_cells  \\\n",
       "Metadata_guide_identity           Metadata_good_coverage                             \n",
       "GATA1_GATA1_-_48645022.23-P1P2_00 False                                         15   \n",
       "                                  True                                          41   \n",
       "GATA1_GATA1_-_48645022.23-P1P2_03 False                                         31   \n",
       "                                  True                                         112   \n",
       "GATA1_GATA1_-_48645022.23-P1P2_04 False                                         10   \n",
       "                                  True                                          42   \n",
       "GATA1_GATA1_-_48645022.23-P1P2_06 False                                         19   \n",
       "                                  True                                         121   \n",
       "GATA1_GATA1_-_48645022.23-P1P2_08 False                                         19   \n",
       "                                  True                                          60   \n",
       "GATA1_GATA1_-_48645022.23-P1P2_12 False                                          4   \n",
       "                                  True                                         103   \n",
       "\n",
       "                                                          Metadata_gene_identity  \\\n",
       "Metadata_guide_identity           Metadata_good_coverage                           \n",
       "GATA1_GATA1_-_48645022.23-P1P2_00 False                                       15   \n",
       "                                  True                                        41   \n",
       "GATA1_GATA1_-_48645022.23-P1P2_03 False                                       31   \n",
       "                                  True                                       112   \n",
       "GATA1_GATA1_-_48645022.23-P1P2_04 False                                       10   \n",
       "                                  True                                        42   \n",
       "GATA1_GATA1_-_48645022.23-P1P2_06 False                                       19   \n",
       "                                  True                                       121   \n",
       "GATA1_GATA1_-_48645022.23-P1P2_08 False                                       19   \n",
       "                                  True                                        60   \n",
       "GATA1_GATA1_-_48645022.23-P1P2_12 False                                        4   \n",
       "                                  True                                       103   \n",
       "\n",
       "                                                          Metadata_barcode  \\\n",
       "Metadata_guide_identity           Metadata_good_coverage                     \n",
       "GATA1_GATA1_-_48645022.23-P1P2_00 False                                 15   \n",
       "                                  True                                  41   \n",
       "GATA1_GATA1_-_48645022.23-P1P2_03 False                                 31   \n",
       "                                  True                                 112   \n",
       "GATA1_GATA1_-_48645022.23-P1P2_04 False                                 10   \n",
       "                                  True                                  42   \n",
       "GATA1_GATA1_-_48645022.23-P1P2_06 False                                 19   \n",
       "                                  True                                 121   \n",
       "GATA1_GATA1_-_48645022.23-P1P2_08 False                                 19   \n",
       "                                  True                                  60   \n",
       "GATA1_GATA1_-_48645022.23-P1P2_12 False                                  4   \n",
       "                                  True                                 103   \n",
       "\n",
       "                                                          Metadata_sequence  \\\n",
       "Metadata_guide_identity           Metadata_good_coverage                      \n",
       "GATA1_GATA1_-_48645022.23-P1P2_00 False                                  15   \n",
       "                                  True                                   41   \n",
       "GATA1_GATA1_-_48645022.23-P1P2_03 False                                  31   \n",
       "                                  True                                  112   \n",
       "GATA1_GATA1_-_48645022.23-P1P2_04 False                                  10   \n",
       "                                  True                                   42   \n",
       "GATA1_GATA1_-_48645022.23-P1P2_06 False                                  19   \n",
       "                                  True                                  121   \n",
       "GATA1_GATA1_-_48645022.23-P1P2_08 False                                  19   \n",
       "                                  True                                   60   \n",
       "GATA1_GATA1_-_48645022.23-P1P2_12 False                                   4   \n",
       "                                  True                                  103   \n",
       "\n",
       "                                                          ...  YPEL4  YPEL5  \\\n",
       "Metadata_guide_identity           Metadata_good_coverage  ...                 \n",
       "GATA1_GATA1_-_48645022.23-P1P2_00 False                   ...     15     15   \n",
       "                                  True                    ...     41     41   \n",
       "GATA1_GATA1_-_48645022.23-P1P2_03 False                   ...     31     31   \n",
       "                                  True                    ...    112    112   \n",
       "GATA1_GATA1_-_48645022.23-P1P2_04 False                   ...     10     10   \n",
       "                                  True                    ...     42     42   \n",
       "GATA1_GATA1_-_48645022.23-P1P2_06 False                   ...     19     19   \n",
       "                                  True                    ...    121    121   \n",
       "GATA1_GATA1_-_48645022.23-P1P2_08 False                   ...     19     19   \n",
       "                                  True                    ...     60     60   \n",
       "GATA1_GATA1_-_48645022.23-P1P2_12 False                   ...      4      4   \n",
       "                                  True                    ...    103    103   \n",
       "\n",
       "                                                          ZBTB38  ZFAS1  \\\n",
       "Metadata_guide_identity           Metadata_good_coverage                  \n",
       "GATA1_GATA1_-_48645022.23-P1P2_00 False                       15     15   \n",
       "                                  True                        41     41   \n",
       "GATA1_GATA1_-_48645022.23-P1P2_03 False                       31     31   \n",
       "                                  True                       112    112   \n",
       "GATA1_GATA1_-_48645022.23-P1P2_04 False                       10     10   \n",
       "                                  True                        42     42   \n",
       "GATA1_GATA1_-_48645022.23-P1P2_06 False                       19     19   \n",
       "                                  True                       121    121   \n",
       "GATA1_GATA1_-_48645022.23-P1P2_08 False                       19     19   \n",
       "                                  True                        60     60   \n",
       "GATA1_GATA1_-_48645022.23-P1P2_12 False                        4      4   \n",
       "                                  True                       103    103   \n",
       "\n",
       "                                                          ZFP36L1  ZNF365  \\\n",
       "Metadata_guide_identity           Metadata_good_coverage                    \n",
       "GATA1_GATA1_-_48645022.23-P1P2_00 False                        15      15   \n",
       "                                  True                         41      41   \n",
       "GATA1_GATA1_-_48645022.23-P1P2_03 False                        31      31   \n",
       "                                  True                        112     112   \n",
       "GATA1_GATA1_-_48645022.23-P1P2_04 False                        10      10   \n",
       "                                  True                         42      42   \n",
       "GATA1_GATA1_-_48645022.23-P1P2_06 False                        19      19   \n",
       "                                  True                        121     121   \n",
       "GATA1_GATA1_-_48645022.23-P1P2_08 False                        19      19   \n",
       "                                  True                         60      60   \n",
       "GATA1_GATA1_-_48645022.23-P1P2_12 False                         4       4   \n",
       "                                  True                        103     103   \n",
       "\n",
       "                                                          ZNF43  ZNF483  \\\n",
       "Metadata_guide_identity           Metadata_good_coverage                  \n",
       "GATA1_GATA1_-_48645022.23-P1P2_00 False                      15      15   \n",
       "                                  True                       41      41   \n",
       "GATA1_GATA1_-_48645022.23-P1P2_03 False                      31      31   \n",
       "                                  True                      112     112   \n",
       "GATA1_GATA1_-_48645022.23-P1P2_04 False                      10      10   \n",
       "                                  True                       42      42   \n",
       "GATA1_GATA1_-_48645022.23-P1P2_06 False                      19      19   \n",
       "                                  True                      121     121   \n",
       "GATA1_GATA1_-_48645022.23-P1P2_08 False                      19      19   \n",
       "                                  True                       60      60   \n",
       "GATA1_GATA1_-_48645022.23-P1P2_12 False                       4       4   \n",
       "                                  True                      103     103   \n",
       "\n",
       "                                                          ZNF556  ZYX  \n",
       "Metadata_guide_identity           Metadata_good_coverage               \n",
       "GATA1_GATA1_-_48645022.23-P1P2_00 False                       15   15  \n",
       "                                  True                        41   41  \n",
       "GATA1_GATA1_-_48645022.23-P1P2_03 False                       31   31  \n",
       "                                  True                       112  112  \n",
       "GATA1_GATA1_-_48645022.23-P1P2_04 False                       10   10  \n",
       "                                  True                        42   42  \n",
       "GATA1_GATA1_-_48645022.23-P1P2_06 False                       19   19  \n",
       "                                  True                       121  121  \n",
       "GATA1_GATA1_-_48645022.23-P1P2_08 False                       19   19  \n",
       "                                  True                        60   60  \n",
       "GATA1_GATA1_-_48645022.23-P1P2_12 False                        4    4  \n",
       "                                  True                       103  103  \n",
       "\n",
       "[12 rows x 1010 columns]"
      ]
     },
     "execution_count": 15,
     "metadata": {},
     "output_type": "execute_result"
    }
   ],
   "source": [
    "sc_gene_exp_df.query(\"Metadata_gene_identity == 'GATA1'\").groupby([\"Metadata_guide_identity\", \"Metadata_good_coverage\"]).count()\n"
   ]
  },
  {
   "cell_type": "code",
   "execution_count": 16,
   "metadata": {},
   "outputs": [],
   "source": [
    "sc_gene_exp_df = sc_gene_exp_df.query(\"Metadata_gene_identity != '*'\").reset_index(drop=True)"
   ]
  },
  {
   "cell_type": "code",
   "execution_count": 17,
   "metadata": {},
   "outputs": [
    {
     "data": {
      "text/plain": [
       "Metadata_guide_identity\n",
       "neg_ctrl_non-targeting_00054    317\n",
       "neg_ctrl_non-targeting_00089    293\n",
       "neg_ctrl_non-targeting_00217    289\n",
       "neg_ctrl_non-targeting_01040    280\n",
       "neg_ctrl_non-targeting_00406    260\n",
       "neg_ctrl_non-targeting_00028    232\n",
       "neg_ctrl_non-targeting_00283    212\n",
       "neg_ctrl_non-targeting_00001    191\n",
       "neg_ctrl_non-targeting_00802    185\n",
       "neg_ctrl_non-targeting_00527    177\n",
       "Name: count, dtype: int64"
      ]
     },
     "execution_count": 17,
     "metadata": {},
     "output_type": "execute_result"
    }
   ],
   "source": [
    "sc_gene_exp_df[sc_gene_exp_df[\"Metadata_gene_identity\"] == 'neg'][\"Metadata_guide_identity\"].value_counts()"
   ]
  },
  {
   "cell_type": "code",
   "execution_count": 18,
   "metadata": {},
   "outputs": [
    {
     "data": {
      "text/plain": [
       "Metadata_guide_identity\n",
       "neg_ctrl_non-targeting_00089    67\n",
       "neg_ctrl_non-targeting_00054    67\n",
       "neg_ctrl_non-targeting_00217    59\n",
       "neg_ctrl_non-targeting_00406    48\n",
       "neg_ctrl_non-targeting_01040    47\n",
       "neg_ctrl_non-targeting_00028    46\n",
       "neg_ctrl_non-targeting_00001    42\n",
       "neg_ctrl_non-targeting_00283    42\n",
       "neg_ctrl_non-targeting_00527    35\n",
       "neg_ctrl_non-targeting_00802    34\n",
       "Name: count, dtype: int64"
      ]
     },
     "execution_count": 18,
     "metadata": {},
     "output_type": "execute_result"
    }
   ],
   "source": [
    "sc_gene_exp_df[sc_gene_exp_df[\"Metadata_gene_identity\"] == 'neg'].sample(frac=0.2)[\"Metadata_guide_identity\"].value_counts()"
   ]
  },
  {
   "cell_type": "code",
   "execution_count": 19,
   "metadata": {},
   "outputs": [
    {
     "name": "stdout",
     "output_type": "stream",
     "text": [
      "(23229, 1012)\n"
     ]
    },
    {
     "data": {
      "text/html": [
       "<div>\n",
       "<style scoped>\n",
       "    .dataframe tbody tr th:only-of-type {\n",
       "        vertical-align: middle;\n",
       "    }\n",
       "\n",
       "    .dataframe tbody tr th {\n",
       "        vertical-align: top;\n",
       "    }\n",
       "\n",
       "    .dataframe thead th {\n",
       "        text-align: right;\n",
       "    }\n",
       "</style>\n",
       "<table border=\"1\" class=\"dataframe\">\n",
       "  <thead>\n",
       "    <tr style=\"text-align: right;\">\n",
       "      <th></th>\n",
       "      <th>Metadata_cell_identity</th>\n",
       "      <th>Metadata_cell_barcode</th>\n",
       "      <th>Metadata_guide_identity</th>\n",
       "      <th>Metadata_read_count</th>\n",
       "      <th>Metadata_UMI_count</th>\n",
       "      <th>Metadata_coverage</th>\n",
       "      <th>Metadata_gemgroup</th>\n",
       "      <th>Metadata_good_coverage</th>\n",
       "      <th>Metadata_number_of_cells</th>\n",
       "      <th>Metadata_gene_identity</th>\n",
       "      <th>...</th>\n",
       "      <th>YPEL4</th>\n",
       "      <th>YPEL5</th>\n",
       "      <th>ZBTB38</th>\n",
       "      <th>ZFAS1</th>\n",
       "      <th>ZFP36L1</th>\n",
       "      <th>ZNF365</th>\n",
       "      <th>ZNF43</th>\n",
       "      <th>ZNF483</th>\n",
       "      <th>ZNF556</th>\n",
       "      <th>ZYX</th>\n",
       "    </tr>\n",
       "  </thead>\n",
       "  <tbody>\n",
       "    <tr>\n",
       "      <th>0</th>\n",
       "      <td>sc_profile_0</td>\n",
       "      <td>AAACCTGAGAGTAATC-1</td>\n",
       "      <td>RAN_RAN_+_131356438.23-P1P2_12</td>\n",
       "      <td>544.0</td>\n",
       "      <td>34.0</td>\n",
       "      <td>16.000000</td>\n",
       "      <td>1.0</td>\n",
       "      <td>True</td>\n",
       "      <td>1.0</td>\n",
       "      <td>RAN</td>\n",
       "      <td>...</td>\n",
       "      <td>-0.09309</td>\n",
       "      <td>-0.632468</td>\n",
       "      <td>-0.539091</td>\n",
       "      <td>-1.633805</td>\n",
       "      <td>-0.876912</td>\n",
       "      <td>-0.012155</td>\n",
       "      <td>-0.017763</td>\n",
       "      <td>-0.026877</td>\n",
       "      <td>-0.0524</td>\n",
       "      <td>-0.452229</td>\n",
       "    </tr>\n",
       "    <tr>\n",
       "      <th>1</th>\n",
       "      <td>sc_profile_1</td>\n",
       "      <td>AAACCTGAGGGATCTG-1</td>\n",
       "      <td>neg_ctrl_non-targeting_00089</td>\n",
       "      <td>267.0</td>\n",
       "      <td>19.0</td>\n",
       "      <td>14.052632</td>\n",
       "      <td>1.0</td>\n",
       "      <td>True</td>\n",
       "      <td>1.0</td>\n",
       "      <td>neg</td>\n",
       "      <td>...</td>\n",
       "      <td>-0.09309</td>\n",
       "      <td>-0.632468</td>\n",
       "      <td>-0.539091</td>\n",
       "      <td>1.610220</td>\n",
       "      <td>1.322265</td>\n",
       "      <td>-0.012155</td>\n",
       "      <td>-0.017763</td>\n",
       "      <td>-0.026877</td>\n",
       "      <td>-0.0524</td>\n",
       "      <td>-0.452229</td>\n",
       "    </tr>\n",
       "    <tr>\n",
       "      <th>2</th>\n",
       "      <td>sc_profile_2</td>\n",
       "      <td>AAACCTGAGGTCATCT-1</td>\n",
       "      <td>POLR2H_POLR2H_+_184081251.23-P1P2_08</td>\n",
       "      <td>622.0</td>\n",
       "      <td>34.0</td>\n",
       "      <td>18.294118</td>\n",
       "      <td>1.0</td>\n",
       "      <td>True</td>\n",
       "      <td>1.0</td>\n",
       "      <td>POLR2H</td>\n",
       "      <td>...</td>\n",
       "      <td>-0.09309</td>\n",
       "      <td>-0.632468</td>\n",
       "      <td>-0.539091</td>\n",
       "      <td>-0.567252</td>\n",
       "      <td>0.057540</td>\n",
       "      <td>-0.012155</td>\n",
       "      <td>-0.017763</td>\n",
       "      <td>-0.026877</td>\n",
       "      <td>-0.0524</td>\n",
       "      <td>-0.452229</td>\n",
       "    </tr>\n",
       "    <tr>\n",
       "      <th>3</th>\n",
       "      <td>sc_profile_3</td>\n",
       "      <td>AAACCTGCAATGGAGC-1</td>\n",
       "      <td>TUBB_TUBB_+_30688126.23-P1_03</td>\n",
       "      <td>433.0</td>\n",
       "      <td>20.0</td>\n",
       "      <td>21.650000</td>\n",
       "      <td>1.0</td>\n",
       "      <td>True</td>\n",
       "      <td>1.0</td>\n",
       "      <td>TUBB</td>\n",
       "      <td>...</td>\n",
       "      <td>-0.09309</td>\n",
       "      <td>1.765279</td>\n",
       "      <td>-0.539091</td>\n",
       "      <td>-1.659420</td>\n",
       "      <td>-0.876912</td>\n",
       "      <td>-0.012155</td>\n",
       "      <td>-0.017763</td>\n",
       "      <td>-0.026877</td>\n",
       "      <td>-0.0524</td>\n",
       "      <td>-0.452229</td>\n",
       "    </tr>\n",
       "    <tr>\n",
       "      <th>4</th>\n",
       "      <td>sc_profile_4</td>\n",
       "      <td>AAACCTGCACCAGGCT-1</td>\n",
       "      <td>CDC23_CDC23_-_137548987.23-P1P2_04</td>\n",
       "      <td>136.0</td>\n",
       "      <td>8.0</td>\n",
       "      <td>17.000000</td>\n",
       "      <td>1.0</td>\n",
       "      <td>True</td>\n",
       "      <td>1.0</td>\n",
       "      <td>CDC23</td>\n",
       "      <td>...</td>\n",
       "      <td>-0.09309</td>\n",
       "      <td>0.686753</td>\n",
       "      <td>-0.539091</td>\n",
       "      <td>0.541260</td>\n",
       "      <td>0.934539</td>\n",
       "      <td>-0.012155</td>\n",
       "      <td>-0.017763</td>\n",
       "      <td>-0.026877</td>\n",
       "      <td>-0.0524</td>\n",
       "      <td>1.406718</td>\n",
       "    </tr>\n",
       "    <tr>\n",
       "      <th>...</th>\n",
       "      <td>...</td>\n",
       "      <td>...</td>\n",
       "      <td>...</td>\n",
       "      <td>...</td>\n",
       "      <td>...</td>\n",
       "      <td>...</td>\n",
       "      <td>...</td>\n",
       "      <td>...</td>\n",
       "      <td>...</td>\n",
       "      <td>...</td>\n",
       "      <td>...</td>\n",
       "      <td>...</td>\n",
       "      <td>...</td>\n",
       "      <td>...</td>\n",
       "      <td>...</td>\n",
       "      <td>...</td>\n",
       "      <td>...</td>\n",
       "      <td>...</td>\n",
       "      <td>...</td>\n",
       "      <td>...</td>\n",
       "      <td>...</td>\n",
       "    </tr>\n",
       "    <tr>\n",
       "      <th>22256</th>\n",
       "      <td>sc_profile_23532</td>\n",
       "      <td>TTTGTCAGTTTGACTG-3</td>\n",
       "      <td>CDC23_CDC23_-_137548987.23-P1P2_11</td>\n",
       "      <td>1509.0</td>\n",
       "      <td>106.0</td>\n",
       "      <td>14.235849</td>\n",
       "      <td>3.0</td>\n",
       "      <td>True</td>\n",
       "      <td>3.0</td>\n",
       "      <td>CDC23</td>\n",
       "      <td>...</td>\n",
       "      <td>-0.09309</td>\n",
       "      <td>0.207130</td>\n",
       "      <td>-0.539091</td>\n",
       "      <td>-0.772589</td>\n",
       "      <td>-0.876912</td>\n",
       "      <td>-0.012155</td>\n",
       "      <td>-0.017763</td>\n",
       "      <td>-0.026877</td>\n",
       "      <td>-0.0524</td>\n",
       "      <td>-0.452229</td>\n",
       "    </tr>\n",
       "    <tr>\n",
       "      <th>22257</th>\n",
       "      <td>sc_profile_23533</td>\n",
       "      <td>TTTGTCAGTTTGTTGG-3</td>\n",
       "      <td>ATP5E_ATP5E_-_57607036.23-P1P2_16</td>\n",
       "      <td>1207.0</td>\n",
       "      <td>73.0</td>\n",
       "      <td>16.534247</td>\n",
       "      <td>3.0</td>\n",
       "      <td>True</td>\n",
       "      <td>1.0</td>\n",
       "      <td>ATP5E</td>\n",
       "      <td>...</td>\n",
       "      <td>-0.09309</td>\n",
       "      <td>-0.632468</td>\n",
       "      <td>-0.539091</td>\n",
       "      <td>-0.539488</td>\n",
       "      <td>-0.876912</td>\n",
       "      <td>-0.012155</td>\n",
       "      <td>-0.017763</td>\n",
       "      <td>-0.026877</td>\n",
       "      <td>-0.0524</td>\n",
       "      <td>-0.452229</td>\n",
       "    </tr>\n",
       "    <tr>\n",
       "      <th>22258</th>\n",
       "      <td>sc_profile_23534</td>\n",
       "      <td>TTTGTCATCACAAACC-3</td>\n",
       "      <td>HSPE1_HSPE1_+_198365089.23-P1P2_01</td>\n",
       "      <td>378.0</td>\n",
       "      <td>25.0</td>\n",
       "      <td>15.120000</td>\n",
       "      <td>3.0</td>\n",
       "      <td>True</td>\n",
       "      <td>1.0</td>\n",
       "      <td>HSPE1</td>\n",
       "      <td>...</td>\n",
       "      <td>-0.09309</td>\n",
       "      <td>-0.632468</td>\n",
       "      <td>0.738755</td>\n",
       "      <td>-0.341440</td>\n",
       "      <td>-0.876912</td>\n",
       "      <td>-0.012155</td>\n",
       "      <td>-0.017763</td>\n",
       "      <td>-0.026877</td>\n",
       "      <td>-0.0524</td>\n",
       "      <td>-0.452229</td>\n",
       "    </tr>\n",
       "    <tr>\n",
       "      <th>22259</th>\n",
       "      <td>sc_profile_23535</td>\n",
       "      <td>TTTGTCATCAGCATGT-3</td>\n",
       "      <td>neg_ctrl_non-targeting_00028</td>\n",
       "      <td>856.0</td>\n",
       "      <td>53.0</td>\n",
       "      <td>16.150943</td>\n",
       "      <td>3.0</td>\n",
       "      <td>True</td>\n",
       "      <td>1.0</td>\n",
       "      <td>neg</td>\n",
       "      <td>...</td>\n",
       "      <td>-0.09309</td>\n",
       "      <td>0.379025</td>\n",
       "      <td>0.571873</td>\n",
       "      <td>0.294543</td>\n",
       "      <td>-0.876912</td>\n",
       "      <td>-0.012155</td>\n",
       "      <td>-0.017763</td>\n",
       "      <td>-0.026877</td>\n",
       "      <td>-0.0524</td>\n",
       "      <td>-0.452229</td>\n",
       "    </tr>\n",
       "    <tr>\n",
       "      <th>22260</th>\n",
       "      <td>sc_profile_23536</td>\n",
       "      <td>TTTGTCATCTTAGAGC-3</td>\n",
       "      <td>CAD_CAD_+_27440280.23-P1P2_07</td>\n",
       "      <td>352.0</td>\n",
       "      <td>21.0</td>\n",
       "      <td>16.761905</td>\n",
       "      <td>3.0</td>\n",
       "      <td>True</td>\n",
       "      <td>2.0</td>\n",
       "      <td>CAD</td>\n",
       "      <td>...</td>\n",
       "      <td>-0.09309</td>\n",
       "      <td>-0.632468</td>\n",
       "      <td>-0.539091</td>\n",
       "      <td>-0.397055</td>\n",
       "      <td>1.748824</td>\n",
       "      <td>-0.012155</td>\n",
       "      <td>-0.017763</td>\n",
       "      <td>-0.026877</td>\n",
       "      <td>-0.0524</td>\n",
       "      <td>-0.452229</td>\n",
       "    </tr>\n",
       "  </tbody>\n",
       "</table>\n",
       "<p>22261 rows × 1012 columns</p>\n",
       "</div>"
      ],
      "text/plain": [
       "      Metadata_cell_identity Metadata_cell_barcode  \\\n",
       "0               sc_profile_0    AAACCTGAGAGTAATC-1   \n",
       "1               sc_profile_1    AAACCTGAGGGATCTG-1   \n",
       "2               sc_profile_2    AAACCTGAGGTCATCT-1   \n",
       "3               sc_profile_3    AAACCTGCAATGGAGC-1   \n",
       "4               sc_profile_4    AAACCTGCACCAGGCT-1   \n",
       "...                      ...                   ...   \n",
       "22256       sc_profile_23532    TTTGTCAGTTTGACTG-3   \n",
       "22257       sc_profile_23533    TTTGTCAGTTTGTTGG-3   \n",
       "22258       sc_profile_23534    TTTGTCATCACAAACC-3   \n",
       "22259       sc_profile_23535    TTTGTCATCAGCATGT-3   \n",
       "22260       sc_profile_23536    TTTGTCATCTTAGAGC-3   \n",
       "\n",
       "                    Metadata_guide_identity  Metadata_read_count  \\\n",
       "0            RAN_RAN_+_131356438.23-P1P2_12                544.0   \n",
       "1              neg_ctrl_non-targeting_00089                267.0   \n",
       "2      POLR2H_POLR2H_+_184081251.23-P1P2_08                622.0   \n",
       "3             TUBB_TUBB_+_30688126.23-P1_03                433.0   \n",
       "4        CDC23_CDC23_-_137548987.23-P1P2_04                136.0   \n",
       "...                                     ...                  ...   \n",
       "22256    CDC23_CDC23_-_137548987.23-P1P2_11               1509.0   \n",
       "22257     ATP5E_ATP5E_-_57607036.23-P1P2_16               1207.0   \n",
       "22258    HSPE1_HSPE1_+_198365089.23-P1P2_01                378.0   \n",
       "22259          neg_ctrl_non-targeting_00028                856.0   \n",
       "22260         CAD_CAD_+_27440280.23-P1P2_07                352.0   \n",
       "\n",
       "       Metadata_UMI_count  Metadata_coverage  Metadata_gemgroup  \\\n",
       "0                    34.0          16.000000                1.0   \n",
       "1                    19.0          14.052632                1.0   \n",
       "2                    34.0          18.294118                1.0   \n",
       "3                    20.0          21.650000                1.0   \n",
       "4                     8.0          17.000000                1.0   \n",
       "...                   ...                ...                ...   \n",
       "22256               106.0          14.235849                3.0   \n",
       "22257                73.0          16.534247                3.0   \n",
       "22258                25.0          15.120000                3.0   \n",
       "22259                53.0          16.150943                3.0   \n",
       "22260                21.0          16.761905                3.0   \n",
       "\n",
       "      Metadata_good_coverage  Metadata_number_of_cells Metadata_gene_identity  \\\n",
       "0                       True                       1.0                    RAN   \n",
       "1                       True                       1.0                    neg   \n",
       "2                       True                       1.0                 POLR2H   \n",
       "3                       True                       1.0                   TUBB   \n",
       "4                       True                       1.0                  CDC23   \n",
       "...                      ...                       ...                    ...   \n",
       "22256                   True                       3.0                  CDC23   \n",
       "22257                   True                       1.0                  ATP5E   \n",
       "22258                   True                       1.0                  HSPE1   \n",
       "22259                   True                       1.0                    neg   \n",
       "22260                   True                       2.0                    CAD   \n",
       "\n",
       "       ...    YPEL4     YPEL5    ZBTB38     ZFAS1   ZFP36L1    ZNF365  \\\n",
       "0      ... -0.09309 -0.632468 -0.539091 -1.633805 -0.876912 -0.012155   \n",
       "1      ... -0.09309 -0.632468 -0.539091  1.610220  1.322265 -0.012155   \n",
       "2      ... -0.09309 -0.632468 -0.539091 -0.567252  0.057540 -0.012155   \n",
       "3      ... -0.09309  1.765279 -0.539091 -1.659420 -0.876912 -0.012155   \n",
       "4      ... -0.09309  0.686753 -0.539091  0.541260  0.934539 -0.012155   \n",
       "...    ...      ...       ...       ...       ...       ...       ...   \n",
       "22256  ... -0.09309  0.207130 -0.539091 -0.772589 -0.876912 -0.012155   \n",
       "22257  ... -0.09309 -0.632468 -0.539091 -0.539488 -0.876912 -0.012155   \n",
       "22258  ... -0.09309 -0.632468  0.738755 -0.341440 -0.876912 -0.012155   \n",
       "22259  ... -0.09309  0.379025  0.571873  0.294543 -0.876912 -0.012155   \n",
       "22260  ... -0.09309 -0.632468 -0.539091 -0.397055  1.748824 -0.012155   \n",
       "\n",
       "          ZNF43    ZNF483  ZNF556       ZYX  \n",
       "0     -0.017763 -0.026877 -0.0524 -0.452229  \n",
       "1     -0.017763 -0.026877 -0.0524 -0.452229  \n",
       "2     -0.017763 -0.026877 -0.0524 -0.452229  \n",
       "3     -0.017763 -0.026877 -0.0524 -0.452229  \n",
       "4     -0.017763 -0.026877 -0.0524  1.406718  \n",
       "...         ...       ...     ...       ...  \n",
       "22256 -0.017763 -0.026877 -0.0524 -0.452229  \n",
       "22257 -0.017763 -0.026877 -0.0524 -0.452229  \n",
       "22258 -0.017763 -0.026877 -0.0524 -0.452229  \n",
       "22259 -0.017763 -0.026877 -0.0524 -0.452229  \n",
       "22260 -0.017763 -0.026877 -0.0524 -0.452229  \n",
       "\n",
       "[22261 rows x 1012 columns]"
      ]
     },
     "execution_count": 19,
     "metadata": {},
     "output_type": "execute_result"
    }
   ],
   "source": [
    "print(sc_gene_exp_df.shape)\n",
    "sc_gene_exp_df = sc_gene_exp_df.query(\"Metadata_good_coverage == True\").reset_index(drop=True)\n",
    "sc_gene_exp_df"
   ]
  },
  {
   "cell_type": "code",
   "execution_count": 20,
   "metadata": {},
   "outputs": [
    {
     "data": {
      "text/html": [
       "<div>\n",
       "<style scoped>\n",
       "    .dataframe tbody tr th:only-of-type {\n",
       "        vertical-align: middle;\n",
       "    }\n",
       "\n",
       "    .dataframe tbody tr th {\n",
       "        vertical-align: top;\n",
       "    }\n",
       "\n",
       "    .dataframe thead th {\n",
       "        text-align: right;\n",
       "    }\n",
       "</style>\n",
       "<table border=\"1\" class=\"dataframe\">\n",
       "  <thead>\n",
       "    <tr style=\"text-align: right;\">\n",
       "      <th></th>\n",
       "      <th>Metadata_cell_identity</th>\n",
       "      <th>Metadata_cell_barcode</th>\n",
       "      <th>Metadata_guide_identity</th>\n",
       "      <th>Metadata_read_count</th>\n",
       "      <th>Metadata_UMI_count</th>\n",
       "      <th>Metadata_coverage</th>\n",
       "      <th>Metadata_gemgroup</th>\n",
       "      <th>Metadata_good_coverage</th>\n",
       "      <th>Metadata_number_of_cells</th>\n",
       "      <th>Metadata_gene_identity</th>\n",
       "      <th>...</th>\n",
       "      <th>YPEL5</th>\n",
       "      <th>ZBTB38</th>\n",
       "      <th>ZFAS1</th>\n",
       "      <th>ZFP36L1</th>\n",
       "      <th>ZNF365</th>\n",
       "      <th>ZNF43</th>\n",
       "      <th>ZNF483</th>\n",
       "      <th>ZNF556</th>\n",
       "      <th>ZYX</th>\n",
       "      <th>Metadata_is_control</th>\n",
       "    </tr>\n",
       "  </thead>\n",
       "  <tbody>\n",
       "    <tr>\n",
       "      <th>0</th>\n",
       "      <td>sc_profile_0</td>\n",
       "      <td>AAACCTGAGAGTAATC-1</td>\n",
       "      <td>RAN_RAN_+_131356438.23-P1P2_12</td>\n",
       "      <td>544.0</td>\n",
       "      <td>34.0</td>\n",
       "      <td>16.000000</td>\n",
       "      <td>1.0</td>\n",
       "      <td>True</td>\n",
       "      <td>1.0</td>\n",
       "      <td>RAN</td>\n",
       "      <td>...</td>\n",
       "      <td>-0.632468</td>\n",
       "      <td>-0.539091</td>\n",
       "      <td>-1.633805</td>\n",
       "      <td>-0.876912</td>\n",
       "      <td>-0.012155</td>\n",
       "      <td>-0.017763</td>\n",
       "      <td>-0.026877</td>\n",
       "      <td>-0.0524</td>\n",
       "      <td>-0.452229</td>\n",
       "      <td>0</td>\n",
       "    </tr>\n",
       "    <tr>\n",
       "      <th>1</th>\n",
       "      <td>sc_profile_1</td>\n",
       "      <td>AAACCTGAGGGATCTG-1</td>\n",
       "      <td>neg_ctrl_non-targeting_00089</td>\n",
       "      <td>267.0</td>\n",
       "      <td>19.0</td>\n",
       "      <td>14.052632</td>\n",
       "      <td>1.0</td>\n",
       "      <td>True</td>\n",
       "      <td>1.0</td>\n",
       "      <td>neg</td>\n",
       "      <td>...</td>\n",
       "      <td>-0.632468</td>\n",
       "      <td>-0.539091</td>\n",
       "      <td>1.610220</td>\n",
       "      <td>1.322265</td>\n",
       "      <td>-0.012155</td>\n",
       "      <td>-0.017763</td>\n",
       "      <td>-0.026877</td>\n",
       "      <td>-0.0524</td>\n",
       "      <td>-0.452229</td>\n",
       "      <td>1</td>\n",
       "    </tr>\n",
       "    <tr>\n",
       "      <th>2</th>\n",
       "      <td>sc_profile_2</td>\n",
       "      <td>AAACCTGAGGTCATCT-1</td>\n",
       "      <td>POLR2H_POLR2H_+_184081251.23-P1P2_08</td>\n",
       "      <td>622.0</td>\n",
       "      <td>34.0</td>\n",
       "      <td>18.294118</td>\n",
       "      <td>1.0</td>\n",
       "      <td>True</td>\n",
       "      <td>1.0</td>\n",
       "      <td>POLR2H</td>\n",
       "      <td>...</td>\n",
       "      <td>-0.632468</td>\n",
       "      <td>-0.539091</td>\n",
       "      <td>-0.567252</td>\n",
       "      <td>0.057540</td>\n",
       "      <td>-0.012155</td>\n",
       "      <td>-0.017763</td>\n",
       "      <td>-0.026877</td>\n",
       "      <td>-0.0524</td>\n",
       "      <td>-0.452229</td>\n",
       "      <td>0</td>\n",
       "    </tr>\n",
       "    <tr>\n",
       "      <th>3</th>\n",
       "      <td>sc_profile_3</td>\n",
       "      <td>AAACCTGCAATGGAGC-1</td>\n",
       "      <td>TUBB_TUBB_+_30688126.23-P1_03</td>\n",
       "      <td>433.0</td>\n",
       "      <td>20.0</td>\n",
       "      <td>21.650000</td>\n",
       "      <td>1.0</td>\n",
       "      <td>True</td>\n",
       "      <td>1.0</td>\n",
       "      <td>TUBB</td>\n",
       "      <td>...</td>\n",
       "      <td>1.765279</td>\n",
       "      <td>-0.539091</td>\n",
       "      <td>-1.659420</td>\n",
       "      <td>-0.876912</td>\n",
       "      <td>-0.012155</td>\n",
       "      <td>-0.017763</td>\n",
       "      <td>-0.026877</td>\n",
       "      <td>-0.0524</td>\n",
       "      <td>-0.452229</td>\n",
       "      <td>0</td>\n",
       "    </tr>\n",
       "    <tr>\n",
       "      <th>4</th>\n",
       "      <td>sc_profile_4</td>\n",
       "      <td>AAACCTGCACCAGGCT-1</td>\n",
       "      <td>CDC23_CDC23_-_137548987.23-P1P2_04</td>\n",
       "      <td>136.0</td>\n",
       "      <td>8.0</td>\n",
       "      <td>17.000000</td>\n",
       "      <td>1.0</td>\n",
       "      <td>True</td>\n",
       "      <td>1.0</td>\n",
       "      <td>CDC23</td>\n",
       "      <td>...</td>\n",
       "      <td>0.686753</td>\n",
       "      <td>-0.539091</td>\n",
       "      <td>0.541260</td>\n",
       "      <td>0.934539</td>\n",
       "      <td>-0.012155</td>\n",
       "      <td>-0.017763</td>\n",
       "      <td>-0.026877</td>\n",
       "      <td>-0.0524</td>\n",
       "      <td>1.406718</td>\n",
       "      <td>0</td>\n",
       "    </tr>\n",
       "    <tr>\n",
       "      <th>...</th>\n",
       "      <td>...</td>\n",
       "      <td>...</td>\n",
       "      <td>...</td>\n",
       "      <td>...</td>\n",
       "      <td>...</td>\n",
       "      <td>...</td>\n",
       "      <td>...</td>\n",
       "      <td>...</td>\n",
       "      <td>...</td>\n",
       "      <td>...</td>\n",
       "      <td>...</td>\n",
       "      <td>...</td>\n",
       "      <td>...</td>\n",
       "      <td>...</td>\n",
       "      <td>...</td>\n",
       "      <td>...</td>\n",
       "      <td>...</td>\n",
       "      <td>...</td>\n",
       "      <td>...</td>\n",
       "      <td>...</td>\n",
       "      <td>...</td>\n",
       "    </tr>\n",
       "    <tr>\n",
       "      <th>22256</th>\n",
       "      <td>sc_profile_23532</td>\n",
       "      <td>TTTGTCAGTTTGACTG-3</td>\n",
       "      <td>CDC23_CDC23_-_137548987.23-P1P2_11</td>\n",
       "      <td>1509.0</td>\n",
       "      <td>106.0</td>\n",
       "      <td>14.235849</td>\n",
       "      <td>3.0</td>\n",
       "      <td>True</td>\n",
       "      <td>3.0</td>\n",
       "      <td>CDC23</td>\n",
       "      <td>...</td>\n",
       "      <td>0.207130</td>\n",
       "      <td>-0.539091</td>\n",
       "      <td>-0.772589</td>\n",
       "      <td>-0.876912</td>\n",
       "      <td>-0.012155</td>\n",
       "      <td>-0.017763</td>\n",
       "      <td>-0.026877</td>\n",
       "      <td>-0.0524</td>\n",
       "      <td>-0.452229</td>\n",
       "      <td>0</td>\n",
       "    </tr>\n",
       "    <tr>\n",
       "      <th>22257</th>\n",
       "      <td>sc_profile_23533</td>\n",
       "      <td>TTTGTCAGTTTGTTGG-3</td>\n",
       "      <td>ATP5E_ATP5E_-_57607036.23-P1P2_16</td>\n",
       "      <td>1207.0</td>\n",
       "      <td>73.0</td>\n",
       "      <td>16.534247</td>\n",
       "      <td>3.0</td>\n",
       "      <td>True</td>\n",
       "      <td>1.0</td>\n",
       "      <td>ATP5E</td>\n",
       "      <td>...</td>\n",
       "      <td>-0.632468</td>\n",
       "      <td>-0.539091</td>\n",
       "      <td>-0.539488</td>\n",
       "      <td>-0.876912</td>\n",
       "      <td>-0.012155</td>\n",
       "      <td>-0.017763</td>\n",
       "      <td>-0.026877</td>\n",
       "      <td>-0.0524</td>\n",
       "      <td>-0.452229</td>\n",
       "      <td>0</td>\n",
       "    </tr>\n",
       "    <tr>\n",
       "      <th>22258</th>\n",
       "      <td>sc_profile_23534</td>\n",
       "      <td>TTTGTCATCACAAACC-3</td>\n",
       "      <td>HSPE1_HSPE1_+_198365089.23-P1P2_01</td>\n",
       "      <td>378.0</td>\n",
       "      <td>25.0</td>\n",
       "      <td>15.120000</td>\n",
       "      <td>3.0</td>\n",
       "      <td>True</td>\n",
       "      <td>1.0</td>\n",
       "      <td>HSPE1</td>\n",
       "      <td>...</td>\n",
       "      <td>-0.632468</td>\n",
       "      <td>0.738755</td>\n",
       "      <td>-0.341440</td>\n",
       "      <td>-0.876912</td>\n",
       "      <td>-0.012155</td>\n",
       "      <td>-0.017763</td>\n",
       "      <td>-0.026877</td>\n",
       "      <td>-0.0524</td>\n",
       "      <td>-0.452229</td>\n",
       "      <td>0</td>\n",
       "    </tr>\n",
       "    <tr>\n",
       "      <th>22259</th>\n",
       "      <td>sc_profile_23535</td>\n",
       "      <td>TTTGTCATCAGCATGT-3</td>\n",
       "      <td>neg_ctrl_non-targeting_00028</td>\n",
       "      <td>856.0</td>\n",
       "      <td>53.0</td>\n",
       "      <td>16.150943</td>\n",
       "      <td>3.0</td>\n",
       "      <td>True</td>\n",
       "      <td>1.0</td>\n",
       "      <td>neg</td>\n",
       "      <td>...</td>\n",
       "      <td>0.379025</td>\n",
       "      <td>0.571873</td>\n",
       "      <td>0.294543</td>\n",
       "      <td>-0.876912</td>\n",
       "      <td>-0.012155</td>\n",
       "      <td>-0.017763</td>\n",
       "      <td>-0.026877</td>\n",
       "      <td>-0.0524</td>\n",
       "      <td>-0.452229</td>\n",
       "      <td>1</td>\n",
       "    </tr>\n",
       "    <tr>\n",
       "      <th>22260</th>\n",
       "      <td>sc_profile_23536</td>\n",
       "      <td>TTTGTCATCTTAGAGC-3</td>\n",
       "      <td>CAD_CAD_+_27440280.23-P1P2_07</td>\n",
       "      <td>352.0</td>\n",
       "      <td>21.0</td>\n",
       "      <td>16.761905</td>\n",
       "      <td>3.0</td>\n",
       "      <td>True</td>\n",
       "      <td>2.0</td>\n",
       "      <td>CAD</td>\n",
       "      <td>...</td>\n",
       "      <td>-0.632468</td>\n",
       "      <td>-0.539091</td>\n",
       "      <td>-0.397055</td>\n",
       "      <td>1.748824</td>\n",
       "      <td>-0.012155</td>\n",
       "      <td>-0.017763</td>\n",
       "      <td>-0.026877</td>\n",
       "      <td>-0.0524</td>\n",
       "      <td>-0.452229</td>\n",
       "      <td>0</td>\n",
       "    </tr>\n",
       "  </tbody>\n",
       "</table>\n",
       "<p>22261 rows × 1013 columns</p>\n",
       "</div>"
      ],
      "text/plain": [
       "      Metadata_cell_identity Metadata_cell_barcode  \\\n",
       "0               sc_profile_0    AAACCTGAGAGTAATC-1   \n",
       "1               sc_profile_1    AAACCTGAGGGATCTG-1   \n",
       "2               sc_profile_2    AAACCTGAGGTCATCT-1   \n",
       "3               sc_profile_3    AAACCTGCAATGGAGC-1   \n",
       "4               sc_profile_4    AAACCTGCACCAGGCT-1   \n",
       "...                      ...                   ...   \n",
       "22256       sc_profile_23532    TTTGTCAGTTTGACTG-3   \n",
       "22257       sc_profile_23533    TTTGTCAGTTTGTTGG-3   \n",
       "22258       sc_profile_23534    TTTGTCATCACAAACC-3   \n",
       "22259       sc_profile_23535    TTTGTCATCAGCATGT-3   \n",
       "22260       sc_profile_23536    TTTGTCATCTTAGAGC-3   \n",
       "\n",
       "                    Metadata_guide_identity  Metadata_read_count  \\\n",
       "0            RAN_RAN_+_131356438.23-P1P2_12                544.0   \n",
       "1              neg_ctrl_non-targeting_00089                267.0   \n",
       "2      POLR2H_POLR2H_+_184081251.23-P1P2_08                622.0   \n",
       "3             TUBB_TUBB_+_30688126.23-P1_03                433.0   \n",
       "4        CDC23_CDC23_-_137548987.23-P1P2_04                136.0   \n",
       "...                                     ...                  ...   \n",
       "22256    CDC23_CDC23_-_137548987.23-P1P2_11               1509.0   \n",
       "22257     ATP5E_ATP5E_-_57607036.23-P1P2_16               1207.0   \n",
       "22258    HSPE1_HSPE1_+_198365089.23-P1P2_01                378.0   \n",
       "22259          neg_ctrl_non-targeting_00028                856.0   \n",
       "22260         CAD_CAD_+_27440280.23-P1P2_07                352.0   \n",
       "\n",
       "       Metadata_UMI_count  Metadata_coverage  Metadata_gemgroup  \\\n",
       "0                    34.0          16.000000                1.0   \n",
       "1                    19.0          14.052632                1.0   \n",
       "2                    34.0          18.294118                1.0   \n",
       "3                    20.0          21.650000                1.0   \n",
       "4                     8.0          17.000000                1.0   \n",
       "...                   ...                ...                ...   \n",
       "22256               106.0          14.235849                3.0   \n",
       "22257                73.0          16.534247                3.0   \n",
       "22258                25.0          15.120000                3.0   \n",
       "22259                53.0          16.150943                3.0   \n",
       "22260                21.0          16.761905                3.0   \n",
       "\n",
       "      Metadata_good_coverage  Metadata_number_of_cells Metadata_gene_identity  \\\n",
       "0                       True                       1.0                    RAN   \n",
       "1                       True                       1.0                    neg   \n",
       "2                       True                       1.0                 POLR2H   \n",
       "3                       True                       1.0                   TUBB   \n",
       "4                       True                       1.0                  CDC23   \n",
       "...                      ...                       ...                    ...   \n",
       "22256                   True                       3.0                  CDC23   \n",
       "22257                   True                       1.0                  ATP5E   \n",
       "22258                   True                       1.0                  HSPE1   \n",
       "22259                   True                       1.0                    neg   \n",
       "22260                   True                       2.0                    CAD   \n",
       "\n",
       "       ...     YPEL5    ZBTB38     ZFAS1   ZFP36L1    ZNF365     ZNF43  \\\n",
       "0      ... -0.632468 -0.539091 -1.633805 -0.876912 -0.012155 -0.017763   \n",
       "1      ... -0.632468 -0.539091  1.610220  1.322265 -0.012155 -0.017763   \n",
       "2      ... -0.632468 -0.539091 -0.567252  0.057540 -0.012155 -0.017763   \n",
       "3      ...  1.765279 -0.539091 -1.659420 -0.876912 -0.012155 -0.017763   \n",
       "4      ...  0.686753 -0.539091  0.541260  0.934539 -0.012155 -0.017763   \n",
       "...    ...       ...       ...       ...       ...       ...       ...   \n",
       "22256  ...  0.207130 -0.539091 -0.772589 -0.876912 -0.012155 -0.017763   \n",
       "22257  ... -0.632468 -0.539091 -0.539488 -0.876912 -0.012155 -0.017763   \n",
       "22258  ... -0.632468  0.738755 -0.341440 -0.876912 -0.012155 -0.017763   \n",
       "22259  ...  0.379025  0.571873  0.294543 -0.876912 -0.012155 -0.017763   \n",
       "22260  ... -0.632468 -0.539091 -0.397055  1.748824 -0.012155 -0.017763   \n",
       "\n",
       "         ZNF483  ZNF556       ZYX  Metadata_is_control  \n",
       "0     -0.026877 -0.0524 -0.452229                    0  \n",
       "1     -0.026877 -0.0524 -0.452229                    1  \n",
       "2     -0.026877 -0.0524 -0.452229                    0  \n",
       "3     -0.026877 -0.0524 -0.452229                    0  \n",
       "4     -0.026877 -0.0524  1.406718                    0  \n",
       "...         ...     ...       ...                  ...  \n",
       "22256 -0.026877 -0.0524 -0.452229                    0  \n",
       "22257 -0.026877 -0.0524 -0.452229                    0  \n",
       "22258 -0.026877 -0.0524 -0.452229                    0  \n",
       "22259 -0.026877 -0.0524 -0.452229                    1  \n",
       "22260 -0.026877 -0.0524 -0.452229                    0  \n",
       "\n",
       "[22261 rows x 1013 columns]"
      ]
     },
     "execution_count": 20,
     "metadata": {},
     "output_type": "execute_result"
    }
   ],
   "source": [
    "sc_gene_exp_df[\"Metadata_is_control\"] = (sc_gene_exp_df[\"Metadata_gene_identity\"] == 'neg').astype(int)\n",
    "sc_gene_exp_df"
   ]
  },
  {
   "cell_type": "code",
   "execution_count": 21,
   "metadata": {},
   "outputs": [],
   "source": [
    "pair_config = {\n",
    "    \"pos_sameby\": {\"all\": [\"Metadata_guide_identity\", \"Metadata_is_control == 0\"], \"any\": []},\n",
    "    \"pos_diffby\": {\"all\": [], \"any\": []},\n",
    "    \"neg_sameby\": {\"all\": [], \"any\": []},\n",
    "    \"neg_diffby\": {\"all\": [\"Metadata_is_control\"], \"any\": []},\n",
    "}\n",
    "\n",
    "map_config = {\n",
    "    \"mean_ap\": {\n",
    "        \"null_size\": 10000,\n",
    "        \"groupby_columns\": [\"Metadata_guide_identity\"],\n",
    "    },\n",
    "}"
   ]
  },
  {
   "cell_type": "code",
   "execution_count": 44,
   "metadata": {},
   "outputs": [
    {
     "name": "stdout",
     "output_type": "stream",
     "text": [
      "\n",
      "Calculating distances.\n",
      "Pos pairs size: 1965374, Neg pairs size: 46966360\n"
     ]
    },
    {
     "data": {
      "application/vnd.jupyter.widget-view+json": {
       "model_id": "9bbed90de78e4f4da91c704bc472b50a",
       "version_major": 2,
       "version_minor": 0
      },
      "text/plain": [
       "  0%|          | 0/99 [00:00<?, ?it/s]"
      ]
     },
     "metadata": {},
     "output_type": "display_data"
    },
    {
     "data": {
      "application/vnd.jupyter.widget-view+json": {
       "model_id": "269f46ce43ce4ec58c6559a6d56a2b2c",
       "version_major": 2,
       "version_minor": 0
      },
      "text/plain": [
       "  0%|          | 0/2349 [00:00<?, ?it/s]"
      ]
     },
     "metadata": {},
     "output_type": "display_data"
    },
    {
     "name": "stdout",
     "output_type": "stream",
     "text": [
      "\n",
      "Calculating metric: mean_ap\n"
     ]
    },
    {
     "name": "stderr",
     "output_type": "stream",
     "text": [
      "/dgx1nas1/storage/data/akalinin/projects/copairs/src/copairs/compute.py:105: RuntimeWarning: invalid value encountered in divide\n",
      "  ap_scores = np.add.reduceat(pr_k * rel_k_list, cutoffs) / num_pos\n"
     ]
    },
    {
     "data": {
      "application/vnd.jupyter.widget-view+json": {
       "model_id": "9cc0a6b20d6d491b9f7dc2f4c1c69fc0",
       "version_major": 2,
       "version_minor": 0
      },
      "text/plain": [
       "  0%|          | 0/97 [00:00<?, ?it/s]"
      ]
     },
     "metadata": {},
     "output_type": "display_data"
    },
    {
     "name": "stderr",
     "output_type": "stream",
     "text": [
      "/dgx1nas1/storage/data/akalinin/projects/copairs/src/copairs/compute.py:89: RuntimeWarning: invalid value encountered in divide\n",
      "  ap = (pr_k * rel_k).sum(axis=1) / num_pos\n"
     ]
    }
   ],
   "source": [
    "map_results = evaluate_metrics(\n",
    "    profiles=sc_gene_exp_df.reset_index(drop=True),\n",
    "    features=gene_features,\n",
    "    meta_features=sc_gene_exp_df.filter(regex=\"Metadata_\").columns,\n",
    "    replicate_groups=pair_config,\n",
    "    metrics_config=map_config,\n",
    "    use_copairs=True,\n",
    ")"
   ]
  },
  {
   "cell_type": "code",
   "execution_count": 46,
   "metadata": {},
   "outputs": [],
   "source": [
    "map_results[\"mean_ap\"].to_csv(\"sc_map_results_goodcov.csv\", index=False)"
   ]
  },
  {
   "cell_type": "code",
   "execution_count": null,
   "metadata": {},
   "outputs": [],
   "source": []
  },
  {
   "cell_type": "code",
   "execution_count": 47,
   "metadata": {},
   "outputs": [
    {
     "data": {
      "text/html": [
       "<div>\n",
       "<style scoped>\n",
       "    .dataframe tbody tr th:only-of-type {\n",
       "        vertical-align: middle;\n",
       "    }\n",
       "\n",
       "    .dataframe tbody tr th {\n",
       "        vertical-align: top;\n",
       "    }\n",
       "\n",
       "    .dataframe thead th {\n",
       "        text-align: right;\n",
       "    }\n",
       "</style>\n",
       "<table border=\"1\" class=\"dataframe\">\n",
       "  <thead>\n",
       "    <tr style=\"text-align: right;\">\n",
       "      <th></th>\n",
       "      <th>Metadata_guide_identity</th>\n",
       "      <th>mean_ap</th>\n",
       "      <th>p_value</th>\n",
       "      <th>n_pos_pairs</th>\n",
       "      <th>n_total_pairs</th>\n",
       "    </tr>\n",
       "  </thead>\n",
       "  <tbody>\n",
       "    <tr>\n",
       "      <th>0</th>\n",
       "      <td>ALDOA_ALDOA_+_30077139.23-P1P2_00</td>\n",
       "      <td>0.055945</td>\n",
       "      <td>0.280686</td>\n",
       "      <td>107.0</td>\n",
       "      <td>2467.0</td>\n",
       "    </tr>\n",
       "    <tr>\n",
       "      <th>1</th>\n",
       "      <td>ALDOA_ALDOA_+_30077139.23-P1P2_06</td>\n",
       "      <td>0.074734</td>\n",
       "      <td>0.253652</td>\n",
       "      <td>150.0</td>\n",
       "      <td>2510.0</td>\n",
       "    </tr>\n",
       "    <tr>\n",
       "      <th>2</th>\n",
       "      <td>ALDOA_ALDOA_+_30077139.23-P1P2_07</td>\n",
       "      <td>0.050627</td>\n",
       "      <td>0.369978</td>\n",
       "      <td>101.0</td>\n",
       "      <td>2461.0</td>\n",
       "    </tr>\n",
       "    <tr>\n",
       "      <th>3</th>\n",
       "      <td>ALDOA_ALDOA_+_30077139.23-P1P2_13</td>\n",
       "      <td>0.068752</td>\n",
       "      <td>0.468390</td>\n",
       "      <td>164.0</td>\n",
       "      <td>2524.0</td>\n",
       "    </tr>\n",
       "    <tr>\n",
       "      <th>4</th>\n",
       "      <td>ALDOA_ALDOA_+_30077139.23-P1P2_14</td>\n",
       "      <td>0.036680</td>\n",
       "      <td>0.432896</td>\n",
       "      <td>80.0</td>\n",
       "      <td>2440.0</td>\n",
       "    </tr>\n",
       "    <tr>\n",
       "      <th>...</th>\n",
       "      <td>...</td>\n",
       "      <td>...</td>\n",
       "      <td>...</td>\n",
       "      <td>...</td>\n",
       "      <td>...</td>\n",
       "    </tr>\n",
       "    <tr>\n",
       "      <th>123</th>\n",
       "      <td>TUBB_TUBB_+_30688126.23-P1_00</td>\n",
       "      <td>0.116624</td>\n",
       "      <td>0.081054</td>\n",
       "      <td>195.0</td>\n",
       "      <td>2555.0</td>\n",
       "    </tr>\n",
       "    <tr>\n",
       "      <th>124</th>\n",
       "      <td>TUBB_TUBB_+_30688126.23-P1_01</td>\n",
       "      <td>0.071398</td>\n",
       "      <td>0.197025</td>\n",
       "      <td>107.0</td>\n",
       "      <td>2467.0</td>\n",
       "    </tr>\n",
       "    <tr>\n",
       "      <th>125</th>\n",
       "      <td>TUBB_TUBB_+_30688126.23-P1_03</td>\n",
       "      <td>0.049796</td>\n",
       "      <td>0.221968</td>\n",
       "      <td>84.0</td>\n",
       "      <td>2444.0</td>\n",
       "    </tr>\n",
       "    <tr>\n",
       "      <th>126</th>\n",
       "      <td>TUBB_TUBB_+_30688126.23-P1_06</td>\n",
       "      <td>0.062491</td>\n",
       "      <td>0.160008</td>\n",
       "      <td>94.0</td>\n",
       "      <td>2454.0</td>\n",
       "    </tr>\n",
       "    <tr>\n",
       "      <th>127</th>\n",
       "      <td>TUBB_TUBB_+_30688126.23-P1_10</td>\n",
       "      <td>0.071530</td>\n",
       "      <td>0.315595</td>\n",
       "      <td>158.0</td>\n",
       "      <td>2518.0</td>\n",
       "    </tr>\n",
       "  </tbody>\n",
       "</table>\n",
       "<p>128 rows × 5 columns</p>\n",
       "</div>"
      ],
      "text/plain": [
       "               Metadata_guide_identity   mean_ap   p_value  n_pos_pairs  \\\n",
       "0    ALDOA_ALDOA_+_30077139.23-P1P2_00  0.055945  0.280686        107.0   \n",
       "1    ALDOA_ALDOA_+_30077139.23-P1P2_06  0.074734  0.253652        150.0   \n",
       "2    ALDOA_ALDOA_+_30077139.23-P1P2_07  0.050627  0.369978        101.0   \n",
       "3    ALDOA_ALDOA_+_30077139.23-P1P2_13  0.068752  0.468390        164.0   \n",
       "4    ALDOA_ALDOA_+_30077139.23-P1P2_14  0.036680  0.432896         80.0   \n",
       "..                                 ...       ...       ...          ...   \n",
       "123      TUBB_TUBB_+_30688126.23-P1_00  0.116624  0.081054        195.0   \n",
       "124      TUBB_TUBB_+_30688126.23-P1_01  0.071398  0.197025        107.0   \n",
       "125      TUBB_TUBB_+_30688126.23-P1_03  0.049796  0.221968         84.0   \n",
       "126      TUBB_TUBB_+_30688126.23-P1_06  0.062491  0.160008         94.0   \n",
       "127      TUBB_TUBB_+_30688126.23-P1_10  0.071530  0.315595        158.0   \n",
       "\n",
       "     n_total_pairs  \n",
       "0           2467.0  \n",
       "1           2510.0  \n",
       "2           2461.0  \n",
       "3           2524.0  \n",
       "4           2440.0  \n",
       "..             ...  \n",
       "123         2555.0  \n",
       "124         2467.0  \n",
       "125         2444.0  \n",
       "126         2454.0  \n",
       "127         2518.0  \n",
       "\n",
       "[128 rows x 5 columns]"
      ]
     },
     "execution_count": 47,
     "metadata": {},
     "output_type": "execute_result"
    }
   ],
   "source": [
    "sc_map_results = pd.read_csv(\"sc_map_results_goodcov.csv\")\n",
    "sc_map_results"
   ]
  },
  {
   "cell_type": "code",
   "execution_count": 48,
   "metadata": {},
   "outputs": [],
   "source": [
    "sc_map_results[\"-log10(p-value)\"] = -np.log10(sc_map_results[\"p_value\"])\n",
    "sc_map_results[\"p < 0.05\"] = sc_map_results[\"p_value\"] < 0.05\n",
    "\n",
    "sc_map_results.rename({\n",
    "    \"mean_ap\": \"mAP\",\n",
    "    \"nlog10pvalue\": \"-log10(p-value)\",\n",
    "    \"above_p_threshold\": \"p < 0.05\",\n",
    "    }, axis=1, inplace=True)"
   ]
  },
  {
   "cell_type": "code",
   "execution_count": 26,
   "metadata": {},
   "outputs": [
    {
     "name": "stderr",
     "output_type": "stream",
     "text": [
      "/tmp/ipykernel_78919/659986140.py:41: UserWarning: Dataset has 0 variance; skipping density estimate. Pass `warn_singular=False` to disable this warning.\n",
      "  ax = sns.kdeplot(\n"
     ]
    },
    {
     "data": {
      "image/png": "[encoded data removed]",
      "text/plain": [
       "<Figure size 500x600 with 2 Axes>"
      ]
     },
     "metadata": {},
     "output_type": "display_data"
    }
   ],
   "source": [
    "df = sc_map_results\n",
    "\n",
    "def remove_inner_ticklabels(fig: plt.Figure):\n",
    "    \"\"\"\n",
    "    Remove inner ticklabels from a figure.\n",
    "\n",
    "    Parameters\n",
    "    ----------\n",
    "    fig : matplotlib.figure.Figure\n",
    "        Figure to remove inner ticklabels from.\n",
    "    \"\"\"\n",
    "    for ax in fig.axes:\n",
    "        try:\n",
    "            ax.label_outer()\n",
    "        except AttributeError:\n",
    "            pass\n",
    "\n",
    "\n",
    "fig, axes = plt.subplots(2, 1, figsize=(5, 6), gridspec_kw={'height_ratios': [5, 1]})\n",
    "\n",
    "mean_map = df['mAP'].mean()\n",
    "sns.scatterplot(\n",
    "    ax=axes[0], \n",
    "    data=df, \n",
    "    x='mAP', \n",
    "    y='-log10(p-value)', \n",
    "    hue='p < 0.05',\n",
    "    s=50\n",
    ")\n",
    "axes[0].set_title(\"Technical replicability\")\n",
    "\n",
    "\n",
    "axes[0].set_xlabel(\"\")\n",
    "axes[0].set_ylim(0, max(df['-log10(p-value)'])+0.1)\n",
    "sns.move_legend(axes[0], \"lower right\")\n",
    "\n",
    "# Second Row: KDE plots\n",
    "max_kde_y = 0\n",
    "mean_map = df['mAP'].mean()\n",
    "for p_value in df['p < 0.05'].unique():\n",
    "    ax = sns.kdeplot(\n",
    "        ax=axes[1],\n",
    "        data=df[df['p < 0.05'] == p_value],\n",
    "        x='mAP', \n",
    "        label=str(p_value)\n",
    "    )\n",
    "    max_kde_y = max(max_kde_y, max(ax.lines[-1].get_ydata()))\n",
    "    axes[1].axvline(mean_map, color='grey', linestyle='--')\n",
    "# axes[1].set_ylabel(\"\")\n",
    "axes[1].set_ylim(0, max_kde_y)\n",
    "axes[1].text(mean_map+0.01, 0.75, f\"Mean mAP: {mean_map:.2f}\", transform=axes[1].transAxes)\n",
    "\n",
    "for ax in axes.flat:\n",
    "    ax.set_xlim(0, 1)  # Set x-axis limit to 0-1 for all subplots\n",
    "\n",
    "remove_inner_ticklabels(fig)\n",
    "plt.tight_layout()\n",
    "plt.show()\n"
   ]
  },
  {
   "cell_type": "code",
   "execution_count": 49,
   "metadata": {},
   "outputs": [
    {
     "name": "stderr",
     "output_type": "stream",
     "text": [
      "/tmp/ipykernel_78919/659986140.py:41: UserWarning: Dataset has 0 variance; skipping density estimate. Pass `warn_singular=False` to disable this warning.\n",
      "  ax = sns.kdeplot(\n"
     ]
    },
    {
     "data": {
      "image/png": "[encoded data removed]",
      "text/plain": [
       "<Figure size 500x600 with 2 Axes>"
      ]
     },
     "metadata": {},
     "output_type": "display_data"
    }
   ],
   "source": [
    "df = sc_map_results\n",
    "\n",
    "def remove_inner_ticklabels(fig: plt.Figure):\n",
    "    \"\"\"\n",
    "    Remove inner ticklabels from a figure.\n",
    "\n",
    "    Parameters\n",
    "    ----------\n",
    "    fig : matplotlib.figure.Figure\n",
    "        Figure to remove inner ticklabels from.\n",
    "    \"\"\"\n",
    "    for ax in fig.axes:\n",
    "        try:\n",
    "            ax.label_outer()\n",
    "        except AttributeError:\n",
    "            pass\n",
    "\n",
    "\n",
    "fig, axes = plt.subplots(2, 1, figsize=(5, 6), gridspec_kw={'height_ratios': [5, 1]})\n",
    "\n",
    "mean_map = df['mAP'].mean()\n",
    "sns.scatterplot(\n",
    "    ax=axes[0], \n",
    "    data=df, \n",
    "    x='mAP', \n",
    "    y='-log10(p-value)', \n",
    "    hue='p < 0.05',\n",
    "    s=50\n",
    ")\n",
    "axes[0].set_title(\"Technical replicability\")\n",
    "\n",
    "\n",
    "axes[0].set_xlabel(\"\")\n",
    "axes[0].set_ylim(0, max(df['-log10(p-value)'])+0.1)\n",
    "sns.move_legend(axes[0], \"lower right\")\n",
    "\n",
    "# Second Row: KDE plots\n",
    "max_kde_y = 0\n",
    "mean_map = df['mAP'].mean()\n",
    "for p_value in df['p < 0.05'].unique():\n",
    "    ax = sns.kdeplot(\n",
    "        ax=axes[1],\n",
    "        data=df[df['p < 0.05'] == p_value],\n",
    "        x='mAP', \n",
    "        label=str(p_value)\n",
    "    )\n",
    "    max_kde_y = max(max_kde_y, max(ax.lines[-1].get_ydata()))\n",
    "    axes[1].axvline(mean_map, color='grey', linestyle='--')\n",
    "# axes[1].set_ylabel(\"\")\n",
    "axes[1].set_ylim(0, max_kde_y)\n",
    "axes[1].text(mean_map+0.01, 0.75, f\"Mean mAP: {mean_map:.2f}\", transform=axes[1].transAxes)\n",
    "\n",
    "for ax in axes.flat:\n",
    "    ax.set_xlim(0, 1)  # Set x-axis limit to 0-1 for all subplots\n",
    "\n",
    "remove_inner_ticklabels(fig)\n",
    "plt.tight_layout()\n",
    "plt.show()\n"
   ]
  },
  {
   "cell_type": "code",
   "execution_count": null,
   "metadata": {},
   "outputs": [],
   "source": []
  },
  {
   "cell_type": "code",
   "execution_count": null,
   "metadata": {},
   "outputs": [],
   "source": []
  },
  {
   "cell_type": "code",
   "execution_count": 5,
   "metadata": {},
   "outputs": [
    {
     "name": "stdout",
     "output_type": "stream",
     "text": [
      "1000\n"
     ]
    }
   ],
   "source": [
    "print(len(gene_features))"
   ]
  },
  {
   "cell_type": "code",
   "execution_count": 22,
   "metadata": {},
   "outputs": [
    {
     "name": "stdout",
     "output_type": "stream",
     "text": [
      "(128, 8)\n"
     ]
    },
    {
     "data": {
      "text/html": [
       "<div>\n",
       "<style scoped>\n",
       "    .dataframe tbody tr th:only-of-type {\n",
       "        vertical-align: middle;\n",
       "    }\n",
       "\n",
       "    .dataframe tbody tr th {\n",
       "        vertical-align: top;\n",
       "    }\n",
       "\n",
       "    .dataframe thead th {\n",
       "        text-align: right;\n",
       "    }\n",
       "</style>\n",
       "<table border=\"1\" class=\"dataframe\">\n",
       "  <thead>\n",
       "    <tr style=\"text-align: right;\">\n",
       "      <th></th>\n",
       "      <th>id</th>\n",
       "      <th>sequence</th>\n",
       "      <th>gene</th>\n",
       "      <th>gamma_day5</th>\n",
       "      <th>gamma_day10</th>\n",
       "      <th>relative_activity_day5</th>\n",
       "      <th>relative_activity_day10</th>\n",
       "      <th>perturbation</th>\n",
       "    </tr>\n",
       "  </thead>\n",
       "  <tbody>\n",
       "    <tr>\n",
       "      <th>0</th>\n",
       "      <td>ALDOA_+_30077139.23-P1P2_00</td>\n",
       "      <td>GGTCACCAGGACCCCTTCTG</td>\n",
       "      <td>ALDOA</td>\n",
       "      <td>-0.412746</td>\n",
       "      <td>-0.366469</td>\n",
       "      <td>1.000000</td>\n",
       "      <td>1.000000</td>\n",
       "      <td>ALDOA_ALDOA_+_30077139.23-P1P2_00</td>\n",
       "    </tr>\n",
       "    <tr>\n",
       "      <th>1</th>\n",
       "      <td>ALDOA_+_30077139.23-P1P2_06</td>\n",
       "      <td>GGTCACCAGGATCCCTTCTG</td>\n",
       "      <td>ALDOA</td>\n",
       "      <td>-0.396687</td>\n",
       "      <td>-0.348503</td>\n",
       "      <td>0.961091</td>\n",
       "      <td>0.950977</td>\n",
       "      <td>ALDOA_ALDOA_+_30077139.23-P1P2_06</td>\n",
       "    </tr>\n",
       "    <tr>\n",
       "      <th>2</th>\n",
       "      <td>ALDOA_+_30077139.23-P1P2_07</td>\n",
       "      <td>GGTCACCAGGCCCCCTTCTG</td>\n",
       "      <td>ALDOA</td>\n",
       "      <td>-0.360892</td>\n",
       "      <td>-0.335059</td>\n",
       "      <td>0.874369</td>\n",
       "      <td>0.914291</td>\n",
       "      <td>ALDOA_ALDOA_+_30077139.23-P1P2_07</td>\n",
       "    </tr>\n",
       "    <tr>\n",
       "      <th>3</th>\n",
       "      <td>ALDOA_+_30077139.23-P1P2_13</td>\n",
       "      <td>GGTCACCAGGACCCCTTTTG</td>\n",
       "      <td>ALDOA</td>\n",
       "      <td>0.017063</td>\n",
       "      <td>-0.000220</td>\n",
       "      <td>-0.041340</td>\n",
       "      <td>0.000601</td>\n",
       "      <td>ALDOA_ALDOA_+_30077139.23-P1P2_13</td>\n",
       "    </tr>\n",
       "    <tr>\n",
       "      <th>4</th>\n",
       "      <td>ALDOA_+_30077139.23-P1P2_14</td>\n",
       "      <td>GGTCACCAGGACCGCTTCTG</td>\n",
       "      <td>ALDOA</td>\n",
       "      <td>-0.175243</td>\n",
       "      <td>-0.156611</td>\n",
       "      <td>0.424579</td>\n",
       "      <td>0.427353</td>\n",
       "      <td>ALDOA_ALDOA_+_30077139.23-P1P2_14</td>\n",
       "    </tr>\n",
       "  </tbody>\n",
       "</table>\n",
       "</div>"
      ],
      "text/plain": [
       "                            id              sequence   gene  gamma_day5  \\\n",
       "0  ALDOA_+_30077139.23-P1P2_00  GGTCACCAGGACCCCTTCTG  ALDOA   -0.412746   \n",
       "1  ALDOA_+_30077139.23-P1P2_06  GGTCACCAGGATCCCTTCTG  ALDOA   -0.396687   \n",
       "2  ALDOA_+_30077139.23-P1P2_07  GGTCACCAGGCCCCCTTCTG  ALDOA   -0.360892   \n",
       "3  ALDOA_+_30077139.23-P1P2_13  GGTCACCAGGACCCCTTTTG  ALDOA    0.017063   \n",
       "4  ALDOA_+_30077139.23-P1P2_14  GGTCACCAGGACCGCTTCTG  ALDOA   -0.175243   \n",
       "\n",
       "   gamma_day10  relative_activity_day5  relative_activity_day10  \\\n",
       "0    -0.366469                1.000000                 1.000000   \n",
       "1    -0.348503                0.961091                 0.950977   \n",
       "2    -0.335059                0.874369                 0.914291   \n",
       "3    -0.000220               -0.041340                 0.000601   \n",
       "4    -0.156611                0.424579                 0.427353   \n",
       "\n",
       "                        perturbation  \n",
       "0  ALDOA_ALDOA_+_30077139.23-P1P2_00  \n",
       "1  ALDOA_ALDOA_+_30077139.23-P1P2_06  \n",
       "2  ALDOA_ALDOA_+_30077139.23-P1P2_07  \n",
       "3  ALDOA_ALDOA_+_30077139.23-P1P2_13  \n",
       "4  ALDOA_ALDOA_+_30077139.23-P1P2_14  "
      ]
     },
     "execution_count": 22,
     "metadata": {},
     "output_type": "execute_result"
    }
   ],
   "source": [
    "# Load activities results (bulk)\n",
    "file = perturbseq_data_dir / perturbseq_screen_phenotypes\n",
    "activity_df = pd.read_csv(file, sep=\"\\t\").rename({\"Unnamed: 0\": \"id\"}, axis=\"columns\")\n",
    "\n",
    "# Create a perturbation column to match with other IDs\n",
    "activity_df = activity_df.assign(perturbation=activity_df.gene + \"_\" + activity_df.id)\n",
    "\n",
    "print(activity_df.shape)\n",
    "activity_df.head()"
   ]
  },
  {
   "cell_type": "markdown",
   "metadata": {},
   "source": [
    "### Bulk data"
   ]
  },
  {
   "cell_type": "code",
   "execution_count": 24,
   "metadata": {},
   "outputs": [
    {
     "data": {
      "text/html": [
       "<div>\n",
       "<style scoped>\n",
       "    .dataframe tbody tr th:only-of-type {\n",
       "        vertical-align: middle;\n",
       "    }\n",
       "\n",
       "    .dataframe tbody tr th {\n",
       "        vertical-align: top;\n",
       "    }\n",
       "\n",
       "    .dataframe thead th {\n",
       "        text-align: right;\n",
       "    }\n",
       "</style>\n",
       "<table border=\"1\" class=\"dataframe\">\n",
       "  <thead>\n",
       "    <tr style=\"text-align: right;\">\n",
       "      <th></th>\n",
       "      <th>Metadata_guide_identity</th>\n",
       "      <th>Metadata_gene_identity</th>\n",
       "      <th>ABCA1</th>\n",
       "      <th>ABCC3</th>\n",
       "      <th>ABI3BP</th>\n",
       "      <th>AC002331.1</th>\n",
       "      <th>AC002480.3</th>\n",
       "      <th>AC003092.1</th>\n",
       "      <th>AC005616.2</th>\n",
       "      <th>AC006262.5</th>\n",
       "      <th>...</th>\n",
       "      <th>YPEL4</th>\n",
       "      <th>YPEL5</th>\n",
       "      <th>ZBTB38</th>\n",
       "      <th>ZFAS1</th>\n",
       "      <th>ZFP36L1</th>\n",
       "      <th>ZNF365</th>\n",
       "      <th>ZNF43</th>\n",
       "      <th>ZNF483</th>\n",
       "      <th>ZNF556</th>\n",
       "      <th>ZYX</th>\n",
       "    </tr>\n",
       "  </thead>\n",
       "  <tbody>\n",
       "    <tr>\n",
       "      <th>0</th>\n",
       "      <td>ALDOA_ALDOA_+_30077139.23-P1P2_00</td>\n",
       "      <td>ALDOA</td>\n",
       "      <td>-0.078689</td>\n",
       "      <td>-0.093494</td>\n",
       "      <td>-0.01406</td>\n",
       "      <td>-0.013653</td>\n",
       "      <td>-0.018973</td>\n",
       "      <td>-0.026806</td>\n",
       "      <td>-0.034066</td>\n",
       "      <td>-0.485621</td>\n",
       "      <td>...</td>\n",
       "      <td>-0.09309</td>\n",
       "      <td>-0.632468</td>\n",
       "      <td>-0.539091</td>\n",
       "      <td>-0.170790</td>\n",
       "      <td>0.014776</td>\n",
       "      <td>-0.012155</td>\n",
       "      <td>-0.017763</td>\n",
       "      <td>-0.026877</td>\n",
       "      <td>-0.0524</td>\n",
       "      <td>-0.452229</td>\n",
       "    </tr>\n",
       "    <tr>\n",
       "      <th>1</th>\n",
       "      <td>ALDOA_ALDOA_+_30077139.23-P1P2_06</td>\n",
       "      <td>ALDOA</td>\n",
       "      <td>-0.078689</td>\n",
       "      <td>-0.093494</td>\n",
       "      <td>-0.01406</td>\n",
       "      <td>-0.013653</td>\n",
       "      <td>-0.018973</td>\n",
       "      <td>-0.026806</td>\n",
       "      <td>-0.034066</td>\n",
       "      <td>-0.485621</td>\n",
       "      <td>...</td>\n",
       "      <td>-0.09309</td>\n",
       "      <td>-0.632468</td>\n",
       "      <td>-0.539091</td>\n",
       "      <td>-0.045114</td>\n",
       "      <td>0.042050</td>\n",
       "      <td>-0.012155</td>\n",
       "      <td>-0.017763</td>\n",
       "      <td>-0.026877</td>\n",
       "      <td>-0.0524</td>\n",
       "      <td>-0.452229</td>\n",
       "    </tr>\n",
       "    <tr>\n",
       "      <th>2</th>\n",
       "      <td>ALDOA_ALDOA_+_30077139.23-P1P2_07</td>\n",
       "      <td>ALDOA</td>\n",
       "      <td>-0.078689</td>\n",
       "      <td>-0.093494</td>\n",
       "      <td>-0.01406</td>\n",
       "      <td>-0.013653</td>\n",
       "      <td>-0.018973</td>\n",
       "      <td>-0.026806</td>\n",
       "      <td>-0.034066</td>\n",
       "      <td>-0.485621</td>\n",
       "      <td>...</td>\n",
       "      <td>-0.09309</td>\n",
       "      <td>-0.632468</td>\n",
       "      <td>-0.539091</td>\n",
       "      <td>-0.101183</td>\n",
       "      <td>0.027887</td>\n",
       "      <td>-0.012155</td>\n",
       "      <td>-0.017763</td>\n",
       "      <td>-0.026877</td>\n",
       "      <td>-0.0524</td>\n",
       "      <td>-0.452229</td>\n",
       "    </tr>\n",
       "    <tr>\n",
       "      <th>3</th>\n",
       "      <td>ALDOA_ALDOA_+_30077139.23-P1P2_13</td>\n",
       "      <td>ALDOA</td>\n",
       "      <td>-0.078689</td>\n",
       "      <td>-0.093494</td>\n",
       "      <td>-0.01406</td>\n",
       "      <td>-0.013653</td>\n",
       "      <td>-0.018973</td>\n",
       "      <td>-0.026806</td>\n",
       "      <td>-0.034066</td>\n",
       "      <td>-0.485621</td>\n",
       "      <td>...</td>\n",
       "      <td>-0.09309</td>\n",
       "      <td>-0.632468</td>\n",
       "      <td>-0.539091</td>\n",
       "      <td>-0.050848</td>\n",
       "      <td>-0.107389</td>\n",
       "      <td>-0.012155</td>\n",
       "      <td>-0.017763</td>\n",
       "      <td>-0.026877</td>\n",
       "      <td>-0.0524</td>\n",
       "      <td>-0.452229</td>\n",
       "    </tr>\n",
       "    <tr>\n",
       "      <th>4</th>\n",
       "      <td>ALDOA_ALDOA_+_30077139.23-P1P2_14</td>\n",
       "      <td>ALDOA</td>\n",
       "      <td>-0.078689</td>\n",
       "      <td>-0.093494</td>\n",
       "      <td>-0.01406</td>\n",
       "      <td>-0.013653</td>\n",
       "      <td>-0.018973</td>\n",
       "      <td>-0.026806</td>\n",
       "      <td>-0.034066</td>\n",
       "      <td>-0.485621</td>\n",
       "      <td>...</td>\n",
       "      <td>-0.09309</td>\n",
       "      <td>-0.632468</td>\n",
       "      <td>-0.539091</td>\n",
       "      <td>0.150701</td>\n",
       "      <td>0.051095</td>\n",
       "      <td>-0.012155</td>\n",
       "      <td>-0.017763</td>\n",
       "      <td>-0.026877</td>\n",
       "      <td>-0.0524</td>\n",
       "      <td>-0.452229</td>\n",
       "    </tr>\n",
       "    <tr>\n",
       "      <th>...</th>\n",
       "      <td>...</td>\n",
       "      <td>...</td>\n",
       "      <td>...</td>\n",
       "      <td>...</td>\n",
       "      <td>...</td>\n",
       "      <td>...</td>\n",
       "      <td>...</td>\n",
       "      <td>...</td>\n",
       "      <td>...</td>\n",
       "      <td>...</td>\n",
       "      <td>...</td>\n",
       "      <td>...</td>\n",
       "      <td>...</td>\n",
       "      <td>...</td>\n",
       "      <td>...</td>\n",
       "      <td>...</td>\n",
       "      <td>...</td>\n",
       "      <td>...</td>\n",
       "      <td>...</td>\n",
       "      <td>...</td>\n",
       "      <td>...</td>\n",
       "    </tr>\n",
       "    <tr>\n",
       "      <th>133</th>\n",
       "      <td>neg_ctrl_non-targeting_00283</td>\n",
       "      <td>neg</td>\n",
       "      <td>-0.078689</td>\n",
       "      <td>-0.093494</td>\n",
       "      <td>-0.01406</td>\n",
       "      <td>-0.013653</td>\n",
       "      <td>-0.018973</td>\n",
       "      <td>-0.026806</td>\n",
       "      <td>-0.034066</td>\n",
       "      <td>-0.485621</td>\n",
       "      <td>...</td>\n",
       "      <td>-0.09309</td>\n",
       "      <td>-0.632468</td>\n",
       "      <td>-0.539091</td>\n",
       "      <td>-0.115780</td>\n",
       "      <td>-0.179220</td>\n",
       "      <td>-0.012155</td>\n",
       "      <td>-0.017763</td>\n",
       "      <td>-0.026877</td>\n",
       "      <td>-0.0524</td>\n",
       "      <td>-0.452229</td>\n",
       "    </tr>\n",
       "    <tr>\n",
       "      <th>134</th>\n",
       "      <td>neg_ctrl_non-targeting_00406</td>\n",
       "      <td>neg</td>\n",
       "      <td>-0.078689</td>\n",
       "      <td>-0.093494</td>\n",
       "      <td>-0.01406</td>\n",
       "      <td>-0.013653</td>\n",
       "      <td>-0.018973</td>\n",
       "      <td>-0.026806</td>\n",
       "      <td>-0.034066</td>\n",
       "      <td>-0.485621</td>\n",
       "      <td>...</td>\n",
       "      <td>-0.09309</td>\n",
       "      <td>-0.632468</td>\n",
       "      <td>-0.539091</td>\n",
       "      <td>-0.090275</td>\n",
       "      <td>-0.027992</td>\n",
       "      <td>-0.012155</td>\n",
       "      <td>-0.017763</td>\n",
       "      <td>-0.026877</td>\n",
       "      <td>-0.0524</td>\n",
       "      <td>-0.452229</td>\n",
       "    </tr>\n",
       "    <tr>\n",
       "      <th>135</th>\n",
       "      <td>neg_ctrl_non-targeting_00527</td>\n",
       "      <td>neg</td>\n",
       "      <td>-0.078689</td>\n",
       "      <td>-0.093494</td>\n",
       "      <td>-0.01406</td>\n",
       "      <td>-0.013653</td>\n",
       "      <td>-0.018973</td>\n",
       "      <td>-0.026806</td>\n",
       "      <td>-0.034066</td>\n",
       "      <td>-0.485621</td>\n",
       "      <td>...</td>\n",
       "      <td>-0.09309</td>\n",
       "      <td>-0.632468</td>\n",
       "      <td>-0.539091</td>\n",
       "      <td>-0.084769</td>\n",
       "      <td>-0.130657</td>\n",
       "      <td>-0.012155</td>\n",
       "      <td>-0.017763</td>\n",
       "      <td>-0.026877</td>\n",
       "      <td>-0.0524</td>\n",
       "      <td>-0.452229</td>\n",
       "    </tr>\n",
       "    <tr>\n",
       "      <th>136</th>\n",
       "      <td>neg_ctrl_non-targeting_00802</td>\n",
       "      <td>neg</td>\n",
       "      <td>-0.078689</td>\n",
       "      <td>-0.093494</td>\n",
       "      <td>-0.01406</td>\n",
       "      <td>-0.013653</td>\n",
       "      <td>-0.018973</td>\n",
       "      <td>-0.026806</td>\n",
       "      <td>-0.034066</td>\n",
       "      <td>-0.485621</td>\n",
       "      <td>...</td>\n",
       "      <td>-0.09309</td>\n",
       "      <td>-0.632468</td>\n",
       "      <td>-0.539091</td>\n",
       "      <td>-0.007599</td>\n",
       "      <td>-0.058443</td>\n",
       "      <td>-0.012155</td>\n",
       "      <td>-0.017763</td>\n",
       "      <td>-0.026877</td>\n",
       "      <td>-0.0524</td>\n",
       "      <td>-0.452229</td>\n",
       "    </tr>\n",
       "    <tr>\n",
       "      <th>137</th>\n",
       "      <td>neg_ctrl_non-targeting_01040</td>\n",
       "      <td>neg</td>\n",
       "      <td>-0.078689</td>\n",
       "      <td>-0.093494</td>\n",
       "      <td>-0.01406</td>\n",
       "      <td>-0.013653</td>\n",
       "      <td>-0.018973</td>\n",
       "      <td>-0.026806</td>\n",
       "      <td>-0.034066</td>\n",
       "      <td>-0.485621</td>\n",
       "      <td>...</td>\n",
       "      <td>-0.09309</td>\n",
       "      <td>-0.632468</td>\n",
       "      <td>-0.539091</td>\n",
       "      <td>-0.087552</td>\n",
       "      <td>-0.643785</td>\n",
       "      <td>-0.012155</td>\n",
       "      <td>-0.017763</td>\n",
       "      <td>-0.026877</td>\n",
       "      <td>-0.0524</td>\n",
       "      <td>-0.452229</td>\n",
       "    </tr>\n",
       "  </tbody>\n",
       "</table>\n",
       "<p>138 rows × 1002 columns</p>\n",
       "</div>"
      ],
      "text/plain": [
       "               Metadata_guide_identity Metadata_gene_identity     ABCA1  \\\n",
       "0    ALDOA_ALDOA_+_30077139.23-P1P2_00                  ALDOA -0.078689   \n",
       "1    ALDOA_ALDOA_+_30077139.23-P1P2_06                  ALDOA -0.078689   \n",
       "2    ALDOA_ALDOA_+_30077139.23-P1P2_07                  ALDOA -0.078689   \n",
       "3    ALDOA_ALDOA_+_30077139.23-P1P2_13                  ALDOA -0.078689   \n",
       "4    ALDOA_ALDOA_+_30077139.23-P1P2_14                  ALDOA -0.078689   \n",
       "..                                 ...                    ...       ...   \n",
       "133       neg_ctrl_non-targeting_00283                    neg -0.078689   \n",
       "134       neg_ctrl_non-targeting_00406                    neg -0.078689   \n",
       "135       neg_ctrl_non-targeting_00527                    neg -0.078689   \n",
       "136       neg_ctrl_non-targeting_00802                    neg -0.078689   \n",
       "137       neg_ctrl_non-targeting_01040                    neg -0.078689   \n",
       "\n",
       "        ABCC3   ABI3BP  AC002331.1  AC002480.3  AC003092.1  AC005616.2  \\\n",
       "0   -0.093494 -0.01406   -0.013653   -0.018973   -0.026806   -0.034066   \n",
       "1   -0.093494 -0.01406   -0.013653   -0.018973   -0.026806   -0.034066   \n",
       "2   -0.093494 -0.01406   -0.013653   -0.018973   -0.026806   -0.034066   \n",
       "3   -0.093494 -0.01406   -0.013653   -0.018973   -0.026806   -0.034066   \n",
       "4   -0.093494 -0.01406   -0.013653   -0.018973   -0.026806   -0.034066   \n",
       "..        ...      ...         ...         ...         ...         ...   \n",
       "133 -0.093494 -0.01406   -0.013653   -0.018973   -0.026806   -0.034066   \n",
       "134 -0.093494 -0.01406   -0.013653   -0.018973   -0.026806   -0.034066   \n",
       "135 -0.093494 -0.01406   -0.013653   -0.018973   -0.026806   -0.034066   \n",
       "136 -0.093494 -0.01406   -0.013653   -0.018973   -0.026806   -0.034066   \n",
       "137 -0.093494 -0.01406   -0.013653   -0.018973   -0.026806   -0.034066   \n",
       "\n",
       "     AC006262.5  ...    YPEL4     YPEL5    ZBTB38     ZFAS1   ZFP36L1  \\\n",
       "0     -0.485621  ... -0.09309 -0.632468 -0.539091 -0.170790  0.014776   \n",
       "1     -0.485621  ... -0.09309 -0.632468 -0.539091 -0.045114  0.042050   \n",
       "2     -0.485621  ... -0.09309 -0.632468 -0.539091 -0.101183  0.027887   \n",
       "3     -0.485621  ... -0.09309 -0.632468 -0.539091 -0.050848 -0.107389   \n",
       "4     -0.485621  ... -0.09309 -0.632468 -0.539091  0.150701  0.051095   \n",
       "..          ...  ...      ...       ...       ...       ...       ...   \n",
       "133   -0.485621  ... -0.09309 -0.632468 -0.539091 -0.115780 -0.179220   \n",
       "134   -0.485621  ... -0.09309 -0.632468 -0.539091 -0.090275 -0.027992   \n",
       "135   -0.485621  ... -0.09309 -0.632468 -0.539091 -0.084769 -0.130657   \n",
       "136   -0.485621  ... -0.09309 -0.632468 -0.539091 -0.007599 -0.058443   \n",
       "137   -0.485621  ... -0.09309 -0.632468 -0.539091 -0.087552 -0.643785   \n",
       "\n",
       "       ZNF365     ZNF43    ZNF483  ZNF556       ZYX  \n",
       "0   -0.012155 -0.017763 -0.026877 -0.0524 -0.452229  \n",
       "1   -0.012155 -0.017763 -0.026877 -0.0524 -0.452229  \n",
       "2   -0.012155 -0.017763 -0.026877 -0.0524 -0.452229  \n",
       "3   -0.012155 -0.017763 -0.026877 -0.0524 -0.452229  \n",
       "4   -0.012155 -0.017763 -0.026877 -0.0524 -0.452229  \n",
       "..        ...       ...       ...     ...       ...  \n",
       "133 -0.012155 -0.017763 -0.026877 -0.0524 -0.452229  \n",
       "134 -0.012155 -0.017763 -0.026877 -0.0524 -0.452229  \n",
       "135 -0.012155 -0.017763 -0.026877 -0.0524 -0.452229  \n",
       "136 -0.012155 -0.017763 -0.026877 -0.0524 -0.452229  \n",
       "137 -0.012155 -0.017763 -0.026877 -0.0524 -0.452229  \n",
       "\n",
       "[138 rows x 1002 columns]"
      ]
     },
     "execution_count": 24,
     "metadata": {},
     "output_type": "execute_result"
    }
   ],
   "source": [
    "# Load bulk perturbseq data\n",
    "bulk_file = pathlib.Path(f\"{perturbseq_data_dir}/{gse_id}_bulk_final_analytical.tsv.gz\")\n",
    "bulk_df = pd.read_csv(bulk_file, sep=\"\\t\")\n",
    "bulk_df"
   ]
  },
  {
   "cell_type": "code",
   "execution_count": 25,
   "metadata": {},
   "outputs": [
    {
     "data": {
      "text/html": [
       "<div>\n",
       "<style scoped>\n",
       "    .dataframe tbody tr th:only-of-type {\n",
       "        vertical-align: middle;\n",
       "    }\n",
       "\n",
       "    .dataframe tbody tr th {\n",
       "        vertical-align: top;\n",
       "    }\n",
       "\n",
       "    .dataframe thead th {\n",
       "        text-align: right;\n",
       "    }\n",
       "</style>\n",
       "<table border=\"1\" class=\"dataframe\">\n",
       "  <thead>\n",
       "    <tr style=\"text-align: right;\">\n",
       "      <th></th>\n",
       "      <th>Metadata_guide_identity</th>\n",
       "      <th>Metadata_gene_identity</th>\n",
       "      <th>ABCA1</th>\n",
       "      <th>ABCC3</th>\n",
       "      <th>ABI3BP</th>\n",
       "      <th>AC002331.1</th>\n",
       "      <th>AC002480.3</th>\n",
       "      <th>AC003092.1</th>\n",
       "      <th>AC005616.2</th>\n",
       "      <th>AC006262.5</th>\n",
       "      <th>...</th>\n",
       "      <th>YPEL5</th>\n",
       "      <th>ZBTB38</th>\n",
       "      <th>ZFAS1</th>\n",
       "      <th>ZFP36L1</th>\n",
       "      <th>ZNF365</th>\n",
       "      <th>ZNF43</th>\n",
       "      <th>ZNF483</th>\n",
       "      <th>ZNF556</th>\n",
       "      <th>ZYX</th>\n",
       "      <th>Metadata_is_control</th>\n",
       "    </tr>\n",
       "  </thead>\n",
       "  <tbody>\n",
       "    <tr>\n",
       "      <th>0</th>\n",
       "      <td>ALDOA_ALDOA_+_30077139.23-P1P2_00</td>\n",
       "      <td>ALDOA</td>\n",
       "      <td>-0.078689</td>\n",
       "      <td>-0.093494</td>\n",
       "      <td>-0.01406</td>\n",
       "      <td>-0.013653</td>\n",
       "      <td>-0.018973</td>\n",
       "      <td>-0.026806</td>\n",
       "      <td>-0.034066</td>\n",
       "      <td>-0.485621</td>\n",
       "      <td>...</td>\n",
       "      <td>-0.632468</td>\n",
       "      <td>-0.539091</td>\n",
       "      <td>-0.170790</td>\n",
       "      <td>0.014776</td>\n",
       "      <td>-0.012155</td>\n",
       "      <td>-0.017763</td>\n",
       "      <td>-0.026877</td>\n",
       "      <td>-0.0524</td>\n",
       "      <td>-0.452229</td>\n",
       "      <td>0</td>\n",
       "    </tr>\n",
       "    <tr>\n",
       "      <th>1</th>\n",
       "      <td>ALDOA_ALDOA_+_30077139.23-P1P2_06</td>\n",
       "      <td>ALDOA</td>\n",
       "      <td>-0.078689</td>\n",
       "      <td>-0.093494</td>\n",
       "      <td>-0.01406</td>\n",
       "      <td>-0.013653</td>\n",
       "      <td>-0.018973</td>\n",
       "      <td>-0.026806</td>\n",
       "      <td>-0.034066</td>\n",
       "      <td>-0.485621</td>\n",
       "      <td>...</td>\n",
       "      <td>-0.632468</td>\n",
       "      <td>-0.539091</td>\n",
       "      <td>-0.045114</td>\n",
       "      <td>0.042050</td>\n",
       "      <td>-0.012155</td>\n",
       "      <td>-0.017763</td>\n",
       "      <td>-0.026877</td>\n",
       "      <td>-0.0524</td>\n",
       "      <td>-0.452229</td>\n",
       "      <td>0</td>\n",
       "    </tr>\n",
       "    <tr>\n",
       "      <th>2</th>\n",
       "      <td>ALDOA_ALDOA_+_30077139.23-P1P2_07</td>\n",
       "      <td>ALDOA</td>\n",
       "      <td>-0.078689</td>\n",
       "      <td>-0.093494</td>\n",
       "      <td>-0.01406</td>\n",
       "      <td>-0.013653</td>\n",
       "      <td>-0.018973</td>\n",
       "      <td>-0.026806</td>\n",
       "      <td>-0.034066</td>\n",
       "      <td>-0.485621</td>\n",
       "      <td>...</td>\n",
       "      <td>-0.632468</td>\n",
       "      <td>-0.539091</td>\n",
       "      <td>-0.101183</td>\n",
       "      <td>0.027887</td>\n",
       "      <td>-0.012155</td>\n",
       "      <td>-0.017763</td>\n",
       "      <td>-0.026877</td>\n",
       "      <td>-0.0524</td>\n",
       "      <td>-0.452229</td>\n",
       "      <td>0</td>\n",
       "    </tr>\n",
       "    <tr>\n",
       "      <th>3</th>\n",
       "      <td>ALDOA_ALDOA_+_30077139.23-P1P2_13</td>\n",
       "      <td>ALDOA</td>\n",
       "      <td>-0.078689</td>\n",
       "      <td>-0.093494</td>\n",
       "      <td>-0.01406</td>\n",
       "      <td>-0.013653</td>\n",
       "      <td>-0.018973</td>\n",
       "      <td>-0.026806</td>\n",
       "      <td>-0.034066</td>\n",
       "      <td>-0.485621</td>\n",
       "      <td>...</td>\n",
       "      <td>-0.632468</td>\n",
       "      <td>-0.539091</td>\n",
       "      <td>-0.050848</td>\n",
       "      <td>-0.107389</td>\n",
       "      <td>-0.012155</td>\n",
       "      <td>-0.017763</td>\n",
       "      <td>-0.026877</td>\n",
       "      <td>-0.0524</td>\n",
       "      <td>-0.452229</td>\n",
       "      <td>0</td>\n",
       "    </tr>\n",
       "    <tr>\n",
       "      <th>4</th>\n",
       "      <td>ALDOA_ALDOA_+_30077139.23-P1P2_14</td>\n",
       "      <td>ALDOA</td>\n",
       "      <td>-0.078689</td>\n",
       "      <td>-0.093494</td>\n",
       "      <td>-0.01406</td>\n",
       "      <td>-0.013653</td>\n",
       "      <td>-0.018973</td>\n",
       "      <td>-0.026806</td>\n",
       "      <td>-0.034066</td>\n",
       "      <td>-0.485621</td>\n",
       "      <td>...</td>\n",
       "      <td>-0.632468</td>\n",
       "      <td>-0.539091</td>\n",
       "      <td>0.150701</td>\n",
       "      <td>0.051095</td>\n",
       "      <td>-0.012155</td>\n",
       "      <td>-0.017763</td>\n",
       "      <td>-0.026877</td>\n",
       "      <td>-0.0524</td>\n",
       "      <td>-0.452229</td>\n",
       "      <td>0</td>\n",
       "    </tr>\n",
       "    <tr>\n",
       "      <th>...</th>\n",
       "      <td>...</td>\n",
       "      <td>...</td>\n",
       "      <td>...</td>\n",
       "      <td>...</td>\n",
       "      <td>...</td>\n",
       "      <td>...</td>\n",
       "      <td>...</td>\n",
       "      <td>...</td>\n",
       "      <td>...</td>\n",
       "      <td>...</td>\n",
       "      <td>...</td>\n",
       "      <td>...</td>\n",
       "      <td>...</td>\n",
       "      <td>...</td>\n",
       "      <td>...</td>\n",
       "      <td>...</td>\n",
       "      <td>...</td>\n",
       "      <td>...</td>\n",
       "      <td>...</td>\n",
       "      <td>...</td>\n",
       "      <td>...</td>\n",
       "    </tr>\n",
       "    <tr>\n",
       "      <th>133</th>\n",
       "      <td>neg_ctrl_non-targeting_00283</td>\n",
       "      <td>neg</td>\n",
       "      <td>-0.078689</td>\n",
       "      <td>-0.093494</td>\n",
       "      <td>-0.01406</td>\n",
       "      <td>-0.013653</td>\n",
       "      <td>-0.018973</td>\n",
       "      <td>-0.026806</td>\n",
       "      <td>-0.034066</td>\n",
       "      <td>-0.485621</td>\n",
       "      <td>...</td>\n",
       "      <td>-0.632468</td>\n",
       "      <td>-0.539091</td>\n",
       "      <td>-0.115780</td>\n",
       "      <td>-0.179220</td>\n",
       "      <td>-0.012155</td>\n",
       "      <td>-0.017763</td>\n",
       "      <td>-0.026877</td>\n",
       "      <td>-0.0524</td>\n",
       "      <td>-0.452229</td>\n",
       "      <td>1</td>\n",
       "    </tr>\n",
       "    <tr>\n",
       "      <th>134</th>\n",
       "      <td>neg_ctrl_non-targeting_00406</td>\n",
       "      <td>neg</td>\n",
       "      <td>-0.078689</td>\n",
       "      <td>-0.093494</td>\n",
       "      <td>-0.01406</td>\n",
       "      <td>-0.013653</td>\n",
       "      <td>-0.018973</td>\n",
       "      <td>-0.026806</td>\n",
       "      <td>-0.034066</td>\n",
       "      <td>-0.485621</td>\n",
       "      <td>...</td>\n",
       "      <td>-0.632468</td>\n",
       "      <td>-0.539091</td>\n",
       "      <td>-0.090275</td>\n",
       "      <td>-0.027992</td>\n",
       "      <td>-0.012155</td>\n",
       "      <td>-0.017763</td>\n",
       "      <td>-0.026877</td>\n",
       "      <td>-0.0524</td>\n",
       "      <td>-0.452229</td>\n",
       "      <td>1</td>\n",
       "    </tr>\n",
       "    <tr>\n",
       "      <th>135</th>\n",
       "      <td>neg_ctrl_non-targeting_00527</td>\n",
       "      <td>neg</td>\n",
       "      <td>-0.078689</td>\n",
       "      <td>-0.093494</td>\n",
       "      <td>-0.01406</td>\n",
       "      <td>-0.013653</td>\n",
       "      <td>-0.018973</td>\n",
       "      <td>-0.026806</td>\n",
       "      <td>-0.034066</td>\n",
       "      <td>-0.485621</td>\n",
       "      <td>...</td>\n",
       "      <td>-0.632468</td>\n",
       "      <td>-0.539091</td>\n",
       "      <td>-0.084769</td>\n",
       "      <td>-0.130657</td>\n",
       "      <td>-0.012155</td>\n",
       "      <td>-0.017763</td>\n",
       "      <td>-0.026877</td>\n",
       "      <td>-0.0524</td>\n",
       "      <td>-0.452229</td>\n",
       "      <td>1</td>\n",
       "    </tr>\n",
       "    <tr>\n",
       "      <th>136</th>\n",
       "      <td>neg_ctrl_non-targeting_00802</td>\n",
       "      <td>neg</td>\n",
       "      <td>-0.078689</td>\n",
       "      <td>-0.093494</td>\n",
       "      <td>-0.01406</td>\n",
       "      <td>-0.013653</td>\n",
       "      <td>-0.018973</td>\n",
       "      <td>-0.026806</td>\n",
       "      <td>-0.034066</td>\n",
       "      <td>-0.485621</td>\n",
       "      <td>...</td>\n",
       "      <td>-0.632468</td>\n",
       "      <td>-0.539091</td>\n",
       "      <td>-0.007599</td>\n",
       "      <td>-0.058443</td>\n",
       "      <td>-0.012155</td>\n",
       "      <td>-0.017763</td>\n",
       "      <td>-0.026877</td>\n",
       "      <td>-0.0524</td>\n",
       "      <td>-0.452229</td>\n",
       "      <td>1</td>\n",
       "    </tr>\n",
       "    <tr>\n",
       "      <th>137</th>\n",
       "      <td>neg_ctrl_non-targeting_01040</td>\n",
       "      <td>neg</td>\n",
       "      <td>-0.078689</td>\n",
       "      <td>-0.093494</td>\n",
       "      <td>-0.01406</td>\n",
       "      <td>-0.013653</td>\n",
       "      <td>-0.018973</td>\n",
       "      <td>-0.026806</td>\n",
       "      <td>-0.034066</td>\n",
       "      <td>-0.485621</td>\n",
       "      <td>...</td>\n",
       "      <td>-0.632468</td>\n",
       "      <td>-0.539091</td>\n",
       "      <td>-0.087552</td>\n",
       "      <td>-0.643785</td>\n",
       "      <td>-0.012155</td>\n",
       "      <td>-0.017763</td>\n",
       "      <td>-0.026877</td>\n",
       "      <td>-0.0524</td>\n",
       "      <td>-0.452229</td>\n",
       "      <td>1</td>\n",
       "    </tr>\n",
       "  </tbody>\n",
       "</table>\n",
       "<p>138 rows × 1003 columns</p>\n",
       "</div>"
      ],
      "text/plain": [
       "               Metadata_guide_identity Metadata_gene_identity     ABCA1  \\\n",
       "0    ALDOA_ALDOA_+_30077139.23-P1P2_00                  ALDOA -0.078689   \n",
       "1    ALDOA_ALDOA_+_30077139.23-P1P2_06                  ALDOA -0.078689   \n",
       "2    ALDOA_ALDOA_+_30077139.23-P1P2_07                  ALDOA -0.078689   \n",
       "3    ALDOA_ALDOA_+_30077139.23-P1P2_13                  ALDOA -0.078689   \n",
       "4    ALDOA_ALDOA_+_30077139.23-P1P2_14                  ALDOA -0.078689   \n",
       "..                                 ...                    ...       ...   \n",
       "133       neg_ctrl_non-targeting_00283                    neg -0.078689   \n",
       "134       neg_ctrl_non-targeting_00406                    neg -0.078689   \n",
       "135       neg_ctrl_non-targeting_00527                    neg -0.078689   \n",
       "136       neg_ctrl_non-targeting_00802                    neg -0.078689   \n",
       "137       neg_ctrl_non-targeting_01040                    neg -0.078689   \n",
       "\n",
       "        ABCC3   ABI3BP  AC002331.1  AC002480.3  AC003092.1  AC005616.2  \\\n",
       "0   -0.093494 -0.01406   -0.013653   -0.018973   -0.026806   -0.034066   \n",
       "1   -0.093494 -0.01406   -0.013653   -0.018973   -0.026806   -0.034066   \n",
       "2   -0.093494 -0.01406   -0.013653   -0.018973   -0.026806   -0.034066   \n",
       "3   -0.093494 -0.01406   -0.013653   -0.018973   -0.026806   -0.034066   \n",
       "4   -0.093494 -0.01406   -0.013653   -0.018973   -0.026806   -0.034066   \n",
       "..        ...      ...         ...         ...         ...         ...   \n",
       "133 -0.093494 -0.01406   -0.013653   -0.018973   -0.026806   -0.034066   \n",
       "134 -0.093494 -0.01406   -0.013653   -0.018973   -0.026806   -0.034066   \n",
       "135 -0.093494 -0.01406   -0.013653   -0.018973   -0.026806   -0.034066   \n",
       "136 -0.093494 -0.01406   -0.013653   -0.018973   -0.026806   -0.034066   \n",
       "137 -0.093494 -0.01406   -0.013653   -0.018973   -0.026806   -0.034066   \n",
       "\n",
       "     AC006262.5  ...     YPEL5    ZBTB38     ZFAS1   ZFP36L1    ZNF365  \\\n",
       "0     -0.485621  ... -0.632468 -0.539091 -0.170790  0.014776 -0.012155   \n",
       "1     -0.485621  ... -0.632468 -0.539091 -0.045114  0.042050 -0.012155   \n",
       "2     -0.485621  ... -0.632468 -0.539091 -0.101183  0.027887 -0.012155   \n",
       "3     -0.485621  ... -0.632468 -0.539091 -0.050848 -0.107389 -0.012155   \n",
       "4     -0.485621  ... -0.632468 -0.539091  0.150701  0.051095 -0.012155   \n",
       "..          ...  ...       ...       ...       ...       ...       ...   \n",
       "133   -0.485621  ... -0.632468 -0.539091 -0.115780 -0.179220 -0.012155   \n",
       "134   -0.485621  ... -0.632468 -0.539091 -0.090275 -0.027992 -0.012155   \n",
       "135   -0.485621  ... -0.632468 -0.539091 -0.084769 -0.130657 -0.012155   \n",
       "136   -0.485621  ... -0.632468 -0.539091 -0.007599 -0.058443 -0.012155   \n",
       "137   -0.485621  ... -0.632468 -0.539091 -0.087552 -0.643785 -0.012155   \n",
       "\n",
       "        ZNF43    ZNF483  ZNF556       ZYX  Metadata_is_control  \n",
       "0   -0.017763 -0.026877 -0.0524 -0.452229                    0  \n",
       "1   -0.017763 -0.026877 -0.0524 -0.452229                    0  \n",
       "2   -0.017763 -0.026877 -0.0524 -0.452229                    0  \n",
       "3   -0.017763 -0.026877 -0.0524 -0.452229                    0  \n",
       "4   -0.017763 -0.026877 -0.0524 -0.452229                    0  \n",
       "..        ...       ...     ...       ...                  ...  \n",
       "133 -0.017763 -0.026877 -0.0524 -0.452229                    1  \n",
       "134 -0.017763 -0.026877 -0.0524 -0.452229                    1  \n",
       "135 -0.017763 -0.026877 -0.0524 -0.452229                    1  \n",
       "136 -0.017763 -0.026877 -0.0524 -0.452229                    1  \n",
       "137 -0.017763 -0.026877 -0.0524 -0.452229                    1  \n",
       "\n",
       "[138 rows x 1003 columns]"
      ]
     },
     "execution_count": 25,
     "metadata": {},
     "output_type": "execute_result"
    }
   ],
   "source": [
    "bulk_df = bulk_df.query(\"Metadata_gene_identity != '*'\").reset_index(drop=True)\n",
    "bulk_df[\"Metadata_is_control\"] = (bulk_df[\"Metadata_gene_identity\"] == 'neg').astype(int)\n",
    "bulk_df"
   ]
  },
  {
   "cell_type": "code",
   "execution_count": 26,
   "metadata": {},
   "outputs": [],
   "source": [
    "pair_config = {\n",
    "    \"pos_sameby\": {\"all\": [\"Metadata_gene_identity\", \"Metadata_is_control == 0\"], \"any\": []},\n",
    "    \"pos_diffby\": {\"all\": [], \"any\": []},\n",
    "    \"neg_sameby\": {\"all\": [], \"any\": []},\n",
    "    \"neg_diffby\": {\"all\": [\"Metadata_is_control\"], \"any\": []},\n",
    "}\n",
    "\n",
    "map_config = {\n",
    "    \"mean_ap\": {\n",
    "        \"null_size\": 10000,\n",
    "        \"groupby_columns\": [\"Metadata_gene_identity\"],\n",
    "    },\n",
    "}"
   ]
  },
  {
   "cell_type": "code",
   "execution_count": 27,
   "metadata": {},
   "outputs": [
    {
     "name": "stdout",
     "output_type": "stream",
     "text": [
      "\n",
      "Calculating distances.\n",
      "Pos pairs size: 265, Neg pairs size: 1280\n"
     ]
    },
    {
     "data": {
      "application/vnd.jupyter.widget-view+json": {
       "model_id": "0df147e9c5184f49832c91cc48556d46",
       "version_major": 2,
       "version_minor": 0
      },
      "text/plain": [
       "  0%|          | 0/1 [00:00<?, ?it/s]"
      ]
     },
     "metadata": {},
     "output_type": "display_data"
    },
    {
     "data": {
      "application/vnd.jupyter.widget-view+json": {
       "model_id": "9055ea7324a64300b8c9e9a481c59544",
       "version_major": 2,
       "version_minor": 0
      },
      "text/plain": [
       "  0%|          | 0/1 [00:00<?, ?it/s]"
      ]
     },
     "metadata": {},
     "output_type": "display_data"
    },
    {
     "name": "stdout",
     "output_type": "stream",
     "text": [
      "\n",
      "Calculating metric: mean_ap\n"
     ]
    },
    {
     "name": "stderr",
     "output_type": "stream",
     "text": [
      "/dgx1nas1/storage/data/akalinin/projects/copairs/src/copairs/compute.py:105: RuntimeWarning: invalid value encountered in divide\n",
      "  ap_scores = np.add.reduceat(pr_k * rel_k_list, cutoffs) / num_pos\n"
     ]
    },
    {
     "data": {
      "application/vnd.jupyter.widget-view+json": {
       "model_id": "fafdea87fa1b4b8eb44c666c71304d7d",
       "version_major": 2,
       "version_minor": 0
      },
      "text/plain": [
       "  0%|          | 0/3 [00:00<?, ?it/s]"
      ]
     },
     "metadata": {},
     "output_type": "display_data"
    }
   ],
   "source": [
    "map_results = evaluate_metrics(\n",
    "    profiles=bulk_df.reset_index(drop=True),\n",
    "    features=gene_features,\n",
    "    meta_features=bulk_df.filter(regex=\"Metadata_\").columns,\n",
    "    replicate_groups=pair_config,\n",
    "    metrics_config=map_config,\n",
    "    use_copairs=True,\n",
    ")"
   ]
  },
  {
   "cell_type": "code",
   "execution_count": 28,
   "metadata": {},
   "outputs": [
    {
     "data": {
      "text/html": [
       "<div>\n",
       "<style scoped>\n",
       "    .dataframe tbody tr th:only-of-type {\n",
       "        vertical-align: middle;\n",
       "    }\n",
       "\n",
       "    .dataframe tbody tr th {\n",
       "        vertical-align: top;\n",
       "    }\n",
       "\n",
       "    .dataframe thead th {\n",
       "        text-align: right;\n",
       "    }\n",
       "</style>\n",
       "<table border=\"1\" class=\"dataframe\">\n",
       "  <thead>\n",
       "    <tr style=\"text-align: right;\">\n",
       "      <th></th>\n",
       "      <th>Metadata_gene_identity</th>\n",
       "      <th>mAP</th>\n",
       "      <th>p_value</th>\n",
       "      <th>n_pos_pairs</th>\n",
       "      <th>n_total_pairs</th>\n",
       "      <th>-log10(p-value)</th>\n",
       "      <th>p &lt; 0.05</th>\n",
       "    </tr>\n",
       "  </thead>\n",
       "  <tbody>\n",
       "    <tr>\n",
       "      <th>0</th>\n",
       "      <td>ALDOA</td>\n",
       "      <td>0.494726</td>\n",
       "      <td>0.425897</td>\n",
       "      <td>4.0</td>\n",
       "      <td>14.0</td>\n",
       "      <td>0.370695</td>\n",
       "      <td>False</td>\n",
       "    </tr>\n",
       "    <tr>\n",
       "      <th>1</th>\n",
       "      <td>ATP5E</td>\n",
       "      <td>0.632972</td>\n",
       "      <td>0.331287</td>\n",
       "      <td>4.0</td>\n",
       "      <td>14.0</td>\n",
       "      <td>0.479796</td>\n",
       "      <td>False</td>\n",
       "    </tr>\n",
       "    <tr>\n",
       "      <th>2</th>\n",
       "      <td>BCR</td>\n",
       "      <td>0.768315</td>\n",
       "      <td>0.125237</td>\n",
       "      <td>5.0</td>\n",
       "      <td>15.0</td>\n",
       "      <td>0.902266</td>\n",
       "      <td>False</td>\n",
       "    </tr>\n",
       "    <tr>\n",
       "      <th>3</th>\n",
       "      <td>CAD</td>\n",
       "      <td>0.842491</td>\n",
       "      <td>0.197500</td>\n",
       "      <td>4.0</td>\n",
       "      <td>14.0</td>\n",
       "      <td>0.704432</td>\n",
       "      <td>False</td>\n",
       "    </tr>\n",
       "    <tr>\n",
       "      <th>4</th>\n",
       "      <td>CDC23</td>\n",
       "      <td>0.794915</td>\n",
       "      <td>0.201040</td>\n",
       "      <td>4.0</td>\n",
       "      <td>14.0</td>\n",
       "      <td>0.696718</td>\n",
       "      <td>False</td>\n",
       "    </tr>\n",
       "    <tr>\n",
       "      <th>5</th>\n",
       "      <td>COX11</td>\n",
       "      <td>0.442733</td>\n",
       "      <td>0.425577</td>\n",
       "      <td>4.0</td>\n",
       "      <td>14.0</td>\n",
       "      <td>0.371021</td>\n",
       "      <td>False</td>\n",
       "    </tr>\n",
       "    <tr>\n",
       "      <th>6</th>\n",
       "      <td>DBR1</td>\n",
       "      <td>0.728418</td>\n",
       "      <td>0.127367</td>\n",
       "      <td>4.0</td>\n",
       "      <td>14.0</td>\n",
       "      <td>0.894942</td>\n",
       "      <td>False</td>\n",
       "    </tr>\n",
       "    <tr>\n",
       "      <th>7</th>\n",
       "      <td>DUT</td>\n",
       "      <td>0.919286</td>\n",
       "      <td>0.024858</td>\n",
       "      <td>4.0</td>\n",
       "      <td>14.0</td>\n",
       "      <td>1.604542</td>\n",
       "      <td>True</td>\n",
       "    </tr>\n",
       "    <tr>\n",
       "      <th>8</th>\n",
       "      <td>EIF2S1</td>\n",
       "      <td>0.807274</td>\n",
       "      <td>0.201160</td>\n",
       "      <td>4.0</td>\n",
       "      <td>14.0</td>\n",
       "      <td>0.696459</td>\n",
       "      <td>False</td>\n",
       "    </tr>\n",
       "    <tr>\n",
       "      <th>9</th>\n",
       "      <td>GATA1</td>\n",
       "      <td>0.842469</td>\n",
       "      <td>0.166833</td>\n",
       "      <td>5.0</td>\n",
       "      <td>15.0</td>\n",
       "      <td>0.777717</td>\n",
       "      <td>False</td>\n",
       "    </tr>\n",
       "    <tr>\n",
       "      <th>10</th>\n",
       "      <td>GINS1</td>\n",
       "      <td>0.844158</td>\n",
       "      <td>0.194021</td>\n",
       "      <td>4.0</td>\n",
       "      <td>14.0</td>\n",
       "      <td>0.712152</td>\n",
       "      <td>False</td>\n",
       "    </tr>\n",
       "    <tr>\n",
       "      <th>11</th>\n",
       "      <td>GNB2L1</td>\n",
       "      <td>0.780451</td>\n",
       "      <td>0.202940</td>\n",
       "      <td>4.0</td>\n",
       "      <td>14.0</td>\n",
       "      <td>0.692633</td>\n",
       "      <td>False</td>\n",
       "    </tr>\n",
       "    <tr>\n",
       "      <th>12</th>\n",
       "      <td>HSPA5</td>\n",
       "      <td>0.838703</td>\n",
       "      <td>0.200800</td>\n",
       "      <td>4.0</td>\n",
       "      <td>14.0</td>\n",
       "      <td>0.697236</td>\n",
       "      <td>False</td>\n",
       "    </tr>\n",
       "    <tr>\n",
       "      <th>13</th>\n",
       "      <td>HSPA9</td>\n",
       "      <td>0.838703</td>\n",
       "      <td>0.200800</td>\n",
       "      <td>4.0</td>\n",
       "      <td>14.0</td>\n",
       "      <td>0.697236</td>\n",
       "      <td>False</td>\n",
       "    </tr>\n",
       "    <tr>\n",
       "      <th>14</th>\n",
       "      <td>HSPE1</td>\n",
       "      <td>0.875824</td>\n",
       "      <td>0.096970</td>\n",
       "      <td>4.0</td>\n",
       "      <td>14.0</td>\n",
       "      <td>1.013361</td>\n",
       "      <td>False</td>\n",
       "    </tr>\n",
       "    <tr>\n",
       "      <th>15</th>\n",
       "      <td>MTOR</td>\n",
       "      <td>0.695846</td>\n",
       "      <td>0.211199</td>\n",
       "      <td>4.0</td>\n",
       "      <td>14.0</td>\n",
       "      <td>0.675308</td>\n",
       "      <td>False</td>\n",
       "    </tr>\n",
       "    <tr>\n",
       "      <th>16</th>\n",
       "      <td>POLR1D</td>\n",
       "      <td>0.838703</td>\n",
       "      <td>0.200800</td>\n",
       "      <td>4.0</td>\n",
       "      <td>14.0</td>\n",
       "      <td>0.697236</td>\n",
       "      <td>False</td>\n",
       "    </tr>\n",
       "    <tr>\n",
       "      <th>17</th>\n",
       "      <td>POLR2H</td>\n",
       "      <td>0.712204</td>\n",
       "      <td>0.308269</td>\n",
       "      <td>4.0</td>\n",
       "      <td>14.0</td>\n",
       "      <td>0.511070</td>\n",
       "      <td>False</td>\n",
       "    </tr>\n",
       "    <tr>\n",
       "      <th>18</th>\n",
       "      <td>RAN</td>\n",
       "      <td>0.565337</td>\n",
       "      <td>0.286711</td>\n",
       "      <td>4.0</td>\n",
       "      <td>14.0</td>\n",
       "      <td>0.542555</td>\n",
       "      <td>False</td>\n",
       "    </tr>\n",
       "    <tr>\n",
       "      <th>19</th>\n",
       "      <td>RPL9</td>\n",
       "      <td>0.848443</td>\n",
       "      <td>0.084492</td>\n",
       "      <td>4.0</td>\n",
       "      <td>14.0</td>\n",
       "      <td>1.073187</td>\n",
       "      <td>False</td>\n",
       "    </tr>\n",
       "    <tr>\n",
       "      <th>20</th>\n",
       "      <td>RPS14</td>\n",
       "      <td>0.591503</td>\n",
       "      <td>0.409459</td>\n",
       "      <td>5.0</td>\n",
       "      <td>15.0</td>\n",
       "      <td>0.387790</td>\n",
       "      <td>False</td>\n",
       "    </tr>\n",
       "    <tr>\n",
       "      <th>21</th>\n",
       "      <td>RPS15</td>\n",
       "      <td>0.481795</td>\n",
       "      <td>0.437916</td>\n",
       "      <td>4.0</td>\n",
       "      <td>14.0</td>\n",
       "      <td>0.358609</td>\n",
       "      <td>False</td>\n",
       "    </tr>\n",
       "    <tr>\n",
       "      <th>22</th>\n",
       "      <td>RPS18</td>\n",
       "      <td>0.729565</td>\n",
       "      <td>0.235856</td>\n",
       "      <td>4.0</td>\n",
       "      <td>14.0</td>\n",
       "      <td>0.627352</td>\n",
       "      <td>False</td>\n",
       "    </tr>\n",
       "    <tr>\n",
       "      <th>23</th>\n",
       "      <td>SEC61A1</td>\n",
       "      <td>0.841300</td>\n",
       "      <td>0.199160</td>\n",
       "      <td>4.0</td>\n",
       "      <td>14.0</td>\n",
       "      <td>0.700798</td>\n",
       "      <td>False</td>\n",
       "    </tr>\n",
       "    <tr>\n",
       "      <th>24</th>\n",
       "      <td>TUBB</td>\n",
       "      <td>0.839915</td>\n",
       "      <td>0.200100</td>\n",
       "      <td>4.0</td>\n",
       "      <td>14.0</td>\n",
       "      <td>0.698753</td>\n",
       "      <td>False</td>\n",
       "    </tr>\n",
       "  </tbody>\n",
       "</table>\n",
       "</div>"
      ],
      "text/plain": [
       "   Metadata_gene_identity       mAP   p_value  n_pos_pairs  n_total_pairs  \\\n",
       "0                   ALDOA  0.494726  0.425897          4.0           14.0   \n",
       "1                   ATP5E  0.632972  0.331287          4.0           14.0   \n",
       "2                     BCR  0.768315  0.125237          5.0           15.0   \n",
       "3                     CAD  0.842491  0.197500          4.0           14.0   \n",
       "4                   CDC23  0.794915  0.201040          4.0           14.0   \n",
       "5                   COX11  0.442733  0.425577          4.0           14.0   \n",
       "6                    DBR1  0.728418  0.127367          4.0           14.0   \n",
       "7                     DUT  0.919286  0.024858          4.0           14.0   \n",
       "8                  EIF2S1  0.807274  0.201160          4.0           14.0   \n",
       "9                   GATA1  0.842469  0.166833          5.0           15.0   \n",
       "10                  GINS1  0.844158  0.194021          4.0           14.0   \n",
       "11                 GNB2L1  0.780451  0.202940          4.0           14.0   \n",
       "12                  HSPA5  0.838703  0.200800          4.0           14.0   \n",
       "13                  HSPA9  0.838703  0.200800          4.0           14.0   \n",
       "14                  HSPE1  0.875824  0.096970          4.0           14.0   \n",
       "15                   MTOR  0.695846  0.211199          4.0           14.0   \n",
       "16                 POLR1D  0.838703  0.200800          4.0           14.0   \n",
       "17                 POLR2H  0.712204  0.308269          4.0           14.0   \n",
       "18                    RAN  0.565337  0.286711          4.0           14.0   \n",
       "19                   RPL9  0.848443  0.084492          4.0           14.0   \n",
       "20                  RPS14  0.591503  0.409459          5.0           15.0   \n",
       "21                  RPS15  0.481795  0.437916          4.0           14.0   \n",
       "22                  RPS18  0.729565  0.235856          4.0           14.0   \n",
       "23                SEC61A1  0.841300  0.199160          4.0           14.0   \n",
       "24                   TUBB  0.839915  0.200100          4.0           14.0   \n",
       "\n",
       "    -log10(p-value)  p < 0.05  \n",
       "0          0.370695     False  \n",
       "1          0.479796     False  \n",
       "2          0.902266     False  \n",
       "3          0.704432     False  \n",
       "4          0.696718     False  \n",
       "5          0.371021     False  \n",
       "6          0.894942     False  \n",
       "7          1.604542      True  \n",
       "8          0.696459     False  \n",
       "9          0.777717     False  \n",
       "10         0.712152     False  \n",
       "11         0.692633     False  \n",
       "12         0.697236     False  \n",
       "13         0.697236     False  \n",
       "14         1.013361     False  \n",
       "15         0.675308     False  \n",
       "16         0.697236     False  \n",
       "17         0.511070     False  \n",
       "18         0.542555     False  \n",
       "19         1.073187     False  \n",
       "20         0.387790     False  \n",
       "21         0.358609     False  \n",
       "22         0.627352     False  \n",
       "23         0.700798     False  \n",
       "24         0.698753     False  "
      ]
     },
     "execution_count": 28,
     "metadata": {},
     "output_type": "execute_result"
    }
   ],
   "source": [
    "bulk_map_results = map_results[\"mean_ap\"]\n",
    "\n",
    "bulk_map_results[\"-log10(p-value)\"] = -np.log10(bulk_map_results[\"p_value\"])\n",
    "bulk_map_results[\"p < 0.05\"] = bulk_map_results[\"p_value\"] < 0.05\n",
    "\n",
    "bulk_map_results.rename({\n",
    "    \"mean_ap\": \"mAP\",\n",
    "    \"nlog10pvalue\": \"-log10(p-value)\",\n",
    "    \"above_p_threshold\": \"p < 0.05\",\n",
    "    }, axis=1, inplace=True)\n",
    "bulk_map_results"
   ]
  },
  {
   "cell_type": "code",
   "execution_count": 29,
   "metadata": {},
   "outputs": [
    {
     "name": "stderr",
     "output_type": "stream",
     "text": [
      "/tmp/ipykernel_40914/3172002166.py:41: UserWarning: Dataset has 0 variance; skipping density estimate. Pass `warn_singular=False` to disable this warning.\n",
      "  ax = sns.kdeplot(\n"
     ]
    },
    {
     "data": {
      "image/png": "[encoded data removed]",
      "text/plain": [
       "<Figure size 500x600 with 2 Axes>"
      ]
     },
     "metadata": {},
     "output_type": "display_data"
    }
   ],
   "source": [
    "df = bulk_map_results\n",
    "\n",
    "def remove_inner_ticklabels(fig: plt.Figure):\n",
    "    \"\"\"\n",
    "    Remove inner ticklabels from a figure.\n",
    "\n",
    "    Parameters\n",
    "    ----------\n",
    "    fig : matplotlib.figure.Figure\n",
    "        Figure to remove inner ticklabels from.\n",
    "    \"\"\"\n",
    "    for ax in fig.axes:\n",
    "        try:\n",
    "            ax.label_outer()\n",
    "        except AttributeError:\n",
    "            pass\n",
    "\n",
    "\n",
    "fig, axes = plt.subplots(2, 1, figsize=(5, 6), gridspec_kw={'height_ratios': [5, 1]})\n",
    "\n",
    "mean_map = df['mAP'].mean()\n",
    "sns.scatterplot(\n",
    "    ax=axes[0], \n",
    "    data=df, \n",
    "    x='mAP', \n",
    "    y='-log10(p-value)', \n",
    "    hue='p < 0.05',\n",
    "    s=50\n",
    ")\n",
    "axes[0].set_title(\"Biological similarity\")\n",
    "\n",
    "\n",
    "axes[0].set_xlabel(\"\")\n",
    "axes[0].set_ylim(0, max(df['-log10(p-value)'])+0.1)\n",
    "sns.move_legend(axes[0], \"lower right\")\n",
    "\n",
    "# Second Row: KDE plots\n",
    "max_kde_y = 0\n",
    "mean_map = df['mAP'].mean()\n",
    "for p_value in df['p < 0.05'].unique():\n",
    "    ax = sns.kdeplot(\n",
    "        ax=axes[1],\n",
    "        data=df[df['p < 0.05'] == p_value],\n",
    "        x='mAP', \n",
    "        label=str(p_value)\n",
    "    )\n",
    "    max_kde_y = max(max_kde_y, max(ax.lines[-1].get_ydata()))\n",
    "    axes[1].axvline(mean_map, color='grey', linestyle='--')\n",
    "# axes[1].set_ylabel(\"\")\n",
    "axes[1].set_ylim(0, max_kde_y)\n",
    "axes[1].text(mean_map+0.01, 0.75, f\"Mean mAP: {mean_map:.2f}\", transform=axes[1].transAxes)\n",
    "\n",
    "for ax in axes.flat:\n",
    "    ax.set_xlim(0, 1)  # Set x-axis limit to 0-1 for all subplots\n",
    "\n",
    "remove_inner_ticklabels(fig)\n",
    "plt.tight_layout()\n",
    "plt.show()\n"
   ]
  },
  {
   "cell_type": "code",
   "execution_count": 35,
   "metadata": {},
   "outputs": [
    {
     "data": {
      "text/plain": [
       "array(['ALDOA', 'ATP5E', 'BCR', 'CAD', 'CDC23', 'COX11', 'DBR1', 'DUT',\n",
       "       'EIF2S1', 'GATA1', 'GINS1', 'GNB2L1', 'HSPA5', 'HSPA9', 'HSPE1',\n",
       "       'MTOR', 'POLR1D', 'POLR2H', 'RAN', 'RPL9', 'RPS14', 'RPS15',\n",
       "       'RPS18', 'SEC61A1', 'TUBB'], dtype=object)"
      ]
     },
     "execution_count": 35,
     "metadata": {},
     "output_type": "execute_result"
    }
   ],
   "source": [
    "bulk_map_results.Metadata_gene_identity.values "
   ]
  },
  {
   "cell_type": "code",
   "execution_count": 38,
   "metadata": {},
   "outputs": [
    {
     "data": {
      "text/plain": [
       "array(['ALDOA', 'ATP5E', 'BCR', 'CAD', 'CDC23', 'COX11', 'DBR1', 'DUT',\n",
       "       'EIF2S1', 'GATA1', 'GINS1', 'GNB2L1', 'HSPA5', 'HSPA9', 'HSPE1',\n",
       "       'MTOR', 'POLR1D', 'POLR2H', 'RAN', 'RPL9', 'RPS14', 'RPS15',\n",
       "       'RPS18', 'SEC61A1', 'TUBB'], dtype=object)"
      ]
     },
     "execution_count": 38,
     "metadata": {},
     "output_type": "execute_result"
    }
   ],
   "source": [
    "activity_df.gene.unique()"
   ]
  },
  {
   "cell_type": "code",
   "execution_count": 39,
   "metadata": {},
   "outputs": [
    {
     "data": {
      "text/html": [
       "<div>\n",
       "<style scoped>\n",
       "    .dataframe tbody tr th:only-of-type {\n",
       "        vertical-align: middle;\n",
       "    }\n",
       "\n",
       "    .dataframe tbody tr th {\n",
       "        vertical-align: top;\n",
       "    }\n",
       "\n",
       "    .dataframe thead th {\n",
       "        text-align: right;\n",
       "    }\n",
       "</style>\n",
       "<table border=\"1\" class=\"dataframe\">\n",
       "  <thead>\n",
       "    <tr style=\"text-align: right;\">\n",
       "      <th></th>\n",
       "      <th>Metadata_gene_identity</th>\n",
       "      <th>mAP</th>\n",
       "      <th>p_value</th>\n",
       "      <th>n_pos_pairs</th>\n",
       "      <th>n_total_pairs</th>\n",
       "      <th>-log10(p-value)</th>\n",
       "      <th>p &lt; 0.05</th>\n",
       "      <th>relative_activity_day5</th>\n",
       "    </tr>\n",
       "  </thead>\n",
       "  <tbody>\n",
       "    <tr>\n",
       "      <th>0</th>\n",
       "      <td>ALDOA</td>\n",
       "      <td>0.494726</td>\n",
       "      <td>0.425897</td>\n",
       "      <td>4.0</td>\n",
       "      <td>14.0</td>\n",
       "      <td>0.370695</td>\n",
       "      <td>False</td>\n",
       "      <td>0.643740</td>\n",
       "    </tr>\n",
       "    <tr>\n",
       "      <th>1</th>\n",
       "      <td>ATP5E</td>\n",
       "      <td>0.632972</td>\n",
       "      <td>0.331287</td>\n",
       "      <td>4.0</td>\n",
       "      <td>14.0</td>\n",
       "      <td>0.479796</td>\n",
       "      <td>False</td>\n",
       "      <td>0.744412</td>\n",
       "    </tr>\n",
       "    <tr>\n",
       "      <th>2</th>\n",
       "      <td>BCR</td>\n",
       "      <td>0.768315</td>\n",
       "      <td>0.125237</td>\n",
       "      <td>5.0</td>\n",
       "      <td>15.0</td>\n",
       "      <td>0.902266</td>\n",
       "      <td>False</td>\n",
       "      <td>0.644184</td>\n",
       "    </tr>\n",
       "    <tr>\n",
       "      <th>3</th>\n",
       "      <td>CAD</td>\n",
       "      <td>0.842491</td>\n",
       "      <td>0.197500</td>\n",
       "      <td>4.0</td>\n",
       "      <td>14.0</td>\n",
       "      <td>0.704432</td>\n",
       "      <td>False</td>\n",
       "      <td>0.706873</td>\n",
       "    </tr>\n",
       "    <tr>\n",
       "      <th>4</th>\n",
       "      <td>CDC23</td>\n",
       "      <td>0.794915</td>\n",
       "      <td>0.201040</td>\n",
       "      <td>4.0</td>\n",
       "      <td>14.0</td>\n",
       "      <td>0.696718</td>\n",
       "      <td>False</td>\n",
       "      <td>0.745121</td>\n",
       "    </tr>\n",
       "    <tr>\n",
       "      <th>5</th>\n",
       "      <td>COX11</td>\n",
       "      <td>0.442733</td>\n",
       "      <td>0.425577</td>\n",
       "      <td>4.0</td>\n",
       "      <td>14.0</td>\n",
       "      <td>0.371021</td>\n",
       "      <td>False</td>\n",
       "      <td>0.752218</td>\n",
       "    </tr>\n",
       "    <tr>\n",
       "      <th>6</th>\n",
       "      <td>DBR1</td>\n",
       "      <td>0.728418</td>\n",
       "      <td>0.127367</td>\n",
       "      <td>4.0</td>\n",
       "      <td>14.0</td>\n",
       "      <td>0.894942</td>\n",
       "      <td>False</td>\n",
       "      <td>0.803194</td>\n",
       "    </tr>\n",
       "    <tr>\n",
       "      <th>7</th>\n",
       "      <td>DUT</td>\n",
       "      <td>0.919286</td>\n",
       "      <td>0.024858</td>\n",
       "      <td>4.0</td>\n",
       "      <td>14.0</td>\n",
       "      <td>1.604542</td>\n",
       "      <td>True</td>\n",
       "      <td>0.873716</td>\n",
       "    </tr>\n",
       "    <tr>\n",
       "      <th>8</th>\n",
       "      <td>EIF2S1</td>\n",
       "      <td>0.807274</td>\n",
       "      <td>0.201160</td>\n",
       "      <td>4.0</td>\n",
       "      <td>14.0</td>\n",
       "      <td>0.696459</td>\n",
       "      <td>False</td>\n",
       "      <td>0.626084</td>\n",
       "    </tr>\n",
       "    <tr>\n",
       "      <th>9</th>\n",
       "      <td>GATA1</td>\n",
       "      <td>0.842469</td>\n",
       "      <td>0.166833</td>\n",
       "      <td>5.0</td>\n",
       "      <td>15.0</td>\n",
       "      <td>0.777717</td>\n",
       "      <td>False</td>\n",
       "      <td>0.737206</td>\n",
       "    </tr>\n",
       "    <tr>\n",
       "      <th>10</th>\n",
       "      <td>GINS1</td>\n",
       "      <td>0.844158</td>\n",
       "      <td>0.194021</td>\n",
       "      <td>4.0</td>\n",
       "      <td>14.0</td>\n",
       "      <td>0.712152</td>\n",
       "      <td>False</td>\n",
       "      <td>0.824105</td>\n",
       "    </tr>\n",
       "    <tr>\n",
       "      <th>11</th>\n",
       "      <td>GNB2L1</td>\n",
       "      <td>0.780451</td>\n",
       "      <td>0.202940</td>\n",
       "      <td>4.0</td>\n",
       "      <td>14.0</td>\n",
       "      <td>0.692633</td>\n",
       "      <td>False</td>\n",
       "      <td>0.914998</td>\n",
       "    </tr>\n",
       "    <tr>\n",
       "      <th>12</th>\n",
       "      <td>HSPA5</td>\n",
       "      <td>0.838703</td>\n",
       "      <td>0.200800</td>\n",
       "      <td>4.0</td>\n",
       "      <td>14.0</td>\n",
       "      <td>0.697236</td>\n",
       "      <td>False</td>\n",
       "      <td>0.806571</td>\n",
       "    </tr>\n",
       "    <tr>\n",
       "      <th>13</th>\n",
       "      <td>HSPA9</td>\n",
       "      <td>0.838703</td>\n",
       "      <td>0.200800</td>\n",
       "      <td>4.0</td>\n",
       "      <td>14.0</td>\n",
       "      <td>0.697236</td>\n",
       "      <td>False</td>\n",
       "      <td>0.625285</td>\n",
       "    </tr>\n",
       "    <tr>\n",
       "      <th>14</th>\n",
       "      <td>HSPE1</td>\n",
       "      <td>0.875824</td>\n",
       "      <td>0.096970</td>\n",
       "      <td>4.0</td>\n",
       "      <td>14.0</td>\n",
       "      <td>1.013361</td>\n",
       "      <td>False</td>\n",
       "      <td>0.742592</td>\n",
       "    </tr>\n",
       "    <tr>\n",
       "      <th>15</th>\n",
       "      <td>MTOR</td>\n",
       "      <td>0.695846</td>\n",
       "      <td>0.211199</td>\n",
       "      <td>4.0</td>\n",
       "      <td>14.0</td>\n",
       "      <td>0.675308</td>\n",
       "      <td>False</td>\n",
       "      <td>0.700191</td>\n",
       "    </tr>\n",
       "    <tr>\n",
       "      <th>16</th>\n",
       "      <td>POLR1D</td>\n",
       "      <td>0.838703</td>\n",
       "      <td>0.200800</td>\n",
       "      <td>4.0</td>\n",
       "      <td>14.0</td>\n",
       "      <td>0.697236</td>\n",
       "      <td>False</td>\n",
       "      <td>0.898532</td>\n",
       "    </tr>\n",
       "    <tr>\n",
       "      <th>17</th>\n",
       "      <td>POLR2H</td>\n",
       "      <td>0.712204</td>\n",
       "      <td>0.308269</td>\n",
       "      <td>4.0</td>\n",
       "      <td>14.0</td>\n",
       "      <td>0.511070</td>\n",
       "      <td>False</td>\n",
       "      <td>0.558253</td>\n",
       "    </tr>\n",
       "    <tr>\n",
       "      <th>18</th>\n",
       "      <td>RAN</td>\n",
       "      <td>0.565337</td>\n",
       "      <td>0.286711</td>\n",
       "      <td>4.0</td>\n",
       "      <td>14.0</td>\n",
       "      <td>0.542555</td>\n",
       "      <td>False</td>\n",
       "      <td>0.787915</td>\n",
       "    </tr>\n",
       "    <tr>\n",
       "      <th>19</th>\n",
       "      <td>RPL9</td>\n",
       "      <td>0.848443</td>\n",
       "      <td>0.084492</td>\n",
       "      <td>4.0</td>\n",
       "      <td>14.0</td>\n",
       "      <td>1.073187</td>\n",
       "      <td>False</td>\n",
       "      <td>0.589829</td>\n",
       "    </tr>\n",
       "    <tr>\n",
       "      <th>20</th>\n",
       "      <td>RPS14</td>\n",
       "      <td>0.591503</td>\n",
       "      <td>0.409459</td>\n",
       "      <td>5.0</td>\n",
       "      <td>15.0</td>\n",
       "      <td>0.387790</td>\n",
       "      <td>False</td>\n",
       "      <td>0.551565</td>\n",
       "    </tr>\n",
       "    <tr>\n",
       "      <th>21</th>\n",
       "      <td>RPS15</td>\n",
       "      <td>0.481795</td>\n",
       "      <td>0.437916</td>\n",
       "      <td>4.0</td>\n",
       "      <td>14.0</td>\n",
       "      <td>0.358609</td>\n",
       "      <td>False</td>\n",
       "      <td>0.514400</td>\n",
       "    </tr>\n",
       "    <tr>\n",
       "      <th>22</th>\n",
       "      <td>RPS18</td>\n",
       "      <td>0.729565</td>\n",
       "      <td>0.235856</td>\n",
       "      <td>4.0</td>\n",
       "      <td>14.0</td>\n",
       "      <td>0.627352</td>\n",
       "      <td>False</td>\n",
       "      <td>0.532796</td>\n",
       "    </tr>\n",
       "    <tr>\n",
       "      <th>23</th>\n",
       "      <td>SEC61A1</td>\n",
       "      <td>0.841300</td>\n",
       "      <td>0.199160</td>\n",
       "      <td>4.0</td>\n",
       "      <td>14.0</td>\n",
       "      <td>0.700798</td>\n",
       "      <td>False</td>\n",
       "      <td>0.574183</td>\n",
       "    </tr>\n",
       "    <tr>\n",
       "      <th>24</th>\n",
       "      <td>TUBB</td>\n",
       "      <td>0.839915</td>\n",
       "      <td>0.200100</td>\n",
       "      <td>4.0</td>\n",
       "      <td>14.0</td>\n",
       "      <td>0.698753</td>\n",
       "      <td>False</td>\n",
       "      <td>0.767899</td>\n",
       "    </tr>\n",
       "  </tbody>\n",
       "</table>\n",
       "</div>"
      ],
      "text/plain": [
       "   Metadata_gene_identity       mAP   p_value  n_pos_pairs  n_total_pairs  \\\n",
       "0                   ALDOA  0.494726  0.425897          4.0           14.0   \n",
       "1                   ATP5E  0.632972  0.331287          4.0           14.0   \n",
       "2                     BCR  0.768315  0.125237          5.0           15.0   \n",
       "3                     CAD  0.842491  0.197500          4.0           14.0   \n",
       "4                   CDC23  0.794915  0.201040          4.0           14.0   \n",
       "5                   COX11  0.442733  0.425577          4.0           14.0   \n",
       "6                    DBR1  0.728418  0.127367          4.0           14.0   \n",
       "7                     DUT  0.919286  0.024858          4.0           14.0   \n",
       "8                  EIF2S1  0.807274  0.201160          4.0           14.0   \n",
       "9                   GATA1  0.842469  0.166833          5.0           15.0   \n",
       "10                  GINS1  0.844158  0.194021          4.0           14.0   \n",
       "11                 GNB2L1  0.780451  0.202940          4.0           14.0   \n",
       "12                  HSPA5  0.838703  0.200800          4.0           14.0   \n",
       "13                  HSPA9  0.838703  0.200800          4.0           14.0   \n",
       "14                  HSPE1  0.875824  0.096970          4.0           14.0   \n",
       "15                   MTOR  0.695846  0.211199          4.0           14.0   \n",
       "16                 POLR1D  0.838703  0.200800          4.0           14.0   \n",
       "17                 POLR2H  0.712204  0.308269          4.0           14.0   \n",
       "18                    RAN  0.565337  0.286711          4.0           14.0   \n",
       "19                   RPL9  0.848443  0.084492          4.0           14.0   \n",
       "20                  RPS14  0.591503  0.409459          5.0           15.0   \n",
       "21                  RPS15  0.481795  0.437916          4.0           14.0   \n",
       "22                  RPS18  0.729565  0.235856          4.0           14.0   \n",
       "23                SEC61A1  0.841300  0.199160          4.0           14.0   \n",
       "24                   TUBB  0.839915  0.200100          4.0           14.0   \n",
       "\n",
       "    -log10(p-value)  p < 0.05  relative_activity_day5  \n",
       "0          0.370695     False                0.643740  \n",
       "1          0.479796     False                0.744412  \n",
       "2          0.902266     False                0.644184  \n",
       "3          0.704432     False                0.706873  \n",
       "4          0.696718     False                0.745121  \n",
       "5          0.371021     False                0.752218  \n",
       "6          0.894942     False                0.803194  \n",
       "7          1.604542      True                0.873716  \n",
       "8          0.696459     False                0.626084  \n",
       "9          0.777717     False                0.737206  \n",
       "10         0.712152     False                0.824105  \n",
       "11         0.692633     False                0.914998  \n",
       "12         0.697236     False                0.806571  \n",
       "13         0.697236     False                0.625285  \n",
       "14         1.013361     False                0.742592  \n",
       "15         0.675308     False                0.700191  \n",
       "16         0.697236     False                0.898532  \n",
       "17         0.511070     False                0.558253  \n",
       "18         0.542555     False                0.787915  \n",
       "19         1.073187     False                0.589829  \n",
       "20         0.387790     False                0.551565  \n",
       "21         0.358609     False                0.514400  \n",
       "22         0.627352     False                0.532796  \n",
       "23         0.700798     False                0.574183  \n",
       "24         0.698753     False                0.767899  "
      ]
     },
     "execution_count": 39,
     "metadata": {},
     "output_type": "execute_result"
    }
   ],
   "source": [
    "# result.merge(activity_df, left_on=\"perturbation\", right_on=\"perturbation\")\n",
    "\n",
    "bulk_map_results = bulk_map_results.merge(activity_df.groupby(\"gene\")[\"relative_activity_day5\"].mean(), left_on=\"Metadata_gene_identity\", right_on=\"gene\")\n",
    "bulk_map_results"
   ]
  },
  {
   "cell_type": "code",
   "execution_count": 43,
   "metadata": {},
   "outputs": [
    {
     "data": {
      "text/plain": [
       "<Axes: xlabel='mAP', ylabel='relative_activity_day5'>"
      ]
     },
     "execution_count": 43,
     "metadata": {},
     "output_type": "execute_result"
    },
    {
     "data": {
      "image/png": "[encoded data removed]",
      "text/plain": [
       "<Figure size 640x480 with 1 Axes>"
      ]
     },
     "metadata": {},
     "output_type": "display_data"
    }
   ],
   "source": [
    "sns.scatterplot(data=bulk_map_results, x=\"mAP\", y=\"relative_activity_day5\", hue=\"p < 0.05\")"
   ]
  },
  {
   "cell_type": "code",
   "execution_count": 26,
   "metadata": {},
   "outputs": [],
   "source": [
    "\n",
    "\n",
    "# # Some genes have very small variance still, remove these!\n",
    "# genes_to_retain = (\n",
    "#     # pd.DataFrame(bulk_df.filter(regex=\"^(?!Metadata_)\").var() > 0.001)\n",
    "#     bulk_df\n",
    "#     .reset_index()\n",
    "#     .rename({\"index\": \"gene\", 0: \"keep\"}, axis=\"columns\")\n",
    "#     .query(\"keep\")\n",
    "#     .gene.tolist()\n",
    "# )\n",
    "\n",
    "# bulk_subset_df = bulk_df.loc[:, [\"Metadata_guide_identity\"] + genes_to_retain]\n",
    "\n",
    "# # create a column for the gene\n",
    "# bulk_subset_df = bulk_df.assign(\n",
    "#     Metadata_gene_identity=[x.split(\"_\")[0] for x in bulk_subset_df.Metadata_guide_identity]\n",
    "# ).query(\"Metadata_gene_identity != '*'\")\n",
    "\n",
    "# print(bulk_subset_df.shape)\n",
    "# bulk_subset_df.head()"
   ]
  },
  {
   "cell_type": "markdown",
   "metadata": {},
   "source": [
    "## Calculate Grit\n",
    "\n",
    "### Bulk profiles"
   ]
  },
  {
   "cell_type": "code",
   "execution_count": 9,
   "metadata": {},
   "outputs": [
    {
     "data": {
      "text/plain": [
       "['neg_ctrl_non-targeting_00001',\n",
       " 'neg_ctrl_non-targeting_00028',\n",
       " 'neg_ctrl_non-targeting_00054',\n",
       " 'neg_ctrl_non-targeting_00089',\n",
       " 'neg_ctrl_non-targeting_00217',\n",
       " 'neg_ctrl_non-targeting_00283',\n",
       " 'neg_ctrl_non-targeting_00406',\n",
       " 'neg_ctrl_non-targeting_00527',\n",
       " 'neg_ctrl_non-targeting_00802',\n",
       " 'neg_ctrl_non-targeting_01040']"
      ]
     },
     "execution_count": 9,
     "metadata": {},
     "output_type": "execute_result"
    }
   ],
   "source": [
    "barcode_col = \"Metadata_guide_identity\"\n",
    "gene_col = \"Metadata_gene_identity\"\n",
    "\n",
    "replicate_group_grit = {\"profile_col\": barcode_col, \"replicate_group_col\": gene_col}\n",
    "\n",
    "bulk_df[\"Metadata_is_control\"] = bulk_df.Metadata_guide_identity.str.contains(\"neg_ctrl\").astype(int)\n",
    "neg_controls = [x for x in bulk_subset_df.Metadata_guide_identity if \"neg_ctrl\" in x]\n",
    "neg_controls"
   ]
  },
  {
   "cell_type": "code",
   "execution_count": 11,
   "metadata": {},
   "outputs": [
    {
     "ename": "NameError",
     "evalue": "name 'evaluate_metricd' is not defined",
     "output_type": "error",
     "traceback": [
      "\u001b[0;31m---------------------------------------------------------------------------\u001b[0m",
      "\u001b[0;31mNameError\u001b[0m                                 Traceback (most recent call last)",
      "Cell \u001b[0;32mIn[11], line 15\u001b[0m\n\u001b[1;32m      1\u001b[0m pair_config \u001b[38;5;241m=\u001b[39m {\n\u001b[1;32m      2\u001b[0m     \u001b[38;5;124m\"\u001b[39m\u001b[38;5;124mpos_sameby\u001b[39m\u001b[38;5;124m\"\u001b[39m: {\u001b[38;5;124m\"\u001b[39m\u001b[38;5;124mall\u001b[39m\u001b[38;5;124m\"\u001b[39m: [\u001b[38;5;124m\"\u001b[39m\u001b[38;5;124mMetadata_gene_identity\u001b[39m\u001b[38;5;124m\"\u001b[39m, \u001b[38;5;124m\"\u001b[39m\u001b[38;5;124mMetadata_is_control == 0\u001b[39m\u001b[38;5;124m\"\u001b[39m], \u001b[38;5;124m\"\u001b[39m\u001b[38;5;124many\u001b[39m\u001b[38;5;124m\"\u001b[39m: []},\n\u001b[1;32m      3\u001b[0m     \u001b[38;5;124m\"\u001b[39m\u001b[38;5;124mpos_diffby\u001b[39m\u001b[38;5;124m\"\u001b[39m: {\u001b[38;5;124m\"\u001b[39m\u001b[38;5;124mall\u001b[39m\u001b[38;5;124m\"\u001b[39m: [], \u001b[38;5;124m\"\u001b[39m\u001b[38;5;124many\u001b[39m\u001b[38;5;124m\"\u001b[39m: []},\n\u001b[1;32m      4\u001b[0m     \u001b[38;5;124m\"\u001b[39m\u001b[38;5;124mneg_sameby\u001b[39m\u001b[38;5;124m\"\u001b[39m: {\u001b[38;5;124m\"\u001b[39m\u001b[38;5;124mall\u001b[39m\u001b[38;5;124m\"\u001b[39m: [], \u001b[38;5;124m\"\u001b[39m\u001b[38;5;124many\u001b[39m\u001b[38;5;124m\"\u001b[39m: []},\n\u001b[1;32m      5\u001b[0m     \u001b[38;5;124m\"\u001b[39m\u001b[38;5;124mneg_diffby\u001b[39m\u001b[38;5;124m\"\u001b[39m: {\u001b[38;5;124m\"\u001b[39m\u001b[38;5;124mall\u001b[39m\u001b[38;5;124m\"\u001b[39m: [\u001b[38;5;124m\"\u001b[39m\u001b[38;5;124mMetadata_is_control\u001b[39m\u001b[38;5;124m\"\u001b[39m], \u001b[38;5;124m\"\u001b[39m\u001b[38;5;124many\u001b[39m\u001b[38;5;124m\"\u001b[39m: []},\n\u001b[1;32m      6\u001b[0m }\n\u001b[1;32m      8\u001b[0m map_config \u001b[38;5;241m=\u001b[39m {\n\u001b[1;32m      9\u001b[0m     \u001b[38;5;124m\"\u001b[39m\u001b[38;5;124mmean_ap\u001b[39m\u001b[38;5;124m\"\u001b[39m: {\n\u001b[1;32m     10\u001b[0m         \u001b[38;5;124m\"\u001b[39m\u001b[38;5;124mnull_size\u001b[39m\u001b[38;5;124m\"\u001b[39m: \u001b[38;5;241m10000\u001b[39m,\n\u001b[1;32m     11\u001b[0m         \u001b[38;5;124m\"\u001b[39m\u001b[38;5;124mgroupby_columns\u001b[39m\u001b[38;5;124m\"\u001b[39m: [\u001b[38;5;124m\"\u001b[39m\u001b[38;5;124mMetadata_gene_identity\u001b[39m\u001b[38;5;124m\"\u001b[39m],\n\u001b[1;32m     12\u001b[0m     },\n\u001b[1;32m     13\u001b[0m }\n\u001b[0;32m---> 15\u001b[0m map_results \u001b[38;5;241m=\u001b[39m \u001b[43mevaluate_metricd\u001b[49m(\n\u001b[1;32m     16\u001b[0m     profiles\u001b[38;5;241m=\u001b[39mbulk_df\u001b[38;5;241m.\u001b[39mreset_index(drop\u001b[38;5;241m=\u001b[39m\u001b[38;5;28;01mTrue\u001b[39;00m),\n\u001b[1;32m     17\u001b[0m     features\u001b[38;5;241m=\u001b[39mgenes_to_retain,\n\u001b[1;32m     18\u001b[0m     meta_features\u001b[38;5;241m=\u001b[39mbulk_df\u001b[38;5;241m.\u001b[39mfilter(regex\u001b[38;5;241m=\u001b[39m\u001b[38;5;124m\"\u001b[39m\u001b[38;5;124mMetadata_\u001b[39m\u001b[38;5;124m\"\u001b[39m)\u001b[38;5;241m.\u001b[39mcolumns,\n\u001b[1;32m     19\u001b[0m     replicate_groups\u001b[38;5;241m=\u001b[39mpair_config,\n\u001b[1;32m     20\u001b[0m     metrics_config\u001b[38;5;241m=\u001b[39mmap_config,\n\u001b[1;32m     21\u001b[0m     use_copairs\u001b[38;5;241m=\u001b[39m\u001b[38;5;28;01mTrue\u001b[39;00m,\n\u001b[1;32m     22\u001b[0m )\n",
      "\u001b[0;31mNameError\u001b[0m: name 'evaluate_metricd' is not defined"
     ]
    }
   ],
   "source": [
    "pair_config = {\n",
    "    \"pos_sameby\": {\"all\": [\"Metadata_gene_identity\", \"Metadata_is_control == 0\"], \"any\": []},\n",
    "    \"pos_diffby\": {\"all\": [], \"any\": []},\n",
    "    \"neg_sameby\": {\"all\": [], \"any\": []},\n",
    "    \"neg_diffby\": {\"all\": [\"Metadata_is_control\"], \"any\": []},\n",
    "}\n",
    "\n",
    "map_config = {\n",
    "    \"mean_ap\": {\n",
    "        \"null_size\": 10000,\n",
    "        \"groupby_columns\": [\"Metadata_gene_identity\"],\n",
    "    },\n",
    "}\n",
    "\n",
    "map_results = evaluate_metrics(\n",
    "    profiles=bulk_df.reset_index(drop=True),\n",
    "    features=genes_to_retain,\n",
    "    meta_features=bulk_df.filter(regex=\"Metadata_\").columns,\n",
    "    replicate_groups=pair_config,\n",
    "    metrics_config=map_config,\n",
    "    use_copairs=True,\n",
    ")"
   ]
  },
  {
   "cell_type": "code",
   "execution_count": null,
   "metadata": {},
   "outputs": [],
   "source": []
  },
  {
   "cell_type": "code",
   "execution_count": 11,
   "metadata": {},
   "outputs": [
    {
     "data": {
      "text/html": [
       "<div>\n",
       "<style scoped>\n",
       "    .dataframe tbody tr th:only-of-type {\n",
       "        vertical-align: middle;\n",
       "    }\n",
       "\n",
       "    .dataframe tbody tr th {\n",
       "        vertical-align: top;\n",
       "    }\n",
       "\n",
       "    .dataframe thead th {\n",
       "        text-align: right;\n",
       "    }\n",
       "</style>\n",
       "<table border=\"1\" class=\"dataframe\">\n",
       "  <thead>\n",
       "    <tr style=\"text-align: right;\">\n",
       "      <th></th>\n",
       "      <th>perturbation</th>\n",
       "      <th>Metadata_gene_identity</th>\n",
       "      <th>mean_ap</th>\n",
       "      <th>p_value</th>\n",
       "      <th>n_pos_pairs</th>\n",
       "      <th>n_total_pairs</th>\n",
       "    </tr>\n",
       "  </thead>\n",
       "  <tbody>\n",
       "    <tr>\n",
       "      <th>0</th>\n",
       "      <td>ALDOA_ALDOA_+_30077139.23-P1P2_00</td>\n",
       "      <td>ALDOA</td>\n",
       "      <td>0.498893</td>\n",
       "      <td>0.416058</td>\n",
       "      <td>4.0</td>\n",
       "      <td>14.0</td>\n",
       "    </tr>\n",
       "    <tr>\n",
       "      <th>1</th>\n",
       "      <td>ALDOA_ALDOA_+_30077139.23-P1P2_06</td>\n",
       "      <td>ALDOA</td>\n",
       "      <td>0.448135</td>\n",
       "      <td>0.508774</td>\n",
       "      <td>4.0</td>\n",
       "      <td>14.0</td>\n",
       "    </tr>\n",
       "    <tr>\n",
       "      <th>2</th>\n",
       "      <td>ALDOA_ALDOA_+_30077139.23-P1P2_07</td>\n",
       "      <td>ALDOA</td>\n",
       "      <td>0.371323</td>\n",
       "      <td>0.658501</td>\n",
       "      <td>4.0</td>\n",
       "      <td>14.0</td>\n",
       "    </tr>\n",
       "    <tr>\n",
       "      <th>3</th>\n",
       "      <td>ALDOA_ALDOA_+_30077139.23-P1P2_13</td>\n",
       "      <td>ALDOA</td>\n",
       "      <td>0.217699</td>\n",
       "      <td>0.957954</td>\n",
       "      <td>4.0</td>\n",
       "      <td>14.0</td>\n",
       "    </tr>\n",
       "    <tr>\n",
       "      <th>4</th>\n",
       "      <td>ATP5E_ATP5E_-_57607036.23-P1P2_00</td>\n",
       "      <td>ATP5E</td>\n",
       "      <td>0.637972</td>\n",
       "      <td>0.315388</td>\n",
       "      <td>4.0</td>\n",
       "      <td>14.0</td>\n",
       "    </tr>\n",
       "    <tr>\n",
       "      <th>...</th>\n",
       "      <td>...</td>\n",
       "      <td>...</td>\n",
       "      <td>...</td>\n",
       "      <td>...</td>\n",
       "      <td>...</td>\n",
       "      <td>...</td>\n",
       "    </tr>\n",
       "    <tr>\n",
       "      <th>98</th>\n",
       "      <td>SEC61A1_SEC61A1_-_127771295.23-P1_03</td>\n",
       "      <td>SEC61A1</td>\n",
       "      <td>0.603251</td>\n",
       "      <td>0.496400</td>\n",
       "      <td>4.0</td>\n",
       "      <td>14.0</td>\n",
       "    </tr>\n",
       "    <tr>\n",
       "      <th>99</th>\n",
       "      <td>TUBB_TUBB_+_30688126.23-P1_00</td>\n",
       "      <td>TUBB</td>\n",
       "      <td>0.841165</td>\n",
       "      <td>0.199400</td>\n",
       "      <td>4.0</td>\n",
       "      <td>14.0</td>\n",
       "    </tr>\n",
       "    <tr>\n",
       "      <th>100</th>\n",
       "      <td>TUBB_TUBB_+_30688126.23-P1_01</td>\n",
       "      <td>TUBB</td>\n",
       "      <td>0.801456</td>\n",
       "      <td>0.249000</td>\n",
       "      <td>4.0</td>\n",
       "      <td>14.0</td>\n",
       "    </tr>\n",
       "    <tr>\n",
       "      <th>101</th>\n",
       "      <td>TUBB_TUBB_+_30688126.23-P1_03</td>\n",
       "      <td>TUBB</td>\n",
       "      <td>0.735275</td>\n",
       "      <td>0.331667</td>\n",
       "      <td>4.0</td>\n",
       "      <td>14.0</td>\n",
       "    </tr>\n",
       "    <tr>\n",
       "      <th>102</th>\n",
       "      <td>TUBB_TUBB_+_30688126.23-P1_06</td>\n",
       "      <td>TUBB</td>\n",
       "      <td>0.602913</td>\n",
       "      <td>0.497000</td>\n",
       "      <td>4.0</td>\n",
       "      <td>14.0</td>\n",
       "    </tr>\n",
       "  </tbody>\n",
       "</table>\n",
       "<p>103 rows × 6 columns</p>\n",
       "</div>"
      ],
      "text/plain": [
       "                             perturbation Metadata_gene_identity   mean_ap  \\\n",
       "0       ALDOA_ALDOA_+_30077139.23-P1P2_00                  ALDOA  0.498893   \n",
       "1       ALDOA_ALDOA_+_30077139.23-P1P2_06                  ALDOA  0.448135   \n",
       "2       ALDOA_ALDOA_+_30077139.23-P1P2_07                  ALDOA  0.371323   \n",
       "3       ALDOA_ALDOA_+_30077139.23-P1P2_13                  ALDOA  0.217699   \n",
       "4       ATP5E_ATP5E_-_57607036.23-P1P2_00                  ATP5E  0.637972   \n",
       "..                                    ...                    ...       ...   \n",
       "98   SEC61A1_SEC61A1_-_127771295.23-P1_03                SEC61A1  0.603251   \n",
       "99          TUBB_TUBB_+_30688126.23-P1_00                   TUBB  0.841165   \n",
       "100         TUBB_TUBB_+_30688126.23-P1_01                   TUBB  0.801456   \n",
       "101         TUBB_TUBB_+_30688126.23-P1_03                   TUBB  0.735275   \n",
       "102         TUBB_TUBB_+_30688126.23-P1_06                   TUBB  0.602913   \n",
       "\n",
       "      p_value  n_pos_pairs  n_total_pairs  \n",
       "0    0.416058          4.0           14.0  \n",
       "1    0.508774          4.0           14.0  \n",
       "2    0.658501          4.0           14.0  \n",
       "3    0.957954          4.0           14.0  \n",
       "4    0.315388          4.0           14.0  \n",
       "..        ...          ...            ...  \n",
       "98   0.496400          4.0           14.0  \n",
       "99   0.199400          4.0           14.0  \n",
       "100  0.249000          4.0           14.0  \n",
       "101  0.331667          4.0           14.0  \n",
       "102  0.497000          4.0           14.0  \n",
       "\n",
       "[103 rows x 6 columns]"
      ]
     },
     "execution_count": 11,
     "metadata": {},
     "output_type": "execute_result"
    }
   ],
   "source": [
    "result = map_results[\"mean_ap\"]\n",
    "result.rename({\"Metadata_guide_identity\": \"perturbation\", \"Metadata_gene_ientity\": \"group\"}, axis=\"columns\", inplace=True)\n",
    "result"
   ]
  },
  {
   "cell_type": "code",
   "execution_count": 63,
   "metadata": {},
   "outputs": [
    {
     "name": "stdout",
     "output_type": "stream",
     "text": [
      "(103, 13)\n"
     ]
    },
    {
     "data": {
      "text/html": [
       "<div>\n",
       "<style scoped>\n",
       "    .dataframe tbody tr th:only-of-type {\n",
       "        vertical-align: middle;\n",
       "    }\n",
       "\n",
       "    .dataframe tbody tr th {\n",
       "        vertical-align: top;\n",
       "    }\n",
       "\n",
       "    .dataframe thead th {\n",
       "        text-align: right;\n",
       "    }\n",
       "</style>\n",
       "<table border=\"1\" class=\"dataframe\">\n",
       "  <thead>\n",
       "    <tr style=\"text-align: right;\">\n",
       "      <th></th>\n",
       "      <th>perturbation</th>\n",
       "      <th>Metadata_gene_identity</th>\n",
       "      <th>mean_ap</th>\n",
       "      <th>p_value</th>\n",
       "      <th>n_pos_pairs</th>\n",
       "      <th>n_total_pairs</th>\n",
       "      <th>id</th>\n",
       "      <th>sequence</th>\n",
       "      <th>gene</th>\n",
       "      <th>gamma_day5</th>\n",
       "      <th>gamma_day10</th>\n",
       "      <th>relative_activity_day5</th>\n",
       "      <th>relative_activity_day10</th>\n",
       "    </tr>\n",
       "  </thead>\n",
       "  <tbody>\n",
       "    <tr>\n",
       "      <th>0</th>\n",
       "      <td>ALDOA_ALDOA_+_30077139.23-P1P2_00</td>\n",
       "      <td>ALDOA</td>\n",
       "      <td>0.498893</td>\n",
       "      <td>0.416058</td>\n",
       "      <td>4.0</td>\n",
       "      <td>14.0</td>\n",
       "      <td>ALDOA_+_30077139.23-P1P2_00</td>\n",
       "      <td>GGTCACCAGGACCCCTTCTG</td>\n",
       "      <td>ALDOA</td>\n",
       "      <td>-0.412746</td>\n",
       "      <td>-0.366469</td>\n",
       "      <td>1.000000</td>\n",
       "      <td>1.000000</td>\n",
       "    </tr>\n",
       "    <tr>\n",
       "      <th>1</th>\n",
       "      <td>ALDOA_ALDOA_+_30077139.23-P1P2_06</td>\n",
       "      <td>ALDOA</td>\n",
       "      <td>0.448135</td>\n",
       "      <td>0.508774</td>\n",
       "      <td>4.0</td>\n",
       "      <td>14.0</td>\n",
       "      <td>ALDOA_+_30077139.23-P1P2_06</td>\n",
       "      <td>GGTCACCAGGATCCCTTCTG</td>\n",
       "      <td>ALDOA</td>\n",
       "      <td>-0.396687</td>\n",
       "      <td>-0.348503</td>\n",
       "      <td>0.961091</td>\n",
       "      <td>0.950977</td>\n",
       "    </tr>\n",
       "    <tr>\n",
       "      <th>2</th>\n",
       "      <td>ALDOA_ALDOA_+_30077139.23-P1P2_07</td>\n",
       "      <td>ALDOA</td>\n",
       "      <td>0.371323</td>\n",
       "      <td>0.658501</td>\n",
       "      <td>4.0</td>\n",
       "      <td>14.0</td>\n",
       "      <td>ALDOA_+_30077139.23-P1P2_07</td>\n",
       "      <td>GGTCACCAGGCCCCCTTCTG</td>\n",
       "      <td>ALDOA</td>\n",
       "      <td>-0.360892</td>\n",
       "      <td>-0.335059</td>\n",
       "      <td>0.874369</td>\n",
       "      <td>0.914291</td>\n",
       "    </tr>\n",
       "  </tbody>\n",
       "</table>\n",
       "</div>"
      ],
      "text/plain": [
       "                        perturbation Metadata_gene_identity   mean_ap  \\\n",
       "0  ALDOA_ALDOA_+_30077139.23-P1P2_00                  ALDOA  0.498893   \n",
       "1  ALDOA_ALDOA_+_30077139.23-P1P2_06                  ALDOA  0.448135   \n",
       "2  ALDOA_ALDOA_+_30077139.23-P1P2_07                  ALDOA  0.371323   \n",
       "\n",
       "    p_value  n_pos_pairs  n_total_pairs                           id  \\\n",
       "0  0.416058          4.0           14.0  ALDOA_+_30077139.23-P1P2_00   \n",
       "1  0.508774          4.0           14.0  ALDOA_+_30077139.23-P1P2_06   \n",
       "2  0.658501          4.0           14.0  ALDOA_+_30077139.23-P1P2_07   \n",
       "\n",
       "               sequence   gene  gamma_day5  gamma_day10  \\\n",
       "0  GGTCACCAGGACCCCTTCTG  ALDOA   -0.412746    -0.366469   \n",
       "1  GGTCACCAGGATCCCTTCTG  ALDOA   -0.396687    -0.348503   \n",
       "2  GGTCACCAGGCCCCCTTCTG  ALDOA   -0.360892    -0.335059   \n",
       "\n",
       "   relative_activity_day5  relative_activity_day10  \n",
       "0                1.000000                 1.000000  \n",
       "1                0.961091                 0.950977  \n",
       "2                0.874369                 0.914291  "
      ]
     },
     "execution_count": 63,
     "metadata": {},
     "output_type": "execute_result"
    }
   ],
   "source": [
    "# Merge with activity results and output file\n",
    "output_results_file = pathlib.Path(f\"results/{gse_id}_map.tsv\")\n",
    "\n",
    "result = result.merge(activity_df, left_on=\"perturbation\", right_on=\"perturbation\")\n",
    "\n",
    "result.to_csv(output_results_file, sep=\"\\t\", index=False)\n",
    "\n",
    "print(result.shape)\n",
    "result.head(3)"
   ]
  },
  {
   "cell_type": "code",
   "execution_count": 61,
   "metadata": {},
   "outputs": [],
   "source": [
    "# result = evaluate(\n",
    "#     profiles=bulk_df,\n",
    "#     features=genes_to_retain,\n",
    "#     meta_features=[barcode_col, gene_col],\n",
    "#     replicate_groups=replicate_group_grit,\n",
    "#     operation=\"grit\",\n",
    "#     grit_control_perts=neg_controls,\n",
    "# )\n",
    "\n",
    "# result = result.dropna().sort_values(by=\"grit\", ascending=False).reset_index(drop=True)\n",
    "\n",
    "# print(result.shape)\n",
    "# result.head(3)"
   ]
  },
  {
   "cell_type": "code",
   "execution_count": 64,
   "metadata": {},
   "outputs": [],
   "source": [
    "# # Merge with activity results and output file\n",
    "# output_results_file = pathlib.Path(f\"results/{gse_id}_grit.tsv\")\n",
    "\n",
    "# result = result.merge(activity_df, left_on=\"perturbation\", right_on=\"perturbation\")\n",
    "\n",
    "# result.to_csv(output_results_file, sep=\"\\t\", index=False)\n",
    "\n",
    "# print(result.shape)\n",
    "# result.head(3)"
   ]
  },
  {
   "cell_type": "markdown",
   "metadata": {},
   "source": [
    "### Single cells"
   ]
  },
  {
   "cell_type": "code",
   "execution_count": 14,
   "metadata": {},
   "outputs": [],
   "source": [
    "# Determine a proportion of negative control guide population\n",
    "sc_neg_controls_df = sc_gene_exp_df.query(\"Metadata_guide_identity in @neg_controls\").sample(frac=0.2)\n",
    "\n",
    "sc_neg_controls = sc_neg_controls_df.query(\"Metadata_guide_identity in @neg_controls\").Metadata_cell_identity.tolist()\n",
    "\n",
    "replicate_group_grit = {\n",
    "    \"profile_col\": \"Metadata_cell_identity\",\n",
    "    \"replicate_group_col\": \"Metadata_guide_identity\",\n",
    "}"
   ]
  },
  {
   "cell_type": "code",
   "execution_count": 18,
   "metadata": {},
   "outputs": [
    {
     "data": {
      "text/html": [
       "<div>\n",
       "<style scoped>\n",
       "    .dataframe tbody tr th:only-of-type {\n",
       "        vertical-align: middle;\n",
       "    }\n",
       "\n",
       "    .dataframe tbody tr th {\n",
       "        vertical-align: top;\n",
       "    }\n",
       "\n",
       "    .dataframe thead th {\n",
       "        text-align: right;\n",
       "    }\n",
       "</style>\n",
       "<table border=\"1\" class=\"dataframe\">\n",
       "  <thead>\n",
       "    <tr style=\"text-align: right;\">\n",
       "      <th></th>\n",
       "      <th>Metadata_cell_identity</th>\n",
       "      <th>Metadata_cell_barcode</th>\n",
       "      <th>Metadata_guide_identity</th>\n",
       "      <th>Metadata_read_count</th>\n",
       "      <th>Metadata_UMI_count</th>\n",
       "      <th>Metadata_coverage</th>\n",
       "      <th>Metadata_gemgroup</th>\n",
       "      <th>Metadata_good_coverage</th>\n",
       "      <th>Metadata_number_of_cells</th>\n",
       "      <th>Metadata_gene_identity</th>\n",
       "      <th>...</th>\n",
       "      <th>YPEL4</th>\n",
       "      <th>YPEL5</th>\n",
       "      <th>ZBTB38</th>\n",
       "      <th>ZFAS1</th>\n",
       "      <th>ZFP36L1</th>\n",
       "      <th>ZNF365</th>\n",
       "      <th>ZNF43</th>\n",
       "      <th>ZNF483</th>\n",
       "      <th>ZNF556</th>\n",
       "      <th>ZYX</th>\n",
       "    </tr>\n",
       "  </thead>\n",
       "  <tbody>\n",
       "    <tr>\n",
       "      <th>0</th>\n",
       "      <td>sc_profile_0</td>\n",
       "      <td>AAACCTGAGAGTAATC-1</td>\n",
       "      <td>RAN_RAN_+_131356438.23-P1P2_12</td>\n",
       "      <td>544.0</td>\n",
       "      <td>34.0</td>\n",
       "      <td>16.000000</td>\n",
       "      <td>1.0</td>\n",
       "      <td>True</td>\n",
       "      <td>1.0</td>\n",
       "      <td>RAN</td>\n",
       "      <td>...</td>\n",
       "      <td>-0.09309</td>\n",
       "      <td>-0.632468</td>\n",
       "      <td>-0.539091</td>\n",
       "      <td>-1.633805</td>\n",
       "      <td>-0.876912</td>\n",
       "      <td>-0.012155</td>\n",
       "      <td>-0.017763</td>\n",
       "      <td>-0.026877</td>\n",
       "      <td>-0.0524</td>\n",
       "      <td>-0.452229</td>\n",
       "    </tr>\n",
       "    <tr>\n",
       "      <th>1</th>\n",
       "      <td>sc_profile_1</td>\n",
       "      <td>AAACCTGAGGGATCTG-1</td>\n",
       "      <td>neg_ctrl_non-targeting_00089</td>\n",
       "      <td>267.0</td>\n",
       "      <td>19.0</td>\n",
       "      <td>14.052632</td>\n",
       "      <td>1.0</td>\n",
       "      <td>True</td>\n",
       "      <td>1.0</td>\n",
       "      <td>neg</td>\n",
       "      <td>...</td>\n",
       "      <td>-0.09309</td>\n",
       "      <td>-0.632468</td>\n",
       "      <td>-0.539091</td>\n",
       "      <td>1.610220</td>\n",
       "      <td>1.322265</td>\n",
       "      <td>-0.012155</td>\n",
       "      <td>-0.017763</td>\n",
       "      <td>-0.026877</td>\n",
       "      <td>-0.0524</td>\n",
       "      <td>-0.452229</td>\n",
       "    </tr>\n",
       "    <tr>\n",
       "      <th>2</th>\n",
       "      <td>sc_profile_2</td>\n",
       "      <td>AAACCTGAGGTCATCT-1</td>\n",
       "      <td>POLR2H_POLR2H_+_184081251.23-P1P2_08</td>\n",
       "      <td>622.0</td>\n",
       "      <td>34.0</td>\n",
       "      <td>18.294118</td>\n",
       "      <td>1.0</td>\n",
       "      <td>True</td>\n",
       "      <td>1.0</td>\n",
       "      <td>POLR2H</td>\n",
       "      <td>...</td>\n",
       "      <td>-0.09309</td>\n",
       "      <td>-0.632468</td>\n",
       "      <td>-0.539091</td>\n",
       "      <td>-0.567252</td>\n",
       "      <td>0.057540</td>\n",
       "      <td>-0.012155</td>\n",
       "      <td>-0.017763</td>\n",
       "      <td>-0.026877</td>\n",
       "      <td>-0.0524</td>\n",
       "      <td>-0.452229</td>\n",
       "    </tr>\n",
       "    <tr>\n",
       "      <th>3</th>\n",
       "      <td>sc_profile_3</td>\n",
       "      <td>AAACCTGCAATGGAGC-1</td>\n",
       "      <td>TUBB_TUBB_+_30688126.23-P1_03</td>\n",
       "      <td>433.0</td>\n",
       "      <td>20.0</td>\n",
       "      <td>21.650000</td>\n",
       "      <td>1.0</td>\n",
       "      <td>True</td>\n",
       "      <td>1.0</td>\n",
       "      <td>TUBB</td>\n",
       "      <td>...</td>\n",
       "      <td>-0.09309</td>\n",
       "      <td>1.765279</td>\n",
       "      <td>-0.539091</td>\n",
       "      <td>-1.659420</td>\n",
       "      <td>-0.876912</td>\n",
       "      <td>-0.012155</td>\n",
       "      <td>-0.017763</td>\n",
       "      <td>-0.026877</td>\n",
       "      <td>-0.0524</td>\n",
       "      <td>-0.452229</td>\n",
       "    </tr>\n",
       "    <tr>\n",
       "      <th>4</th>\n",
       "      <td>sc_profile_4</td>\n",
       "      <td>AAACCTGCACCAGGCT-1</td>\n",
       "      <td>CDC23_CDC23_-_137548987.23-P1P2_04</td>\n",
       "      <td>136.0</td>\n",
       "      <td>8.0</td>\n",
       "      <td>17.000000</td>\n",
       "      <td>1.0</td>\n",
       "      <td>True</td>\n",
       "      <td>1.0</td>\n",
       "      <td>CDC23</td>\n",
       "      <td>...</td>\n",
       "      <td>-0.09309</td>\n",
       "      <td>0.686753</td>\n",
       "      <td>-0.539091</td>\n",
       "      <td>0.541260</td>\n",
       "      <td>0.934539</td>\n",
       "      <td>-0.012155</td>\n",
       "      <td>-0.017763</td>\n",
       "      <td>-0.026877</td>\n",
       "      <td>-0.0524</td>\n",
       "      <td>1.406718</td>\n",
       "    </tr>\n",
       "    <tr>\n",
       "      <th>...</th>\n",
       "      <td>...</td>\n",
       "      <td>...</td>\n",
       "      <td>...</td>\n",
       "      <td>...</td>\n",
       "      <td>...</td>\n",
       "      <td>...</td>\n",
       "      <td>...</td>\n",
       "      <td>...</td>\n",
       "      <td>...</td>\n",
       "      <td>...</td>\n",
       "      <td>...</td>\n",
       "      <td>...</td>\n",
       "      <td>...</td>\n",
       "      <td>...</td>\n",
       "      <td>...</td>\n",
       "      <td>...</td>\n",
       "      <td>...</td>\n",
       "      <td>...</td>\n",
       "      <td>...</td>\n",
       "      <td>...</td>\n",
       "      <td>...</td>\n",
       "    </tr>\n",
       "    <tr>\n",
       "      <th>23532</th>\n",
       "      <td>sc_profile_23532</td>\n",
       "      <td>TTTGTCAGTTTGACTG-3</td>\n",
       "      <td>CDC23_CDC23_-_137548987.23-P1P2_11</td>\n",
       "      <td>1509.0</td>\n",
       "      <td>106.0</td>\n",
       "      <td>14.235849</td>\n",
       "      <td>3.0</td>\n",
       "      <td>True</td>\n",
       "      <td>3.0</td>\n",
       "      <td>CDC23</td>\n",
       "      <td>...</td>\n",
       "      <td>-0.09309</td>\n",
       "      <td>0.207130</td>\n",
       "      <td>-0.539091</td>\n",
       "      <td>-0.772589</td>\n",
       "      <td>-0.876912</td>\n",
       "      <td>-0.012155</td>\n",
       "      <td>-0.017763</td>\n",
       "      <td>-0.026877</td>\n",
       "      <td>-0.0524</td>\n",
       "      <td>-0.452229</td>\n",
       "    </tr>\n",
       "    <tr>\n",
       "      <th>23533</th>\n",
       "      <td>sc_profile_23533</td>\n",
       "      <td>TTTGTCAGTTTGTTGG-3</td>\n",
       "      <td>ATP5E_ATP5E_-_57607036.23-P1P2_16</td>\n",
       "      <td>1207.0</td>\n",
       "      <td>73.0</td>\n",
       "      <td>16.534247</td>\n",
       "      <td>3.0</td>\n",
       "      <td>True</td>\n",
       "      <td>1.0</td>\n",
       "      <td>ATP5E</td>\n",
       "      <td>...</td>\n",
       "      <td>-0.09309</td>\n",
       "      <td>-0.632468</td>\n",
       "      <td>-0.539091</td>\n",
       "      <td>-0.539488</td>\n",
       "      <td>-0.876912</td>\n",
       "      <td>-0.012155</td>\n",
       "      <td>-0.017763</td>\n",
       "      <td>-0.026877</td>\n",
       "      <td>-0.0524</td>\n",
       "      <td>-0.452229</td>\n",
       "    </tr>\n",
       "    <tr>\n",
       "      <th>23534</th>\n",
       "      <td>sc_profile_23534</td>\n",
       "      <td>TTTGTCATCACAAACC-3</td>\n",
       "      <td>HSPE1_HSPE1_+_198365089.23-P1P2_01</td>\n",
       "      <td>378.0</td>\n",
       "      <td>25.0</td>\n",
       "      <td>15.120000</td>\n",
       "      <td>3.0</td>\n",
       "      <td>True</td>\n",
       "      <td>1.0</td>\n",
       "      <td>HSPE1</td>\n",
       "      <td>...</td>\n",
       "      <td>-0.09309</td>\n",
       "      <td>-0.632468</td>\n",
       "      <td>0.738755</td>\n",
       "      <td>-0.341440</td>\n",
       "      <td>-0.876912</td>\n",
       "      <td>-0.012155</td>\n",
       "      <td>-0.017763</td>\n",
       "      <td>-0.026877</td>\n",
       "      <td>-0.0524</td>\n",
       "      <td>-0.452229</td>\n",
       "    </tr>\n",
       "    <tr>\n",
       "      <th>23535</th>\n",
       "      <td>sc_profile_23535</td>\n",
       "      <td>TTTGTCATCAGCATGT-3</td>\n",
       "      <td>neg_ctrl_non-targeting_00028</td>\n",
       "      <td>856.0</td>\n",
       "      <td>53.0</td>\n",
       "      <td>16.150943</td>\n",
       "      <td>3.0</td>\n",
       "      <td>True</td>\n",
       "      <td>1.0</td>\n",
       "      <td>neg</td>\n",
       "      <td>...</td>\n",
       "      <td>-0.09309</td>\n",
       "      <td>0.379025</td>\n",
       "      <td>0.571873</td>\n",
       "      <td>0.294543</td>\n",
       "      <td>-0.876912</td>\n",
       "      <td>-0.012155</td>\n",
       "      <td>-0.017763</td>\n",
       "      <td>-0.026877</td>\n",
       "      <td>-0.0524</td>\n",
       "      <td>-0.452229</td>\n",
       "    </tr>\n",
       "    <tr>\n",
       "      <th>23536</th>\n",
       "      <td>sc_profile_23536</td>\n",
       "      <td>TTTGTCATCTTAGAGC-3</td>\n",
       "      <td>CAD_CAD_+_27440280.23-P1P2_07</td>\n",
       "      <td>352.0</td>\n",
       "      <td>21.0</td>\n",
       "      <td>16.761905</td>\n",
       "      <td>3.0</td>\n",
       "      <td>True</td>\n",
       "      <td>2.0</td>\n",
       "      <td>CAD</td>\n",
       "      <td>...</td>\n",
       "      <td>-0.09309</td>\n",
       "      <td>-0.632468</td>\n",
       "      <td>-0.539091</td>\n",
       "      <td>-0.397055</td>\n",
       "      <td>1.748824</td>\n",
       "      <td>-0.012155</td>\n",
       "      <td>-0.017763</td>\n",
       "      <td>-0.026877</td>\n",
       "      <td>-0.0524</td>\n",
       "      <td>-0.452229</td>\n",
       "    </tr>\n",
       "  </tbody>\n",
       "</table>\n",
       "<p>23537 rows × 1012 columns</p>\n",
       "</div>"
      ],
      "text/plain": [
       "      Metadata_cell_identity Metadata_cell_barcode  \\\n",
       "0               sc_profile_0    AAACCTGAGAGTAATC-1   \n",
       "1               sc_profile_1    AAACCTGAGGGATCTG-1   \n",
       "2               sc_profile_2    AAACCTGAGGTCATCT-1   \n",
       "3               sc_profile_3    AAACCTGCAATGGAGC-1   \n",
       "4               sc_profile_4    AAACCTGCACCAGGCT-1   \n",
       "...                      ...                   ...   \n",
       "23532       sc_profile_23532    TTTGTCAGTTTGACTG-3   \n",
       "23533       sc_profile_23533    TTTGTCAGTTTGTTGG-3   \n",
       "23534       sc_profile_23534    TTTGTCATCACAAACC-3   \n",
       "23535       sc_profile_23535    TTTGTCATCAGCATGT-3   \n",
       "23536       sc_profile_23536    TTTGTCATCTTAGAGC-3   \n",
       "\n",
       "                    Metadata_guide_identity  Metadata_read_count  \\\n",
       "0            RAN_RAN_+_131356438.23-P1P2_12                544.0   \n",
       "1              neg_ctrl_non-targeting_00089                267.0   \n",
       "2      POLR2H_POLR2H_+_184081251.23-P1P2_08                622.0   \n",
       "3             TUBB_TUBB_+_30688126.23-P1_03                433.0   \n",
       "4        CDC23_CDC23_-_137548987.23-P1P2_04                136.0   \n",
       "...                                     ...                  ...   \n",
       "23532    CDC23_CDC23_-_137548987.23-P1P2_11               1509.0   \n",
       "23533     ATP5E_ATP5E_-_57607036.23-P1P2_16               1207.0   \n",
       "23534    HSPE1_HSPE1_+_198365089.23-P1P2_01                378.0   \n",
       "23535          neg_ctrl_non-targeting_00028                856.0   \n",
       "23536         CAD_CAD_+_27440280.23-P1P2_07                352.0   \n",
       "\n",
       "       Metadata_UMI_count  Metadata_coverage  Metadata_gemgroup  \\\n",
       "0                    34.0          16.000000                1.0   \n",
       "1                    19.0          14.052632                1.0   \n",
       "2                    34.0          18.294118                1.0   \n",
       "3                    20.0          21.650000                1.0   \n",
       "4                     8.0          17.000000                1.0   \n",
       "...                   ...                ...                ...   \n",
       "23532               106.0          14.235849                3.0   \n",
       "23533                73.0          16.534247                3.0   \n",
       "23534                25.0          15.120000                3.0   \n",
       "23535                53.0          16.150943                3.0   \n",
       "23536                21.0          16.761905                3.0   \n",
       "\n",
       "      Metadata_good_coverage  Metadata_number_of_cells Metadata_gene_identity  \\\n",
       "0                       True                       1.0                    RAN   \n",
       "1                       True                       1.0                    neg   \n",
       "2                       True                       1.0                 POLR2H   \n",
       "3                       True                       1.0                   TUBB   \n",
       "4                       True                       1.0                  CDC23   \n",
       "...                      ...                       ...                    ...   \n",
       "23532                   True                       3.0                  CDC23   \n",
       "23533                   True                       1.0                  ATP5E   \n",
       "23534                   True                       1.0                  HSPE1   \n",
       "23535                   True                       1.0                    neg   \n",
       "23536                   True                       2.0                    CAD   \n",
       "\n",
       "       ...    YPEL4     YPEL5    ZBTB38     ZFAS1   ZFP36L1    ZNF365  \\\n",
       "0      ... -0.09309 -0.632468 -0.539091 -1.633805 -0.876912 -0.012155   \n",
       "1      ... -0.09309 -0.632468 -0.539091  1.610220  1.322265 -0.012155   \n",
       "2      ... -0.09309 -0.632468 -0.539091 -0.567252  0.057540 -0.012155   \n",
       "3      ... -0.09309  1.765279 -0.539091 -1.659420 -0.876912 -0.012155   \n",
       "4      ... -0.09309  0.686753 -0.539091  0.541260  0.934539 -0.012155   \n",
       "...    ...      ...       ...       ...       ...       ...       ...   \n",
       "23532  ... -0.09309  0.207130 -0.539091 -0.772589 -0.876912 -0.012155   \n",
       "23533  ... -0.09309 -0.632468 -0.539091 -0.539488 -0.876912 -0.012155   \n",
       "23534  ... -0.09309 -0.632468  0.738755 -0.341440 -0.876912 -0.012155   \n",
       "23535  ... -0.09309  0.379025  0.571873  0.294543 -0.876912 -0.012155   \n",
       "23536  ... -0.09309 -0.632468 -0.539091 -0.397055  1.748824 -0.012155   \n",
       "\n",
       "          ZNF43    ZNF483  ZNF556       ZYX  \n",
       "0     -0.017763 -0.026877 -0.0524 -0.452229  \n",
       "1     -0.017763 -0.026877 -0.0524 -0.452229  \n",
       "2     -0.017763 -0.026877 -0.0524 -0.452229  \n",
       "3     -0.017763 -0.026877 -0.0524 -0.452229  \n",
       "4     -0.017763 -0.026877 -0.0524  1.406718  \n",
       "...         ...       ...     ...       ...  \n",
       "23532 -0.017763 -0.026877 -0.0524 -0.452229  \n",
       "23533 -0.017763 -0.026877 -0.0524 -0.452229  \n",
       "23534 -0.017763 -0.026877 -0.0524 -0.452229  \n",
       "23535 -0.017763 -0.026877 -0.0524 -0.452229  \n",
       "23536 -0.017763 -0.026877 -0.0524 -0.452229  \n",
       "\n",
       "[23537 rows x 1012 columns]"
      ]
     },
     "execution_count": 18,
     "metadata": {},
     "output_type": "execute_result"
    }
   ],
   "source": [
    "sc_gene_exp_df"
   ]
  },
  {
   "cell_type": "code",
   "execution_count": null,
   "metadata": {},
   "outputs": [],
   "source": []
  },
  {
   "cell_type": "code",
   "execution_count": null,
   "metadata": {},
   "outputs": [],
   "source": []
  },
  {
   "cell_type": "code",
   "execution_count": 69,
   "metadata": {},
   "outputs": [],
   "source": [
    "pair_config = {\n",
    "    \"pos_sameby\": {\"all\": [\"Metadata_guide_identity\", \"Metadata_is_control == 0\"], \"any\": []},\n",
    "    \"pos_diffby\": {\"all\": [], \"any\": []},\n",
    "    \"neg_sameby\": {\"all\": [], \"any\": []},\n",
    "    \"neg_diffby\": {\"all\": [\"Metadata_is_control\"], \"any\": []},\n",
    "}\n",
    "\n",
    "map_config = {\n",
    "    \"mean_ap\": {\n",
    "        \"null_size\": 10000,\n",
    "        \"groupby_columns\": [\"Metadata_guide_identity\", \"Metadata_cell_identity\"],\n",
    "    },\n",
    "}"
   ]
  },
  {
   "cell_type": "code",
   "execution_count": 70,
   "metadata": {},
   "outputs": [
    {
     "name": "stdout",
     "output_type": "stream",
     "text": [
      "Now analyzing RAN...\n",
      "\n",
      "Calculating distances.\n",
      "Pos pairs size: 20301, Neg pairs size: 98374\n"
     ]
    },
    {
     "data": {
      "application/vnd.jupyter.widget-view+json": {
       "model_id": "f5eee44780064e9b9547ecdb520bdfde",
       "version_major": 2,
       "version_minor": 0
      },
      "text/plain": [
       "  0%|          | 0/2 [00:00<?, ?it/s]"
      ]
     },
     "metadata": {},
     "output_type": "display_data"
    },
    {
     "data": {
      "application/vnd.jupyter.widget-view+json": {
       "model_id": "33dc43139e5a4db59fc5d53030f6ab2e",
       "version_major": 2,
       "version_minor": 0
      },
      "text/plain": [
       "  0%|          | 0/5 [00:00<?, ?it/s]"
      ]
     },
     "metadata": {},
     "output_type": "display_data"
    },
    {
     "name": "stdout",
     "output_type": "stream",
     "text": [
      "\n",
      "Calculating metric: mean_ap\n"
     ]
    },
    {
     "name": "stderr",
     "output_type": "stream",
     "text": [
      "/dgx1nas1/storage/data/akalinin/projects/copairs/src/copairs/compute.py:105: RuntimeWarning: invalid value encountered in divide\n",
      "  ap_scores = np.add.reduceat(pr_k * rel_k_list, cutoffs) / num_pos\n"
     ]
    },
    {
     "data": {
      "application/vnd.jupyter.widget-view+json": {
       "model_id": "7dec528bb1234d0f80cf19256d3791d7",
       "version_major": 2,
       "version_minor": 0
      },
      "text/plain": [
       "  0%|          | 0/2 [00:00<?, ?it/s]"
      ]
     },
     "metadata": {},
     "output_type": "display_data"
    },
    {
     "name": "stderr",
     "output_type": "stream",
     "text": [
      "/dgx1nas1/storage/data/akalinin/projects/copairs/src/copairs/compute.py:89: RuntimeWarning: invalid value encountered in divide\n",
      "  ap = (pr_k * rel_k).sum(axis=1) / num_pos\n"
     ]
    },
    {
     "name": "stdout",
     "output_type": "stream",
     "text": [
      "\n",
      "Calculating distances.\n",
      "Pos pairs size: 6903, Neg pairs size: 57466\n"
     ]
    },
    {
     "data": {
      "application/vnd.jupyter.widget-view+json": {
       "model_id": "96264718b09d410ba406621c4b53e80d",
       "version_major": 2,
       "version_minor": 0
      },
      "text/plain": [
       "  0%|          | 0/1 [00:00<?, ?it/s]"
      ]
     },
     "metadata": {},
     "output_type": "display_data"
    },
    {
     "data": {
      "application/vnd.jupyter.widget-view+json": {
       "model_id": "402967f91fde4efda15c2dcc47a28b6f",
       "version_major": 2,
       "version_minor": 0
      },
      "text/plain": [
       "  0%|          | 0/3 [00:00<?, ?it/s]"
      ]
     },
     "metadata": {},
     "output_type": "display_data"
    },
    {
     "name": "stdout",
     "output_type": "stream",
     "text": [
      "\n",
      "Calculating metric: mean_ap\n"
     ]
    },
    {
     "name": "stderr",
     "output_type": "stream",
     "text": [
      "/dgx1nas1/storage/data/akalinin/projects/copairs/src/copairs/compute.py:105: RuntimeWarning: invalid value encountered in divide\n",
      "  ap_scores = np.add.reduceat(pr_k * rel_k_list, cutoffs) / num_pos\n"
     ]
    },
    {
     "data": {
      "application/vnd.jupyter.widget-view+json": {
       "model_id": "8c2f36d51b3d4c82957e3461c9e1ab6f",
       "version_major": 2,
       "version_minor": 0
      },
      "text/plain": [
       "  0%|          | 0/2 [00:00<?, ?it/s]"
      ]
     },
     "metadata": {},
     "output_type": "display_data"
    },
    {
     "name": "stderr",
     "output_type": "stream",
     "text": [
      "/dgx1nas1/storage/data/akalinin/projects/copairs/src/copairs/compute.py:89: RuntimeWarning: invalid value encountered in divide\n",
      "  ap = (pr_k * rel_k).sum(axis=1) / num_pos\n"
     ]
    },
    {
     "name": "stdout",
     "output_type": "stream",
     "text": [
      "\n",
      "Calculating distances.\n",
      "Pos pairs size: 12880, Neg pairs size: 78407\n"
     ]
    },
    {
     "data": {
      "application/vnd.jupyter.widget-view+json": {
       "model_id": "7ff591b637aa4ec285a9fe7ee97fa9c7",
       "version_major": 2,
       "version_minor": 0
      },
      "text/plain": [
       "  0%|          | 0/1 [00:00<?, ?it/s]"
      ]
     },
     "metadata": {},
     "output_type": "display_data"
    },
    {
     "data": {
      "application/vnd.jupyter.widget-view+json": {
       "model_id": "44c4d1f64e034f7cb884cb452170c278",
       "version_major": 2,
       "version_minor": 0
      },
      "text/plain": [
       "  0%|          | 0/4 [00:00<?, ?it/s]"
      ]
     },
     "metadata": {},
     "output_type": "display_data"
    },
    {
     "name": "stdout",
     "output_type": "stream",
     "text": [
      "\n",
      "Calculating metric: mean_ap\n"
     ]
    },
    {
     "name": "stderr",
     "output_type": "stream",
     "text": [
      "/dgx1nas1/storage/data/akalinin/projects/copairs/src/copairs/compute.py:105: RuntimeWarning: invalid value encountered in divide\n",
      "  ap_scores = np.add.reduceat(pr_k * rel_k_list, cutoffs) / num_pos\n"
     ]
    },
    {
     "data": {
      "application/vnd.jupyter.widget-view+json": {
       "model_id": "386830dcda29444d8b26830ec541306b",
       "version_major": 2,
       "version_minor": 0
      },
      "text/plain": [
       "  0%|          | 0/2 [00:00<?, ?it/s]"
      ]
     },
     "metadata": {},
     "output_type": "display_data"
    },
    {
     "name": "stderr",
     "output_type": "stream",
     "text": [
      "/dgx1nas1/storage/data/akalinin/projects/copairs/src/copairs/compute.py:89: RuntimeWarning: invalid value encountered in divide\n",
      "  ap = (pr_k * rel_k).sum(axis=1) / num_pos\n"
     ]
    },
    {
     "name": "stdout",
     "output_type": "stream",
     "text": [
      "\n",
      "Calculating distances.\n",
      "Pos pairs size: 35778, Neg pairs size: 130516\n"
     ]
    },
    {
     "data": {
      "application/vnd.jupyter.widget-view+json": {
       "model_id": "3bf0425f2fd4470ca70b8eb419bfd6f8",
       "version_major": 2,
       "version_minor": 0
      },
      "text/plain": [
       "  0%|          | 0/2 [00:00<?, ?it/s]"
      ]
     },
     "metadata": {},
     "output_type": "display_data"
    },
    {
     "data": {
      "application/vnd.jupyter.widget-view+json": {
       "model_id": "1cb1f787fc0943259a260c3feb60ec26",
       "version_major": 2,
       "version_minor": 0
      },
      "text/plain": [
       "  0%|          | 0/7 [00:00<?, ?it/s]"
      ]
     },
     "metadata": {},
     "output_type": "display_data"
    },
    {
     "name": "stdout",
     "output_type": "stream",
     "text": [
      "\n",
      "Calculating metric: mean_ap\n"
     ]
    },
    {
     "name": "stderr",
     "output_type": "stream",
     "text": [
      "/dgx1nas1/storage/data/akalinin/projects/copairs/src/copairs/compute.py:105: RuntimeWarning: invalid value encountered in divide\n",
      "  ap_scores = np.add.reduceat(pr_k * rel_k_list, cutoffs) / num_pos\n"
     ]
    },
    {
     "data": {
      "application/vnd.jupyter.widget-view+json": {
       "model_id": "6b14e94b92dc42559001f22a7a4d8d78",
       "version_major": 2,
       "version_minor": 0
      },
      "text/plain": [
       "  0%|          | 0/2 [00:00<?, ?it/s]"
      ]
     },
     "metadata": {},
     "output_type": "display_data"
    },
    {
     "name": "stderr",
     "output_type": "stream",
     "text": [
      "/dgx1nas1/storage/data/akalinin/projects/copairs/src/copairs/compute.py:89: RuntimeWarning: invalid value encountered in divide\n",
      "  ap = (pr_k * rel_k).sum(axis=1) / num_pos\n"
     ]
    },
    {
     "name": "stdout",
     "output_type": "stream",
     "text": [
      "\n",
      "Calculating distances.\n",
      "Pos pairs size: 7875, Neg pairs size: 61362\n"
     ]
    },
    {
     "data": {
      "application/vnd.jupyter.widget-view+json": {
       "model_id": "5ec295b48f19444c9f710abec80e1336",
       "version_major": 2,
       "version_minor": 0
      },
      "text/plain": [
       "  0%|          | 0/1 [00:00<?, ?it/s]"
      ]
     },
     "metadata": {},
     "output_type": "display_data"
    },
    {
     "data": {
      "application/vnd.jupyter.widget-view+json": {
       "model_id": "5d8cf7c54d58444f9105e2de13967e4c",
       "version_major": 2,
       "version_minor": 0
      },
      "text/plain": [
       "  0%|          | 0/4 [00:00<?, ?it/s]"
      ]
     },
     "metadata": {},
     "output_type": "display_data"
    },
    {
     "name": "stdout",
     "output_type": "stream",
     "text": [
      "\n",
      "Calculating metric: mean_ap\n"
     ]
    },
    {
     "name": "stderr",
     "output_type": "stream",
     "text": [
      "/dgx1nas1/storage/data/akalinin/projects/copairs/src/copairs/compute.py:105: RuntimeWarning: invalid value encountered in divide\n",
      "  ap_scores = np.add.reduceat(pr_k * rel_k_list, cutoffs) / num_pos\n"
     ]
    },
    {
     "data": {
      "application/vnd.jupyter.widget-view+json": {
       "model_id": "9fb6502056114baf941a95a27d82642d",
       "version_major": 2,
       "version_minor": 0
      },
      "text/plain": [
       "  0%|          | 0/2 [00:00<?, ?it/s]"
      ]
     },
     "metadata": {},
     "output_type": "display_data"
    },
    {
     "name": "stderr",
     "output_type": "stream",
     "text": [
      "/dgx1nas1/storage/data/akalinin/projects/copairs/src/copairs/compute.py:89: RuntimeWarning: invalid value encountered in divide\n",
      "  ap = (pr_k * rel_k).sum(axis=1) / num_pos\n"
     ]
    },
    {
     "name": "stdout",
     "output_type": "stream",
     "text": [
      "Now analyzing POLR2H...\n",
      "\n",
      "Calculating distances.\n",
      "Pos pairs size: 4753, Neg pairs size: 47726\n"
     ]
    },
    {
     "data": {
      "application/vnd.jupyter.widget-view+json": {
       "model_id": "7043b6c0c0bb490fb3e8c025a50eb084",
       "version_major": 2,
       "version_minor": 0
      },
      "text/plain": [
       "  0%|          | 0/1 [00:00<?, ?it/s]"
      ]
     },
     "metadata": {},
     "output_type": "display_data"
    },
    {
     "data": {
      "application/vnd.jupyter.widget-view+json": {
       "model_id": "fa09b9d928074d3b9e5f119980adfeaf",
       "version_major": 2,
       "version_minor": 0
      },
      "text/plain": [
       "  0%|          | 0/3 [00:00<?, ?it/s]"
      ]
     },
     "metadata": {},
     "output_type": "display_data"
    },
    {
     "name": "stdout",
     "output_type": "stream",
     "text": [
      "\n",
      "Calculating metric: mean_ap\n"
     ]
    },
    {
     "name": "stderr",
     "output_type": "stream",
     "text": [
      "/dgx1nas1/storage/data/akalinin/projects/copairs/src/copairs/compute.py:105: RuntimeWarning: invalid value encountered in divide\n",
      "  ap_scores = np.add.reduceat(pr_k * rel_k_list, cutoffs) / num_pos\n"
     ]
    },
    {
     "data": {
      "application/vnd.jupyter.widget-view+json": {
       "model_id": "9c1a6f2fd5fd45609766be2a934e11a5",
       "version_major": 2,
       "version_minor": 0
      },
      "text/plain": [
       "  0%|          | 0/2 [00:00<?, ?it/s]"
      ]
     },
     "metadata": {},
     "output_type": "display_data"
    },
    {
     "name": "stderr",
     "output_type": "stream",
     "text": [
      "/dgx1nas1/storage/data/akalinin/projects/copairs/src/copairs/compute.py:89: RuntimeWarning: invalid value encountered in divide\n",
      "  ap = (pr_k * rel_k).sum(axis=1) / num_pos\n"
     ]
    },
    {
     "name": "stdout",
     "output_type": "stream",
     "text": [
      "\n",
      "Calculating distances.\n",
      "Pos pairs size: 5151, Neg pairs size: 49674\n"
     ]
    },
    {
     "data": {
      "application/vnd.jupyter.widget-view+json": {
       "model_id": "0de124a6cb094ebd9fc6a0dbfde96638",
       "version_major": 2,
       "version_minor": 0
      },
      "text/plain": [
       "  0%|          | 0/1 [00:00<?, ?it/s]"
      ]
     },
     "metadata": {},
     "output_type": "display_data"
    },
    {
     "data": {
      "application/vnd.jupyter.widget-view+json": {
       "model_id": "02da94885ddc4412b47ed5d4ef83f960",
       "version_major": 2,
       "version_minor": 0
      },
      "text/plain": [
       "  0%|          | 0/3 [00:00<?, ?it/s]"
      ]
     },
     "metadata": {},
     "output_type": "display_data"
    },
    {
     "name": "stdout",
     "output_type": "stream",
     "text": [
      "\n",
      "Calculating metric: mean_ap\n"
     ]
    },
    {
     "name": "stderr",
     "output_type": "stream",
     "text": [
      "/dgx1nas1/storage/data/akalinin/projects/copairs/src/copairs/compute.py:105: RuntimeWarning: invalid value encountered in divide\n",
      "  ap_scores = np.add.reduceat(pr_k * rel_k_list, cutoffs) / num_pos\n"
     ]
    },
    {
     "data": {
      "application/vnd.jupyter.widget-view+json": {
       "model_id": "2eb7a97b94d54a9593846c9893996c60",
       "version_major": 2,
       "version_minor": 0
      },
      "text/plain": [
       "  0%|          | 0/2 [00:00<?, ?it/s]"
      ]
     },
     "metadata": {},
     "output_type": "display_data"
    },
    {
     "name": "stderr",
     "output_type": "stream",
     "text": [
      "/dgx1nas1/storage/data/akalinin/projects/copairs/src/copairs/compute.py:89: RuntimeWarning: invalid value encountered in divide\n",
      "  ap = (pr_k * rel_k).sum(axis=1) / num_pos\n"
     ]
    },
    {
     "name": "stdout",
     "output_type": "stream",
     "text": [
      "\n",
      "Calculating distances.\n",
      "Pos pairs size: 3081, Neg pairs size: 38473\n"
     ]
    },
    {
     "data": {
      "application/vnd.jupyter.widget-view+json": {
       "model_id": "f80bf29acdea4739b770d098a624f70e",
       "version_major": 2,
       "version_minor": 0
      },
      "text/plain": [
       "  0%|          | 0/1 [00:00<?, ?it/s]"
      ]
     },
     "metadata": {},
     "output_type": "display_data"
    },
    {
     "data": {
      "application/vnd.jupyter.widget-view+json": {
       "model_id": "7e9cee7fe66c41f8b0240ec3a91e2a71",
       "version_major": 2,
       "version_minor": 0
      },
      "text/plain": [
       "  0%|          | 0/2 [00:00<?, ?it/s]"
      ]
     },
     "metadata": {},
     "output_type": "display_data"
    },
    {
     "name": "stdout",
     "output_type": "stream",
     "text": [
      "\n",
      "Calculating metric: mean_ap\n"
     ]
    },
    {
     "name": "stderr",
     "output_type": "stream",
     "text": [
      "/dgx1nas1/storage/data/akalinin/projects/copairs/src/copairs/compute.py:105: RuntimeWarning: invalid value encountered in divide\n",
      "  ap_scores = np.add.reduceat(pr_k * rel_k_list, cutoffs) / num_pos\n"
     ]
    },
    {
     "data": {
      "application/vnd.jupyter.widget-view+json": {
       "model_id": "e2d7e7f3f4cc4fc4a9821cb6d0625c84",
       "version_major": 2,
       "version_minor": 0
      },
      "text/plain": [
       "  0%|          | 0/2 [00:00<?, ?it/s]"
      ]
     },
     "metadata": {},
     "output_type": "display_data"
    },
    {
     "name": "stderr",
     "output_type": "stream",
     "text": [
      "/dgx1nas1/storage/data/akalinin/projects/copairs/src/copairs/compute.py:89: RuntimeWarning: invalid value encountered in divide\n",
      "  ap = (pr_k * rel_k).sum(axis=1) / num_pos\n"
     ]
    },
    {
     "name": "stdout",
     "output_type": "stream",
     "text": [
      "\n",
      "Calculating distances.\n",
      "Pos pairs size: 6105, Neg pairs size: 54057\n"
     ]
    },
    {
     "data": {
      "application/vnd.jupyter.widget-view+json": {
       "model_id": "33b225959a4a4effb73ea2b1f87547be",
       "version_major": 2,
       "version_minor": 0
      },
      "text/plain": [
       "  0%|          | 0/1 [00:00<?, ?it/s]"
      ]
     },
     "metadata": {},
     "output_type": "display_data"
    },
    {
     "data": {
      "application/vnd.jupyter.widget-view+json": {
       "model_id": "e70c105546694b3a81656935bd3720cb",
       "version_major": 2,
       "version_minor": 0
      },
      "text/plain": [
       "  0%|          | 0/3 [00:00<?, ?it/s]"
      ]
     },
     "metadata": {},
     "output_type": "display_data"
    },
    {
     "name": "stdout",
     "output_type": "stream",
     "text": [
      "\n",
      "Calculating metric: mean_ap\n"
     ]
    },
    {
     "name": "stderr",
     "output_type": "stream",
     "text": [
      "/dgx1nas1/storage/data/akalinin/projects/copairs/src/copairs/compute.py:105: RuntimeWarning: invalid value encountered in divide\n",
      "  ap_scores = np.add.reduceat(pr_k * rel_k_list, cutoffs) / num_pos\n"
     ]
    },
    {
     "data": {
      "application/vnd.jupyter.widget-view+json": {
       "model_id": "1abdd7cf8a484ea28839b9987e1dce5d",
       "version_major": 2,
       "version_minor": 0
      },
      "text/plain": [
       "  0%|          | 0/2 [00:00<?, ?it/s]"
      ]
     },
     "metadata": {},
     "output_type": "display_data"
    },
    {
     "name": "stderr",
     "output_type": "stream",
     "text": [
      "/dgx1nas1/storage/data/akalinin/projects/copairs/src/copairs/compute.py:89: RuntimeWarning: invalid value encountered in divide\n",
      "  ap = (pr_k * rel_k).sum(axis=1) / num_pos\n"
     ]
    },
    {
     "name": "stdout",
     "output_type": "stream",
     "text": [
      "\n",
      "Calculating distances.\n",
      "Pos pairs size: 5356, Neg pairs size: 50648\n"
     ]
    },
    {
     "data": {
      "application/vnd.jupyter.widget-view+json": {
       "model_id": "71549618d4704d76b2731d65b96b240d",
       "version_major": 2,
       "version_minor": 0
      },
      "text/plain": [
       "  0%|          | 0/1 [00:00<?, ?it/s]"
      ]
     },
     "metadata": {},
     "output_type": "display_data"
    },
    {
     "data": {
      "application/vnd.jupyter.widget-view+json": {
       "model_id": "0fefc96eea2d46078f879bb55eb1d9c8",
       "version_major": 2,
       "version_minor": 0
      },
      "text/plain": [
       "  0%|          | 0/3 [00:00<?, ?it/s]"
      ]
     },
     "metadata": {},
     "output_type": "display_data"
    },
    {
     "name": "stdout",
     "output_type": "stream",
     "text": [
      "\n",
      "Calculating metric: mean_ap\n"
     ]
    },
    {
     "name": "stderr",
     "output_type": "stream",
     "text": [
      "/dgx1nas1/storage/data/akalinin/projects/copairs/src/copairs/compute.py:105: RuntimeWarning: invalid value encountered in divide\n",
      "  ap_scores = np.add.reduceat(pr_k * rel_k_list, cutoffs) / num_pos\n"
     ]
    },
    {
     "data": {
      "application/vnd.jupyter.widget-view+json": {
       "model_id": "b29b9ad1fe324966a3aa35c9bd0c72d5",
       "version_major": 2,
       "version_minor": 0
      },
      "text/plain": [
       "  0%|          | 0/2 [00:00<?, ?it/s]"
      ]
     },
     "metadata": {},
     "output_type": "display_data"
    },
    {
     "name": "stderr",
     "output_type": "stream",
     "text": [
      "/dgx1nas1/storage/data/akalinin/projects/copairs/src/copairs/compute.py:89: RuntimeWarning: invalid value encountered in divide\n",
      "  ap = (pr_k * rel_k).sum(axis=1) / num_pos\n"
     ]
    },
    {
     "name": "stdout",
     "output_type": "stream",
     "text": [
      "Now analyzing TUBB...\n",
      "\n",
      "Calculating distances.\n",
      "Pos pairs size: 3570, Neg pairs size: 41395\n"
     ]
    },
    {
     "data": {
      "application/vnd.jupyter.widget-view+json": {
       "model_id": "f3a97b8eb4364ea1b73d02769849817f",
       "version_major": 2,
       "version_minor": 0
      },
      "text/plain": [
       "  0%|          | 0/1 [00:00<?, ?it/s]"
      ]
     },
     "metadata": {},
     "output_type": "display_data"
    },
    {
     "data": {
      "application/vnd.jupyter.widget-view+json": {
       "model_id": "75096dbe381b447482eb44fbc336b94a",
       "version_major": 2,
       "version_minor": 0
      },
      "text/plain": [
       "  0%|          | 0/3 [00:00<?, ?it/s]"
      ]
     },
     "metadata": {},
     "output_type": "display_data"
    },
    {
     "name": "stdout",
     "output_type": "stream",
     "text": [
      "\n",
      "Calculating metric: mean_ap\n"
     ]
    },
    {
     "name": "stderr",
     "output_type": "stream",
     "text": [
      "/dgx1nas1/storage/data/akalinin/projects/copairs/src/copairs/compute.py:105: RuntimeWarning: invalid value encountered in divide\n",
      "  ap_scores = np.add.reduceat(pr_k * rel_k_list, cutoffs) / num_pos\n"
     ]
    },
    {
     "data": {
      "application/vnd.jupyter.widget-view+json": {
       "model_id": "87546c0ea11143cd83aef887e706374c",
       "version_major": 2,
       "version_minor": 0
      },
      "text/plain": [
       "  0%|          | 0/2 [00:00<?, ?it/s]"
      ]
     },
     "metadata": {},
     "output_type": "display_data"
    },
    {
     "name": "stderr",
     "output_type": "stream",
     "text": [
      "/dgx1nas1/storage/data/akalinin/projects/copairs/src/copairs/compute.py:89: RuntimeWarning: invalid value encountered in divide\n",
      "  ap = (pr_k * rel_k).sum(axis=1) / num_pos\n"
     ]
    },
    {
     "name": "stdout",
     "output_type": "stream",
     "text": [
      "\n",
      "Calculating distances.\n",
      "Pos pairs size: 5151, Neg pairs size: 49674\n"
     ]
    },
    {
     "data": {
      "application/vnd.jupyter.widget-view+json": {
       "model_id": "d590823132d645238b11a6ce1b7959b4",
       "version_major": 2,
       "version_minor": 0
      },
      "text/plain": [
       "  0%|          | 0/1 [00:00<?, ?it/s]"
      ]
     },
     "metadata": {},
     "output_type": "display_data"
    },
    {
     "data": {
      "application/vnd.jupyter.widget-view+json": {
       "model_id": "be7a98c4c89042229e963549caa10542",
       "version_major": 2,
       "version_minor": 0
      },
      "text/plain": [
       "  0%|          | 0/3 [00:00<?, ?it/s]"
      ]
     },
     "metadata": {},
     "output_type": "display_data"
    },
    {
     "name": "stdout",
     "output_type": "stream",
     "text": [
      "\n",
      "Calculating metric: mean_ap\n"
     ]
    },
    {
     "name": "stderr",
     "output_type": "stream",
     "text": [
      "/dgx1nas1/storage/data/akalinin/projects/copairs/src/copairs/compute.py:105: RuntimeWarning: invalid value encountered in divide\n",
      "  ap_scores = np.add.reduceat(pr_k * rel_k_list, cutoffs) / num_pos\n"
     ]
    },
    {
     "data": {
      "application/vnd.jupyter.widget-view+json": {
       "model_id": "70b793b4302946458c1c245b74ab632a",
       "version_major": 2,
       "version_minor": 0
      },
      "text/plain": [
       "  0%|          | 0/2 [00:00<?, ?it/s]"
      ]
     },
     "metadata": {},
     "output_type": "display_data"
    },
    {
     "name": "stdout",
     "output_type": "stream",
     "text": [
      "\n",
      "Calculating distances.\n",
      "Pos pairs size: 21945, Neg pairs size: 102270\n"
     ]
    },
    {
     "data": {
      "application/vnd.jupyter.widget-view+json": {
       "model_id": "722df33260aa4dd286aa57d3d9c87c0a",
       "version_major": 2,
       "version_minor": 0
      },
      "text/plain": [
       "  0%|          | 0/2 [00:00<?, ?it/s]"
      ]
     },
     "metadata": {},
     "output_type": "display_data"
    },
    {
     "data": {
      "application/vnd.jupyter.widget-view+json": {
       "model_id": "c43f61385915407cbec83f3f054e8a39",
       "version_major": 2,
       "version_minor": 0
      },
      "text/plain": [
       "  0%|          | 0/6 [00:00<?, ?it/s]"
      ]
     },
     "metadata": {},
     "output_type": "display_data"
    },
    {
     "name": "stdout",
     "output_type": "stream",
     "text": [
      "\n",
      "Calculating metric: mean_ap\n"
     ]
    },
    {
     "name": "stderr",
     "output_type": "stream",
     "text": [
      "/dgx1nas1/storage/data/akalinin/projects/copairs/src/copairs/compute.py:105: RuntimeWarning: invalid value encountered in divide\n",
      "  ap_scores = np.add.reduceat(pr_k * rel_k_list, cutoffs) / num_pos\n"
     ]
    },
    {
     "data": {
      "application/vnd.jupyter.widget-view+json": {
       "model_id": "24117f9aa64a48a190dd2f1357217d46",
       "version_major": 2,
       "version_minor": 0
      },
      "text/plain": [
       "  0%|          | 0/2 [00:00<?, ?it/s]"
      ]
     },
     "metadata": {},
     "output_type": "display_data"
    },
    {
     "name": "stderr",
     "output_type": "stream",
     "text": [
      "/dgx1nas1/storage/data/akalinin/projects/copairs/src/copairs/compute.py:89: RuntimeWarning: invalid value encountered in divide\n",
      "  ap = (pr_k * rel_k).sum(axis=1) / num_pos\n"
     ]
    },
    {
     "name": "stdout",
     "output_type": "stream",
     "text": [
      "\n",
      "Calculating distances.\n",
      "Pos pairs size: 12720, Neg pairs size: 77920\n"
     ]
    },
    {
     "data": {
      "application/vnd.jupyter.widget-view+json": {
       "model_id": "38c748e4e985406b9fe247b54780de22",
       "version_major": 2,
       "version_minor": 0
      },
      "text/plain": [
       "  0%|          | 0/1 [00:00<?, ?it/s]"
      ]
     },
     "metadata": {},
     "output_type": "display_data"
    },
    {
     "data": {
      "application/vnd.jupyter.widget-view+json": {
       "model_id": "d0b2ddc636244800b6228c250250c0a1",
       "version_major": 2,
       "version_minor": 0
      },
      "text/plain": [
       "  0%|          | 0/4 [00:00<?, ?it/s]"
      ]
     },
     "metadata": {},
     "output_type": "display_data"
    },
    {
     "name": "stdout",
     "output_type": "stream",
     "text": [
      "\n",
      "Calculating metric: mean_ap\n"
     ]
    },
    {
     "name": "stderr",
     "output_type": "stream",
     "text": [
      "/dgx1nas1/storage/data/akalinin/projects/copairs/src/copairs/compute.py:105: RuntimeWarning: invalid value encountered in divide\n",
      "  ap_scores = np.add.reduceat(pr_k * rel_k_list, cutoffs) / num_pos\n"
     ]
    },
    {
     "data": {
      "application/vnd.jupyter.widget-view+json": {
       "model_id": "da255e9535a04ca8b114676355540dca",
       "version_major": 2,
       "version_minor": 0
      },
      "text/plain": [
       "  0%|          | 0/2 [00:00<?, ?it/s]"
      ]
     },
     "metadata": {},
     "output_type": "display_data"
    },
    {
     "name": "stderr",
     "output_type": "stream",
     "text": [
      "/dgx1nas1/storage/data/akalinin/projects/copairs/src/copairs/compute.py:89: RuntimeWarning: invalid value encountered in divide\n",
      "  ap = (pr_k * rel_k).sum(axis=1) / num_pos\n"
     ]
    },
    {
     "name": "stdout",
     "output_type": "stream",
     "text": [
      "\n",
      "Calculating distances.\n",
      "Pos pairs size: 6555, Neg pairs size: 56005\n"
     ]
    },
    {
     "data": {
      "application/vnd.jupyter.widget-view+json": {
       "model_id": "a0ac9cb3c4404a6785ca6565aacd039f",
       "version_major": 2,
       "version_minor": 0
      },
      "text/plain": [
       "  0%|          | 0/1 [00:00<?, ?it/s]"
      ]
     },
     "metadata": {},
     "output_type": "display_data"
    },
    {
     "data": {
      "application/vnd.jupyter.widget-view+json": {
       "model_id": "6857a5adfdfe4975903c45cdb469cdea",
       "version_major": 2,
       "version_minor": 0
      },
      "text/plain": [
       "  0%|          | 0/3 [00:00<?, ?it/s]"
      ]
     },
     "metadata": {},
     "output_type": "display_data"
    },
    {
     "name": "stdout",
     "output_type": "stream",
     "text": [
      "\n",
      "Calculating metric: mean_ap\n"
     ]
    },
    {
     "name": "stderr",
     "output_type": "stream",
     "text": [
      "/dgx1nas1/storage/data/akalinin/projects/copairs/src/copairs/compute.py:105: RuntimeWarning: invalid value encountered in divide\n",
      "  ap_scores = np.add.reduceat(pr_k * rel_k_list, cutoffs) / num_pos\n"
     ]
    },
    {
     "data": {
      "application/vnd.jupyter.widget-view+json": {
       "model_id": "851cccb5d7c7415191d1044d21499111",
       "version_major": 2,
       "version_minor": 0
      },
      "text/plain": [
       "  0%|          | 0/2 [00:00<?, ?it/s]"
      ]
     },
     "metadata": {},
     "output_type": "display_data"
    },
    {
     "name": "stderr",
     "output_type": "stream",
     "text": [
      "/dgx1nas1/storage/data/akalinin/projects/copairs/src/copairs/compute.py:89: RuntimeWarning: invalid value encountered in divide\n",
      "  ap = (pr_k * rel_k).sum(axis=1) / num_pos\n"
     ]
    },
    {
     "name": "stdout",
     "output_type": "stream",
     "text": [
      "Now analyzing CDC23...\n",
      "\n",
      "Calculating distances.\n",
      "Pos pairs size: 10153, Neg pairs size: 69641\n"
     ]
    },
    {
     "data": {
      "application/vnd.jupyter.widget-view+json": {
       "model_id": "72c12443923f47eaa8178a1a1084ea71",
       "version_major": 2,
       "version_minor": 0
      },
      "text/plain": [
       "  0%|          | 0/1 [00:00<?, ?it/s]"
      ]
     },
     "metadata": {},
     "output_type": "display_data"
    },
    {
     "data": {
      "application/vnd.jupyter.widget-view+json": {
       "model_id": "2a0d169841d84dad9d1fe238eca97f0b",
       "version_major": 2,
       "version_minor": 0
      },
      "text/plain": [
       "  0%|          | 0/4 [00:00<?, ?it/s]"
      ]
     },
     "metadata": {},
     "output_type": "display_data"
    },
    {
     "name": "stdout",
     "output_type": "stream",
     "text": [
      "\n",
      "Calculating metric: mean_ap\n"
     ]
    },
    {
     "name": "stderr",
     "output_type": "stream",
     "text": [
      "/dgx1nas1/storage/data/akalinin/projects/copairs/src/copairs/compute.py:105: RuntimeWarning: invalid value encountered in divide\n",
      "  ap_scores = np.add.reduceat(pr_k * rel_k_list, cutoffs) / num_pos\n"
     ]
    },
    {
     "data": {
      "application/vnd.jupyter.widget-view+json": {
       "model_id": "69568ce4105f4bfbb15578cd16182a7f",
       "version_major": 2,
       "version_minor": 0
      },
      "text/plain": [
       "  0%|          | 0/2 [00:00<?, ?it/s]"
      ]
     },
     "metadata": {},
     "output_type": "display_data"
    },
    {
     "name": "stderr",
     "output_type": "stream",
     "text": [
      "/dgx1nas1/storage/data/akalinin/projects/copairs/src/copairs/compute.py:89: RuntimeWarning: invalid value encountered in divide\n",
      "  ap = (pr_k * rel_k).sum(axis=1) / num_pos\n"
     ]
    },
    {
     "name": "stdout",
     "output_type": "stream",
     "text": [
      "\n",
      "Calculating distances.\n",
      "Pos pairs size: 11628, Neg pairs size: 74511\n"
     ]
    },
    {
     "data": {
      "application/vnd.jupyter.widget-view+json": {
       "model_id": "8d306d8fd1f245acbe64884f03a55480",
       "version_major": 2,
       "version_minor": 0
      },
      "text/plain": [
       "  0%|          | 0/1 [00:00<?, ?it/s]"
      ]
     },
     "metadata": {},
     "output_type": "display_data"
    },
    {
     "data": {
      "application/vnd.jupyter.widget-view+json": {
       "model_id": "015e1741bb5f410f875888d06645d25e",
       "version_major": 2,
       "version_minor": 0
      },
      "text/plain": [
       "  0%|          | 0/4 [00:00<?, ?it/s]"
      ]
     },
     "metadata": {},
     "output_type": "display_data"
    },
    {
     "name": "stdout",
     "output_type": "stream",
     "text": [
      "\n",
      "Calculating metric: mean_ap\n"
     ]
    },
    {
     "name": "stderr",
     "output_type": "stream",
     "text": [
      "/dgx1nas1/storage/data/akalinin/projects/copairs/src/copairs/compute.py:105: RuntimeWarning: invalid value encountered in divide\n",
      "  ap_scores = np.add.reduceat(pr_k * rel_k_list, cutoffs) / num_pos\n"
     ]
    },
    {
     "data": {
      "application/vnd.jupyter.widget-view+json": {
       "model_id": "4cc9788f76614b9fbb5d1b9d09670735",
       "version_major": 2,
       "version_minor": 0
      },
      "text/plain": [
       "  0%|          | 0/2 [00:00<?, ?it/s]"
      ]
     },
     "metadata": {},
     "output_type": "display_data"
    },
    {
     "name": "stderr",
     "output_type": "stream",
     "text": [
      "/dgx1nas1/storage/data/akalinin/projects/copairs/src/copairs/compute.py:89: RuntimeWarning: invalid value encountered in divide\n",
      "  ap = (pr_k * rel_k).sum(axis=1) / num_pos\n"
     ]
    },
    {
     "name": "stdout",
     "output_type": "stream",
     "text": [
      "\n",
      "Calculating distances.\n",
      "Pos pairs size: 7503, Neg pairs size: 59901\n"
     ]
    },
    {
     "data": {
      "application/vnd.jupyter.widget-view+json": {
       "model_id": "374f6d8fcf6f4c60b6acb2e9bedfe065",
       "version_major": 2,
       "version_minor": 0
      },
      "text/plain": [
       "  0%|          | 0/1 [00:00<?, ?it/s]"
      ]
     },
     "metadata": {},
     "output_type": "display_data"
    },
    {
     "data": {
      "application/vnd.jupyter.widget-view+json": {
       "model_id": "f21cefd948614e0e96836c65d3e05524",
       "version_major": 2,
       "version_minor": 0
      },
      "text/plain": [
       "  0%|          | 0/3 [00:00<?, ?it/s]"
      ]
     },
     "metadata": {},
     "output_type": "display_data"
    },
    {
     "name": "stdout",
     "output_type": "stream",
     "text": [
      "\n",
      "Calculating metric: mean_ap\n"
     ]
    },
    {
     "name": "stderr",
     "output_type": "stream",
     "text": [
      "/dgx1nas1/storage/data/akalinin/projects/copairs/src/copairs/compute.py:105: RuntimeWarning: invalid value encountered in divide\n",
      "  ap_scores = np.add.reduceat(pr_k * rel_k_list, cutoffs) / num_pos\n"
     ]
    },
    {
     "data": {
      "application/vnd.jupyter.widget-view+json": {
       "model_id": "45e6fb067f164678bb3f7bcd4ca4abc5",
       "version_major": 2,
       "version_minor": 0
      },
      "text/plain": [
       "  0%|          | 0/2 [00:00<?, ?it/s]"
      ]
     },
     "metadata": {},
     "output_type": "display_data"
    },
    {
     "name": "stderr",
     "output_type": "stream",
     "text": [
      "/dgx1nas1/storage/data/akalinin/projects/copairs/src/copairs/compute.py:89: RuntimeWarning: invalid value encountered in divide\n",
      "  ap = (pr_k * rel_k).sum(axis=1) / num_pos\n"
     ]
    },
    {
     "name": "stdout",
     "output_type": "stream",
     "text": [
      "\n",
      "Calculating distances.\n",
      "Pos pairs size: 52003, Neg pairs size: 157301\n"
     ]
    },
    {
     "data": {
      "application/vnd.jupyter.widget-view+json": {
       "model_id": "78a418478fbb4a3b973828e2fdd13e18",
       "version_major": 2,
       "version_minor": 0
      },
      "text/plain": [
       "  0%|          | 0/3 [00:00<?, ?it/s]"
      ]
     },
     "metadata": {},
     "output_type": "display_data"
    },
    {
     "data": {
      "application/vnd.jupyter.widget-view+json": {
       "model_id": "9fa38f9dcdcc444d86ff5a940823d274",
       "version_major": 2,
       "version_minor": 0
      },
      "text/plain": [
       "  0%|          | 0/8 [00:00<?, ?it/s]"
      ]
     },
     "metadata": {},
     "output_type": "display_data"
    },
    {
     "name": "stdout",
     "output_type": "stream",
     "text": [
      "\n",
      "Calculating metric: mean_ap\n"
     ]
    },
    {
     "name": "stderr",
     "output_type": "stream",
     "text": [
      "/dgx1nas1/storage/data/akalinin/projects/copairs/src/copairs/compute.py:105: RuntimeWarning: invalid value encountered in divide\n",
      "  ap_scores = np.add.reduceat(pr_k * rel_k_list, cutoffs) / num_pos\n"
     ]
    },
    {
     "data": {
      "application/vnd.jupyter.widget-view+json": {
       "model_id": "c422991c50ec4852ab6a5c011ffa659a",
       "version_major": 2,
       "version_minor": 0
      },
      "text/plain": [
       "  0%|          | 0/2 [00:00<?, ?it/s]"
      ]
     },
     "metadata": {},
     "output_type": "display_data"
    },
    {
     "name": "stderr",
     "output_type": "stream",
     "text": [
      "/dgx1nas1/storage/data/akalinin/projects/copairs/src/copairs/compute.py:89: RuntimeWarning: invalid value encountered in divide\n",
      "  ap = (pr_k * rel_k).sum(axis=1) / num_pos\n"
     ]
    },
    {
     "name": "stdout",
     "output_type": "stream",
     "text": [
      "\n",
      "Calculating distances.\n",
      "Pos pairs size: 3741, Neg pairs size: 42369\n"
     ]
    },
    {
     "data": {
      "application/vnd.jupyter.widget-view+json": {
       "model_id": "615715d7d34946faba3f57d0b7754f91",
       "version_major": 2,
       "version_minor": 0
      },
      "text/plain": [
       "  0%|          | 0/1 [00:00<?, ?it/s]"
      ]
     },
     "metadata": {},
     "output_type": "display_data"
    },
    {
     "data": {
      "application/vnd.jupyter.widget-view+json": {
       "model_id": "5342422e96f445ffa3a3df85e2ab660f",
       "version_major": 2,
       "version_minor": 0
      },
      "text/plain": [
       "  0%|          | 0/3 [00:00<?, ?it/s]"
      ]
     },
     "metadata": {},
     "output_type": "display_data"
    },
    {
     "name": "stdout",
     "output_type": "stream",
     "text": [
      "\n",
      "Calculating metric: mean_ap\n"
     ]
    },
    {
     "name": "stderr",
     "output_type": "stream",
     "text": [
      "/dgx1nas1/storage/data/akalinin/projects/copairs/src/copairs/compute.py:105: RuntimeWarning: invalid value encountered in divide\n",
      "  ap_scores = np.add.reduceat(pr_k * rel_k_list, cutoffs) / num_pos\n"
     ]
    },
    {
     "data": {
      "application/vnd.jupyter.widget-view+json": {
       "model_id": "21ba180679ba429d98e223226a83a3e9",
       "version_major": 2,
       "version_minor": 0
      },
      "text/plain": [
       "  0%|          | 0/2 [00:00<?, ?it/s]"
      ]
     },
     "metadata": {},
     "output_type": "display_data"
    },
    {
     "name": "stderr",
     "output_type": "stream",
     "text": [
      "/dgx1nas1/storage/data/akalinin/projects/copairs/src/copairs/compute.py:89: RuntimeWarning: invalid value encountered in divide\n",
      "  ap = (pr_k * rel_k).sum(axis=1) / num_pos\n"
     ]
    },
    {
     "name": "stdout",
     "output_type": "stream",
     "text": [
      "Now analyzing POLR1D...\n",
      "\n",
      "Calculating distances.\n",
      "Pos pairs size: 56953, Neg pairs size: 164606\n"
     ]
    },
    {
     "data": {
      "application/vnd.jupyter.widget-view+json": {
       "model_id": "36d514f7ff744178818c658a0558ef0f",
       "version_major": 2,
       "version_minor": 0
      },
      "text/plain": [
       "  0%|          | 0/3 [00:00<?, ?it/s]"
      ]
     },
     "metadata": {},
     "output_type": "display_data"
    },
    {
     "data": {
      "application/vnd.jupyter.widget-view+json": {
       "model_id": "0bb028ffaa6747de9fbc9fb31ba72573",
       "version_major": 2,
       "version_minor": 0
      },
      "text/plain": [
       "  0%|          | 0/9 [00:00<?, ?it/s]"
      ]
     },
     "metadata": {},
     "output_type": "display_data"
    },
    {
     "name": "stdout",
     "output_type": "stream",
     "text": [
      "\n",
      "Calculating metric: mean_ap\n"
     ]
    },
    {
     "name": "stderr",
     "output_type": "stream",
     "text": [
      "/dgx1nas1/storage/data/akalinin/projects/copairs/src/copairs/compute.py:105: RuntimeWarning: invalid value encountered in divide\n",
      "  ap_scores = np.add.reduceat(pr_k * rel_k_list, cutoffs) / num_pos\n"
     ]
    },
    {
     "data": {
      "application/vnd.jupyter.widget-view+json": {
       "model_id": "e8de67133e3a4685ae73818dfb326887",
       "version_major": 2,
       "version_minor": 0
      },
      "text/plain": [
       "  0%|          | 0/2 [00:00<?, ?it/s]"
      ]
     },
     "metadata": {},
     "output_type": "display_data"
    },
    {
     "name": "stdout",
     "output_type": "stream",
     "text": [
      "\n",
      "Calculating distances.\n",
      "Pos pairs size: 31878, Neg pairs size: 123211\n"
     ]
    },
    {
     "data": {
      "application/vnd.jupyter.widget-view+json": {
       "model_id": "4b42ec49cb6045ac93d4b461155b5a6d",
       "version_major": 2,
       "version_minor": 0
      },
      "text/plain": [
       "  0%|          | 0/2 [00:00<?, ?it/s]"
      ]
     },
     "metadata": {},
     "output_type": "display_data"
    },
    {
     "data": {
      "application/vnd.jupyter.widget-view+json": {
       "model_id": "5811e726e26246fdbd7221c05ecd8b5c",
       "version_major": 2,
       "version_minor": 0
      },
      "text/plain": [
       "  0%|          | 0/7 [00:00<?, ?it/s]"
      ]
     },
     "metadata": {},
     "output_type": "display_data"
    },
    {
     "name": "stdout",
     "output_type": "stream",
     "text": [
      "\n",
      "Calculating metric: mean_ap\n"
     ]
    },
    {
     "name": "stderr",
     "output_type": "stream",
     "text": [
      "/dgx1nas1/storage/data/akalinin/projects/copairs/src/copairs/compute.py:105: RuntimeWarning: invalid value encountered in divide\n",
      "  ap_scores = np.add.reduceat(pr_k * rel_k_list, cutoffs) / num_pos\n"
     ]
    },
    {
     "data": {
      "application/vnd.jupyter.widget-view+json": {
       "model_id": "1f73080425d041d5949cc35506d46e11",
       "version_major": 2,
       "version_minor": 0
      },
      "text/plain": [
       "  0%|          | 0/2 [00:00<?, ?it/s]"
      ]
     },
     "metadata": {},
     "output_type": "display_data"
    },
    {
     "name": "stderr",
     "output_type": "stream",
     "text": [
      "/dgx1nas1/storage/data/akalinin/projects/copairs/src/copairs/compute.py:89: RuntimeWarning: invalid value encountered in divide\n",
      "  ap = (pr_k * rel_k).sum(axis=1) / num_pos\n"
     ]
    },
    {
     "name": "stdout",
     "output_type": "stream",
     "text": [
      "\n",
      "Calculating distances.\n",
      "Pos pairs size: 79800, Neg pairs size: 194800\n"
     ]
    },
    {
     "data": {
      "application/vnd.jupyter.widget-view+json": {
       "model_id": "94484ac53c0945d682a36b3f938c07ec",
       "version_major": 2,
       "version_minor": 0
      },
      "text/plain": [
       "  0%|          | 0/4 [00:00<?, ?it/s]"
      ]
     },
     "metadata": {},
     "output_type": "display_data"
    },
    {
     "data": {
      "application/vnd.jupyter.widget-view+json": {
       "model_id": "896651fb32374073b9d03a7864f3accc",
       "version_major": 2,
       "version_minor": 0
      },
      "text/plain": [
       "  0%|          | 0/10 [00:00<?, ?it/s]"
      ]
     },
     "metadata": {},
     "output_type": "display_data"
    },
    {
     "name": "stdout",
     "output_type": "stream",
     "text": [
      "\n",
      "Calculating metric: mean_ap\n"
     ]
    },
    {
     "name": "stderr",
     "output_type": "stream",
     "text": [
      "/dgx1nas1/storage/data/akalinin/projects/copairs/src/copairs/compute.py:105: RuntimeWarning: invalid value encountered in divide\n",
      "  ap_scores = np.add.reduceat(pr_k * rel_k_list, cutoffs) / num_pos\n"
     ]
    },
    {
     "data": {
      "application/vnd.jupyter.widget-view+json": {
       "model_id": "24cab4bf442148e6bc9a2b61b5181a71",
       "version_major": 2,
       "version_minor": 0
      },
      "text/plain": [
       "  0%|          | 0/2 [00:00<?, ?it/s]"
      ]
     },
     "metadata": {},
     "output_type": "display_data"
    },
    {
     "name": "stdout",
     "output_type": "stream",
     "text": [
      "\n",
      "Calculating distances.\n",
      "Pos pairs size: 15576, Neg pairs size: 86199\n"
     ]
    },
    {
     "data": {
      "application/vnd.jupyter.widget-view+json": {
       "model_id": "996b29d24b71452eb42393244cc5e490",
       "version_major": 2,
       "version_minor": 0
      },
      "text/plain": [
       "  0%|          | 0/1 [00:00<?, ?it/s]"
      ]
     },
     "metadata": {},
     "output_type": "display_data"
    },
    {
     "data": {
      "application/vnd.jupyter.widget-view+json": {
       "model_id": "5cf2406f1d2b4e829855e42bcb3a0421",
       "version_major": 2,
       "version_minor": 0
      },
      "text/plain": [
       "  0%|          | 0/5 [00:00<?, ?it/s]"
      ]
     },
     "metadata": {},
     "output_type": "display_data"
    },
    {
     "name": "stdout",
     "output_type": "stream",
     "text": [
      "\n",
      "Calculating metric: mean_ap\n"
     ]
    },
    {
     "name": "stderr",
     "output_type": "stream",
     "text": [
      "/dgx1nas1/storage/data/akalinin/projects/copairs/src/copairs/compute.py:105: RuntimeWarning: invalid value encountered in divide\n",
      "  ap_scores = np.add.reduceat(pr_k * rel_k_list, cutoffs) / num_pos\n"
     ]
    },
    {
     "data": {
      "application/vnd.jupyter.widget-view+json": {
       "model_id": "cd098719eade416e843ba465ee64d5a6",
       "version_major": 2,
       "version_minor": 0
      },
      "text/plain": [
       "  0%|          | 0/2 [00:00<?, ?it/s]"
      ]
     },
     "metadata": {},
     "output_type": "display_data"
    },
    {
     "name": "stderr",
     "output_type": "stream",
     "text": [
      "/dgx1nas1/storage/data/akalinin/projects/copairs/src/copairs/compute.py:89: RuntimeWarning: invalid value encountered in divide\n",
      "  ap = (pr_k * rel_k).sum(axis=1) / num_pos\n"
     ]
    },
    {
     "name": "stdout",
     "output_type": "stream",
     "text": [
      "\n",
      "Calculating distances.\n",
      "Pos pairs size: 21321, Neg pairs size: 100809\n"
     ]
    },
    {
     "data": {
      "application/vnd.jupyter.widget-view+json": {
       "model_id": "1e35449215164d8bb2de26f76ef3022f",
       "version_major": 2,
       "version_minor": 0
      },
      "text/plain": [
       "  0%|          | 0/2 [00:00<?, ?it/s]"
      ]
     },
     "metadata": {},
     "output_type": "display_data"
    },
    {
     "data": {
      "application/vnd.jupyter.widget-view+json": {
       "model_id": "2da7e66d92214d3394db4896348d74e4",
       "version_major": 2,
       "version_minor": 0
      },
      "text/plain": [
       "  0%|          | 0/6 [00:00<?, ?it/s]"
      ]
     },
     "metadata": {},
     "output_type": "display_data"
    },
    {
     "name": "stdout",
     "output_type": "stream",
     "text": [
      "\n",
      "Calculating metric: mean_ap\n"
     ]
    },
    {
     "name": "stderr",
     "output_type": "stream",
     "text": [
      "/dgx1nas1/storage/data/akalinin/projects/copairs/src/copairs/compute.py:105: RuntimeWarning: invalid value encountered in divide\n",
      "  ap_scores = np.add.reduceat(pr_k * rel_k_list, cutoffs) / num_pos\n"
     ]
    },
    {
     "data": {
      "application/vnd.jupyter.widget-view+json": {
       "model_id": "44feb5ffbe7d40bdbed7d07e8d187842",
       "version_major": 2,
       "version_minor": 0
      },
      "text/plain": [
       "  0%|          | 0/2 [00:00<?, ?it/s]"
      ]
     },
     "metadata": {},
     "output_type": "display_data"
    },
    {
     "name": "stderr",
     "output_type": "stream",
     "text": [
      "/dgx1nas1/storage/data/akalinin/projects/copairs/src/copairs/compute.py:89: RuntimeWarning: invalid value encountered in divide\n",
      "  ap = (pr_k * rel_k).sum(axis=1) / num_pos\n"
     ]
    },
    {
     "name": "stdout",
     "output_type": "stream",
     "text": [
      "Now analyzing DUT...\n",
      "\n",
      "Calculating distances.\n",
      "Pos pairs size: 101926, Neg pairs size: 220124\n"
     ]
    },
    {
     "data": {
      "application/vnd.jupyter.widget-view+json": {
       "model_id": "ad86248488474276b0ec140caf980db4",
       "version_major": 2,
       "version_minor": 0
      },
      "text/plain": [
       "  0%|          | 0/6 [00:00<?, ?it/s]"
      ]
     },
     "metadata": {},
     "output_type": "display_data"
    },
    {
     "data": {
      "application/vnd.jupyter.widget-view+json": {
       "model_id": "ad50677caa34441c8666ee08a6fa07b7",
       "version_major": 2,
       "version_minor": 0
      },
      "text/plain": [
       "  0%|          | 0/12 [00:00<?, ?it/s]"
      ]
     },
     "metadata": {},
     "output_type": "display_data"
    },
    {
     "name": "stdout",
     "output_type": "stream",
     "text": [
      "\n",
      "Calculating metric: mean_ap\n"
     ]
    },
    {
     "name": "stderr",
     "output_type": "stream",
     "text": [
      "/dgx1nas1/storage/data/akalinin/projects/copairs/src/copairs/compute.py:105: RuntimeWarning: invalid value encountered in divide\n",
      "  ap_scores = np.add.reduceat(pr_k * rel_k_list, cutoffs) / num_pos\n"
     ]
    },
    {
     "data": {
      "application/vnd.jupyter.widget-view+json": {
       "model_id": "0405fad3b90f431a96764e24082dddf5",
       "version_major": 2,
       "version_minor": 0
      },
      "text/plain": [
       "  0%|          | 0/2 [00:00<?, ?it/s]"
      ]
     },
     "metadata": {},
     "output_type": "display_data"
    },
    {
     "name": "stderr",
     "output_type": "stream",
     "text": [
      "/dgx1nas1/storage/data/akalinin/projects/copairs/src/copairs/compute.py:89: RuntimeWarning: invalid value encountered in divide\n",
      "  ap = (pr_k * rel_k).sum(axis=1) / num_pos\n"
     ]
    },
    {
     "name": "stdout",
     "output_type": "stream",
     "text": [
      "\n",
      "Calculating distances.\n",
      "Pos pairs size: 49141, Neg pairs size: 152918\n"
     ]
    },
    {
     "data": {
      "application/vnd.jupyter.widget-view+json": {
       "model_id": "a08419b4a38244f78235afe393d8da0c",
       "version_major": 2,
       "version_minor": 0
      },
      "text/plain": [
       "  0%|          | 0/3 [00:00<?, ?it/s]"
      ]
     },
     "metadata": {},
     "output_type": "display_data"
    },
    {
     "data": {
      "application/vnd.jupyter.widget-view+json": {
       "model_id": "62b876b6706a4c1a808e915a575ed2cb",
       "version_major": 2,
       "version_minor": 0
      },
      "text/plain": [
       "  0%|          | 0/8 [00:00<?, ?it/s]"
      ]
     },
     "metadata": {},
     "output_type": "display_data"
    },
    {
     "name": "stdout",
     "output_type": "stream",
     "text": [
      "\n",
      "Calculating metric: mean_ap\n"
     ]
    },
    {
     "name": "stderr",
     "output_type": "stream",
     "text": [
      "/dgx1nas1/storage/data/akalinin/projects/copairs/src/copairs/compute.py:105: RuntimeWarning: invalid value encountered in divide\n",
      "  ap_scores = np.add.reduceat(pr_k * rel_k_list, cutoffs) / num_pos\n"
     ]
    },
    {
     "data": {
      "application/vnd.jupyter.widget-view+json": {
       "model_id": "972ef8a60ae743b880e24ec939fea94c",
       "version_major": 2,
       "version_minor": 0
      },
      "text/plain": [
       "  0%|          | 0/2 [00:00<?, ?it/s]"
      ]
     },
     "metadata": {},
     "output_type": "display_data"
    },
    {
     "name": "stderr",
     "output_type": "stream",
     "text": [
      "/dgx1nas1/storage/data/akalinin/projects/copairs/src/copairs/compute.py:89: RuntimeWarning: invalid value encountered in divide\n",
      "  ap = (pr_k * rel_k).sum(axis=1) / num_pos\n"
     ]
    },
    {
     "name": "stdout",
     "output_type": "stream",
     "text": [
      "\n",
      "Calculating distances.\n",
      "Pos pairs size: 31878, Neg pairs size: 123211\n"
     ]
    },
    {
     "data": {
      "application/vnd.jupyter.widget-view+json": {
       "model_id": "db0a60852aeb478a927d5672f01e9b8c",
       "version_major": 2,
       "version_minor": 0
      },
      "text/plain": [
       "  0%|          | 0/2 [00:00<?, ?it/s]"
      ]
     },
     "metadata": {},
     "output_type": "display_data"
    },
    {
     "data": {
      "application/vnd.jupyter.widget-view+json": {
       "model_id": "e4f4fa8b8dee43acb34128f9162ae43e",
       "version_major": 2,
       "version_minor": 0
      },
      "text/plain": [
       "  0%|          | 0/7 [00:00<?, ?it/s]"
      ]
     },
     "metadata": {},
     "output_type": "display_data"
    },
    {
     "name": "stdout",
     "output_type": "stream",
     "text": [
      "\n",
      "Calculating metric: mean_ap\n"
     ]
    },
    {
     "name": "stderr",
     "output_type": "stream",
     "text": [
      "/dgx1nas1/storage/data/akalinin/projects/copairs/src/copairs/compute.py:105: RuntimeWarning: invalid value encountered in divide\n",
      "  ap_scores = np.add.reduceat(pr_k * rel_k_list, cutoffs) / num_pos\n"
     ]
    },
    {
     "data": {
      "application/vnd.jupyter.widget-view+json": {
       "model_id": "2d7615ce34784ee5bd801af949e73845",
       "version_major": 2,
       "version_minor": 0
      },
      "text/plain": [
       "  0%|          | 0/2 [00:00<?, ?it/s]"
      ]
     },
     "metadata": {},
     "output_type": "display_data"
    },
    {
     "name": "stdout",
     "output_type": "stream",
     "text": [
      "\n",
      "Calculating distances.\n",
      "Pos pairs size: 2850, Neg pairs size: 37012\n"
     ]
    },
    {
     "data": {
      "application/vnd.jupyter.widget-view+json": {
       "model_id": "a8374154badf452795d15fb8e55b3ca2",
       "version_major": 2,
       "version_minor": 0
      },
      "text/plain": [
       "  0%|          | 0/1 [00:00<?, ?it/s]"
      ]
     },
     "metadata": {},
     "output_type": "display_data"
    },
    {
     "data": {
      "application/vnd.jupyter.widget-view+json": {
       "model_id": "54d10174107844e5ae6069e998dbb152",
       "version_major": 2,
       "version_minor": 0
      },
      "text/plain": [
       "  0%|          | 0/2 [00:00<?, ?it/s]"
      ]
     },
     "metadata": {},
     "output_type": "display_data"
    },
    {
     "name": "stdout",
     "output_type": "stream",
     "text": [
      "\n",
      "Calculating metric: mean_ap\n"
     ]
    },
    {
     "name": "stderr",
     "output_type": "stream",
     "text": [
      "/dgx1nas1/storage/data/akalinin/projects/copairs/src/copairs/compute.py:105: RuntimeWarning: invalid value encountered in divide\n",
      "  ap_scores = np.add.reduceat(pr_k * rel_k_list, cutoffs) / num_pos\n"
     ]
    },
    {
     "data": {
      "application/vnd.jupyter.widget-view+json": {
       "model_id": "98f8ff26c944478e949f32d538e2920a",
       "version_major": 2,
       "version_minor": 0
      },
      "text/plain": [
       "  0%|          | 0/2 [00:00<?, ?it/s]"
      ]
     },
     "metadata": {},
     "output_type": "display_data"
    },
    {
     "name": "stderr",
     "output_type": "stream",
     "text": [
      "/dgx1nas1/storage/data/akalinin/projects/copairs/src/copairs/compute.py:89: RuntimeWarning: invalid value encountered in divide\n",
      "  ap = (pr_k * rel_k).sum(axis=1) / num_pos\n"
     ]
    },
    {
     "name": "stdout",
     "output_type": "stream",
     "text": [
      "\n",
      "Calculating distances.\n",
      "Pos pairs size: 10878, Neg pairs size: 72076\n"
     ]
    },
    {
     "data": {
      "application/vnd.jupyter.widget-view+json": {
       "model_id": "7931dc87f44145ba9e6ba4a2cd38edc5",
       "version_major": 2,
       "version_minor": 0
      },
      "text/plain": [
       "  0%|          | 0/1 [00:00<?, ?it/s]"
      ]
     },
     "metadata": {},
     "output_type": "display_data"
    },
    {
     "data": {
      "application/vnd.jupyter.widget-view+json": {
       "model_id": "4c0734a8dc084de392494377949c1aed",
       "version_major": 2,
       "version_minor": 0
      },
      "text/plain": [
       "  0%|          | 0/4 [00:00<?, ?it/s]"
      ]
     },
     "metadata": {},
     "output_type": "display_data"
    },
    {
     "name": "stdout",
     "output_type": "stream",
     "text": [
      "\n",
      "Calculating metric: mean_ap\n"
     ]
    },
    {
     "name": "stderr",
     "output_type": "stream",
     "text": [
      "/dgx1nas1/storage/data/akalinin/projects/copairs/src/copairs/compute.py:105: RuntimeWarning: invalid value encountered in divide\n",
      "  ap_scores = np.add.reduceat(pr_k * rel_k_list, cutoffs) / num_pos\n"
     ]
    },
    {
     "data": {
      "application/vnd.jupyter.widget-view+json": {
       "model_id": "bd87cc1c7cb24d4a895fb5ab86325bdb",
       "version_major": 2,
       "version_minor": 0
      },
      "text/plain": [
       "  0%|          | 0/2 [00:00<?, ?it/s]"
      ]
     },
     "metadata": {},
     "output_type": "display_data"
    },
    {
     "name": "stderr",
     "output_type": "stream",
     "text": [
      "/dgx1nas1/storage/data/akalinin/projects/copairs/src/copairs/compute.py:89: RuntimeWarning: invalid value encountered in divide\n",
      "  ap = (pr_k * rel_k).sum(axis=1) / num_pos\n"
     ]
    },
    {
     "name": "stdout",
     "output_type": "stream",
     "text": [
      "Now analyzing HSPA5...\n",
      "\n",
      "Calculating distances.\n",
      "Pos pairs size: 4278, Neg pairs size: 45291\n"
     ]
    },
    {
     "data": {
      "application/vnd.jupyter.widget-view+json": {
       "model_id": "737b2541ec69484bb50f01f5c0df3556",
       "version_major": 2,
       "version_minor": 0
      },
      "text/plain": [
       "  0%|          | 0/1 [00:00<?, ?it/s]"
      ]
     },
     "metadata": {},
     "output_type": "display_data"
    },
    {
     "data": {
      "application/vnd.jupyter.widget-view+json": {
       "model_id": "8647cd1c76174b9d8468d79c7b046e3f",
       "version_major": 2,
       "version_minor": 0
      },
      "text/plain": [
       "  0%|          | 0/3 [00:00<?, ?it/s]"
      ]
     },
     "metadata": {},
     "output_type": "display_data"
    },
    {
     "name": "stdout",
     "output_type": "stream",
     "text": [
      "\n",
      "Calculating metric: mean_ap\n"
     ]
    },
    {
     "name": "stderr",
     "output_type": "stream",
     "text": [
      "/dgx1nas1/storage/data/akalinin/projects/copairs/src/copairs/compute.py:105: RuntimeWarning: invalid value encountered in divide\n",
      "  ap_scores = np.add.reduceat(pr_k * rel_k_list, cutoffs) / num_pos\n"
     ]
    },
    {
     "data": {
      "application/vnd.jupyter.widget-view+json": {
       "model_id": "05520b9790fd452a930a3fd9351e04e2",
       "version_major": 2,
       "version_minor": 0
      },
      "text/plain": [
       "  0%|          | 0/2 [00:00<?, ?it/s]"
      ]
     },
     "metadata": {},
     "output_type": "display_data"
    },
    {
     "name": "stderr",
     "output_type": "stream",
     "text": [
      "/dgx1nas1/storage/data/akalinin/projects/copairs/src/copairs/compute.py:89: RuntimeWarning: invalid value encountered in divide\n",
      "  ap = (pr_k * rel_k).sum(axis=1) / num_pos\n"
     ]
    },
    {
     "name": "stdout",
     "output_type": "stream",
     "text": [
      "\n",
      "Calculating distances.\n",
      "Pos pairs size: 14028, Neg pairs size: 81816\n"
     ]
    },
    {
     "data": {
      "application/vnd.jupyter.widget-view+json": {
       "model_id": "e0ae74aa17ad4f849798a5e44b403dac",
       "version_major": 2,
       "version_minor": 0
      },
      "text/plain": [
       "  0%|          | 0/1 [00:00<?, ?it/s]"
      ]
     },
     "metadata": {},
     "output_type": "display_data"
    },
    {
     "data": {
      "application/vnd.jupyter.widget-view+json": {
       "model_id": "c1aeb5db8f054d098128b0010029d25f",
       "version_major": 2,
       "version_minor": 0
      },
      "text/plain": [
       "  0%|          | 0/5 [00:00<?, ?it/s]"
      ]
     },
     "metadata": {},
     "output_type": "display_data"
    },
    {
     "name": "stdout",
     "output_type": "stream",
     "text": [
      "\n",
      "Calculating metric: mean_ap\n"
     ]
    },
    {
     "name": "stderr",
     "output_type": "stream",
     "text": [
      "/dgx1nas1/storage/data/akalinin/projects/copairs/src/copairs/compute.py:105: RuntimeWarning: invalid value encountered in divide\n",
      "  ap_scores = np.add.reduceat(pr_k * rel_k_list, cutoffs) / num_pos\n"
     ]
    },
    {
     "data": {
      "application/vnd.jupyter.widget-view+json": {
       "model_id": "57b8dd064f6e441993803eb7e16432c0",
       "version_major": 2,
       "version_minor": 0
      },
      "text/plain": [
       "  0%|          | 0/2 [00:00<?, ?it/s]"
      ]
     },
     "metadata": {},
     "output_type": "display_data"
    },
    {
     "name": "stderr",
     "output_type": "stream",
     "text": [
      "/dgx1nas1/storage/data/akalinin/projects/copairs/src/copairs/compute.py:89: RuntimeWarning: invalid value encountered in divide\n",
      "  ap = (pr_k * rel_k).sum(axis=1) / num_pos\n"
     ]
    },
    {
     "name": "stdout",
     "output_type": "stream",
     "text": [
      "\n",
      "Calculating distances.\n",
      "Pos pairs size: 10011, Neg pairs size: 69154\n"
     ]
    },
    {
     "data": {
      "application/vnd.jupyter.widget-view+json": {
       "model_id": "6b71dddca2894a5fa0b6178c826ede90",
       "version_major": 2,
       "version_minor": 0
      },
      "text/plain": [
       "  0%|          | 0/1 [00:00<?, ?it/s]"
      ]
     },
     "metadata": {},
     "output_type": "display_data"
    },
    {
     "data": {
      "application/vnd.jupyter.widget-view+json": {
       "model_id": "029e231b4fac403d971338990efe1337",
       "version_major": 2,
       "version_minor": 0
      },
      "text/plain": [
       "  0%|          | 0/4 [00:00<?, ?it/s]"
      ]
     },
     "metadata": {},
     "output_type": "display_data"
    },
    {
     "name": "stdout",
     "output_type": "stream",
     "text": [
      "\n",
      "Calculating metric: mean_ap\n"
     ]
    },
    {
     "name": "stderr",
     "output_type": "stream",
     "text": [
      "/dgx1nas1/storage/data/akalinin/projects/copairs/src/copairs/compute.py:105: RuntimeWarning: invalid value encountered in divide\n",
      "  ap_scores = np.add.reduceat(pr_k * rel_k_list, cutoffs) / num_pos\n"
     ]
    },
    {
     "data": {
      "application/vnd.jupyter.widget-view+json": {
       "model_id": "70c079ff3a594e7aa5c5587d6617f1a3",
       "version_major": 2,
       "version_minor": 0
      },
      "text/plain": [
       "  0%|          | 0/2 [00:00<?, ?it/s]"
      ]
     },
     "metadata": {},
     "output_type": "display_data"
    },
    {
     "name": "stderr",
     "output_type": "stream",
     "text": [
      "/dgx1nas1/storage/data/akalinin/projects/copairs/src/copairs/compute.py:89: RuntimeWarning: invalid value encountered in divide\n",
      "  ap = (pr_k * rel_k).sum(axis=1) / num_pos\n"
     ]
    },
    {
     "name": "stdout",
     "output_type": "stream",
     "text": [
      "\n",
      "Calculating distances.\n",
      "Pos pairs size: 26565, Neg pairs size: 112497\n"
     ]
    },
    {
     "data": {
      "application/vnd.jupyter.widget-view+json": {
       "model_id": "a64d0a216255429c8b96c8b4fdfe1a63",
       "version_major": 2,
       "version_minor": 0
      },
      "text/plain": [
       "  0%|          | 0/2 [00:00<?, ?it/s]"
      ]
     },
     "metadata": {},
     "output_type": "display_data"
    },
    {
     "data": {
      "application/vnd.jupyter.widget-view+json": {
       "model_id": "b3bf7e6536ce493ebf0c7c562aee7120",
       "version_major": 2,
       "version_minor": 0
      },
      "text/plain": [
       "  0%|          | 0/6 [00:00<?, ?it/s]"
      ]
     },
     "metadata": {},
     "output_type": "display_data"
    },
    {
     "name": "stdout",
     "output_type": "stream",
     "text": [
      "\n",
      "Calculating metric: mean_ap\n"
     ]
    },
    {
     "name": "stderr",
     "output_type": "stream",
     "text": [
      "/dgx1nas1/storage/data/akalinin/projects/copairs/src/copairs/compute.py:105: RuntimeWarning: invalid value encountered in divide\n",
      "  ap_scores = np.add.reduceat(pr_k * rel_k_list, cutoffs) / num_pos\n"
     ]
    },
    {
     "data": {
      "application/vnd.jupyter.widget-view+json": {
       "model_id": "b040466fcac042e698a68e3bcabf2ac6",
       "version_major": 2,
       "version_minor": 0
      },
      "text/plain": [
       "  0%|          | 0/2 [00:00<?, ?it/s]"
      ]
     },
     "metadata": {},
     "output_type": "display_data"
    },
    {
     "name": "stderr",
     "output_type": "stream",
     "text": [
      "/dgx1nas1/storage/data/akalinin/projects/copairs/src/copairs/compute.py:89: RuntimeWarning: invalid value encountered in divide\n",
      "  ap = (pr_k * rel_k).sum(axis=1) / num_pos\n"
     ]
    },
    {
     "name": "stdout",
     "output_type": "stream",
     "text": [
      "\n",
      "Calculating distances.\n",
      "Pos pairs size: 6105, Neg pairs size: 54057\n"
     ]
    },
    {
     "data": {
      "application/vnd.jupyter.widget-view+json": {
       "model_id": "335a343a9f354d1e9b9c81bd225b829f",
       "version_major": 2,
       "version_minor": 0
      },
      "text/plain": [
       "  0%|          | 0/1 [00:00<?, ?it/s]"
      ]
     },
     "metadata": {},
     "output_type": "display_data"
    },
    {
     "data": {
      "application/vnd.jupyter.widget-view+json": {
       "model_id": "a1b6def8c5b34adaa02b7e2f53f803ba",
       "version_major": 2,
       "version_minor": 0
      },
      "text/plain": [
       "  0%|          | 0/3 [00:00<?, ?it/s]"
      ]
     },
     "metadata": {},
     "output_type": "display_data"
    },
    {
     "name": "stdout",
     "output_type": "stream",
     "text": [
      "\n",
      "Calculating metric: mean_ap\n"
     ]
    },
    {
     "name": "stderr",
     "output_type": "stream",
     "text": [
      "/dgx1nas1/storage/data/akalinin/projects/copairs/src/copairs/compute.py:105: RuntimeWarning: invalid value encountered in divide\n",
      "  ap_scores = np.add.reduceat(pr_k * rel_k_list, cutoffs) / num_pos\n"
     ]
    },
    {
     "data": {
      "application/vnd.jupyter.widget-view+json": {
       "model_id": "ca5a2c65f07f4da09ea87ae3e7f12505",
       "version_major": 2,
       "version_minor": 0
      },
      "text/plain": [
       "  0%|          | 0/2 [00:00<?, ?it/s]"
      ]
     },
     "metadata": {},
     "output_type": "display_data"
    },
    {
     "name": "stdout",
     "output_type": "stream",
     "text": [
      "Now analyzing MTOR...\n",
      "\n",
      "Calculating distances.\n",
      "Pos pairs size: 11325, Neg pairs size: 73537\n"
     ]
    },
    {
     "data": {
      "application/vnd.jupyter.widget-view+json": {
       "model_id": "afcc70b20ca343fc97b1b6127cf8f6ac",
       "version_major": 2,
       "version_minor": 0
      },
      "text/plain": [
       "  0%|          | 0/1 [00:00<?, ?it/s]"
      ]
     },
     "metadata": {},
     "output_type": "display_data"
    },
    {
     "data": {
      "application/vnd.jupyter.widget-view+json": {
       "model_id": "9d2939888a7d4c23b31dcf7f84982e32",
       "version_major": 2,
       "version_minor": 0
      },
      "text/plain": [
       "  0%|          | 0/4 [00:00<?, ?it/s]"
      ]
     },
     "metadata": {},
     "output_type": "display_data"
    },
    {
     "name": "stdout",
     "output_type": "stream",
     "text": [
      "\n",
      "Calculating metric: mean_ap\n"
     ]
    },
    {
     "name": "stderr",
     "output_type": "stream",
     "text": [
      "/dgx1nas1/storage/data/akalinin/projects/copairs/src/copairs/compute.py:105: RuntimeWarning: invalid value encountered in divide\n",
      "  ap_scores = np.add.reduceat(pr_k * rel_k_list, cutoffs) / num_pos\n"
     ]
    },
    {
     "data": {
      "application/vnd.jupyter.widget-view+json": {
       "model_id": "475e3952a7e34c7a969842f3ccec4907",
       "version_major": 2,
       "version_minor": 0
      },
      "text/plain": [
       "  0%|          | 0/2 [00:00<?, ?it/s]"
      ]
     },
     "metadata": {},
     "output_type": "display_data"
    },
    {
     "name": "stderr",
     "output_type": "stream",
     "text": [
      "/dgx1nas1/storage/data/akalinin/projects/copairs/src/copairs/compute.py:89: RuntimeWarning: invalid value encountered in divide\n",
      "  ap = (pr_k * rel_k).sum(axis=1) / num_pos\n"
     ]
    },
    {
     "name": "stdout",
     "output_type": "stream",
     "text": [
      "\n",
      "Calculating distances.\n",
      "Pos pairs size: 5151, Neg pairs size: 49674\n"
     ]
    },
    {
     "data": {
      "application/vnd.jupyter.widget-view+json": {
       "model_id": "16865668f162440f9f0550a27252f7f5",
       "version_major": 2,
       "version_minor": 0
      },
      "text/plain": [
       "  0%|          | 0/1 [00:00<?, ?it/s]"
      ]
     },
     "metadata": {},
     "output_type": "display_data"
    },
    {
     "data": {
      "application/vnd.jupyter.widget-view+json": {
       "model_id": "c5c932698e6d4a0ba264c83678103371",
       "version_major": 2,
       "version_minor": 0
      },
      "text/plain": [
       "  0%|          | 0/3 [00:00<?, ?it/s]"
      ]
     },
     "metadata": {},
     "output_type": "display_data"
    },
    {
     "name": "stdout",
     "output_type": "stream",
     "text": [
      "\n",
      "Calculating metric: mean_ap\n"
     ]
    },
    {
     "name": "stderr",
     "output_type": "stream",
     "text": [
      "/dgx1nas1/storage/data/akalinin/projects/copairs/src/copairs/compute.py:105: RuntimeWarning: invalid value encountered in divide\n",
      "  ap_scores = np.add.reduceat(pr_k * rel_k_list, cutoffs) / num_pos\n"
     ]
    },
    {
     "data": {
      "application/vnd.jupyter.widget-view+json": {
       "model_id": "490150c8666b4d019aca8a2dfa782ddf",
       "version_major": 2,
       "version_minor": 0
      },
      "text/plain": [
       "  0%|          | 0/2 [00:00<?, ?it/s]"
      ]
     },
     "metadata": {},
     "output_type": "display_data"
    },
    {
     "name": "stdout",
     "output_type": "stream",
     "text": [
      "\n",
      "Calculating distances.\n",
      "Pos pairs size: 82215, Neg pairs size: 197722\n"
     ]
    },
    {
     "data": {
      "application/vnd.jupyter.widget-view+json": {
       "model_id": "2612ee213a614530a6ee8b0653077fd0",
       "version_major": 2,
       "version_minor": 0
      },
      "text/plain": [
       "  0%|          | 0/5 [00:00<?, ?it/s]"
      ]
     },
     "metadata": {},
     "output_type": "display_data"
    },
    {
     "data": {
      "application/vnd.jupyter.widget-view+json": {
       "model_id": "f89d26d8095142f7a7d8333dba32a0d9",
       "version_major": 2,
       "version_minor": 0
      },
      "text/plain": [
       "  0%|          | 0/10 [00:00<?, ?it/s]"
      ]
     },
     "metadata": {},
     "output_type": "display_data"
    },
    {
     "name": "stdout",
     "output_type": "stream",
     "text": [
      "\n",
      "Calculating metric: mean_ap\n"
     ]
    },
    {
     "name": "stderr",
     "output_type": "stream",
     "text": [
      "/dgx1nas1/storage/data/akalinin/projects/copairs/src/copairs/compute.py:105: RuntimeWarning: invalid value encountered in divide\n",
      "  ap_scores = np.add.reduceat(pr_k * rel_k_list, cutoffs) / num_pos\n"
     ]
    },
    {
     "data": {
      "application/vnd.jupyter.widget-view+json": {
       "model_id": "003ee9fb8b0949c9a8750eaf15fa41b7",
       "version_major": 2,
       "version_minor": 0
      },
      "text/plain": [
       "  0%|          | 0/2 [00:00<?, ?it/s]"
      ]
     },
     "metadata": {},
     "output_type": "display_data"
    },
    {
     "name": "stderr",
     "output_type": "stream",
     "text": [
      "/dgx1nas1/storage/data/akalinin/projects/copairs/src/copairs/compute.py:89: RuntimeWarning: invalid value encountered in divide\n",
      "  ap = (pr_k * rel_k).sum(axis=1) / num_pos\n"
     ]
    },
    {
     "name": "stdout",
     "output_type": "stream",
     "text": [
      "\n",
      "Calculating distances.\n",
      "Pos pairs size: 11476, Neg pairs size: 74024\n"
     ]
    },
    {
     "data": {
      "application/vnd.jupyter.widget-view+json": {
       "model_id": "68c995a75d924211927fb83be9324dd1",
       "version_major": 2,
       "version_minor": 0
      },
      "text/plain": [
       "  0%|          | 0/1 [00:00<?, ?it/s]"
      ]
     },
     "metadata": {},
     "output_type": "display_data"
    },
    {
     "data": {
      "application/vnd.jupyter.widget-view+json": {
       "model_id": "1b799d18cfe048cd8a123238529adf5a",
       "version_major": 2,
       "version_minor": 0
      },
      "text/plain": [
       "  0%|          | 0/4 [00:00<?, ?it/s]"
      ]
     },
     "metadata": {},
     "output_type": "display_data"
    },
    {
     "name": "stdout",
     "output_type": "stream",
     "text": [
      "\n",
      "Calculating metric: mean_ap\n"
     ]
    },
    {
     "name": "stderr",
     "output_type": "stream",
     "text": [
      "/dgx1nas1/storage/data/akalinin/projects/copairs/src/copairs/compute.py:105: RuntimeWarning: invalid value encountered in divide\n",
      "  ap_scores = np.add.reduceat(pr_k * rel_k_list, cutoffs) / num_pos\n"
     ]
    },
    {
     "data": {
      "application/vnd.jupyter.widget-view+json": {
       "model_id": "75798dbc9d8948008002ce81b4293d87",
       "version_major": 2,
       "version_minor": 0
      },
      "text/plain": [
       "  0%|          | 0/2 [00:00<?, ?it/s]"
      ]
     },
     "metadata": {},
     "output_type": "display_data"
    },
    {
     "name": "stderr",
     "output_type": "stream",
     "text": [
      "/dgx1nas1/storage/data/akalinin/projects/copairs/src/copairs/compute.py:89: RuntimeWarning: invalid value encountered in divide\n",
      "  ap = (pr_k * rel_k).sum(axis=1) / num_pos\n"
     ]
    },
    {
     "name": "stdout",
     "output_type": "stream",
     "text": [
      "\n",
      "Calculating distances.\n",
      "Pos pairs size: 11628, Neg pairs size: 74511\n"
     ]
    },
    {
     "data": {
      "application/vnd.jupyter.widget-view+json": {
       "model_id": "648ff61de6864bd88ea53d24d691966e",
       "version_major": 2,
       "version_minor": 0
      },
      "text/plain": [
       "  0%|          | 0/1 [00:00<?, ?it/s]"
      ]
     },
     "metadata": {},
     "output_type": "display_data"
    },
    {
     "data": {
      "application/vnd.jupyter.widget-view+json": {
       "model_id": "7e6a83f78e3a490096432edde1c5abde",
       "version_major": 2,
       "version_minor": 0
      },
      "text/plain": [
       "  0%|          | 0/4 [00:00<?, ?it/s]"
      ]
     },
     "metadata": {},
     "output_type": "display_data"
    },
    {
     "name": "stdout",
     "output_type": "stream",
     "text": [
      "\n",
      "Calculating metric: mean_ap\n"
     ]
    },
    {
     "name": "stderr",
     "output_type": "stream",
     "text": [
      "/dgx1nas1/storage/data/akalinin/projects/copairs/src/copairs/compute.py:105: RuntimeWarning: invalid value encountered in divide\n",
      "  ap_scores = np.add.reduceat(pr_k * rel_k_list, cutoffs) / num_pos\n"
     ]
    },
    {
     "data": {
      "application/vnd.jupyter.widget-view+json": {
       "model_id": "bd70da081f4c4392a05eb3e52e4267fb",
       "version_major": 2,
       "version_minor": 0
      },
      "text/plain": [
       "  0%|          | 0/2 [00:00<?, ?it/s]"
      ]
     },
     "metadata": {},
     "output_type": "display_data"
    },
    {
     "name": "stdout",
     "output_type": "stream",
     "text": [
      "Now analyzing GATA1...\n",
      "\n",
      "Calculating distances.\n",
      "Pos pairs size: 5671, Neg pairs size: 52109\n"
     ]
    },
    {
     "data": {
      "application/vnd.jupyter.widget-view+json": {
       "model_id": "dfc4ca728a664a7dabcbe9b510a6456e",
       "version_major": 2,
       "version_minor": 0
      },
      "text/plain": [
       "  0%|          | 0/1 [00:00<?, ?it/s]"
      ]
     },
     "metadata": {},
     "output_type": "display_data"
    },
    {
     "data": {
      "application/vnd.jupyter.widget-view+json": {
       "model_id": "051a0879864b43b395ad75704a6dde29",
       "version_major": 2,
       "version_minor": 0
      },
      "text/plain": [
       "  0%|          | 0/3 [00:00<?, ?it/s]"
      ]
     },
     "metadata": {},
     "output_type": "display_data"
    },
    {
     "name": "stdout",
     "output_type": "stream",
     "text": [
      "\n",
      "Calculating metric: mean_ap\n"
     ]
    },
    {
     "name": "stderr",
     "output_type": "stream",
     "text": [
      "/dgx1nas1/storage/data/akalinin/projects/copairs/src/copairs/compute.py:105: RuntimeWarning: invalid value encountered in divide\n",
      "  ap_scores = np.add.reduceat(pr_k * rel_k_list, cutoffs) / num_pos\n"
     ]
    },
    {
     "data": {
      "application/vnd.jupyter.widget-view+json": {
       "model_id": "b3d569f87a1c481987a52010aa633d12",
       "version_major": 2,
       "version_minor": 0
      },
      "text/plain": [
       "  0%|          | 0/2 [00:00<?, ?it/s]"
      ]
     },
     "metadata": {},
     "output_type": "display_data"
    },
    {
     "name": "stderr",
     "output_type": "stream",
     "text": [
      "/dgx1nas1/storage/data/akalinin/projects/copairs/src/copairs/compute.py:89: RuntimeWarning: invalid value encountered in divide\n",
      "  ap = (pr_k * rel_k).sum(axis=1) / num_pos\n"
     ]
    },
    {
     "name": "stdout",
     "output_type": "stream",
     "text": [
      "\n",
      "Calculating distances.\n",
      "Pos pairs size: 10153, Neg pairs size: 69641\n"
     ]
    },
    {
     "data": {
      "application/vnd.jupyter.widget-view+json": {
       "model_id": "9cab82c3b33d4de1bc47d070a12ad6ba",
       "version_major": 2,
       "version_minor": 0
      },
      "text/plain": [
       "  0%|          | 0/1 [00:00<?, ?it/s]"
      ]
     },
     "metadata": {},
     "output_type": "display_data"
    },
    {
     "data": {
      "application/vnd.jupyter.widget-view+json": {
       "model_id": "76188814cfd04d3ebe7f789aa07ce66c",
       "version_major": 2,
       "version_minor": 0
      },
      "text/plain": [
       "  0%|          | 0/4 [00:00<?, ?it/s]"
      ]
     },
     "metadata": {},
     "output_type": "display_data"
    },
    {
     "name": "stdout",
     "output_type": "stream",
     "text": [
      "\n",
      "Calculating metric: mean_ap\n"
     ]
    },
    {
     "name": "stderr",
     "output_type": "stream",
     "text": [
      "/dgx1nas1/storage/data/akalinin/projects/copairs/src/copairs/compute.py:105: RuntimeWarning: invalid value encountered in divide\n",
      "  ap_scores = np.add.reduceat(pr_k * rel_k_list, cutoffs) / num_pos\n"
     ]
    },
    {
     "data": {
      "application/vnd.jupyter.widget-view+json": {
       "model_id": "ab69aeda08a0418f8489daa598608bcb",
       "version_major": 2,
       "version_minor": 0
      },
      "text/plain": [
       "  0%|          | 0/2 [00:00<?, ?it/s]"
      ]
     },
     "metadata": {},
     "output_type": "display_data"
    },
    {
     "name": "stdout",
     "output_type": "stream",
     "text": [
      "\n",
      "Calculating distances.\n",
      "Pos pairs size: 3081, Neg pairs size: 38473\n"
     ]
    },
    {
     "data": {
      "application/vnd.jupyter.widget-view+json": {
       "model_id": "7d8b5d9c669d465faad2c8259b884325",
       "version_major": 2,
       "version_minor": 0
      },
      "text/plain": [
       "  0%|          | 0/1 [00:00<?, ?it/s]"
      ]
     },
     "metadata": {},
     "output_type": "display_data"
    },
    {
     "data": {
      "application/vnd.jupyter.widget-view+json": {
       "model_id": "7e7efe96bcc241e3ad15e0a3bfd8fada",
       "version_major": 2,
       "version_minor": 0
      },
      "text/plain": [
       "  0%|          | 0/2 [00:00<?, ?it/s]"
      ]
     },
     "metadata": {},
     "output_type": "display_data"
    },
    {
     "name": "stdout",
     "output_type": "stream",
     "text": [
      "\n",
      "Calculating metric: mean_ap\n"
     ]
    },
    {
     "name": "stderr",
     "output_type": "stream",
     "text": [
      "/dgx1nas1/storage/data/akalinin/projects/copairs/src/copairs/compute.py:105: RuntimeWarning: invalid value encountered in divide\n",
      "  ap_scores = np.add.reduceat(pr_k * rel_k_list, cutoffs) / num_pos\n"
     ]
    },
    {
     "data": {
      "application/vnd.jupyter.widget-view+json": {
       "model_id": "379a9fa0d5bd4d839c0dd417a01e0c10",
       "version_major": 2,
       "version_minor": 0
      },
      "text/plain": [
       "  0%|          | 0/2 [00:00<?, ?it/s]"
      ]
     },
     "metadata": {},
     "output_type": "display_data"
    },
    {
     "name": "stdout",
     "output_type": "stream",
     "text": [
      "\n",
      "Calculating distances.\n",
      "Pos pairs size: 9730, Neg pairs size: 68180\n"
     ]
    },
    {
     "data": {
      "application/vnd.jupyter.widget-view+json": {
       "model_id": "a1dbf3335b014b5b8317a14d76ac4f83",
       "version_major": 2,
       "version_minor": 0
      },
      "text/plain": [
       "  0%|          | 0/1 [00:00<?, ?it/s]"
      ]
     },
     "metadata": {},
     "output_type": "display_data"
    },
    {
     "data": {
      "application/vnd.jupyter.widget-view+json": {
       "model_id": "917b81bef4f2472c914d5c96cca25a94",
       "version_major": 2,
       "version_minor": 0
      },
      "text/plain": [
       "  0%|          | 0/4 [00:00<?, ?it/s]"
      ]
     },
     "metadata": {},
     "output_type": "display_data"
    },
    {
     "name": "stdout",
     "output_type": "stream",
     "text": [
      "\n",
      "Calculating metric: mean_ap\n"
     ]
    },
    {
     "name": "stderr",
     "output_type": "stream",
     "text": [
      "/dgx1nas1/storage/data/akalinin/projects/copairs/src/copairs/compute.py:105: RuntimeWarning: invalid value encountered in divide\n",
      "  ap_scores = np.add.reduceat(pr_k * rel_k_list, cutoffs) / num_pos\n"
     ]
    },
    {
     "data": {
      "application/vnd.jupyter.widget-view+json": {
       "model_id": "19cc3ee1b28e471caf394d0574c48e18",
       "version_major": 2,
       "version_minor": 0
      },
      "text/plain": [
       "  0%|          | 0/2 [00:00<?, ?it/s]"
      ]
     },
     "metadata": {},
     "output_type": "display_data"
    },
    {
     "name": "stderr",
     "output_type": "stream",
     "text": [
      "/dgx1nas1/storage/data/akalinin/projects/copairs/src/copairs/compute.py:89: RuntimeWarning: invalid value encountered in divide\n",
      "  ap = (pr_k * rel_k).sum(axis=1) / num_pos\n"
     ]
    },
    {
     "name": "stdout",
     "output_type": "stream",
     "text": [
      "\n",
      "Calculating distances.\n",
      "Pos pairs size: 1326, Neg pairs size: 25324\n"
     ]
    },
    {
     "data": {
      "application/vnd.jupyter.widget-view+json": {
       "model_id": "f30db4320a7b4b4f92f6b31c316b2ac0",
       "version_major": 2,
       "version_minor": 0
      },
      "text/plain": [
       "  0%|          | 0/1 [00:00<?, ?it/s]"
      ]
     },
     "metadata": {},
     "output_type": "display_data"
    },
    {
     "data": {
      "application/vnd.jupyter.widget-view+json": {
       "model_id": "a722020c2da84769b93d89306e1b59d2",
       "version_major": 2,
       "version_minor": 0
      },
      "text/plain": [
       "  0%|          | 0/2 [00:00<?, ?it/s]"
      ]
     },
     "metadata": {},
     "output_type": "display_data"
    },
    {
     "name": "stdout",
     "output_type": "stream",
     "text": [
      "\n",
      "Calculating metric: mean_ap\n"
     ]
    },
    {
     "name": "stderr",
     "output_type": "stream",
     "text": [
      "/dgx1nas1/storage/data/akalinin/projects/copairs/src/copairs/compute.py:105: RuntimeWarning: invalid value encountered in divide\n",
      "  ap_scores = np.add.reduceat(pr_k * rel_k_list, cutoffs) / num_pos\n"
     ]
    },
    {
     "data": {
      "application/vnd.jupyter.widget-view+json": {
       "model_id": "9da477e9189a45b78c0ae7af143c2750",
       "version_major": 2,
       "version_minor": 0
      },
      "text/plain": [
       "  0%|          | 0/2 [00:00<?, ?it/s]"
      ]
     },
     "metadata": {},
     "output_type": "display_data"
    },
    {
     "name": "stderr",
     "output_type": "stream",
     "text": [
      "/dgx1nas1/storage/data/akalinin/projects/copairs/src/copairs/compute.py:89: RuntimeWarning: invalid value encountered in divide\n",
      "  ap = (pr_k * rel_k).sum(axis=1) / num_pos\n"
     ]
    },
    {
     "name": "stdout",
     "output_type": "stream",
     "text": [
      "\n",
      "Calculating distances.\n",
      "Pos pairs size: 1540, Neg pairs size: 27272\n"
     ]
    },
    {
     "data": {
      "application/vnd.jupyter.widget-view+json": {
       "model_id": "47d0f4b80bfd40b28aaff363169e29b4",
       "version_major": 2,
       "version_minor": 0
      },
      "text/plain": [
       "  0%|          | 0/1 [00:00<?, ?it/s]"
      ]
     },
     "metadata": {},
     "output_type": "display_data"
    },
    {
     "data": {
      "application/vnd.jupyter.widget-view+json": {
       "model_id": "b5c3e6b186eb447485054b09ff02c282",
       "version_major": 2,
       "version_minor": 0
      },
      "text/plain": [
       "  0%|          | 0/2 [00:00<?, ?it/s]"
      ]
     },
     "metadata": {},
     "output_type": "display_data"
    },
    {
     "name": "stdout",
     "output_type": "stream",
     "text": [
      "\n",
      "Calculating metric: mean_ap\n"
     ]
    },
    {
     "name": "stderr",
     "output_type": "stream",
     "text": [
      "/dgx1nas1/storage/data/akalinin/projects/copairs/src/copairs/compute.py:105: RuntimeWarning: invalid value encountered in divide\n",
      "  ap_scores = np.add.reduceat(pr_k * rel_k_list, cutoffs) / num_pos\n"
     ]
    },
    {
     "data": {
      "application/vnd.jupyter.widget-view+json": {
       "model_id": "9f41ae7fcde948e88b2ef70a1c26d572",
       "version_major": 2,
       "version_minor": 0
      },
      "text/plain": [
       "  0%|          | 0/2 [00:00<?, ?it/s]"
      ]
     },
     "metadata": {},
     "output_type": "display_data"
    },
    {
     "name": "stderr",
     "output_type": "stream",
     "text": [
      "/dgx1nas1/storage/data/akalinin/projects/copairs/src/copairs/compute.py:89: RuntimeWarning: invalid value encountered in divide\n",
      "  ap = (pr_k * rel_k).sum(axis=1) / num_pos\n"
     ]
    },
    {
     "name": "stdout",
     "output_type": "stream",
     "text": [
      "Now analyzing GINS1...\n",
      "\n",
      "Calculating distances.\n",
      "Pos pairs size: 52326, Neg pairs size: 157788\n"
     ]
    },
    {
     "data": {
      "application/vnd.jupyter.widget-view+json": {
       "model_id": "336d96509cba4aa7adefeb8d41d3bc63",
       "version_major": 2,
       "version_minor": 0
      },
      "text/plain": [
       "  0%|          | 0/3 [00:00<?, ?it/s]"
      ]
     },
     "metadata": {},
     "output_type": "display_data"
    },
    {
     "data": {
      "application/vnd.jupyter.widget-view+json": {
       "model_id": "f403556091d8494aa6269c48098cd14c",
       "version_major": 2,
       "version_minor": 0
      },
      "text/plain": [
       "  0%|          | 0/8 [00:00<?, ?it/s]"
      ]
     },
     "metadata": {},
     "output_type": "display_data"
    },
    {
     "name": "stdout",
     "output_type": "stream",
     "text": [
      "\n",
      "Calculating metric: mean_ap\n"
     ]
    },
    {
     "name": "stderr",
     "output_type": "stream",
     "text": [
      "/dgx1nas1/storage/data/akalinin/projects/copairs/src/copairs/compute.py:105: RuntimeWarning: invalid value encountered in divide\n",
      "  ap_scores = np.add.reduceat(pr_k * rel_k_list, cutoffs) / num_pos\n"
     ]
    },
    {
     "data": {
      "application/vnd.jupyter.widget-view+json": {
       "model_id": "019ed7f63ef94b95b74ef8e2b61e5966",
       "version_major": 2,
       "version_minor": 0
      },
      "text/plain": [
       "  0%|          | 0/2 [00:00<?, ?it/s]"
      ]
     },
     "metadata": {},
     "output_type": "display_data"
    },
    {
     "name": "stderr",
     "output_type": "stream",
     "text": [
      "/dgx1nas1/storage/data/akalinin/projects/copairs/src/copairs/compute.py:89: RuntimeWarning: invalid value encountered in divide\n",
      "  ap = (pr_k * rel_k).sum(axis=1) / num_pos\n"
     ]
    },
    {
     "name": "stdout",
     "output_type": "stream",
     "text": [
      "\n",
      "Calculating distances.\n",
      "Pos pairs size: 24090, Neg pairs size: 107140\n"
     ]
    },
    {
     "data": {
      "application/vnd.jupyter.widget-view+json": {
       "model_id": "7cf67e5eef7b48379fd9ede857fba8c0",
       "version_major": 2,
       "version_minor": 0
      },
      "text/plain": [
       "  0%|          | 0/2 [00:00<?, ?it/s]"
      ]
     },
     "metadata": {},
     "output_type": "display_data"
    },
    {
     "data": {
      "application/vnd.jupyter.widget-view+json": {
       "model_id": "af08046df6fa46be8ae78e53ebd9f872",
       "version_major": 2,
       "version_minor": 0
      },
      "text/plain": [
       "  0%|          | 0/6 [00:00<?, ?it/s]"
      ]
     },
     "metadata": {},
     "output_type": "display_data"
    },
    {
     "name": "stdout",
     "output_type": "stream",
     "text": [
      "\n",
      "Calculating metric: mean_ap\n"
     ]
    },
    {
     "name": "stderr",
     "output_type": "stream",
     "text": [
      "/dgx1nas1/storage/data/akalinin/projects/copairs/src/copairs/compute.py:105: RuntimeWarning: invalid value encountered in divide\n",
      "  ap_scores = np.add.reduceat(pr_k * rel_k_list, cutoffs) / num_pos\n"
     ]
    },
    {
     "data": {
      "application/vnd.jupyter.widget-view+json": {
       "model_id": "c35a9a113e444b3887cd4b2b0b21ab37",
       "version_major": 2,
       "version_minor": 0
      },
      "text/plain": [
       "  0%|          | 0/2 [00:00<?, ?it/s]"
      ]
     },
     "metadata": {},
     "output_type": "display_data"
    },
    {
     "name": "stderr",
     "output_type": "stream",
     "text": [
      "/dgx1nas1/storage/data/akalinin/projects/copairs/src/copairs/compute.py:89: RuntimeWarning: invalid value encountered in divide\n",
      "  ap = (pr_k * rel_k).sum(axis=1) / num_pos\n"
     ]
    },
    {
     "name": "stdout",
     "output_type": "stream",
     "text": [
      "\n",
      "Calculating distances.\n",
      "Pos pairs size: 15576, Neg pairs size: 86199\n"
     ]
    },
    {
     "data": {
      "application/vnd.jupyter.widget-view+json": {
       "model_id": "895ba492dc614b569358893ddac46a4a",
       "version_major": 2,
       "version_minor": 0
      },
      "text/plain": [
       "  0%|          | 0/1 [00:00<?, ?it/s]"
      ]
     },
     "metadata": {},
     "output_type": "display_data"
    },
    {
     "data": {
      "application/vnd.jupyter.widget-view+json": {
       "model_id": "4b0ad1d498154339b744aa3275eab75e",
       "version_major": 2,
       "version_minor": 0
      },
      "text/plain": [
       "  0%|          | 0/5 [00:00<?, ?it/s]"
      ]
     },
     "metadata": {},
     "output_type": "display_data"
    },
    {
     "name": "stdout",
     "output_type": "stream",
     "text": [
      "\n",
      "Calculating metric: mean_ap\n"
     ]
    },
    {
     "name": "stderr",
     "output_type": "stream",
     "text": [
      "/dgx1nas1/storage/data/akalinin/projects/copairs/src/copairs/compute.py:105: RuntimeWarning: invalid value encountered in divide\n",
      "  ap_scores = np.add.reduceat(pr_k * rel_k_list, cutoffs) / num_pos\n"
     ]
    },
    {
     "data": {
      "application/vnd.jupyter.widget-view+json": {
       "model_id": "e7e5259e82fd4470abdd2b65fa472289",
       "version_major": 2,
       "version_minor": 0
      },
      "text/plain": [
       "  0%|          | 0/2 [00:00<?, ?it/s]"
      ]
     },
     "metadata": {},
     "output_type": "display_data"
    },
    {
     "name": "stdout",
     "output_type": "stream",
     "text": [
      "\n",
      "Calculating distances.\n",
      "Pos pairs size: 8515, Neg pairs size: 63797\n"
     ]
    },
    {
     "data": {
      "application/vnd.jupyter.widget-view+json": {
       "model_id": "9882c0a627084a69b1d958f5736c14dc",
       "version_major": 2,
       "version_minor": 0
      },
      "text/plain": [
       "  0%|          | 0/1 [00:00<?, ?it/s]"
      ]
     },
     "metadata": {},
     "output_type": "display_data"
    },
    {
     "data": {
      "application/vnd.jupyter.widget-view+json": {
       "model_id": "c9954fc9b46847c8bcfcf929e3b1b0eb",
       "version_major": 2,
       "version_minor": 0
      },
      "text/plain": [
       "  0%|          | 0/4 [00:00<?, ?it/s]"
      ]
     },
     "metadata": {},
     "output_type": "display_data"
    },
    {
     "name": "stdout",
     "output_type": "stream",
     "text": [
      "\n",
      "Calculating metric: mean_ap\n"
     ]
    },
    {
     "name": "stderr",
     "output_type": "stream",
     "text": [
      "/dgx1nas1/storage/data/akalinin/projects/copairs/src/copairs/compute.py:105: RuntimeWarning: invalid value encountered in divide\n",
      "  ap_scores = np.add.reduceat(pr_k * rel_k_list, cutoffs) / num_pos\n"
     ]
    },
    {
     "data": {
      "application/vnd.jupyter.widget-view+json": {
       "model_id": "670d7e54bc364b679fdf57c01112f7ca",
       "version_major": 2,
       "version_minor": 0
      },
      "text/plain": [
       "  0%|          | 0/2 [00:00<?, ?it/s]"
      ]
     },
     "metadata": {},
     "output_type": "display_data"
    },
    {
     "name": "stderr",
     "output_type": "stream",
     "text": [
      "/dgx1nas1/storage/data/akalinin/projects/copairs/src/copairs/compute.py:89: RuntimeWarning: invalid value encountered in divide\n",
      "  ap = (pr_k * rel_k).sum(axis=1) / num_pos\n"
     ]
    },
    {
     "name": "stdout",
     "output_type": "stream",
     "text": [
      "\n",
      "Calculating distances.\n",
      "Pos pairs size: 1128, Neg pairs size: 23376\n"
     ]
    },
    {
     "data": {
      "application/vnd.jupyter.widget-view+json": {
       "model_id": "1d4278edef9b4c4fbf9ccb48b2f89356",
       "version_major": 2,
       "version_minor": 0
      },
      "text/plain": [
       "  0%|          | 0/1 [00:00<?, ?it/s]"
      ]
     },
     "metadata": {},
     "output_type": "display_data"
    },
    {
     "data": {
      "application/vnd.jupyter.widget-view+json": {
       "model_id": "04fbdf8b4e8a431cbe96ef459c2e7b41",
       "version_major": 2,
       "version_minor": 0
      },
      "text/plain": [
       "  0%|          | 0/2 [00:00<?, ?it/s]"
      ]
     },
     "metadata": {},
     "output_type": "display_data"
    },
    {
     "name": "stdout",
     "output_type": "stream",
     "text": [
      "\n",
      "Calculating metric: mean_ap\n"
     ]
    },
    {
     "name": "stderr",
     "output_type": "stream",
     "text": [
      "/dgx1nas1/storage/data/akalinin/projects/copairs/src/copairs/compute.py:105: RuntimeWarning: invalid value encountered in divide\n",
      "  ap_scores = np.add.reduceat(pr_k * rel_k_list, cutoffs) / num_pos\n"
     ]
    },
    {
     "data": {
      "application/vnd.jupyter.widget-view+json": {
       "model_id": "24353d9327cd4d99a046d451c83c69b0",
       "version_major": 2,
       "version_minor": 0
      },
      "text/plain": [
       "  0%|          | 0/2 [00:00<?, ?it/s]"
      ]
     },
     "metadata": {},
     "output_type": "display_data"
    },
    {
     "name": "stderr",
     "output_type": "stream",
     "text": [
      "/dgx1nas1/storage/data/akalinin/projects/copairs/src/copairs/compute.py:89: RuntimeWarning: invalid value encountered in divide\n",
      "  ap = (pr_k * rel_k).sum(axis=1) / num_pos\n"
     ]
    },
    {
     "name": "stdout",
     "output_type": "stream",
     "text": [
      "Now analyzing HSPE1...\n",
      "\n",
      "Calculating distances.\n",
      "Pos pairs size: 32640, Neg pairs size: 124672\n"
     ]
    },
    {
     "data": {
      "application/vnd.jupyter.widget-view+json": {
       "model_id": "2ddf561628de44e0b69419d0dcc1b3b3",
       "version_major": 2,
       "version_minor": 0
      },
      "text/plain": [
       "  0%|          | 0/2 [00:00<?, ?it/s]"
      ]
     },
     "metadata": {},
     "output_type": "display_data"
    },
    {
     "data": {
      "application/vnd.jupyter.widget-view+json": {
       "model_id": "5570ad73a2b243f78803ce1fdbeac6ec",
       "version_major": 2,
       "version_minor": 0
      },
      "text/plain": [
       "  0%|          | 0/7 [00:00<?, ?it/s]"
      ]
     },
     "metadata": {},
     "output_type": "display_data"
    },
    {
     "name": "stdout",
     "output_type": "stream",
     "text": [
      "\n",
      "Calculating metric: mean_ap\n"
     ]
    },
    {
     "name": "stderr",
     "output_type": "stream",
     "text": [
      "/dgx1nas1/storage/data/akalinin/projects/copairs/src/copairs/compute.py:105: RuntimeWarning: invalid value encountered in divide\n",
      "  ap_scores = np.add.reduceat(pr_k * rel_k_list, cutoffs) / num_pos\n"
     ]
    },
    {
     "data": {
      "application/vnd.jupyter.widget-view+json": {
       "model_id": "880e5dab5563448abe70d030c8a5680a",
       "version_major": 2,
       "version_minor": 0
      },
      "text/plain": [
       "  0%|          | 0/2 [00:00<?, ?it/s]"
      ]
     },
     "metadata": {},
     "output_type": "display_data"
    },
    {
     "name": "stdout",
     "output_type": "stream",
     "text": [
      "\n",
      "Calculating distances.\n",
      "Pos pairs size: 19701, Neg pairs size: 96913\n"
     ]
    },
    {
     "data": {
      "application/vnd.jupyter.widget-view+json": {
       "model_id": "9c32893a10fd44958b1f533f21bad003",
       "version_major": 2,
       "version_minor": 0
      },
      "text/plain": [
       "  0%|          | 0/1 [00:00<?, ?it/s]"
      ]
     },
     "metadata": {},
     "output_type": "display_data"
    },
    {
     "data": {
      "application/vnd.jupyter.widget-view+json": {
       "model_id": "4eb28f2c7c2a4aafa88af096f5d1b76c",
       "version_major": 2,
       "version_minor": 0
      },
      "text/plain": [
       "  0%|          | 0/5 [00:00<?, ?it/s]"
      ]
     },
     "metadata": {},
     "output_type": "display_data"
    },
    {
     "name": "stdout",
     "output_type": "stream",
     "text": [
      "\n",
      "Calculating metric: mean_ap\n"
     ]
    },
    {
     "name": "stderr",
     "output_type": "stream",
     "text": [
      "/dgx1nas1/storage/data/akalinin/projects/copairs/src/copairs/compute.py:105: RuntimeWarning: invalid value encountered in divide\n",
      "  ap_scores = np.add.reduceat(pr_k * rel_k_list, cutoffs) / num_pos\n"
     ]
    },
    {
     "data": {
      "application/vnd.jupyter.widget-view+json": {
       "model_id": "b7489e54531548e6b3414208fb5c0cfc",
       "version_major": 2,
       "version_minor": 0
      },
      "text/plain": [
       "  0%|          | 0/2 [00:00<?, ?it/s]"
      ]
     },
     "metadata": {},
     "output_type": "display_data"
    },
    {
     "name": "stderr",
     "output_type": "stream",
     "text": [
      "/dgx1nas1/storage/data/akalinin/projects/copairs/src/copairs/compute.py:89: RuntimeWarning: invalid value encountered in divide\n",
      "  ap = (pr_k * rel_k).sum(axis=1) / num_pos\n"
     ]
    },
    {
     "name": "stdout",
     "output_type": "stream",
     "text": [
      "\n",
      "Calculating distances.\n",
      "Pos pairs size: 16110, Neg pairs size: 87660\n"
     ]
    },
    {
     "data": {
      "application/vnd.jupyter.widget-view+json": {
       "model_id": "7ebc035f70334a28b63b9a13194504eb",
       "version_major": 2,
       "version_minor": 0
      },
      "text/plain": [
       "  0%|          | 0/1 [00:00<?, ?it/s]"
      ]
     },
     "metadata": {},
     "output_type": "display_data"
    },
    {
     "data": {
      "application/vnd.jupyter.widget-view+json": {
       "model_id": "4e44d80ba9654264a0cce7eb09bb7d67",
       "version_major": 2,
       "version_minor": 0
      },
      "text/plain": [
       "  0%|          | 0/5 [00:00<?, ?it/s]"
      ]
     },
     "metadata": {},
     "output_type": "display_data"
    },
    {
     "name": "stdout",
     "output_type": "stream",
     "text": [
      "\n",
      "Calculating metric: mean_ap\n"
     ]
    },
    {
     "name": "stderr",
     "output_type": "stream",
     "text": [
      "/dgx1nas1/storage/data/akalinin/projects/copairs/src/copairs/compute.py:105: RuntimeWarning: invalid value encountered in divide\n",
      "  ap_scores = np.add.reduceat(pr_k * rel_k_list, cutoffs) / num_pos\n"
     ]
    },
    {
     "data": {
      "application/vnd.jupyter.widget-view+json": {
       "model_id": "c697ea6e8b97419d970968658aa2053f",
       "version_major": 2,
       "version_minor": 0
      },
      "text/plain": [
       "  0%|          | 0/2 [00:00<?, ?it/s]"
      ]
     },
     "metadata": {},
     "output_type": "display_data"
    },
    {
     "name": "stderr",
     "output_type": "stream",
     "text": [
      "/dgx1nas1/storage/data/akalinin/projects/copairs/src/copairs/compute.py:89: RuntimeWarning: invalid value encountered in divide\n",
      "  ap = (pr_k * rel_k).sum(axis=1) / num_pos\n"
     ]
    },
    {
     "name": "stdout",
     "output_type": "stream",
     "text": [
      "\n",
      "Calculating distances.\n",
      "Pos pairs size: 8911, Neg pairs size: 65258\n"
     ]
    },
    {
     "data": {
      "application/vnd.jupyter.widget-view+json": {
       "model_id": "79c9d07b00984965aca5b8690e1f7ee1",
       "version_major": 2,
       "version_minor": 0
      },
      "text/plain": [
       "  0%|          | 0/1 [00:00<?, ?it/s]"
      ]
     },
     "metadata": {},
     "output_type": "display_data"
    },
    {
     "data": {
      "application/vnd.jupyter.widget-view+json": {
       "model_id": "44e7d848fa8342a9a64ca45bbba1e748",
       "version_major": 2,
       "version_minor": 0
      },
      "text/plain": [
       "  0%|          | 0/4 [00:00<?, ?it/s]"
      ]
     },
     "metadata": {},
     "output_type": "display_data"
    },
    {
     "name": "stdout",
     "output_type": "stream",
     "text": [
      "\n",
      "Calculating metric: mean_ap\n"
     ]
    },
    {
     "name": "stderr",
     "output_type": "stream",
     "text": [
      "/dgx1nas1/storage/data/akalinin/projects/copairs/src/copairs/compute.py:105: RuntimeWarning: invalid value encountered in divide\n",
      "  ap_scores = np.add.reduceat(pr_k * rel_k_list, cutoffs) / num_pos\n"
     ]
    },
    {
     "data": {
      "application/vnd.jupyter.widget-view+json": {
       "model_id": "bb326412e5a844c1a60f9259052afb9a",
       "version_major": 2,
       "version_minor": 0
      },
      "text/plain": [
       "  0%|          | 0/2 [00:00<?, ?it/s]"
      ]
     },
     "metadata": {},
     "output_type": "display_data"
    },
    {
     "name": "stderr",
     "output_type": "stream",
     "text": [
      "/dgx1nas1/storage/data/akalinin/projects/copairs/src/copairs/compute.py:89: RuntimeWarning: invalid value encountered in divide\n",
      "  ap = (pr_k * rel_k).sum(axis=1) / num_pos\n"
     ]
    },
    {
     "name": "stdout",
     "output_type": "stream",
     "text": [
      "\n",
      "Calculating distances.\n",
      "Pos pairs size: 21528, Neg pairs size: 101296\n"
     ]
    },
    {
     "data": {
      "application/vnd.jupyter.widget-view+json": {
       "model_id": "76b705b101a94c0d977e72a2dc8a80aa",
       "version_major": 2,
       "version_minor": 0
      },
      "text/plain": [
       "  0%|          | 0/2 [00:00<?, ?it/s]"
      ]
     },
     "metadata": {},
     "output_type": "display_data"
    },
    {
     "data": {
      "application/vnd.jupyter.widget-view+json": {
       "model_id": "d802fbafa47f4ab49b470c7d26b51462",
       "version_major": 2,
       "version_minor": 0
      },
      "text/plain": [
       "  0%|          | 0/6 [00:00<?, ?it/s]"
      ]
     },
     "metadata": {},
     "output_type": "display_data"
    },
    {
     "name": "stdout",
     "output_type": "stream",
     "text": [
      "\n",
      "Calculating metric: mean_ap\n"
     ]
    },
    {
     "name": "stderr",
     "output_type": "stream",
     "text": [
      "/dgx1nas1/storage/data/akalinin/projects/copairs/src/copairs/compute.py:105: RuntimeWarning: invalid value encountered in divide\n",
      "  ap_scores = np.add.reduceat(pr_k * rel_k_list, cutoffs) / num_pos\n"
     ]
    },
    {
     "data": {
      "application/vnd.jupyter.widget-view+json": {
       "model_id": "afe93f20bd924615a93654a9727fc8e0",
       "version_major": 2,
       "version_minor": 0
      },
      "text/plain": [
       "  0%|          | 0/2 [00:00<?, ?it/s]"
      ]
     },
     "metadata": {},
     "output_type": "display_data"
    },
    {
     "name": "stderr",
     "output_type": "stream",
     "text": [
      "/dgx1nas1/storage/data/akalinin/projects/copairs/src/copairs/compute.py:89: RuntimeWarning: invalid value encountered in divide\n",
      "  ap = (pr_k * rel_k).sum(axis=1) / num_pos\n"
     ]
    },
    {
     "name": "stdout",
     "output_type": "stream",
     "text": [
      "Now analyzing RPS14...\n",
      "\n",
      "Calculating distances.\n",
      "Pos pairs size: 22155, Neg pairs size: 102757\n"
     ]
    },
    {
     "data": {
      "application/vnd.jupyter.widget-view+json": {
       "model_id": "f4ab29995fc34e2d8af031d3c0fbaf45",
       "version_major": 2,
       "version_minor": 0
      },
      "text/plain": [
       "  0%|          | 0/2 [00:00<?, ?it/s]"
      ]
     },
     "metadata": {},
     "output_type": "display_data"
    },
    {
     "data": {
      "application/vnd.jupyter.widget-view+json": {
       "model_id": "27d4f46904fe4552a39148e6e44a4166",
       "version_major": 2,
       "version_minor": 0
      },
      "text/plain": [
       "  0%|          | 0/6 [00:00<?, ?it/s]"
      ]
     },
     "metadata": {},
     "output_type": "display_data"
    },
    {
     "name": "stdout",
     "output_type": "stream",
     "text": [
      "\n",
      "Calculating metric: mean_ap\n"
     ]
    },
    {
     "name": "stderr",
     "output_type": "stream",
     "text": [
      "/dgx1nas1/storage/data/akalinin/projects/copairs/src/copairs/compute.py:105: RuntimeWarning: invalid value encountered in divide\n",
      "  ap_scores = np.add.reduceat(pr_k * rel_k_list, cutoffs) / num_pos\n"
     ]
    },
    {
     "data": {
      "application/vnd.jupyter.widget-view+json": {
       "model_id": "38b04213d81d4d04b3738d9dacd9c9fb",
       "version_major": 2,
       "version_minor": 0
      },
      "text/plain": [
       "  0%|          | 0/2 [00:00<?, ?it/s]"
      ]
     },
     "metadata": {},
     "output_type": "display_data"
    },
    {
     "name": "stderr",
     "output_type": "stream",
     "text": [
      "/dgx1nas1/storage/data/akalinin/projects/copairs/src/copairs/compute.py:89: RuntimeWarning: invalid value encountered in divide\n",
      "  ap = (pr_k * rel_k).sum(axis=1) / num_pos\n"
     ]
    },
    {
     "name": "stdout",
     "output_type": "stream",
     "text": [
      "\n",
      "Calculating distances.\n",
      "Pos pairs size: 21528, Neg pairs size: 101296\n"
     ]
    },
    {
     "data": {
      "application/vnd.jupyter.widget-view+json": {
       "model_id": "d8bb9df494a54eedb1b440cc30886de2",
       "version_major": 2,
       "version_minor": 0
      },
      "text/plain": [
       "  0%|          | 0/2 [00:00<?, ?it/s]"
      ]
     },
     "metadata": {},
     "output_type": "display_data"
    },
    {
     "data": {
      "application/vnd.jupyter.widget-view+json": {
       "model_id": "e45e2b5a406f41059ef1a72d9dd65c6a",
       "version_major": 2,
       "version_minor": 0
      },
      "text/plain": [
       "  0%|          | 0/6 [00:00<?, ?it/s]"
      ]
     },
     "metadata": {},
     "output_type": "display_data"
    },
    {
     "name": "stdout",
     "output_type": "stream",
     "text": [
      "\n",
      "Calculating metric: mean_ap\n"
     ]
    },
    {
     "name": "stderr",
     "output_type": "stream",
     "text": [
      "/dgx1nas1/storage/data/akalinin/projects/copairs/src/copairs/compute.py:105: RuntimeWarning: invalid value encountered in divide\n",
      "  ap_scores = np.add.reduceat(pr_k * rel_k_list, cutoffs) / num_pos\n"
     ]
    },
    {
     "data": {
      "application/vnd.jupyter.widget-view+json": {
       "model_id": "690035673eb541eba490185a3bb4a0ad",
       "version_major": 2,
       "version_minor": 0
      },
      "text/plain": [
       "  0%|          | 0/2 [00:00<?, ?it/s]"
      ]
     },
     "metadata": {},
     "output_type": "display_data"
    },
    {
     "name": "stdout",
     "output_type": "stream",
     "text": [
      "\n",
      "Calculating distances.\n",
      "Pos pairs size: 20910, Neg pairs size: 99835\n"
     ]
    },
    {
     "data": {
      "application/vnd.jupyter.widget-view+json": {
       "model_id": "87f963bfcecc4078bd19a7c75ab945fd",
       "version_major": 2,
       "version_minor": 0
      },
      "text/plain": [
       "  0%|          | 0/2 [00:00<?, ?it/s]"
      ]
     },
     "metadata": {},
     "output_type": "display_data"
    },
    {
     "data": {
      "application/vnd.jupyter.widget-view+json": {
       "model_id": "a6146649f164486bac5f11363cdb21bf",
       "version_major": 2,
       "version_minor": 0
      },
      "text/plain": [
       "  0%|          | 0/5 [00:00<?, ?it/s]"
      ]
     },
     "metadata": {},
     "output_type": "display_data"
    },
    {
     "name": "stdout",
     "output_type": "stream",
     "text": [
      "\n",
      "Calculating metric: mean_ap\n"
     ]
    },
    {
     "name": "stderr",
     "output_type": "stream",
     "text": [
      "/dgx1nas1/storage/data/akalinin/projects/copairs/src/copairs/compute.py:105: RuntimeWarning: invalid value encountered in divide\n",
      "  ap_scores = np.add.reduceat(pr_k * rel_k_list, cutoffs) / num_pos\n"
     ]
    },
    {
     "data": {
      "application/vnd.jupyter.widget-view+json": {
       "model_id": "5e91127e57f0462fac4ecf0480590461",
       "version_major": 2,
       "version_minor": 0
      },
      "text/plain": [
       "  0%|          | 0/2 [00:00<?, ?it/s]"
      ]
     },
     "metadata": {},
     "output_type": "display_data"
    },
    {
     "name": "stderr",
     "output_type": "stream",
     "text": [
      "/dgx1nas1/storage/data/akalinin/projects/copairs/src/copairs/compute.py:89: RuntimeWarning: invalid value encountered in divide\n",
      "  ap = (pr_k * rel_k).sum(axis=1) / num_pos\n"
     ]
    },
    {
     "name": "stdout",
     "output_type": "stream",
     "text": [
      "\n",
      "Calculating distances.\n",
      "Pos pairs size: 2415, Neg pairs size: 34090\n"
     ]
    },
    {
     "data": {
      "application/vnd.jupyter.widget-view+json": {
       "model_id": "b348eb0f558b46249984d35759863266",
       "version_major": 2,
       "version_minor": 0
      },
      "text/plain": [
       "  0%|          | 0/1 [00:00<?, ?it/s]"
      ]
     },
     "metadata": {},
     "output_type": "display_data"
    },
    {
     "data": {
      "application/vnd.jupyter.widget-view+json": {
       "model_id": "bd8070f8613d49e59b7a617ed0ac2c7f",
       "version_major": 2,
       "version_minor": 0
      },
      "text/plain": [
       "  0%|          | 0/2 [00:00<?, ?it/s]"
      ]
     },
     "metadata": {},
     "output_type": "display_data"
    },
    {
     "name": "stdout",
     "output_type": "stream",
     "text": [
      "\n",
      "Calculating metric: mean_ap\n"
     ]
    },
    {
     "name": "stderr",
     "output_type": "stream",
     "text": [
      "/dgx1nas1/storage/data/akalinin/projects/copairs/src/copairs/compute.py:105: RuntimeWarning: invalid value encountered in divide\n",
      "  ap_scores = np.add.reduceat(pr_k * rel_k_list, cutoffs) / num_pos\n"
     ]
    },
    {
     "data": {
      "application/vnd.jupyter.widget-view+json": {
       "model_id": "ffc3c2d360ec4ad89d44b6f51704bfc4",
       "version_major": 2,
       "version_minor": 0
      },
      "text/plain": [
       "  0%|          | 0/2 [00:00<?, ?it/s]"
      ]
     },
     "metadata": {},
     "output_type": "display_data"
    },
    {
     "name": "stderr",
     "output_type": "stream",
     "text": [
      "/dgx1nas1/storage/data/akalinin/projects/copairs/src/copairs/compute.py:89: RuntimeWarning: invalid value encountered in divide\n",
      "  ap = (pr_k * rel_k).sum(axis=1) / num_pos\n"
     ]
    },
    {
     "name": "stdout",
     "output_type": "stream",
     "text": [
      "\n",
      "Calculating distances.\n",
      "Pos pairs size: 10296, Neg pairs size: 70128\n"
     ]
    },
    {
     "data": {
      "application/vnd.jupyter.widget-view+json": {
       "model_id": "575871778b4a4be4b9dca4a975e67dd8",
       "version_major": 2,
       "version_minor": 0
      },
      "text/plain": [
       "  0%|          | 0/1 [00:00<?, ?it/s]"
      ]
     },
     "metadata": {},
     "output_type": "display_data"
    },
    {
     "data": {
      "application/vnd.jupyter.widget-view+json": {
       "model_id": "73a33cb0497a4653888195d89f737b40",
       "version_major": 2,
       "version_minor": 0
      },
      "text/plain": [
       "  0%|          | 0/4 [00:00<?, ?it/s]"
      ]
     },
     "metadata": {},
     "output_type": "display_data"
    },
    {
     "name": "stdout",
     "output_type": "stream",
     "text": [
      "\n",
      "Calculating metric: mean_ap\n"
     ]
    },
    {
     "name": "stderr",
     "output_type": "stream",
     "text": [
      "/dgx1nas1/storage/data/akalinin/projects/copairs/src/copairs/compute.py:105: RuntimeWarning: invalid value encountered in divide\n",
      "  ap_scores = np.add.reduceat(pr_k * rel_k_list, cutoffs) / num_pos\n"
     ]
    },
    {
     "data": {
      "application/vnd.jupyter.widget-view+json": {
       "model_id": "02235aa764034aceb689c6f363de3d8c",
       "version_major": 2,
       "version_minor": 0
      },
      "text/plain": [
       "  0%|          | 0/2 [00:00<?, ?it/s]"
      ]
     },
     "metadata": {},
     "output_type": "display_data"
    },
    {
     "name": "stderr",
     "output_type": "stream",
     "text": [
      "/dgx1nas1/storage/data/akalinin/projects/copairs/src/copairs/compute.py:89: RuntimeWarning: invalid value encountered in divide\n",
      "  ap = (pr_k * rel_k).sum(axis=1) / num_pos\n"
     ]
    },
    {
     "name": "stdout",
     "output_type": "stream",
     "text": [
      "\n",
      "Calculating distances.\n",
      "Pos pairs size: 7381, Neg pairs size: 59414\n"
     ]
    },
    {
     "data": {
      "application/vnd.jupyter.widget-view+json": {
       "model_id": "d6bfa8eb0e73466aa3dd6ca67ff2e750",
       "version_major": 2,
       "version_minor": 0
      },
      "text/plain": [
       "  0%|          | 0/1 [00:00<?, ?it/s]"
      ]
     },
     "metadata": {},
     "output_type": "display_data"
    },
    {
     "data": {
      "application/vnd.jupyter.widget-view+json": {
       "model_id": "889819e1c7e74306a430e227b64a4a52",
       "version_major": 2,
       "version_minor": 0
      },
      "text/plain": [
       "  0%|          | 0/3 [00:00<?, ?it/s]"
      ]
     },
     "metadata": {},
     "output_type": "display_data"
    },
    {
     "name": "stdout",
     "output_type": "stream",
     "text": [
      "\n",
      "Calculating metric: mean_ap\n"
     ]
    },
    {
     "name": "stderr",
     "output_type": "stream",
     "text": [
      "/dgx1nas1/storage/data/akalinin/projects/copairs/src/copairs/compute.py:105: RuntimeWarning: invalid value encountered in divide\n",
      "  ap_scores = np.add.reduceat(pr_k * rel_k_list, cutoffs) / num_pos\n"
     ]
    },
    {
     "data": {
      "application/vnd.jupyter.widget-view+json": {
       "model_id": "129734b260c6452d8917e0a23c1a9b05",
       "version_major": 2,
       "version_minor": 0
      },
      "text/plain": [
       "  0%|          | 0/2 [00:00<?, ?it/s]"
      ]
     },
     "metadata": {},
     "output_type": "display_data"
    },
    {
     "name": "stderr",
     "output_type": "stream",
     "text": [
      "/dgx1nas1/storage/data/akalinin/projects/copairs/src/copairs/compute.py:89: RuntimeWarning: invalid value encountered in divide\n",
      "  ap = (pr_k * rel_k).sum(axis=1) / num_pos\n"
     ]
    },
    {
     "name": "stdout",
     "output_type": "stream",
     "text": [
      "Now analyzing EIF2S1...\n",
      "\n",
      "Calculating distances.\n",
      "Pos pairs size: 10731, Neg pairs size: 71589\n"
     ]
    },
    {
     "data": {
      "application/vnd.jupyter.widget-view+json": {
       "model_id": "296dd4a5f13244a69b7f202c20bad2ed",
       "version_major": 2,
       "version_minor": 0
      },
      "text/plain": [
       "  0%|          | 0/1 [00:00<?, ?it/s]"
      ]
     },
     "metadata": {},
     "output_type": "display_data"
    },
    {
     "data": {
      "application/vnd.jupyter.widget-view+json": {
       "model_id": "dd8ea615d8a24a8a8702c5782146f76d",
       "version_major": 2,
       "version_minor": 0
      },
      "text/plain": [
       "  0%|          | 0/4 [00:00<?, ?it/s]"
      ]
     },
     "metadata": {},
     "output_type": "display_data"
    },
    {
     "name": "stdout",
     "output_type": "stream",
     "text": [
      "\n",
      "Calculating metric: mean_ap\n"
     ]
    },
    {
     "name": "stderr",
     "output_type": "stream",
     "text": [
      "/dgx1nas1/storage/data/akalinin/projects/copairs/src/copairs/compute.py:105: RuntimeWarning: invalid value encountered in divide\n",
      "  ap_scores = np.add.reduceat(pr_k * rel_k_list, cutoffs) / num_pos\n"
     ]
    },
    {
     "data": {
      "application/vnd.jupyter.widget-view+json": {
       "model_id": "47b5acea29864e9e96042907d3738219",
       "version_major": 2,
       "version_minor": 0
      },
      "text/plain": [
       "  0%|          | 0/2 [00:00<?, ?it/s]"
      ]
     },
     "metadata": {},
     "output_type": "display_data"
    },
    {
     "name": "stderr",
     "output_type": "stream",
     "text": [
      "/dgx1nas1/storage/data/akalinin/projects/copairs/src/copairs/compute.py:89: RuntimeWarning: invalid value encountered in divide\n",
      "  ap = (pr_k * rel_k).sum(axis=1) / num_pos\n"
     ]
    },
    {
     "name": "stdout",
     "output_type": "stream",
     "text": [
      "\n",
      "Calculating distances.\n",
      "Pos pairs size: 10878, Neg pairs size: 72076\n"
     ]
    },
    {
     "data": {
      "application/vnd.jupyter.widget-view+json": {
       "model_id": "39cbc27c705f4779a455ab4c4db626a3",
       "version_major": 2,
       "version_minor": 0
      },
      "text/plain": [
       "  0%|          | 0/1 [00:00<?, ?it/s]"
      ]
     },
     "metadata": {},
     "output_type": "display_data"
    },
    {
     "data": {
      "application/vnd.jupyter.widget-view+json": {
       "model_id": "f8f64105ca6240db9806585e4847b152",
       "version_major": 2,
       "version_minor": 0
      },
      "text/plain": [
       "  0%|          | 0/4 [00:00<?, ?it/s]"
      ]
     },
     "metadata": {},
     "output_type": "display_data"
    },
    {
     "name": "stdout",
     "output_type": "stream",
     "text": [
      "\n",
      "Calculating metric: mean_ap\n"
     ]
    },
    {
     "name": "stderr",
     "output_type": "stream",
     "text": [
      "/dgx1nas1/storage/data/akalinin/projects/copairs/src/copairs/compute.py:105: RuntimeWarning: invalid value encountered in divide\n",
      "  ap_scores = np.add.reduceat(pr_k * rel_k_list, cutoffs) / num_pos\n"
     ]
    },
    {
     "data": {
      "application/vnd.jupyter.widget-view+json": {
       "model_id": "68c87d5b8e3e45bf9cfa5d1a6556a90b",
       "version_major": 2,
       "version_minor": 0
      },
      "text/plain": [
       "  0%|          | 0/2 [00:00<?, ?it/s]"
      ]
     },
     "metadata": {},
     "output_type": "display_data"
    },
    {
     "name": "stdout",
     "output_type": "stream",
     "text": [
      "\n",
      "Calculating distances.\n",
      "Pos pairs size: 5565, Neg pairs size: 51622\n"
     ]
    },
    {
     "data": {
      "application/vnd.jupyter.widget-view+json": {
       "model_id": "c977d6c7ee154e1caccea06225d7aec0",
       "version_major": 2,
       "version_minor": 0
      },
      "text/plain": [
       "  0%|          | 0/1 [00:00<?, ?it/s]"
      ]
     },
     "metadata": {},
     "output_type": "display_data"
    },
    {
     "data": {
      "application/vnd.jupyter.widget-view+json": {
       "model_id": "8aa5c520e6284327a3b32bf8d0f4439e",
       "version_major": 2,
       "version_minor": 0
      },
      "text/plain": [
       "  0%|          | 0/3 [00:00<?, ?it/s]"
      ]
     },
     "metadata": {},
     "output_type": "display_data"
    },
    {
     "name": "stdout",
     "output_type": "stream",
     "text": [
      "\n",
      "Calculating metric: mean_ap\n"
     ]
    },
    {
     "name": "stderr",
     "output_type": "stream",
     "text": [
      "/dgx1nas1/storage/data/akalinin/projects/copairs/src/copairs/compute.py:105: RuntimeWarning: invalid value encountered in divide\n",
      "  ap_scores = np.add.reduceat(pr_k * rel_k_list, cutoffs) / num_pos\n"
     ]
    },
    {
     "data": {
      "application/vnd.jupyter.widget-view+json": {
       "model_id": "af915ffdc43b49a9a1ecae572fa7966d",
       "version_major": 2,
       "version_minor": 0
      },
      "text/plain": [
       "  0%|          | 0/2 [00:00<?, ?it/s]"
      ]
     },
     "metadata": {},
     "output_type": "display_data"
    },
    {
     "name": "stderr",
     "output_type": "stream",
     "text": [
      "/dgx1nas1/storage/data/akalinin/projects/copairs/src/copairs/compute.py:89: RuntimeWarning: invalid value encountered in divide\n",
      "  ap = (pr_k * rel_k).sum(axis=1) / num_pos\n"
     ]
    },
    {
     "name": "stdout",
     "output_type": "stream",
     "text": [
      "\n",
      "Calculating distances.\n",
      "Pos pairs size: 3916, Neg pairs size: 43343\n"
     ]
    },
    {
     "data": {
      "application/vnd.jupyter.widget-view+json": {
       "model_id": "eca3831cb6ad4fa4980e91887fa23c86",
       "version_major": 2,
       "version_minor": 0
      },
      "text/plain": [
       "  0%|          | 0/1 [00:00<?, ?it/s]"
      ]
     },
     "metadata": {},
     "output_type": "display_data"
    },
    {
     "data": {
      "application/vnd.jupyter.widget-view+json": {
       "model_id": "27f8556c8adc4e35b5059c9e5b2b9b55",
       "version_major": 2,
       "version_minor": 0
      },
      "text/plain": [
       "  0%|          | 0/3 [00:00<?, ?it/s]"
      ]
     },
     "metadata": {},
     "output_type": "display_data"
    },
    {
     "name": "stdout",
     "output_type": "stream",
     "text": [
      "\n",
      "Calculating metric: mean_ap\n"
     ]
    },
    {
     "name": "stderr",
     "output_type": "stream",
     "text": [
      "/dgx1nas1/storage/data/akalinin/projects/copairs/src/copairs/compute.py:105: RuntimeWarning: invalid value encountered in divide\n",
      "  ap_scores = np.add.reduceat(pr_k * rel_k_list, cutoffs) / num_pos\n"
     ]
    },
    {
     "data": {
      "application/vnd.jupyter.widget-view+json": {
       "model_id": "ee4b2cb6119b421ba46d529972ad6388",
       "version_major": 2,
       "version_minor": 0
      },
      "text/plain": [
       "  0%|          | 0/2 [00:00<?, ?it/s]"
      ]
     },
     "metadata": {},
     "output_type": "display_data"
    },
    {
     "name": "stderr",
     "output_type": "stream",
     "text": [
      "/dgx1nas1/storage/data/akalinin/projects/copairs/src/copairs/compute.py:89: RuntimeWarning: invalid value encountered in divide\n",
      "  ap = (pr_k * rel_k).sum(axis=1) / num_pos\n"
     ]
    },
    {
     "name": "stdout",
     "output_type": "stream",
     "text": [
      "\n",
      "Calculating distances.\n",
      "Pos pairs size: 7626, Neg pairs size: 60388\n"
     ]
    },
    {
     "data": {
      "application/vnd.jupyter.widget-view+json": {
       "model_id": "b5414c406e7a48e18b8fe339d9912a89",
       "version_major": 2,
       "version_minor": 0
      },
      "text/plain": [
       "  0%|          | 0/1 [00:00<?, ?it/s]"
      ]
     },
     "metadata": {},
     "output_type": "display_data"
    },
    {
     "data": {
      "application/vnd.jupyter.widget-view+json": {
       "model_id": "1424230bab11481e88796b2c38ce79a2",
       "version_major": 2,
       "version_minor": 0
      },
      "text/plain": [
       "  0%|          | 0/4 [00:00<?, ?it/s]"
      ]
     },
     "metadata": {},
     "output_type": "display_data"
    },
    {
     "name": "stdout",
     "output_type": "stream",
     "text": [
      "\n",
      "Calculating metric: mean_ap\n"
     ]
    },
    {
     "name": "stderr",
     "output_type": "stream",
     "text": [
      "/dgx1nas1/storage/data/akalinin/projects/copairs/src/copairs/compute.py:105: RuntimeWarning: invalid value encountered in divide\n",
      "  ap_scores = np.add.reduceat(pr_k * rel_k_list, cutoffs) / num_pos\n"
     ]
    },
    {
     "data": {
      "application/vnd.jupyter.widget-view+json": {
       "model_id": "3799f205e77a4dcc8745416dcc644bc1",
       "version_major": 2,
       "version_minor": 0
      },
      "text/plain": [
       "  0%|          | 0/2 [00:00<?, ?it/s]"
      ]
     },
     "metadata": {},
     "output_type": "display_data"
    },
    {
     "name": "stderr",
     "output_type": "stream",
     "text": [
      "/dgx1nas1/storage/data/akalinin/projects/copairs/src/copairs/compute.py:89: RuntimeWarning: invalid value encountered in divide\n",
      "  ap = (pr_k * rel_k).sum(axis=1) / num_pos\n"
     ]
    },
    {
     "name": "stdout",
     "output_type": "stream",
     "text": [
      "Now analyzing DBR1...\n",
      "\n",
      "Calculating distances.\n",
      "Pos pairs size: 65703, Neg pairs size: 176781\n"
     ]
    },
    {
     "data": {
      "application/vnd.jupyter.widget-view+json": {
       "model_id": "301ca34e031844af87ab99e5413315c7",
       "version_major": 2,
       "version_minor": 0
      },
      "text/plain": [
       "  0%|          | 0/4 [00:00<?, ?it/s]"
      ]
     },
     "metadata": {},
     "output_type": "display_data"
    },
    {
     "data": {
      "application/vnd.jupyter.widget-view+json": {
       "model_id": "50b59f7444974adbad225f010fb05990",
       "version_major": 2,
       "version_minor": 0
      },
      "text/plain": [
       "  0%|          | 0/9 [00:00<?, ?it/s]"
      ]
     },
     "metadata": {},
     "output_type": "display_data"
    },
    {
     "name": "stdout",
     "output_type": "stream",
     "text": [
      "\n",
      "Calculating metric: mean_ap\n"
     ]
    },
    {
     "name": "stderr",
     "output_type": "stream",
     "text": [
      "/dgx1nas1/storage/data/akalinin/projects/copairs/src/copairs/compute.py:105: RuntimeWarning: invalid value encountered in divide\n",
      "  ap_scores = np.add.reduceat(pr_k * rel_k_list, cutoffs) / num_pos\n"
     ]
    },
    {
     "data": {
      "application/vnd.jupyter.widget-view+json": {
       "model_id": "7ceab50d8dff49c78d753817d841c277",
       "version_major": 2,
       "version_minor": 0
      },
      "text/plain": [
       "  0%|          | 0/2 [00:00<?, ?it/s]"
      ]
     },
     "metadata": {},
     "output_type": "display_data"
    },
    {
     "name": "stderr",
     "output_type": "stream",
     "text": [
      "/dgx1nas1/storage/data/akalinin/projects/copairs/src/copairs/compute.py:89: RuntimeWarning: invalid value encountered in divide\n",
      "  ap = (pr_k * rel_k).sum(axis=1) / num_pos\n"
     ]
    },
    {
     "name": "stdout",
     "output_type": "stream",
     "text": [
      "\n",
      "Calculating distances.\n",
      "Pos pairs size: 18915, Neg pairs size: 94965\n"
     ]
    },
    {
     "data": {
      "application/vnd.jupyter.widget-view+json": {
       "model_id": "b6cd69ffa9794b9695760bfcbdb33fc3",
       "version_major": 2,
       "version_minor": 0
      },
      "text/plain": [
       "  0%|          | 0/1 [00:00<?, ?it/s]"
      ]
     },
     "metadata": {},
     "output_type": "display_data"
    },
    {
     "data": {
      "application/vnd.jupyter.widget-view+json": {
       "model_id": "314f6185003b46729abbe57001bc6bb3",
       "version_major": 2,
       "version_minor": 0
      },
      "text/plain": [
       "  0%|          | 0/5 [00:00<?, ?it/s]"
      ]
     },
     "metadata": {},
     "output_type": "display_data"
    },
    {
     "name": "stdout",
     "output_type": "stream",
     "text": [
      "\n",
      "Calculating metric: mean_ap\n"
     ]
    },
    {
     "name": "stderr",
     "output_type": "stream",
     "text": [
      "/dgx1nas1/storage/data/akalinin/projects/copairs/src/copairs/compute.py:105: RuntimeWarning: invalid value encountered in divide\n",
      "  ap_scores = np.add.reduceat(pr_k * rel_k_list, cutoffs) / num_pos\n"
     ]
    },
    {
     "data": {
      "application/vnd.jupyter.widget-view+json": {
       "model_id": "6f18268833f24bf2bf948afda09b1a44",
       "version_major": 2,
       "version_minor": 0
      },
      "text/plain": [
       "  0%|          | 0/2 [00:00<?, ?it/s]"
      ]
     },
     "metadata": {},
     "output_type": "display_data"
    },
    {
     "name": "stderr",
     "output_type": "stream",
     "text": [
      "/dgx1nas1/storage/data/akalinin/projects/copairs/src/copairs/compute.py:89: RuntimeWarning: invalid value encountered in divide\n",
      "  ap = (pr_k * rel_k).sum(axis=1) / num_pos\n"
     ]
    },
    {
     "name": "stdout",
     "output_type": "stream",
     "text": [
      "\n",
      "Calculating distances.\n",
      "Pos pairs size: 28920, Neg pairs size: 117367\n"
     ]
    },
    {
     "data": {
      "application/vnd.jupyter.widget-view+json": {
       "model_id": "49ca2aa3e431499c8a4c4f8d39befab2",
       "version_major": 2,
       "version_minor": 0
      },
      "text/plain": [
       "  0%|          | 0/2 [00:00<?, ?it/s]"
      ]
     },
     "metadata": {},
     "output_type": "display_data"
    },
    {
     "data": {
      "application/vnd.jupyter.widget-view+json": {
       "model_id": "b41a5a589fba4c598d0fbf10031521b4",
       "version_major": 2,
       "version_minor": 0
      },
      "text/plain": [
       "  0%|          | 0/6 [00:00<?, ?it/s]"
      ]
     },
     "metadata": {},
     "output_type": "display_data"
    },
    {
     "name": "stdout",
     "output_type": "stream",
     "text": [
      "\n",
      "Calculating metric: mean_ap\n"
     ]
    },
    {
     "name": "stderr",
     "output_type": "stream",
     "text": [
      "/dgx1nas1/storage/data/akalinin/projects/copairs/src/copairs/compute.py:105: RuntimeWarning: invalid value encountered in divide\n",
      "  ap_scores = np.add.reduceat(pr_k * rel_k_list, cutoffs) / num_pos\n"
     ]
    },
    {
     "data": {
      "application/vnd.jupyter.widget-view+json": {
       "model_id": "9253718255914a4089d1cf07ef3092d8",
       "version_major": 2,
       "version_minor": 0
      },
      "text/plain": [
       "  0%|          | 0/2 [00:00<?, ?it/s]"
      ]
     },
     "metadata": {},
     "output_type": "display_data"
    },
    {
     "name": "stderr",
     "output_type": "stream",
     "text": [
      "/dgx1nas1/storage/data/akalinin/projects/copairs/src/copairs/compute.py:89: RuntimeWarning: invalid value encountered in divide\n",
      "  ap = (pr_k * rel_k).sum(axis=1) / num_pos\n"
     ]
    },
    {
     "name": "stdout",
     "output_type": "stream",
     "text": [
      "\n",
      "Calculating distances.\n",
      "Pos pairs size: 7875, Neg pairs size: 61362\n"
     ]
    },
    {
     "data": {
      "application/vnd.jupyter.widget-view+json": {
       "model_id": "66291c8e0e504264b20a7db9f56c97dd",
       "version_major": 2,
       "version_minor": 0
      },
      "text/plain": [
       "  0%|          | 0/1 [00:00<?, ?it/s]"
      ]
     },
     "metadata": {},
     "output_type": "display_data"
    },
    {
     "data": {
      "application/vnd.jupyter.widget-view+json": {
       "model_id": "03453fe7f12f42c6b61c2f56a6aaf4bf",
       "version_major": 2,
       "version_minor": 0
      },
      "text/plain": [
       "  0%|          | 0/4 [00:00<?, ?it/s]"
      ]
     },
     "metadata": {},
     "output_type": "display_data"
    },
    {
     "name": "stdout",
     "output_type": "stream",
     "text": [
      "\n",
      "Calculating metric: mean_ap\n"
     ]
    },
    {
     "name": "stderr",
     "output_type": "stream",
     "text": [
      "/dgx1nas1/storage/data/akalinin/projects/copairs/src/copairs/compute.py:105: RuntimeWarning: invalid value encountered in divide\n",
      "  ap_scores = np.add.reduceat(pr_k * rel_k_list, cutoffs) / num_pos\n"
     ]
    },
    {
     "data": {
      "application/vnd.jupyter.widget-view+json": {
       "model_id": "3b208034f8474dfd90bd21fc3a71a109",
       "version_major": 2,
       "version_minor": 0
      },
      "text/plain": [
       "  0%|          | 0/2 [00:00<?, ?it/s]"
      ]
     },
     "metadata": {},
     "output_type": "display_data"
    },
    {
     "name": "stdout",
     "output_type": "stream",
     "text": [
      "\n",
      "Calculating distances.\n",
      "Pos pairs size: 16471, Neg pairs size: 88634\n"
     ]
    },
    {
     "data": {
      "application/vnd.jupyter.widget-view+json": {
       "model_id": "5abfda0d61d04e3ebb7be5af5a3fc8f7",
       "version_major": 2,
       "version_minor": 0
      },
      "text/plain": [
       "  0%|          | 0/1 [00:00<?, ?it/s]"
      ]
     },
     "metadata": {},
     "output_type": "display_data"
    },
    {
     "data": {
      "application/vnd.jupyter.widget-view+json": {
       "model_id": "229ea91c8c8e4f5597edef6538aefc47",
       "version_major": 2,
       "version_minor": 0
      },
      "text/plain": [
       "  0%|          | 0/5 [00:00<?, ?it/s]"
      ]
     },
     "metadata": {},
     "output_type": "display_data"
    },
    {
     "name": "stdout",
     "output_type": "stream",
     "text": [
      "\n",
      "Calculating metric: mean_ap\n"
     ]
    },
    {
     "name": "stderr",
     "output_type": "stream",
     "text": [
      "/dgx1nas1/storage/data/akalinin/projects/copairs/src/copairs/compute.py:105: RuntimeWarning: invalid value encountered in divide\n",
      "  ap_scores = np.add.reduceat(pr_k * rel_k_list, cutoffs) / num_pos\n"
     ]
    },
    {
     "data": {
      "application/vnd.jupyter.widget-view+json": {
       "model_id": "2d7f108dc5374e92a1cbf1b6a163dbdf",
       "version_major": 2,
       "version_minor": 0
      },
      "text/plain": [
       "  0%|          | 0/2 [00:00<?, ?it/s]"
      ]
     },
     "metadata": {},
     "output_type": "display_data"
    },
    {
     "name": "stderr",
     "output_type": "stream",
     "text": [
      "/dgx1nas1/storage/data/akalinin/projects/copairs/src/copairs/compute.py:89: RuntimeWarning: invalid value encountered in divide\n",
      "  ap = (pr_k * rel_k).sum(axis=1) / num_pos\n"
     ]
    },
    {
     "name": "stdout",
     "output_type": "stream",
     "text": [
      "Now analyzing CAD...\n",
      "\n",
      "Calculating distances.\n",
      "Pos pairs size: 8385, Neg pairs size: 63310\n"
     ]
    },
    {
     "data": {
      "application/vnd.jupyter.widget-view+json": {
       "model_id": "27190e9235d342edbc8d1fd76e9925a4",
       "version_major": 2,
       "version_minor": 0
      },
      "text/plain": [
       "  0%|          | 0/1 [00:00<?, ?it/s]"
      ]
     },
     "metadata": {},
     "output_type": "display_data"
    },
    {
     "data": {
      "application/vnd.jupyter.widget-view+json": {
       "model_id": "b025a4e09af245dba4a5487ef47cc1ec",
       "version_major": 2,
       "version_minor": 0
      },
      "text/plain": [
       "  0%|          | 0/4 [00:00<?, ?it/s]"
      ]
     },
     "metadata": {},
     "output_type": "display_data"
    },
    {
     "name": "stdout",
     "output_type": "stream",
     "text": [
      "\n",
      "Calculating metric: mean_ap\n"
     ]
    },
    {
     "name": "stderr",
     "output_type": "stream",
     "text": [
      "/dgx1nas1/storage/data/akalinin/projects/copairs/src/copairs/compute.py:105: RuntimeWarning: invalid value encountered in divide\n",
      "  ap_scores = np.add.reduceat(pr_k * rel_k_list, cutoffs) / num_pos\n"
     ]
    },
    {
     "data": {
      "application/vnd.jupyter.widget-view+json": {
       "model_id": "751a6f6b5e984b5aa79767dc6f203a1d",
       "version_major": 2,
       "version_minor": 0
      },
      "text/plain": [
       "  0%|          | 0/2 [00:00<?, ?it/s]"
      ]
     },
     "metadata": {},
     "output_type": "display_data"
    },
    {
     "name": "stderr",
     "output_type": "stream",
     "text": [
      "/dgx1nas1/storage/data/akalinin/projects/copairs/src/copairs/compute.py:89: RuntimeWarning: invalid value encountered in divide\n",
      "  ap = (pr_k * rel_k).sum(axis=1) / num_pos\n"
     ]
    },
    {
     "name": "stdout",
     "output_type": "stream",
     "text": [
      "\n",
      "Calculating distances.\n",
      "Pos pairs size: 10011, Neg pairs size: 69154\n"
     ]
    },
    {
     "data": {
      "application/vnd.jupyter.widget-view+json": {
       "model_id": "48426a1f1d2a4ccab6c2392f031b9f2a",
       "version_major": 2,
       "version_minor": 0
      },
      "text/plain": [
       "  0%|          | 0/1 [00:00<?, ?it/s]"
      ]
     },
     "metadata": {},
     "output_type": "display_data"
    },
    {
     "data": {
      "application/vnd.jupyter.widget-view+json": {
       "model_id": "796cd40eccd74a92b4db49ce69de2273",
       "version_major": 2,
       "version_minor": 0
      },
      "text/plain": [
       "  0%|          | 0/4 [00:00<?, ?it/s]"
      ]
     },
     "metadata": {},
     "output_type": "display_data"
    },
    {
     "name": "stdout",
     "output_type": "stream",
     "text": [
      "\n",
      "Calculating metric: mean_ap\n"
     ]
    },
    {
     "name": "stderr",
     "output_type": "stream",
     "text": [
      "/dgx1nas1/storage/data/akalinin/projects/copairs/src/copairs/compute.py:105: RuntimeWarning: invalid value encountered in divide\n",
      "  ap_scores = np.add.reduceat(pr_k * rel_k_list, cutoffs) / num_pos\n"
     ]
    },
    {
     "data": {
      "application/vnd.jupyter.widget-view+json": {
       "model_id": "235a46e4b5bf4f1caba224906f039911",
       "version_major": 2,
       "version_minor": 0
      },
      "text/plain": [
       "  0%|          | 0/2 [00:00<?, ?it/s]"
      ]
     },
     "metadata": {},
     "output_type": "display_data"
    },
    {
     "name": "stdout",
     "output_type": "stream",
     "text": [
      "\n",
      "Calculating distances.\n",
      "Pos pairs size: 26565, Neg pairs size: 112497\n"
     ]
    },
    {
     "data": {
      "application/vnd.jupyter.widget-view+json": {
       "model_id": "29ba85a30e8340fc9dd6bbccfdb79de3",
       "version_major": 2,
       "version_minor": 0
      },
      "text/plain": [
       "  0%|          | 0/2 [00:00<?, ?it/s]"
      ]
     },
     "metadata": {},
     "output_type": "display_data"
    },
    {
     "data": {
      "application/vnd.jupyter.widget-view+json": {
       "model_id": "b83babaa5ab74d2cafcf8d15db3f95c8",
       "version_major": 2,
       "version_minor": 0
      },
      "text/plain": [
       "  0%|          | 0/6 [00:00<?, ?it/s]"
      ]
     },
     "metadata": {},
     "output_type": "display_data"
    },
    {
     "name": "stdout",
     "output_type": "stream",
     "text": [
      "\n",
      "Calculating metric: mean_ap\n"
     ]
    },
    {
     "name": "stderr",
     "output_type": "stream",
     "text": [
      "/dgx1nas1/storage/data/akalinin/projects/copairs/src/copairs/compute.py:105: RuntimeWarning: invalid value encountered in divide\n",
      "  ap_scores = np.add.reduceat(pr_k * rel_k_list, cutoffs) / num_pos\n"
     ]
    },
    {
     "data": {
      "application/vnd.jupyter.widget-view+json": {
       "model_id": "70e7c799f0f54c9fa4bd2e959360e8e1",
       "version_major": 2,
       "version_minor": 0
      },
      "text/plain": [
       "  0%|          | 0/2 [00:00<?, ?it/s]"
      ]
     },
     "metadata": {},
     "output_type": "display_data"
    },
    {
     "name": "stdout",
     "output_type": "stream",
     "text": [
      "\n",
      "Calculating distances.\n",
      "Pos pairs size: 32131, Neg pairs size: 123698\n"
     ]
    },
    {
     "data": {
      "application/vnd.jupyter.widget-view+json": {
       "model_id": "dd7552bcddff42eeb93fdd51bb63ac7b",
       "version_major": 2,
       "version_minor": 0
      },
      "text/plain": [
       "  0%|          | 0/2 [00:00<?, ?it/s]"
      ]
     },
     "metadata": {},
     "output_type": "display_data"
    },
    {
     "data": {
      "application/vnd.jupyter.widget-view+json": {
       "model_id": "cc750622733c40c3a1b55c5c07d47925",
       "version_major": 2,
       "version_minor": 0
      },
      "text/plain": [
       "  0%|          | 0/7 [00:00<?, ?it/s]"
      ]
     },
     "metadata": {},
     "output_type": "display_data"
    },
    {
     "name": "stdout",
     "output_type": "stream",
     "text": [
      "\n",
      "Calculating metric: mean_ap\n"
     ]
    },
    {
     "name": "stderr",
     "output_type": "stream",
     "text": [
      "/dgx1nas1/storage/data/akalinin/projects/copairs/src/copairs/compute.py:105: RuntimeWarning: invalid value encountered in divide\n",
      "  ap_scores = np.add.reduceat(pr_k * rel_k_list, cutoffs) / num_pos\n"
     ]
    },
    {
     "data": {
      "application/vnd.jupyter.widget-view+json": {
       "model_id": "b40fa7e86a2346faadb50a09af9497ca",
       "version_major": 2,
       "version_minor": 0
      },
      "text/plain": [
       "  0%|          | 0/2 [00:00<?, ?it/s]"
      ]
     },
     "metadata": {},
     "output_type": "display_data"
    },
    {
     "name": "stderr",
     "output_type": "stream",
     "text": [
      "/dgx1nas1/storage/data/akalinin/projects/copairs/src/copairs/compute.py:89: RuntimeWarning: invalid value encountered in divide\n",
      "  ap = (pr_k * rel_k).sum(axis=1) / num_pos\n"
     ]
    },
    {
     "name": "stdout",
     "output_type": "stream",
     "text": [
      "\n",
      "Calculating distances.\n",
      "Pos pairs size: 6786, Neg pairs size: 56979\n"
     ]
    },
    {
     "data": {
      "application/vnd.jupyter.widget-view+json": {
       "model_id": "86b351b2e2ea4302b0328359c1e2da33",
       "version_major": 2,
       "version_minor": 0
      },
      "text/plain": [
       "  0%|          | 0/1 [00:00<?, ?it/s]"
      ]
     },
     "metadata": {},
     "output_type": "display_data"
    },
    {
     "data": {
      "application/vnd.jupyter.widget-view+json": {
       "model_id": "e78930da4c4148d1baea2d6c10ed136e",
       "version_major": 2,
       "version_minor": 0
      },
      "text/plain": [
       "  0%|          | 0/3 [00:00<?, ?it/s]"
      ]
     },
     "metadata": {},
     "output_type": "display_data"
    },
    {
     "name": "stdout",
     "output_type": "stream",
     "text": [
      "\n",
      "Calculating metric: mean_ap\n"
     ]
    },
    {
     "name": "stderr",
     "output_type": "stream",
     "text": [
      "/dgx1nas1/storage/data/akalinin/projects/copairs/src/copairs/compute.py:105: RuntimeWarning: invalid value encountered in divide\n",
      "  ap_scores = np.add.reduceat(pr_k * rel_k_list, cutoffs) / num_pos\n"
     ]
    },
    {
     "data": {
      "application/vnd.jupyter.widget-view+json": {
       "model_id": "3fcd3801cdec48a783d01452879d8564",
       "version_major": 2,
       "version_minor": 0
      },
      "text/plain": [
       "  0%|          | 0/2 [00:00<?, ?it/s]"
      ]
     },
     "metadata": {},
     "output_type": "display_data"
    },
    {
     "name": "stderr",
     "output_type": "stream",
     "text": [
      "/dgx1nas1/storage/data/akalinin/projects/copairs/src/copairs/compute.py:89: RuntimeWarning: invalid value encountered in divide\n",
      "  ap = (pr_k * rel_k).sum(axis=1) / num_pos\n"
     ]
    },
    {
     "name": "stdout",
     "output_type": "stream",
     "text": [
      "Now analyzing SEC61A1...\n",
      "\n",
      "Calculating distances.\n",
      "Pos pairs size: 6670, Neg pairs size: 56492\n"
     ]
    },
    {
     "data": {
      "application/vnd.jupyter.widget-view+json": {
       "model_id": "4e32a54ca61c46d090249ae0f16309e8",
       "version_major": 2,
       "version_minor": 0
      },
      "text/plain": [
       "  0%|          | 0/1 [00:00<?, ?it/s]"
      ]
     },
     "metadata": {},
     "output_type": "display_data"
    },
    {
     "data": {
      "application/vnd.jupyter.widget-view+json": {
       "model_id": "ae0b2e9405c346538ce0232425f30f41",
       "version_major": 2,
       "version_minor": 0
      },
      "text/plain": [
       "  0%|          | 0/3 [00:00<?, ?it/s]"
      ]
     },
     "metadata": {},
     "output_type": "display_data"
    },
    {
     "name": "stdout",
     "output_type": "stream",
     "text": [
      "\n",
      "Calculating metric: mean_ap\n"
     ]
    },
    {
     "name": "stderr",
     "output_type": "stream",
     "text": [
      "/dgx1nas1/storage/data/akalinin/projects/copairs/src/copairs/compute.py:105: RuntimeWarning: invalid value encountered in divide\n",
      "  ap_scores = np.add.reduceat(pr_k * rel_k_list, cutoffs) / num_pos\n"
     ]
    },
    {
     "data": {
      "application/vnd.jupyter.widget-view+json": {
       "model_id": "4f76a66d664e44be990b947818267d4a",
       "version_major": 2,
       "version_minor": 0
      },
      "text/plain": [
       "  0%|          | 0/2 [00:00<?, ?it/s]"
      ]
     },
     "metadata": {},
     "output_type": "display_data"
    },
    {
     "name": "stderr",
     "output_type": "stream",
     "text": [
      "/dgx1nas1/storage/data/akalinin/projects/copairs/src/copairs/compute.py:89: RuntimeWarning: invalid value encountered in divide\n",
      "  ap = (pr_k * rel_k).sum(axis=1) / num_pos\n"
     ]
    },
    {
     "name": "stdout",
     "output_type": "stream",
     "text": [
      "\n",
      "Calculating distances.\n",
      "Pos pairs size: 7626, Neg pairs size: 60388\n"
     ]
    },
    {
     "data": {
      "application/vnd.jupyter.widget-view+json": {
       "model_id": "45371255e84643b695a690aada92bdb5",
       "version_major": 2,
       "version_minor": 0
      },
      "text/plain": [
       "  0%|          | 0/1 [00:00<?, ?it/s]"
      ]
     },
     "metadata": {},
     "output_type": "display_data"
    },
    {
     "data": {
      "application/vnd.jupyter.widget-view+json": {
       "model_id": "86c2b0fff21d4e56b7ef3a4dfaabb7e2",
       "version_major": 2,
       "version_minor": 0
      },
      "text/plain": [
       "  0%|          | 0/4 [00:00<?, ?it/s]"
      ]
     },
     "metadata": {},
     "output_type": "display_data"
    },
    {
     "name": "stdout",
     "output_type": "stream",
     "text": [
      "\n",
      "Calculating metric: mean_ap\n"
     ]
    },
    {
     "name": "stderr",
     "output_type": "stream",
     "text": [
      "/dgx1nas1/storage/data/akalinin/projects/copairs/src/copairs/compute.py:105: RuntimeWarning: invalid value encountered in divide\n",
      "  ap_scores = np.add.reduceat(pr_k * rel_k_list, cutoffs) / num_pos\n"
     ]
    },
    {
     "data": {
      "application/vnd.jupyter.widget-view+json": {
       "model_id": "0061c80603d842df8a9a539b95838c3e",
       "version_major": 2,
       "version_minor": 0
      },
      "text/plain": [
       "  0%|          | 0/2 [00:00<?, ?it/s]"
      ]
     },
     "metadata": {},
     "output_type": "display_data"
    },
    {
     "name": "stdout",
     "output_type": "stream",
     "text": [
      "\n",
      "Calculating distances.\n",
      "Pos pairs size: 9180, Neg pairs size: 66232\n"
     ]
    },
    {
     "data": {
      "application/vnd.jupyter.widget-view+json": {
       "model_id": "8ed69cc7319a4c71809856081e35c3cb",
       "version_major": 2,
       "version_minor": 0
      },
      "text/plain": [
       "  0%|          | 0/1 [00:00<?, ?it/s]"
      ]
     },
     "metadata": {},
     "output_type": "display_data"
    },
    {
     "data": {
      "application/vnd.jupyter.widget-view+json": {
       "model_id": "8fad089cbd0c4336b4927fd8e84de082",
       "version_major": 2,
       "version_minor": 0
      },
      "text/plain": [
       "  0%|          | 0/4 [00:00<?, ?it/s]"
      ]
     },
     "metadata": {},
     "output_type": "display_data"
    },
    {
     "name": "stdout",
     "output_type": "stream",
     "text": [
      "\n",
      "Calculating metric: mean_ap\n"
     ]
    },
    {
     "name": "stderr",
     "output_type": "stream",
     "text": [
      "/dgx1nas1/storage/data/akalinin/projects/copairs/src/copairs/compute.py:105: RuntimeWarning: invalid value encountered in divide\n",
      "  ap_scores = np.add.reduceat(pr_k * rel_k_list, cutoffs) / num_pos\n"
     ]
    },
    {
     "data": {
      "application/vnd.jupyter.widget-view+json": {
       "model_id": "ff39edc790654af9a6a1c7f4bc667419",
       "version_major": 2,
       "version_minor": 0
      },
      "text/plain": [
       "  0%|          | 0/2 [00:00<?, ?it/s]"
      ]
     },
     "metadata": {},
     "output_type": "display_data"
    },
    {
     "name": "stderr",
     "output_type": "stream",
     "text": [
      "/dgx1nas1/storage/data/akalinin/projects/copairs/src/copairs/compute.py:89: RuntimeWarning: invalid value encountered in divide\n",
      "  ap = (pr_k * rel_k).sum(axis=1) / num_pos\n"
     ]
    },
    {
     "name": "stdout",
     "output_type": "stream",
     "text": [
      "\n",
      "Calculating distances.\n",
      "Pos pairs size: 24531, Neg pairs size: 108114\n"
     ]
    },
    {
     "data": {
      "application/vnd.jupyter.widget-view+json": {
       "model_id": "133c68a0e5c74ead8fded3e846970204",
       "version_major": 2,
       "version_minor": 0
      },
      "text/plain": [
       "  0%|          | 0/2 [00:00<?, ?it/s]"
      ]
     },
     "metadata": {},
     "output_type": "display_data"
    },
    {
     "data": {
      "application/vnd.jupyter.widget-view+json": {
       "model_id": "251a61dad1754fe3ba0709150d0389d8",
       "version_major": 2,
       "version_minor": 0
      },
      "text/plain": [
       "  0%|          | 0/6 [00:00<?, ?it/s]"
      ]
     },
     "metadata": {},
     "output_type": "display_data"
    },
    {
     "name": "stdout",
     "output_type": "stream",
     "text": [
      "\n",
      "Calculating metric: mean_ap\n"
     ]
    },
    {
     "name": "stderr",
     "output_type": "stream",
     "text": [
      "/dgx1nas1/storage/data/akalinin/projects/copairs/src/copairs/compute.py:105: RuntimeWarning: invalid value encountered in divide\n",
      "  ap_scores = np.add.reduceat(pr_k * rel_k_list, cutoffs) / num_pos\n"
     ]
    },
    {
     "data": {
      "application/vnd.jupyter.widget-view+json": {
       "model_id": "b1645d245a4a4da39b0eaa78e62b0677",
       "version_major": 2,
       "version_minor": 0
      },
      "text/plain": [
       "  0%|          | 0/2 [00:00<?, ?it/s]"
      ]
     },
     "metadata": {},
     "output_type": "display_data"
    },
    {
     "name": "stderr",
     "output_type": "stream",
     "text": [
      "/dgx1nas1/storage/data/akalinin/projects/copairs/src/copairs/compute.py:89: RuntimeWarning: invalid value encountered in divide\n",
      "  ap = (pr_k * rel_k).sum(axis=1) / num_pos\n"
     ]
    },
    {
     "name": "stdout",
     "output_type": "stream",
     "text": [
      "\n",
      "Calculating distances.\n",
      "Pos pairs size: 26335, Neg pairs size: 112010\n"
     ]
    },
    {
     "data": {
      "application/vnd.jupyter.widget-view+json": {
       "model_id": "9275a788a9434ca9bf198a421aab7444",
       "version_major": 2,
       "version_minor": 0
      },
      "text/plain": [
       "  0%|          | 0/2 [00:00<?, ?it/s]"
      ]
     },
     "metadata": {},
     "output_type": "display_data"
    },
    {
     "data": {
      "application/vnd.jupyter.widget-view+json": {
       "model_id": "d51585d39b16473a8ef6c3734e2d65ec",
       "version_major": 2,
       "version_minor": 0
      },
      "text/plain": [
       "  0%|          | 0/6 [00:00<?, ?it/s]"
      ]
     },
     "metadata": {},
     "output_type": "display_data"
    },
    {
     "name": "stdout",
     "output_type": "stream",
     "text": [
      "\n",
      "Calculating metric: mean_ap\n"
     ]
    },
    {
     "name": "stderr",
     "output_type": "stream",
     "text": [
      "/dgx1nas1/storage/data/akalinin/projects/copairs/src/copairs/compute.py:105: RuntimeWarning: invalid value encountered in divide\n",
      "  ap_scores = np.add.reduceat(pr_k * rel_k_list, cutoffs) / num_pos\n"
     ]
    },
    {
     "data": {
      "application/vnd.jupyter.widget-view+json": {
       "model_id": "1551e3835f4f421590bdb77430c1deee",
       "version_major": 2,
       "version_minor": 0
      },
      "text/plain": [
       "  0%|          | 0/2 [00:00<?, ?it/s]"
      ]
     },
     "metadata": {},
     "output_type": "display_data"
    },
    {
     "name": "stderr",
     "output_type": "stream",
     "text": [
      "/dgx1nas1/storage/data/akalinin/projects/copairs/src/copairs/compute.py:89: RuntimeWarning: invalid value encountered in divide\n",
      "  ap = (pr_k * rel_k).sum(axis=1) / num_pos\n"
     ]
    },
    {
     "name": "stdout",
     "output_type": "stream",
     "text": [
      "Now analyzing RPL9...\n",
      "\n",
      "Calculating distances.\n",
      "Pos pairs size: 6216, Neg pairs size: 54544\n"
     ]
    },
    {
     "data": {
      "application/vnd.jupyter.widget-view+json": {
       "model_id": "eed27be62b2249debdfbbaf281d949bd",
       "version_major": 2,
       "version_minor": 0
      },
      "text/plain": [
       "  0%|          | 0/1 [00:00<?, ?it/s]"
      ]
     },
     "metadata": {},
     "output_type": "display_data"
    },
    {
     "data": {
      "application/vnd.jupyter.widget-view+json": {
       "model_id": "63d07cf8e72d4c96949d1b9afd495037",
       "version_major": 2,
       "version_minor": 0
      },
      "text/plain": [
       "  0%|          | 0/3 [00:00<?, ?it/s]"
      ]
     },
     "metadata": {},
     "output_type": "display_data"
    },
    {
     "name": "stdout",
     "output_type": "stream",
     "text": [
      "\n",
      "Calculating metric: mean_ap\n"
     ]
    },
    {
     "name": "stderr",
     "output_type": "stream",
     "text": [
      "/dgx1nas1/storage/data/akalinin/projects/copairs/src/copairs/compute.py:105: RuntimeWarning: invalid value encountered in divide\n",
      "  ap_scores = np.add.reduceat(pr_k * rel_k_list, cutoffs) / num_pos\n"
     ]
    },
    {
     "data": {
      "application/vnd.jupyter.widget-view+json": {
       "model_id": "cbb7602c51ff4c6b95664f209c0d7e50",
       "version_major": 2,
       "version_minor": 0
      },
      "text/plain": [
       "  0%|          | 0/2 [00:00<?, ?it/s]"
      ]
     },
     "metadata": {},
     "output_type": "display_data"
    },
    {
     "name": "stderr",
     "output_type": "stream",
     "text": [
      "/dgx1nas1/storage/data/akalinin/projects/copairs/src/copairs/compute.py:89: RuntimeWarning: invalid value encountered in divide\n",
      "  ap = (pr_k * rel_k).sum(axis=1) / num_pos\n"
     ]
    },
    {
     "name": "stdout",
     "output_type": "stream",
     "text": [
      "\n",
      "Calculating distances.\n",
      "Pos pairs size: 6216, Neg pairs size: 54544\n"
     ]
    },
    {
     "data": {
      "application/vnd.jupyter.widget-view+json": {
       "model_id": "6a24c09f603f41689b46f136b383db26",
       "version_major": 2,
       "version_minor": 0
      },
      "text/plain": [
       "  0%|          | 0/1 [00:00<?, ?it/s]"
      ]
     },
     "metadata": {},
     "output_type": "display_data"
    },
    {
     "data": {
      "application/vnd.jupyter.widget-view+json": {
       "model_id": "250aea8488bd422ea6f4ebc089064a2d",
       "version_major": 2,
       "version_minor": 0
      },
      "text/plain": [
       "  0%|          | 0/3 [00:00<?, ?it/s]"
      ]
     },
     "metadata": {},
     "output_type": "display_data"
    },
    {
     "name": "stdout",
     "output_type": "stream",
     "text": [
      "\n",
      "Calculating metric: mean_ap\n"
     ]
    },
    {
     "name": "stderr",
     "output_type": "stream",
     "text": [
      "/dgx1nas1/storage/data/akalinin/projects/copairs/src/copairs/compute.py:105: RuntimeWarning: invalid value encountered in divide\n",
      "  ap_scores = np.add.reduceat(pr_k * rel_k_list, cutoffs) / num_pos\n"
     ]
    },
    {
     "data": {
      "application/vnd.jupyter.widget-view+json": {
       "model_id": "00470d88792b40418bc3b08d52782e6e",
       "version_major": 2,
       "version_minor": 0
      },
      "text/plain": [
       "  0%|          | 0/2 [00:00<?, ?it/s]"
      ]
     },
     "metadata": {},
     "output_type": "display_data"
    },
    {
     "name": "stdout",
     "output_type": "stream",
     "text": [
      "\n",
      "Calculating distances.\n",
      "Pos pairs size: 16290, Neg pairs size: 88147\n"
     ]
    },
    {
     "data": {
      "application/vnd.jupyter.widget-view+json": {
       "model_id": "0d34fffede254e96ac05c65002876e9c",
       "version_major": 2,
       "version_minor": 0
      },
      "text/plain": [
       "  0%|          | 0/1 [00:00<?, ?it/s]"
      ]
     },
     "metadata": {},
     "output_type": "display_data"
    },
    {
     "data": {
      "application/vnd.jupyter.widget-view+json": {
       "model_id": "2ecce48275a54810a95686f66d0a6aba",
       "version_major": 2,
       "version_minor": 0
      },
      "text/plain": [
       "  0%|          | 0/5 [00:00<?, ?it/s]"
      ]
     },
     "metadata": {},
     "output_type": "display_data"
    },
    {
     "name": "stdout",
     "output_type": "stream",
     "text": [
      "\n",
      "Calculating metric: mean_ap\n"
     ]
    },
    {
     "name": "stderr",
     "output_type": "stream",
     "text": [
      "/dgx1nas1/storage/data/akalinin/projects/copairs/src/copairs/compute.py:105: RuntimeWarning: invalid value encountered in divide\n",
      "  ap_scores = np.add.reduceat(pr_k * rel_k_list, cutoffs) / num_pos\n"
     ]
    },
    {
     "data": {
      "application/vnd.jupyter.widget-view+json": {
       "model_id": "5bfae1bb85b44c1ea7b15bb62776999d",
       "version_major": 2,
       "version_minor": 0
      },
      "text/plain": [
       "  0%|          | 0/2 [00:00<?, ?it/s]"
      ]
     },
     "metadata": {},
     "output_type": "display_data"
    },
    {
     "name": "stderr",
     "output_type": "stream",
     "text": [
      "/dgx1nas1/storage/data/akalinin/projects/copairs/src/copairs/compute.py:89: RuntimeWarning: invalid value encountered in divide\n",
      "  ap = (pr_k * rel_k).sum(axis=1) / num_pos\n"
     ]
    },
    {
     "name": "stdout",
     "output_type": "stream",
     "text": [
      "\n",
      "Calculating distances.\n",
      "Pos pairs size: 7626, Neg pairs size: 60388\n"
     ]
    },
    {
     "data": {
      "application/vnd.jupyter.widget-view+json": {
       "model_id": "5f09aef25ac44b4fb64804cfdd9f19b8",
       "version_major": 2,
       "version_minor": 0
      },
      "text/plain": [
       "  0%|          | 0/1 [00:00<?, ?it/s]"
      ]
     },
     "metadata": {},
     "output_type": "display_data"
    },
    {
     "data": {
      "application/vnd.jupyter.widget-view+json": {
       "model_id": "8eccfd0abcc74e5db55290a4d1b0ec2a",
       "version_major": 2,
       "version_minor": 0
      },
      "text/plain": [
       "  0%|          | 0/4 [00:00<?, ?it/s]"
      ]
     },
     "metadata": {},
     "output_type": "display_data"
    },
    {
     "name": "stdout",
     "output_type": "stream",
     "text": [
      "\n",
      "Calculating metric: mean_ap\n"
     ]
    },
    {
     "name": "stderr",
     "output_type": "stream",
     "text": [
      "/dgx1nas1/storage/data/akalinin/projects/copairs/src/copairs/compute.py:105: RuntimeWarning: invalid value encountered in divide\n",
      "  ap_scores = np.add.reduceat(pr_k * rel_k_list, cutoffs) / num_pos\n"
     ]
    },
    {
     "data": {
      "application/vnd.jupyter.widget-view+json": {
       "model_id": "2501bf303d9147eaaf67ab740a710629",
       "version_major": 2,
       "version_minor": 0
      },
      "text/plain": [
       "  0%|          | 0/2 [00:00<?, ?it/s]"
      ]
     },
     "metadata": {},
     "output_type": "display_data"
    },
    {
     "name": "stdout",
     "output_type": "stream",
     "text": [
      "\n",
      "Calculating distances.\n",
      "Pos pairs size: 3081, Neg pairs size: 38473\n"
     ]
    },
    {
     "data": {
      "application/vnd.jupyter.widget-view+json": {
       "model_id": "537aeb2b3eff41489a87253e46f995b2",
       "version_major": 2,
       "version_minor": 0
      },
      "text/plain": [
       "  0%|          | 0/1 [00:00<?, ?it/s]"
      ]
     },
     "metadata": {},
     "output_type": "display_data"
    },
    {
     "data": {
      "application/vnd.jupyter.widget-view+json": {
       "model_id": "35de9ec52ab04c02826ca951db9543cd",
       "version_major": 2,
       "version_minor": 0
      },
      "text/plain": [
       "  0%|          | 0/2 [00:00<?, ?it/s]"
      ]
     },
     "metadata": {},
     "output_type": "display_data"
    },
    {
     "name": "stdout",
     "output_type": "stream",
     "text": [
      "\n",
      "Calculating metric: mean_ap\n"
     ]
    },
    {
     "name": "stderr",
     "output_type": "stream",
     "text": [
      "/dgx1nas1/storage/data/akalinin/projects/copairs/src/copairs/compute.py:105: RuntimeWarning: invalid value encountered in divide\n",
      "  ap_scores = np.add.reduceat(pr_k * rel_k_list, cutoffs) / num_pos\n"
     ]
    },
    {
     "data": {
      "application/vnd.jupyter.widget-view+json": {
       "model_id": "ecb96c0bc5804f7683c97c9e02d52f7a",
       "version_major": 2,
       "version_minor": 0
      },
      "text/plain": [
       "  0%|          | 0/2 [00:00<?, ?it/s]"
      ]
     },
     "metadata": {},
     "output_type": "display_data"
    },
    {
     "name": "stdout",
     "output_type": "stream",
     "text": [
      "Now analyzing HSPA9...\n",
      "\n",
      "Calculating distances.\n",
      "Pos pairs size: 3916, Neg pairs size: 43343\n"
     ]
    },
    {
     "data": {
      "application/vnd.jupyter.widget-view+json": {
       "model_id": "26926a2c95fd42cc9e9e9770dc356aff",
       "version_major": 2,
       "version_minor": 0
      },
      "text/plain": [
       "  0%|          | 0/1 [00:00<?, ?it/s]"
      ]
     },
     "metadata": {},
     "output_type": "display_data"
    },
    {
     "data": {
      "application/vnd.jupyter.widget-view+json": {
       "model_id": "e9be63ccf891426db65c828a7b0fdbe5",
       "version_major": 2,
       "version_minor": 0
      },
      "text/plain": [
       "  0%|          | 0/3 [00:00<?, ?it/s]"
      ]
     },
     "metadata": {},
     "output_type": "display_data"
    },
    {
     "name": "stdout",
     "output_type": "stream",
     "text": [
      "\n",
      "Calculating metric: mean_ap\n"
     ]
    },
    {
     "name": "stderr",
     "output_type": "stream",
     "text": [
      "/dgx1nas1/storage/data/akalinin/projects/copairs/src/copairs/compute.py:105: RuntimeWarning: invalid value encountered in divide\n",
      "  ap_scores = np.add.reduceat(pr_k * rel_k_list, cutoffs) / num_pos\n"
     ]
    },
    {
     "data": {
      "application/vnd.jupyter.widget-view+json": {
       "model_id": "8e245faebb854a38a0f9c0c2ead8b7e0",
       "version_major": 2,
       "version_minor": 0
      },
      "text/plain": [
       "  0%|          | 0/2 [00:00<?, ?it/s]"
      ]
     },
     "metadata": {},
     "output_type": "display_data"
    },
    {
     "name": "stdout",
     "output_type": "stream",
     "text": [
      "\n",
      "Calculating distances.\n",
      "Pos pairs size: 6328, Neg pairs size: 55031\n"
     ]
    },
    {
     "data": {
      "application/vnd.jupyter.widget-view+json": {
       "model_id": "bd9a4532ce254a958a0c3a952ce844c5",
       "version_major": 2,
       "version_minor": 0
      },
      "text/plain": [
       "  0%|          | 0/1 [00:00<?, ?it/s]"
      ]
     },
     "metadata": {},
     "output_type": "display_data"
    },
    {
     "data": {
      "application/vnd.jupyter.widget-view+json": {
       "model_id": "93875ab348f941f0aaecf51be9af6447",
       "version_major": 2,
       "version_minor": 0
      },
      "text/plain": [
       "  0%|          | 0/3 [00:00<?, ?it/s]"
      ]
     },
     "metadata": {},
     "output_type": "display_data"
    },
    {
     "name": "stdout",
     "output_type": "stream",
     "text": [
      "\n",
      "Calculating metric: mean_ap\n"
     ]
    },
    {
     "name": "stderr",
     "output_type": "stream",
     "text": [
      "/dgx1nas1/storage/data/akalinin/projects/copairs/src/copairs/compute.py:105: RuntimeWarning: invalid value encountered in divide\n",
      "  ap_scores = np.add.reduceat(pr_k * rel_k_list, cutoffs) / num_pos\n"
     ]
    },
    {
     "data": {
      "application/vnd.jupyter.widget-view+json": {
       "model_id": "86fc082a4e364978b5361527a5008b78",
       "version_major": 2,
       "version_minor": 0
      },
      "text/plain": [
       "  0%|          | 0/2 [00:00<?, ?it/s]"
      ]
     },
     "metadata": {},
     "output_type": "display_data"
    },
    {
     "name": "stderr",
     "output_type": "stream",
     "text": [
      "/dgx1nas1/storage/data/akalinin/projects/copairs/src/copairs/compute.py:89: RuntimeWarning: invalid value encountered in divide\n",
      "  ap = (pr_k * rel_k).sum(axis=1) / num_pos\n"
     ]
    },
    {
     "name": "stdout",
     "output_type": "stream",
     "text": [
      "\n",
      "Calculating distances.\n",
      "Pos pairs size: 3828, Neg pairs size: 42856\n"
     ]
    },
    {
     "data": {
      "application/vnd.jupyter.widget-view+json": {
       "model_id": "e489accb89e1437da8ad06ebde378a4e",
       "version_major": 2,
       "version_minor": 0
      },
      "text/plain": [
       "  0%|          | 0/1 [00:00<?, ?it/s]"
      ]
     },
     "metadata": {},
     "output_type": "display_data"
    },
    {
     "data": {
      "application/vnd.jupyter.widget-view+json": {
       "model_id": "aa803c0b4d5d4b519f752ebf9b123230",
       "version_major": 2,
       "version_minor": 0
      },
      "text/plain": [
       "  0%|          | 0/3 [00:00<?, ?it/s]"
      ]
     },
     "metadata": {},
     "output_type": "display_data"
    },
    {
     "name": "stdout",
     "output_type": "stream",
     "text": [
      "\n",
      "Calculating metric: mean_ap\n"
     ]
    },
    {
     "name": "stderr",
     "output_type": "stream",
     "text": [
      "/dgx1nas1/storage/data/akalinin/projects/copairs/src/copairs/compute.py:105: RuntimeWarning: invalid value encountered in divide\n",
      "  ap_scores = np.add.reduceat(pr_k * rel_k_list, cutoffs) / num_pos\n"
     ]
    },
    {
     "data": {
      "application/vnd.jupyter.widget-view+json": {
       "model_id": "5035b6656fef435d95ef711450989a57",
       "version_major": 2,
       "version_minor": 0
      },
      "text/plain": [
       "  0%|          | 0/2 [00:00<?, ?it/s]"
      ]
     },
     "metadata": {},
     "output_type": "display_data"
    },
    {
     "name": "stderr",
     "output_type": "stream",
     "text": [
      "/dgx1nas1/storage/data/akalinin/projects/copairs/src/copairs/compute.py:89: RuntimeWarning: invalid value encountered in divide\n",
      "  ap = (pr_k * rel_k).sum(axis=1) / num_pos\n"
     ]
    },
    {
     "name": "stdout",
     "output_type": "stream",
     "text": [
      "\n",
      "Calculating distances.\n",
      "Pos pairs size: 14878, Neg pairs size: 84251\n"
     ]
    },
    {
     "data": {
      "application/vnd.jupyter.widget-view+json": {
       "model_id": "86b441f5eb834d5facc99206270c8f42",
       "version_major": 2,
       "version_minor": 0
      },
      "text/plain": [
       "  0%|          | 0/1 [00:00<?, ?it/s]"
      ]
     },
     "metadata": {},
     "output_type": "display_data"
    },
    {
     "data": {
      "application/vnd.jupyter.widget-view+json": {
       "model_id": "93ee3cba73fd4802877a58fc2670a8a3",
       "version_major": 2,
       "version_minor": 0
      },
      "text/plain": [
       "  0%|          | 0/5 [00:00<?, ?it/s]"
      ]
     },
     "metadata": {},
     "output_type": "display_data"
    },
    {
     "name": "stdout",
     "output_type": "stream",
     "text": [
      "\n",
      "Calculating metric: mean_ap\n"
     ]
    },
    {
     "name": "stderr",
     "output_type": "stream",
     "text": [
      "/dgx1nas1/storage/data/akalinin/projects/copairs/src/copairs/compute.py:105: RuntimeWarning: invalid value encountered in divide\n",
      "  ap_scores = np.add.reduceat(pr_k * rel_k_list, cutoffs) / num_pos\n"
     ]
    },
    {
     "data": {
      "application/vnd.jupyter.widget-view+json": {
       "model_id": "47ad301f12a742eabd17cd8c32057d06",
       "version_major": 2,
       "version_minor": 0
      },
      "text/plain": [
       "  0%|          | 0/2 [00:00<?, ?it/s]"
      ]
     },
     "metadata": {},
     "output_type": "display_data"
    },
    {
     "name": "stderr",
     "output_type": "stream",
     "text": [
      "/dgx1nas1/storage/data/akalinin/projects/copairs/src/copairs/compute.py:89: RuntimeWarning: invalid value encountered in divide\n",
      "  ap = (pr_k * rel_k).sum(axis=1) / num_pos\n"
     ]
    },
    {
     "name": "stdout",
     "output_type": "stream",
     "text": [
      "\n",
      "Calculating distances.\n",
      "Pos pairs size: 3081, Neg pairs size: 38473\n"
     ]
    },
    {
     "data": {
      "application/vnd.jupyter.widget-view+json": {
       "model_id": "836dcf39a7f6479d91a5ca89a9b4e9cd",
       "version_major": 2,
       "version_minor": 0
      },
      "text/plain": [
       "  0%|          | 0/1 [00:00<?, ?it/s]"
      ]
     },
     "metadata": {},
     "output_type": "display_data"
    },
    {
     "data": {
      "application/vnd.jupyter.widget-view+json": {
       "model_id": "d33aa0a1a1dc4f74878be75fa2f9ab79",
       "version_major": 2,
       "version_minor": 0
      },
      "text/plain": [
       "  0%|          | 0/2 [00:00<?, ?it/s]"
      ]
     },
     "metadata": {},
     "output_type": "display_data"
    },
    {
     "name": "stdout",
     "output_type": "stream",
     "text": [
      "\n",
      "Calculating metric: mean_ap\n"
     ]
    },
    {
     "name": "stderr",
     "output_type": "stream",
     "text": [
      "/dgx1nas1/storage/data/akalinin/projects/copairs/src/copairs/compute.py:105: RuntimeWarning: invalid value encountered in divide\n",
      "  ap_scores = np.add.reduceat(pr_k * rel_k_list, cutoffs) / num_pos\n"
     ]
    },
    {
     "data": {
      "application/vnd.jupyter.widget-view+json": {
       "model_id": "7809c62e614343dab112a9de951dbe7a",
       "version_major": 2,
       "version_minor": 0
      },
      "text/plain": [
       "  0%|          | 0/2 [00:00<?, ?it/s]"
      ]
     },
     "metadata": {},
     "output_type": "display_data"
    },
    {
     "name": "stdout",
     "output_type": "stream",
     "text": [
      "Now analyzing RPS18...\n",
      "\n",
      "Calculating distances.\n",
      "Pos pairs size: 7875, Neg pairs size: 61362\n"
     ]
    },
    {
     "data": {
      "application/vnd.jupyter.widget-view+json": {
       "model_id": "e98365fa47f14490a82b3ef1702bede4",
       "version_major": 2,
       "version_minor": 0
      },
      "text/plain": [
       "  0%|          | 0/1 [00:00<?, ?it/s]"
      ]
     },
     "metadata": {},
     "output_type": "display_data"
    },
    {
     "data": {
      "application/vnd.jupyter.widget-view+json": {
       "model_id": "cfd5eddd664847ecbe677bc2cc0aa7bf",
       "version_major": 2,
       "version_minor": 0
      },
      "text/plain": [
       "  0%|          | 0/4 [00:00<?, ?it/s]"
      ]
     },
     "metadata": {},
     "output_type": "display_data"
    },
    {
     "name": "stdout",
     "output_type": "stream",
     "text": [
      "\n",
      "Calculating metric: mean_ap\n"
     ]
    },
    {
     "name": "stderr",
     "output_type": "stream",
     "text": [
      "/dgx1nas1/storage/data/akalinin/projects/copairs/src/copairs/compute.py:105: RuntimeWarning: invalid value encountered in divide\n",
      "  ap_scores = np.add.reduceat(pr_k * rel_k_list, cutoffs) / num_pos\n"
     ]
    },
    {
     "data": {
      "application/vnd.jupyter.widget-view+json": {
       "model_id": "ea0f1f7b66d140db862691182740b031",
       "version_major": 2,
       "version_minor": 0
      },
      "text/plain": [
       "  0%|          | 0/2 [00:00<?, ?it/s]"
      ]
     },
     "metadata": {},
     "output_type": "display_data"
    },
    {
     "name": "stdout",
     "output_type": "stream",
     "text": [
      "\n",
      "Calculating distances.\n",
      "Pos pairs size: 4371, Neg pairs size: 45778\n"
     ]
    },
    {
     "data": {
      "application/vnd.jupyter.widget-view+json": {
       "model_id": "2b585984d3074ce596315001cfe36eac",
       "version_major": 2,
       "version_minor": 0
      },
      "text/plain": [
       "  0%|          | 0/1 [00:00<?, ?it/s]"
      ]
     },
     "metadata": {},
     "output_type": "display_data"
    },
    {
     "data": {
      "application/vnd.jupyter.widget-view+json": {
       "model_id": "f59c0e19daac4ff2b6a2f30db87532cb",
       "version_major": 2,
       "version_minor": 0
      },
      "text/plain": [
       "  0%|          | 0/3 [00:00<?, ?it/s]"
      ]
     },
     "metadata": {},
     "output_type": "display_data"
    },
    {
     "name": "stdout",
     "output_type": "stream",
     "text": [
      "\n",
      "Calculating metric: mean_ap\n"
     ]
    },
    {
     "name": "stderr",
     "output_type": "stream",
     "text": [
      "/dgx1nas1/storage/data/akalinin/projects/copairs/src/copairs/compute.py:105: RuntimeWarning: invalid value encountered in divide\n",
      "  ap_scores = np.add.reduceat(pr_k * rel_k_list, cutoffs) / num_pos\n"
     ]
    },
    {
     "data": {
      "application/vnd.jupyter.widget-view+json": {
       "model_id": "f2bf0a20b08d48aaa5dc1dd7e619f2c8",
       "version_major": 2,
       "version_minor": 0
      },
      "text/plain": [
       "  0%|          | 0/2 [00:00<?, ?it/s]"
      ]
     },
     "metadata": {},
     "output_type": "display_data"
    },
    {
     "name": "stderr",
     "output_type": "stream",
     "text": [
      "/dgx1nas1/storage/data/akalinin/projects/copairs/src/copairs/compute.py:89: RuntimeWarning: invalid value encountered in divide\n",
      "  ap = (pr_k * rel_k).sum(axis=1) / num_pos\n"
     ]
    },
    {
     "name": "stdout",
     "output_type": "stream",
     "text": [
      "\n",
      "Calculating distances.\n",
      "Pos pairs size: 20301, Neg pairs size: 98374\n"
     ]
    },
    {
     "data": {
      "application/vnd.jupyter.widget-view+json": {
       "model_id": "daf3202400474635b6ea9f48119f7e2b",
       "version_major": 2,
       "version_minor": 0
      },
      "text/plain": [
       "  0%|          | 0/2 [00:00<?, ?it/s]"
      ]
     },
     "metadata": {},
     "output_type": "display_data"
    },
    {
     "data": {
      "application/vnd.jupyter.widget-view+json": {
       "model_id": "079bd8124ce94f818896ae8dab24ded6",
       "version_major": 2,
       "version_minor": 0
      },
      "text/plain": [
       "  0%|          | 0/5 [00:00<?, ?it/s]"
      ]
     },
     "metadata": {},
     "output_type": "display_data"
    },
    {
     "name": "stdout",
     "output_type": "stream",
     "text": [
      "\n",
      "Calculating metric: mean_ap\n"
     ]
    },
    {
     "name": "stderr",
     "output_type": "stream",
     "text": [
      "/dgx1nas1/storage/data/akalinin/projects/copairs/src/copairs/compute.py:105: RuntimeWarning: invalid value encountered in divide\n",
      "  ap_scores = np.add.reduceat(pr_k * rel_k_list, cutoffs) / num_pos\n"
     ]
    },
    {
     "data": {
      "application/vnd.jupyter.widget-view+json": {
       "model_id": "b6bfc4fcace64bd69c6b2e89c607ef5c",
       "version_major": 2,
       "version_minor": 0
      },
      "text/plain": [
       "  0%|          | 0/2 [00:00<?, ?it/s]"
      ]
     },
     "metadata": {},
     "output_type": "display_data"
    },
    {
     "name": "stdout",
     "output_type": "stream",
     "text": [
      "\n",
      "Calculating distances.\n",
      "Pos pairs size: 5565, Neg pairs size: 51622\n"
     ]
    },
    {
     "data": {
      "application/vnd.jupyter.widget-view+json": {
       "model_id": "a699b3d62b80461a94caf05bfa1c2da6",
       "version_major": 2,
       "version_minor": 0
      },
      "text/plain": [
       "  0%|          | 0/1 [00:00<?, ?it/s]"
      ]
     },
     "metadata": {},
     "output_type": "display_data"
    },
    {
     "data": {
      "application/vnd.jupyter.widget-view+json": {
       "model_id": "584411f75a5a483a8c49e262b0ce91d3",
       "version_major": 2,
       "version_minor": 0
      },
      "text/plain": [
       "  0%|          | 0/3 [00:00<?, ?it/s]"
      ]
     },
     "metadata": {},
     "output_type": "display_data"
    },
    {
     "name": "stdout",
     "output_type": "stream",
     "text": [
      "\n",
      "Calculating metric: mean_ap\n"
     ]
    },
    {
     "name": "stderr",
     "output_type": "stream",
     "text": [
      "/dgx1nas1/storage/data/akalinin/projects/copairs/src/copairs/compute.py:105: RuntimeWarning: invalid value encountered in divide\n",
      "  ap_scores = np.add.reduceat(pr_k * rel_k_list, cutoffs) / num_pos\n"
     ]
    },
    {
     "data": {
      "application/vnd.jupyter.widget-view+json": {
       "model_id": "0415dc58947a480f8c60188a77f90106",
       "version_major": 2,
       "version_minor": 0
      },
      "text/plain": [
       "  0%|          | 0/2 [00:00<?, ?it/s]"
      ]
     },
     "metadata": {},
     "output_type": "display_data"
    },
    {
     "name": "stdout",
     "output_type": "stream",
     "text": [
      "\n",
      "Calculating distances.\n",
      "Pos pairs size: 4950, Neg pairs size: 48700\n"
     ]
    },
    {
     "data": {
      "application/vnd.jupyter.widget-view+json": {
       "model_id": "3aff737da653457d8b6c029684a2a32f",
       "version_major": 2,
       "version_minor": 0
      },
      "text/plain": [
       "  0%|          | 0/1 [00:00<?, ?it/s]"
      ]
     },
     "metadata": {},
     "output_type": "display_data"
    },
    {
     "data": {
      "application/vnd.jupyter.widget-view+json": {
       "model_id": "0ae11be80c694fc69e2ea9ab101a6a2a",
       "version_major": 2,
       "version_minor": 0
      },
      "text/plain": [
       "  0%|          | 0/3 [00:00<?, ?it/s]"
      ]
     },
     "metadata": {},
     "output_type": "display_data"
    },
    {
     "name": "stdout",
     "output_type": "stream",
     "text": [
      "\n",
      "Calculating metric: mean_ap\n"
     ]
    },
    {
     "name": "stderr",
     "output_type": "stream",
     "text": [
      "/dgx1nas1/storage/data/akalinin/projects/copairs/src/copairs/compute.py:105: RuntimeWarning: invalid value encountered in divide\n",
      "  ap_scores = np.add.reduceat(pr_k * rel_k_list, cutoffs) / num_pos\n"
     ]
    },
    {
     "data": {
      "application/vnd.jupyter.widget-view+json": {
       "model_id": "a994e7b561cb414baabadb0e4383c1fe",
       "version_major": 2,
       "version_minor": 0
      },
      "text/plain": [
       "  0%|          | 0/2 [00:00<?, ?it/s]"
      ]
     },
     "metadata": {},
     "output_type": "display_data"
    },
    {
     "name": "stderr",
     "output_type": "stream",
     "text": [
      "/dgx1nas1/storage/data/akalinin/projects/copairs/src/copairs/compute.py:89: RuntimeWarning: invalid value encountered in divide\n",
      "  ap = (pr_k * rel_k).sum(axis=1) / num_pos\n"
     ]
    },
    {
     "name": "stdout",
     "output_type": "stream",
     "text": [
      "Now analyzing ALDOA...\n",
      "\n",
      "Calculating distances.\n",
      "Pos pairs size: 5253, Neg pairs size: 50161\n"
     ]
    },
    {
     "data": {
      "application/vnd.jupyter.widget-view+json": {
       "model_id": "12af63ef0042499d99d21e2e6ea425f4",
       "version_major": 2,
       "version_minor": 0
      },
      "text/plain": [
       "  0%|          | 0/1 [00:00<?, ?it/s]"
      ]
     },
     "metadata": {},
     "output_type": "display_data"
    },
    {
     "data": {
      "application/vnd.jupyter.widget-view+json": {
       "model_id": "f00080c9d07e41c7bb0005532641f63c",
       "version_major": 2,
       "version_minor": 0
      },
      "text/plain": [
       "  0%|          | 0/3 [00:00<?, ?it/s]"
      ]
     },
     "metadata": {},
     "output_type": "display_data"
    },
    {
     "name": "stdout",
     "output_type": "stream",
     "text": [
      "\n",
      "Calculating metric: mean_ap\n"
     ]
    },
    {
     "name": "stderr",
     "output_type": "stream",
     "text": [
      "/dgx1nas1/storage/data/akalinin/projects/copairs/src/copairs/compute.py:105: RuntimeWarning: invalid value encountered in divide\n",
      "  ap_scores = np.add.reduceat(pr_k * rel_k_list, cutoffs) / num_pos\n"
     ]
    },
    {
     "data": {
      "application/vnd.jupyter.widget-view+json": {
       "model_id": "14e54d7108514867b219c43e80bb92fd",
       "version_major": 2,
       "version_minor": 0
      },
      "text/plain": [
       "  0%|          | 0/2 [00:00<?, ?it/s]"
      ]
     },
     "metadata": {},
     "output_type": "display_data"
    },
    {
     "name": "stderr",
     "output_type": "stream",
     "text": [
      "/dgx1nas1/storage/data/akalinin/projects/copairs/src/copairs/compute.py:89: RuntimeWarning: invalid value encountered in divide\n",
      "  ap = (pr_k * rel_k).sum(axis=1) / num_pos\n"
     ]
    },
    {
     "name": "stdout",
     "output_type": "stream",
     "text": [
      "\n",
      "Calculating distances.\n",
      "Pos pairs size: 3240, Neg pairs size: 39447\n"
     ]
    },
    {
     "data": {
      "application/vnd.jupyter.widget-view+json": {
       "model_id": "aae59fb35d8a4be7b3c61864f5c70203",
       "version_major": 2,
       "version_minor": 0
      },
      "text/plain": [
       "  0%|          | 0/1 [00:00<?, ?it/s]"
      ]
     },
     "metadata": {},
     "output_type": "display_data"
    },
    {
     "data": {
      "application/vnd.jupyter.widget-view+json": {
       "model_id": "e27d86aba66541b889bc532343865965",
       "version_major": 2,
       "version_minor": 0
      },
      "text/plain": [
       "  0%|          | 0/2 [00:00<?, ?it/s]"
      ]
     },
     "metadata": {},
     "output_type": "display_data"
    },
    {
     "name": "stdout",
     "output_type": "stream",
     "text": [
      "\n",
      "Calculating metric: mean_ap\n"
     ]
    },
    {
     "name": "stderr",
     "output_type": "stream",
     "text": [
      "/dgx1nas1/storage/data/akalinin/projects/copairs/src/copairs/compute.py:105: RuntimeWarning: invalid value encountered in divide\n",
      "  ap_scores = np.add.reduceat(pr_k * rel_k_list, cutoffs) / num_pos\n"
     ]
    },
    {
     "data": {
      "application/vnd.jupyter.widget-view+json": {
       "model_id": "da6981f31b594f8c855dcfaf699efcbe",
       "version_major": 2,
       "version_minor": 0
      },
      "text/plain": [
       "  0%|          | 0/2 [00:00<?, ?it/s]"
      ]
     },
     "metadata": {},
     "output_type": "display_data"
    },
    {
     "name": "stderr",
     "output_type": "stream",
     "text": [
      "/dgx1nas1/storage/data/akalinin/projects/copairs/src/copairs/compute.py:89: RuntimeWarning: invalid value encountered in divide\n",
      "  ap = (pr_k * rel_k).sum(axis=1) / num_pos\n"
     ]
    },
    {
     "name": "stdout",
     "output_type": "stream",
     "text": [
      "\n",
      "Calculating distances.\n",
      "Pos pairs size: 14365, Neg pairs size: 82790\n"
     ]
    },
    {
     "data": {
      "application/vnd.jupyter.widget-view+json": {
       "model_id": "134ada436558409e8c2a992df8b622a1",
       "version_major": 2,
       "version_minor": 0
      },
      "text/plain": [
       "  0%|          | 0/1 [00:00<?, ?it/s]"
      ]
     },
     "metadata": {},
     "output_type": "display_data"
    },
    {
     "data": {
      "application/vnd.jupyter.widget-view+json": {
       "model_id": "e7191c4f8f6d4249bee45b90d6e7676b",
       "version_major": 2,
       "version_minor": 0
      },
      "text/plain": [
       "  0%|          | 0/5 [00:00<?, ?it/s]"
      ]
     },
     "metadata": {},
     "output_type": "display_data"
    },
    {
     "name": "stdout",
     "output_type": "stream",
     "text": [
      "\n",
      "Calculating metric: mean_ap\n"
     ]
    },
    {
     "name": "stderr",
     "output_type": "stream",
     "text": [
      "/dgx1nas1/storage/data/akalinin/projects/copairs/src/copairs/compute.py:105: RuntimeWarning: invalid value encountered in divide\n",
      "  ap_scores = np.add.reduceat(pr_k * rel_k_list, cutoffs) / num_pos\n"
     ]
    },
    {
     "data": {
      "application/vnd.jupyter.widget-view+json": {
       "model_id": "61050e4e658340699b590d8a9438e3b4",
       "version_major": 2,
       "version_minor": 0
      },
      "text/plain": [
       "  0%|          | 0/2 [00:00<?, ?it/s]"
      ]
     },
     "metadata": {},
     "output_type": "display_data"
    },
    {
     "name": "stderr",
     "output_type": "stream",
     "text": [
      "/dgx1nas1/storage/data/akalinin/projects/copairs/src/copairs/compute.py:89: RuntimeWarning: invalid value encountered in divide\n",
      "  ap = (pr_k * rel_k).sum(axis=1) / num_pos\n"
     ]
    },
    {
     "name": "stdout",
     "output_type": "stream",
     "text": [
      "\n",
      "Calculating distances.\n",
      "Pos pairs size: 6555, Neg pairs size: 56005\n"
     ]
    },
    {
     "data": {
      "application/vnd.jupyter.widget-view+json": {
       "model_id": "f557bb8fe350460c924ed80f1985b25e",
       "version_major": 2,
       "version_minor": 0
      },
      "text/plain": [
       "  0%|          | 0/1 [00:00<?, ?it/s]"
      ]
     },
     "metadata": {},
     "output_type": "display_data"
    },
    {
     "data": {
      "application/vnd.jupyter.widget-view+json": {
       "model_id": "1661a312729e4c1389afd4645b285321",
       "version_major": 2,
       "version_minor": 0
      },
      "text/plain": [
       "  0%|          | 0/3 [00:00<?, ?it/s]"
      ]
     },
     "metadata": {},
     "output_type": "display_data"
    },
    {
     "name": "stdout",
     "output_type": "stream",
     "text": [
      "\n",
      "Calculating metric: mean_ap\n"
     ]
    },
    {
     "name": "stderr",
     "output_type": "stream",
     "text": [
      "/dgx1nas1/storage/data/akalinin/projects/copairs/src/copairs/compute.py:105: RuntimeWarning: invalid value encountered in divide\n",
      "  ap_scores = np.add.reduceat(pr_k * rel_k_list, cutoffs) / num_pos\n"
     ]
    },
    {
     "data": {
      "application/vnd.jupyter.widget-view+json": {
       "model_id": "9eb782e03dbb47ef95ea3714b62dd6da",
       "version_major": 2,
       "version_minor": 0
      },
      "text/plain": [
       "  0%|          | 0/2 [00:00<?, ?it/s]"
      ]
     },
     "metadata": {},
     "output_type": "display_data"
    },
    {
     "name": "stdout",
     "output_type": "stream",
     "text": [
      "\n",
      "Calculating distances.\n",
      "Pos pairs size: 12090, Neg pairs size: 75972\n"
     ]
    },
    {
     "data": {
      "application/vnd.jupyter.widget-view+json": {
       "model_id": "7ab74193d69c46969eef9d337ce40307",
       "version_major": 2,
       "version_minor": 0
      },
      "text/plain": [
       "  0%|          | 0/1 [00:00<?, ?it/s]"
      ]
     },
     "metadata": {},
     "output_type": "display_data"
    },
    {
     "data": {
      "application/vnd.jupyter.widget-view+json": {
       "model_id": "37975e9b25fb427fb9e9b1f4beca33e3",
       "version_major": 2,
       "version_minor": 0
      },
      "text/plain": [
       "  0%|          | 0/4 [00:00<?, ?it/s]"
      ]
     },
     "metadata": {},
     "output_type": "display_data"
    },
    {
     "name": "stdout",
     "output_type": "stream",
     "text": [
      "\n",
      "Calculating metric: mean_ap\n"
     ]
    },
    {
     "name": "stderr",
     "output_type": "stream",
     "text": [
      "/dgx1nas1/storage/data/akalinin/projects/copairs/src/copairs/compute.py:105: RuntimeWarning: invalid value encountered in divide\n",
      "  ap_scores = np.add.reduceat(pr_k * rel_k_list, cutoffs) / num_pos\n"
     ]
    },
    {
     "data": {
      "application/vnd.jupyter.widget-view+json": {
       "model_id": "1c8f510ab30346358167728b349010d7",
       "version_major": 2,
       "version_minor": 0
      },
      "text/plain": [
       "  0%|          | 0/2 [00:00<?, ?it/s]"
      ]
     },
     "metadata": {},
     "output_type": "display_data"
    },
    {
     "name": "stderr",
     "output_type": "stream",
     "text": [
      "/dgx1nas1/storage/data/akalinin/projects/copairs/src/copairs/compute.py:89: RuntimeWarning: invalid value encountered in divide\n",
      "  ap = (pr_k * rel_k).sum(axis=1) / num_pos\n"
     ]
    },
    {
     "name": "stdout",
     "output_type": "stream",
     "text": [
      "Now analyzing RPS15...\n",
      "\n",
      "Calculating distances.\n",
      "Pos pairs size: 5671, Neg pairs size: 52109\n"
     ]
    },
    {
     "data": {
      "application/vnd.jupyter.widget-view+json": {
       "model_id": "d5c4772f265445b695e087397e0f678c",
       "version_major": 2,
       "version_minor": 0
      },
      "text/plain": [
       "  0%|          | 0/1 [00:00<?, ?it/s]"
      ]
     },
     "metadata": {},
     "output_type": "display_data"
    },
    {
     "data": {
      "application/vnd.jupyter.widget-view+json": {
       "model_id": "84ef37df90514648a881bb15407358d9",
       "version_major": 2,
       "version_minor": 0
      },
      "text/plain": [
       "  0%|          | 0/3 [00:00<?, ?it/s]"
      ]
     },
     "metadata": {},
     "output_type": "display_data"
    },
    {
     "name": "stdout",
     "output_type": "stream",
     "text": [
      "\n",
      "Calculating metric: mean_ap\n"
     ]
    },
    {
     "name": "stderr",
     "output_type": "stream",
     "text": [
      "/dgx1nas1/storage/data/akalinin/projects/copairs/src/copairs/compute.py:105: RuntimeWarning: invalid value encountered in divide\n",
      "  ap_scores = np.add.reduceat(pr_k * rel_k_list, cutoffs) / num_pos\n"
     ]
    },
    {
     "data": {
      "application/vnd.jupyter.widget-view+json": {
       "model_id": "d3b461e5adea47edbfe89d59ded2f3f9",
       "version_major": 2,
       "version_minor": 0
      },
      "text/plain": [
       "  0%|          | 0/2 [00:00<?, ?it/s]"
      ]
     },
     "metadata": {},
     "output_type": "display_data"
    },
    {
     "name": "stdout",
     "output_type": "stream",
     "text": [
      "\n",
      "Calculating distances.\n",
      "Pos pairs size: 8646, Neg pairs size: 64284\n"
     ]
    },
    {
     "data": {
      "application/vnd.jupyter.widget-view+json": {
       "model_id": "2c1b4bb6f3ee45b9bf1a81af29726357",
       "version_major": 2,
       "version_minor": 0
      },
      "text/plain": [
       "  0%|          | 0/1 [00:00<?, ?it/s]"
      ]
     },
     "metadata": {},
     "output_type": "display_data"
    },
    {
     "data": {
      "application/vnd.jupyter.widget-view+json": {
       "model_id": "85413a17add345ff881a9c3b1f31b979",
       "version_major": 2,
       "version_minor": 0
      },
      "text/plain": [
       "  0%|          | 0/4 [00:00<?, ?it/s]"
      ]
     },
     "metadata": {},
     "output_type": "display_data"
    },
    {
     "name": "stdout",
     "output_type": "stream",
     "text": [
      "\n",
      "Calculating metric: mean_ap\n"
     ]
    },
    {
     "name": "stderr",
     "output_type": "stream",
     "text": [
      "/dgx1nas1/storage/data/akalinin/projects/copairs/src/copairs/compute.py:105: RuntimeWarning: invalid value encountered in divide\n",
      "  ap_scores = np.add.reduceat(pr_k * rel_k_list, cutoffs) / num_pos\n"
     ]
    },
    {
     "data": {
      "application/vnd.jupyter.widget-view+json": {
       "model_id": "335a2c2e148744ed947ab68d229727e3",
       "version_major": 2,
       "version_minor": 0
      },
      "text/plain": [
       "  0%|          | 0/2 [00:00<?, ?it/s]"
      ]
     },
     "metadata": {},
     "output_type": "display_data"
    },
    {
     "name": "stderr",
     "output_type": "stream",
     "text": [
      "/dgx1nas1/storage/data/akalinin/projects/copairs/src/copairs/compute.py:89: RuntimeWarning: invalid value encountered in divide\n",
      "  ap = (pr_k * rel_k).sum(axis=1) / num_pos\n"
     ]
    },
    {
     "name": "stdout",
     "output_type": "stream",
     "text": [
      "\n",
      "Calculating distances.\n",
      "Pos pairs size: 3486, Neg pairs size: 40908\n"
     ]
    },
    {
     "data": {
      "application/vnd.jupyter.widget-view+json": {
       "model_id": "5ecb4fe8cf0f441e96bf2da9fb1e627c",
       "version_major": 2,
       "version_minor": 0
      },
      "text/plain": [
       "  0%|          | 0/1 [00:00<?, ?it/s]"
      ]
     },
     "metadata": {},
     "output_type": "display_data"
    },
    {
     "data": {
      "application/vnd.jupyter.widget-view+json": {
       "model_id": "db8c97d078224b879e1cd3b92ca308e9",
       "version_major": 2,
       "version_minor": 0
      },
      "text/plain": [
       "  0%|          | 0/3 [00:00<?, ?it/s]"
      ]
     },
     "metadata": {},
     "output_type": "display_data"
    },
    {
     "name": "stdout",
     "output_type": "stream",
     "text": [
      "\n",
      "Calculating metric: mean_ap\n"
     ]
    },
    {
     "name": "stderr",
     "output_type": "stream",
     "text": [
      "/dgx1nas1/storage/data/akalinin/projects/copairs/src/copairs/compute.py:105: RuntimeWarning: invalid value encountered in divide\n",
      "  ap_scores = np.add.reduceat(pr_k * rel_k_list, cutoffs) / num_pos\n"
     ]
    },
    {
     "data": {
      "application/vnd.jupyter.widget-view+json": {
       "model_id": "7eb567345f8e4f21862d2e4228c1c326",
       "version_major": 2,
       "version_minor": 0
      },
      "text/plain": [
       "  0%|          | 0/2 [00:00<?, ?it/s]"
      ]
     },
     "metadata": {},
     "output_type": "display_data"
    },
    {
     "name": "stderr",
     "output_type": "stream",
     "text": [
      "/dgx1nas1/storage/data/akalinin/projects/copairs/src/copairs/compute.py:89: RuntimeWarning: invalid value encountered in divide\n",
      "  ap = (pr_k * rel_k).sum(axis=1) / num_pos\n"
     ]
    },
    {
     "name": "stdout",
     "output_type": "stream",
     "text": [
      "\n",
      "Calculating distances.\n",
      "Pos pairs size: 9730, Neg pairs size: 68180\n"
     ]
    },
    {
     "data": {
      "application/vnd.jupyter.widget-view+json": {
       "model_id": "3cb805f991434e4786c34bd3b1979682",
       "version_major": 2,
       "version_minor": 0
      },
      "text/plain": [
       "  0%|          | 0/1 [00:00<?, ?it/s]"
      ]
     },
     "metadata": {},
     "output_type": "display_data"
    },
    {
     "data": {
      "application/vnd.jupyter.widget-view+json": {
       "model_id": "32aace8783b640aeb66720f8c31672cb",
       "version_major": 2,
       "version_minor": 0
      },
      "text/plain": [
       "  0%|          | 0/4 [00:00<?, ?it/s]"
      ]
     },
     "metadata": {},
     "output_type": "display_data"
    },
    {
     "name": "stdout",
     "output_type": "stream",
     "text": [
      "\n",
      "Calculating metric: mean_ap\n"
     ]
    },
    {
     "name": "stderr",
     "output_type": "stream",
     "text": [
      "/dgx1nas1/storage/data/akalinin/projects/copairs/src/copairs/compute.py:105: RuntimeWarning: invalid value encountered in divide\n",
      "  ap_scores = np.add.reduceat(pr_k * rel_k_list, cutoffs) / num_pos\n"
     ]
    },
    {
     "data": {
      "application/vnd.jupyter.widget-view+json": {
       "model_id": "c062ae1a73104b72bc8510c1aab1df60",
       "version_major": 2,
       "version_minor": 0
      },
      "text/plain": [
       "  0%|          | 0/2 [00:00<?, ?it/s]"
      ]
     },
     "metadata": {},
     "output_type": "display_data"
    },
    {
     "name": "stdout",
     "output_type": "stream",
     "text": [
      "\n",
      "Calculating distances.\n",
      "Pos pairs size: 26335, Neg pairs size: 112010\n"
     ]
    },
    {
     "data": {
      "application/vnd.jupyter.widget-view+json": {
       "model_id": "09594a2e3f424eb8a8574709de6b2b93",
       "version_major": 2,
       "version_minor": 0
      },
      "text/plain": [
       "  0%|          | 0/2 [00:00<?, ?it/s]"
      ]
     },
     "metadata": {},
     "output_type": "display_data"
    },
    {
     "data": {
      "application/vnd.jupyter.widget-view+json": {
       "model_id": "527614d7da5b4b1a8a1b81d4d09157a3",
       "version_major": 2,
       "version_minor": 0
      },
      "text/plain": [
       "  0%|          | 0/6 [00:00<?, ?it/s]"
      ]
     },
     "metadata": {},
     "output_type": "display_data"
    },
    {
     "name": "stdout",
     "output_type": "stream",
     "text": [
      "\n",
      "Calculating metric: mean_ap\n"
     ]
    },
    {
     "name": "stderr",
     "output_type": "stream",
     "text": [
      "/dgx1nas1/storage/data/akalinin/projects/copairs/src/copairs/compute.py:105: RuntimeWarning: invalid value encountered in divide\n",
      "  ap_scores = np.add.reduceat(pr_k * rel_k_list, cutoffs) / num_pos\n"
     ]
    },
    {
     "data": {
      "application/vnd.jupyter.widget-view+json": {
       "model_id": "8d906c31b1d24955963dc6b140f28d4b",
       "version_major": 2,
       "version_minor": 0
      },
      "text/plain": [
       "  0%|          | 0/2 [00:00<?, ?it/s]"
      ]
     },
     "metadata": {},
     "output_type": "display_data"
    },
    {
     "name": "stdout",
     "output_type": "stream",
     "text": [
      "Now analyzing ATP5E...\n",
      "\n",
      "Calculating distances.\n",
      "Pos pairs size: 22791, Neg pairs size: 104218\n"
     ]
    },
    {
     "data": {
      "application/vnd.jupyter.widget-view+json": {
       "model_id": "4b0e3cd710384d3db012011ea7b3c328",
       "version_major": 2,
       "version_minor": 0
      },
      "text/plain": [
       "  0%|          | 0/2 [00:00<?, ?it/s]"
      ]
     },
     "metadata": {},
     "output_type": "display_data"
    },
    {
     "data": {
      "application/vnd.jupyter.widget-view+json": {
       "model_id": "8c773708d756450d8b397f99819150c6",
       "version_major": 2,
       "version_minor": 0
      },
      "text/plain": [
       "  0%|          | 0/6 [00:00<?, ?it/s]"
      ]
     },
     "metadata": {},
     "output_type": "display_data"
    },
    {
     "name": "stdout",
     "output_type": "stream",
     "text": [
      "\n",
      "Calculating metric: mean_ap\n"
     ]
    },
    {
     "name": "stderr",
     "output_type": "stream",
     "text": [
      "/dgx1nas1/storage/data/akalinin/projects/copairs/src/copairs/compute.py:105: RuntimeWarning: invalid value encountered in divide\n",
      "  ap_scores = np.add.reduceat(pr_k * rel_k_list, cutoffs) / num_pos\n"
     ]
    },
    {
     "data": {
      "application/vnd.jupyter.widget-view+json": {
       "model_id": "85d3c6a52b7040269e9ff2aac5596cc3",
       "version_major": 2,
       "version_minor": 0
      },
      "text/plain": [
       "  0%|          | 0/2 [00:00<?, ?it/s]"
      ]
     },
     "metadata": {},
     "output_type": "display_data"
    },
    {
     "name": "stderr",
     "output_type": "stream",
     "text": [
      "/dgx1nas1/storage/data/akalinin/projects/copairs/src/copairs/compute.py:89: RuntimeWarning: invalid value encountered in divide\n",
      "  ap = (pr_k * rel_k).sum(axis=1) / num_pos\n"
     ]
    },
    {
     "name": "stdout",
     "output_type": "stream",
     "text": [
      "\n",
      "Calculating distances.\n",
      "Pos pairs size: 14878, Neg pairs size: 84251\n"
     ]
    },
    {
     "data": {
      "application/vnd.jupyter.widget-view+json": {
       "model_id": "697467ca3f9446509241e535b4e2c168",
       "version_major": 2,
       "version_minor": 0
      },
      "text/plain": [
       "  0%|          | 0/1 [00:00<?, ?it/s]"
      ]
     },
     "metadata": {},
     "output_type": "display_data"
    },
    {
     "data": {
      "application/vnd.jupyter.widget-view+json": {
       "model_id": "39c279cbc80047018d2d32d237d4087b",
       "version_major": 2,
       "version_minor": 0
      },
      "text/plain": [
       "  0%|          | 0/5 [00:00<?, ?it/s]"
      ]
     },
     "metadata": {},
     "output_type": "display_data"
    },
    {
     "name": "stdout",
     "output_type": "stream",
     "text": [
      "\n",
      "Calculating metric: mean_ap\n"
     ]
    },
    {
     "name": "stderr",
     "output_type": "stream",
     "text": [
      "/dgx1nas1/storage/data/akalinin/projects/copairs/src/copairs/compute.py:105: RuntimeWarning: invalid value encountered in divide\n",
      "  ap_scores = np.add.reduceat(pr_k * rel_k_list, cutoffs) / num_pos\n"
     ]
    },
    {
     "data": {
      "application/vnd.jupyter.widget-view+json": {
       "model_id": "e8ea02a2eba0457f8c2732f89bfdbbd1",
       "version_major": 2,
       "version_minor": 0
      },
      "text/plain": [
       "  0%|          | 0/2 [00:00<?, ?it/s]"
      ]
     },
     "metadata": {},
     "output_type": "display_data"
    },
    {
     "name": "stdout",
     "output_type": "stream",
     "text": [
      "\n",
      "Calculating distances.\n",
      "Pos pairs size: 6441, Neg pairs size: 55518\n"
     ]
    },
    {
     "data": {
      "application/vnd.jupyter.widget-view+json": {
       "model_id": "770badba99c94909b7f32a22134c60ad",
       "version_major": 2,
       "version_minor": 0
      },
      "text/plain": [
       "  0%|          | 0/1 [00:00<?, ?it/s]"
      ]
     },
     "metadata": {},
     "output_type": "display_data"
    },
    {
     "data": {
      "application/vnd.jupyter.widget-view+json": {
       "model_id": "66841f9823304a2096fb2be7ad1405ea",
       "version_major": 2,
       "version_minor": 0
      },
      "text/plain": [
       "  0%|          | 0/3 [00:00<?, ?it/s]"
      ]
     },
     "metadata": {},
     "output_type": "display_data"
    },
    {
     "name": "stdout",
     "output_type": "stream",
     "text": [
      "\n",
      "Calculating metric: mean_ap\n"
     ]
    },
    {
     "name": "stderr",
     "output_type": "stream",
     "text": [
      "/dgx1nas1/storage/data/akalinin/projects/copairs/src/copairs/compute.py:105: RuntimeWarning: invalid value encountered in divide\n",
      "  ap_scores = np.add.reduceat(pr_k * rel_k_list, cutoffs) / num_pos\n"
     ]
    },
    {
     "data": {
      "application/vnd.jupyter.widget-view+json": {
       "model_id": "7c0c78c01cda485792b8f6d7dd5b35fd",
       "version_major": 2,
       "version_minor": 0
      },
      "text/plain": [
       "  0%|          | 0/2 [00:00<?, ?it/s]"
      ]
     },
     "metadata": {},
     "output_type": "display_data"
    },
    {
     "name": "stderr",
     "output_type": "stream",
     "text": [
      "/dgx1nas1/storage/data/akalinin/projects/copairs/src/copairs/compute.py:89: RuntimeWarning: invalid value encountered in divide\n",
      "  ap = (pr_k * rel_k).sum(axis=1) / num_pos\n"
     ]
    },
    {
     "name": "stdout",
     "output_type": "stream",
     "text": [
      "\n",
      "Calculating distances.\n",
      "Pos pairs size: 13366, Neg pairs size: 79868\n"
     ]
    },
    {
     "data": {
      "application/vnd.jupyter.widget-view+json": {
       "model_id": "37df32db678b496ab8734e8bea2398df",
       "version_major": 2,
       "version_minor": 0
      },
      "text/plain": [
       "  0%|          | 0/1 [00:00<?, ?it/s]"
      ]
     },
     "metadata": {},
     "output_type": "display_data"
    },
    {
     "data": {
      "application/vnd.jupyter.widget-view+json": {
       "model_id": "e18486232eb64056bb54e2dc04a5e022",
       "version_major": 2,
       "version_minor": 0
      },
      "text/plain": [
       "  0%|          | 0/4 [00:00<?, ?it/s]"
      ]
     },
     "metadata": {},
     "output_type": "display_data"
    },
    {
     "name": "stdout",
     "output_type": "stream",
     "text": [
      "\n",
      "Calculating metric: mean_ap\n"
     ]
    },
    {
     "name": "stderr",
     "output_type": "stream",
     "text": [
      "/dgx1nas1/storage/data/akalinin/projects/copairs/src/copairs/compute.py:105: RuntimeWarning: invalid value encountered in divide\n",
      "  ap_scores = np.add.reduceat(pr_k * rel_k_list, cutoffs) / num_pos\n"
     ]
    },
    {
     "data": {
      "application/vnd.jupyter.widget-view+json": {
       "model_id": "a811e9e6bcc54ef68dfc08952669c993",
       "version_major": 2,
       "version_minor": 0
      },
      "text/plain": [
       "  0%|          | 0/2 [00:00<?, ?it/s]"
      ]
     },
     "metadata": {},
     "output_type": "display_data"
    },
    {
     "name": "stderr",
     "output_type": "stream",
     "text": [
      "/dgx1nas1/storage/data/akalinin/projects/copairs/src/copairs/compute.py:89: RuntimeWarning: invalid value encountered in divide\n",
      "  ap = (pr_k * rel_k).sum(axis=1) / num_pos\n"
     ]
    },
    {
     "name": "stdout",
     "output_type": "stream",
     "text": [
      "\n",
      "Calculating distances.\n",
      "Pos pairs size: 13861, Neg pairs size: 81329\n"
     ]
    },
    {
     "data": {
      "application/vnd.jupyter.widget-view+json": {
       "model_id": "9515920082c3451398ba627b6fa9bd98",
       "version_major": 2,
       "version_minor": 0
      },
      "text/plain": [
       "  0%|          | 0/1 [00:00<?, ?it/s]"
      ]
     },
     "metadata": {},
     "output_type": "display_data"
    },
    {
     "data": {
      "application/vnd.jupyter.widget-view+json": {
       "model_id": "68469f46f4c3461aa3ad65a508d8b554",
       "version_major": 2,
       "version_minor": 0
      },
      "text/plain": [
       "  0%|          | 0/5 [00:00<?, ?it/s]"
      ]
     },
     "metadata": {},
     "output_type": "display_data"
    },
    {
     "name": "stdout",
     "output_type": "stream",
     "text": [
      "\n",
      "Calculating metric: mean_ap\n"
     ]
    },
    {
     "name": "stderr",
     "output_type": "stream",
     "text": [
      "/dgx1nas1/storage/data/akalinin/projects/copairs/src/copairs/compute.py:105: RuntimeWarning: invalid value encountered in divide\n",
      "  ap_scores = np.add.reduceat(pr_k * rel_k_list, cutoffs) / num_pos\n"
     ]
    },
    {
     "data": {
      "application/vnd.jupyter.widget-view+json": {
       "model_id": "b90aca5c29644d89b1ad3b4f822bb080",
       "version_major": 2,
       "version_minor": 0
      },
      "text/plain": [
       "  0%|          | 0/2 [00:00<?, ?it/s]"
      ]
     },
     "metadata": {},
     "output_type": "display_data"
    },
    {
     "name": "stderr",
     "output_type": "stream",
     "text": [
      "/dgx1nas1/storage/data/akalinin/projects/copairs/src/copairs/compute.py:89: RuntimeWarning: invalid value encountered in divide\n",
      "  ap = (pr_k * rel_k).sum(axis=1) / num_pos\n"
     ]
    },
    {
     "name": "stdout",
     "output_type": "stream",
     "text": [
      "Now analyzing COX11...\n",
      "\n",
      "Calculating distances.\n",
      "Pos pairs size: 47586, Neg pairs size: 150483\n"
     ]
    },
    {
     "data": {
      "application/vnd.jupyter.widget-view+json": {
       "model_id": "249908ef137543e88adf2c62b4487664",
       "version_major": 2,
       "version_minor": 0
      },
      "text/plain": [
       "  0%|          | 0/3 [00:00<?, ?it/s]"
      ]
     },
     "metadata": {},
     "output_type": "display_data"
    },
    {
     "data": {
      "application/vnd.jupyter.widget-view+json": {
       "model_id": "0fba3ccf64564ffea0cfbd0ded6be8fb",
       "version_major": 2,
       "version_minor": 0
      },
      "text/plain": [
       "  0%|          | 0/8 [00:00<?, ?it/s]"
      ]
     },
     "metadata": {},
     "output_type": "display_data"
    },
    {
     "name": "stdout",
     "output_type": "stream",
     "text": [
      "\n",
      "Calculating metric: mean_ap\n"
     ]
    },
    {
     "name": "stderr",
     "output_type": "stream",
     "text": [
      "/dgx1nas1/storage/data/akalinin/projects/copairs/src/copairs/compute.py:105: RuntimeWarning: invalid value encountered in divide\n",
      "  ap_scores = np.add.reduceat(pr_k * rel_k_list, cutoffs) / num_pos\n"
     ]
    },
    {
     "data": {
      "application/vnd.jupyter.widget-view+json": {
       "model_id": "51c50adbaa6147db82bad085ff4d4bab",
       "version_major": 2,
       "version_minor": 0
      },
      "text/plain": [
       "  0%|          | 0/2 [00:00<?, ?it/s]"
      ]
     },
     "metadata": {},
     "output_type": "display_data"
    },
    {
     "name": "stderr",
     "output_type": "stream",
     "text": [
      "/dgx1nas1/storage/data/akalinin/projects/copairs/src/copairs/compute.py:89: RuntimeWarning: invalid value encountered in divide\n",
      "  ap = (pr_k * rel_k).sum(axis=1) / num_pos\n"
     ]
    },
    {
     "name": "stdout",
     "output_type": "stream",
     "text": [
      "\n",
      "Calculating distances.\n",
      "Pos pairs size: 22366, Neg pairs size: 103244\n"
     ]
    },
    {
     "data": {
      "application/vnd.jupyter.widget-view+json": {
       "model_id": "01146a855b9f4223a0082941b625e858",
       "version_major": 2,
       "version_minor": 0
      },
      "text/plain": [
       "  0%|          | 0/2 [00:00<?, ?it/s]"
      ]
     },
     "metadata": {},
     "output_type": "display_data"
    },
    {
     "data": {
      "application/vnd.jupyter.widget-view+json": {
       "model_id": "0b9dee602e414a9a9cb788f8758594c8",
       "version_major": 2,
       "version_minor": 0
      },
      "text/plain": [
       "  0%|          | 0/6 [00:00<?, ?it/s]"
      ]
     },
     "metadata": {},
     "output_type": "display_data"
    },
    {
     "name": "stdout",
     "output_type": "stream",
     "text": [
      "\n",
      "Calculating metric: mean_ap\n"
     ]
    },
    {
     "name": "stderr",
     "output_type": "stream",
     "text": [
      "/dgx1nas1/storage/data/akalinin/projects/copairs/src/copairs/compute.py:105: RuntimeWarning: invalid value encountered in divide\n",
      "  ap_scores = np.add.reduceat(pr_k * rel_k_list, cutoffs) / num_pos\n"
     ]
    },
    {
     "data": {
      "application/vnd.jupyter.widget-view+json": {
       "model_id": "cdb57f6de932420eaca22bb9e2bbaf93",
       "version_major": 2,
       "version_minor": 0
      },
      "text/plain": [
       "  0%|          | 0/2 [00:00<?, ?it/s]"
      ]
     },
     "metadata": {},
     "output_type": "display_data"
    },
    {
     "name": "stderr",
     "output_type": "stream",
     "text": [
      "/dgx1nas1/storage/data/akalinin/projects/copairs/src/copairs/compute.py:89: RuntimeWarning: invalid value encountered in divide\n",
      "  ap = (pr_k * rel_k).sum(axis=1) / num_pos\n"
     ]
    },
    {
     "name": "stdout",
     "output_type": "stream",
     "text": [
      "\n",
      "Calculating distances.\n",
      "Pos pairs size: 10153, Neg pairs size: 69641\n"
     ]
    },
    {
     "data": {
      "application/vnd.jupyter.widget-view+json": {
       "model_id": "866ca983f643428486c669c697d49784",
       "version_major": 2,
       "version_minor": 0
      },
      "text/plain": [
       "  0%|          | 0/1 [00:00<?, ?it/s]"
      ]
     },
     "metadata": {},
     "output_type": "display_data"
    },
    {
     "data": {
      "application/vnd.jupyter.widget-view+json": {
       "model_id": "7f769b2acc774694b9e5efcfc1bc90bd",
       "version_major": 2,
       "version_minor": 0
      },
      "text/plain": [
       "  0%|          | 0/4 [00:00<?, ?it/s]"
      ]
     },
     "metadata": {},
     "output_type": "display_data"
    },
    {
     "name": "stdout",
     "output_type": "stream",
     "text": [
      "\n",
      "Calculating metric: mean_ap\n"
     ]
    },
    {
     "name": "stderr",
     "output_type": "stream",
     "text": [
      "/dgx1nas1/storage/data/akalinin/projects/copairs/src/copairs/compute.py:105: RuntimeWarning: invalid value encountered in divide\n",
      "  ap_scores = np.add.reduceat(pr_k * rel_k_list, cutoffs) / num_pos\n"
     ]
    },
    {
     "data": {
      "application/vnd.jupyter.widget-view+json": {
       "model_id": "566a108e218f4873b19337bb5bac4591",
       "version_major": 2,
       "version_minor": 0
      },
      "text/plain": [
       "  0%|          | 0/2 [00:00<?, ?it/s]"
      ]
     },
     "metadata": {},
     "output_type": "display_data"
    },
    {
     "name": "stdout",
     "output_type": "stream",
     "text": [
      "\n",
      "Calculating distances.\n",
      "Pos pairs size: 6216, Neg pairs size: 54544\n"
     ]
    },
    {
     "data": {
      "application/vnd.jupyter.widget-view+json": {
       "model_id": "2de5df1896ca45eb97ec9dcf788baa05",
       "version_major": 2,
       "version_minor": 0
      },
      "text/plain": [
       "  0%|          | 0/1 [00:00<?, ?it/s]"
      ]
     },
     "metadata": {},
     "output_type": "display_data"
    },
    {
     "data": {
      "application/vnd.jupyter.widget-view+json": {
       "model_id": "f74ef6b14ef24dfd89e936b32c261901",
       "version_major": 2,
       "version_minor": 0
      },
      "text/plain": [
       "  0%|          | 0/3 [00:00<?, ?it/s]"
      ]
     },
     "metadata": {},
     "output_type": "display_data"
    },
    {
     "name": "stdout",
     "output_type": "stream",
     "text": [
      "\n",
      "Calculating metric: mean_ap\n"
     ]
    },
    {
     "name": "stderr",
     "output_type": "stream",
     "text": [
      "/dgx1nas1/storage/data/akalinin/projects/copairs/src/copairs/compute.py:105: RuntimeWarning: invalid value encountered in divide\n",
      "  ap_scores = np.add.reduceat(pr_k * rel_k_list, cutoffs) / num_pos\n"
     ]
    },
    {
     "data": {
      "application/vnd.jupyter.widget-view+json": {
       "model_id": "57e0c9dc5f0543f78c6e2e530995444c",
       "version_major": 2,
       "version_minor": 0
      },
      "text/plain": [
       "  0%|          | 0/2 [00:00<?, ?it/s]"
      ]
     },
     "metadata": {},
     "output_type": "display_data"
    },
    {
     "name": "stdout",
     "output_type": "stream",
     "text": [
      "\n",
      "Calculating distances.\n",
      "Pos pairs size: 12090, Neg pairs size: 75972\n"
     ]
    },
    {
     "data": {
      "application/vnd.jupyter.widget-view+json": {
       "model_id": "952fd59c9b6d46a2b0a58069756a8272",
       "version_major": 2,
       "version_minor": 0
      },
      "text/plain": [
       "  0%|          | 0/1 [00:00<?, ?it/s]"
      ]
     },
     "metadata": {},
     "output_type": "display_data"
    },
    {
     "data": {
      "application/vnd.jupyter.widget-view+json": {
       "model_id": "33d7b6ad4b6d4e89b862c56cde95035c",
       "version_major": 2,
       "version_minor": 0
      },
      "text/plain": [
       "  0%|          | 0/4 [00:00<?, ?it/s]"
      ]
     },
     "metadata": {},
     "output_type": "display_data"
    },
    {
     "name": "stdout",
     "output_type": "stream",
     "text": [
      "\n",
      "Calculating metric: mean_ap\n"
     ]
    },
    {
     "name": "stderr",
     "output_type": "stream",
     "text": [
      "/dgx1nas1/storage/data/akalinin/projects/copairs/src/copairs/compute.py:105: RuntimeWarning: invalid value encountered in divide\n",
      "  ap_scores = np.add.reduceat(pr_k * rel_k_list, cutoffs) / num_pos\n"
     ]
    },
    {
     "data": {
      "application/vnd.jupyter.widget-view+json": {
       "model_id": "8f3800f3e5074ae68b2f5df16cf3de17",
       "version_major": 2,
       "version_minor": 0
      },
      "text/plain": [
       "  0%|          | 0/2 [00:00<?, ?it/s]"
      ]
     },
     "metadata": {},
     "output_type": "display_data"
    },
    {
     "name": "stdout",
     "output_type": "stream",
     "text": [
      "Now analyzing BCR...\n",
      "\n",
      "Calculating distances.\n",
      "Pos pairs size: 31878, Neg pairs size: 123211\n"
     ]
    },
    {
     "data": {
      "application/vnd.jupyter.widget-view+json": {
       "model_id": "fcdf6242dd2e416dba53cfa5ad32be9c",
       "version_major": 2,
       "version_minor": 0
      },
      "text/plain": [
       "  0%|          | 0/2 [00:00<?, ?it/s]"
      ]
     },
     "metadata": {},
     "output_type": "display_data"
    },
    {
     "data": {
      "application/vnd.jupyter.widget-view+json": {
       "model_id": "0ece7d9f973d4bf7ac7b656ea8ba076f",
       "version_major": 2,
       "version_minor": 0
      },
      "text/plain": [
       "  0%|          | 0/7 [00:00<?, ?it/s]"
      ]
     },
     "metadata": {},
     "output_type": "display_data"
    },
    {
     "name": "stdout",
     "output_type": "stream",
     "text": [
      "\n",
      "Calculating metric: mean_ap\n"
     ]
    },
    {
     "name": "stderr",
     "output_type": "stream",
     "text": [
      "/dgx1nas1/storage/data/akalinin/projects/copairs/src/copairs/compute.py:105: RuntimeWarning: invalid value encountered in divide\n",
      "  ap_scores = np.add.reduceat(pr_k * rel_k_list, cutoffs) / num_pos\n"
     ]
    },
    {
     "data": {
      "application/vnd.jupyter.widget-view+json": {
       "model_id": "5ccb61dbcf224bf38db5981a72a0d135",
       "version_major": 2,
       "version_minor": 0
      },
      "text/plain": [
       "  0%|          | 0/2 [00:00<?, ?it/s]"
      ]
     },
     "metadata": {},
     "output_type": "display_data"
    },
    {
     "name": "stdout",
     "output_type": "stream",
     "text": [
      "\n",
      "Calculating distances.\n",
      "Pos pairs size: 4560, Neg pairs size: 46752\n"
     ]
    },
    {
     "data": {
      "application/vnd.jupyter.widget-view+json": {
       "model_id": "644e77beba58458eb0440734b694e94b",
       "version_major": 2,
       "version_minor": 0
      },
      "text/plain": [
       "  0%|          | 0/1 [00:00<?, ?it/s]"
      ]
     },
     "metadata": {},
     "output_type": "display_data"
    },
    {
     "data": {
      "application/vnd.jupyter.widget-view+json": {
       "model_id": "39239aa53b1844a188ffb41ac78f7277",
       "version_major": 2,
       "version_minor": 0
      },
      "text/plain": [
       "  0%|          | 0/3 [00:00<?, ?it/s]"
      ]
     },
     "metadata": {},
     "output_type": "display_data"
    },
    {
     "name": "stdout",
     "output_type": "stream",
     "text": [
      "\n",
      "Calculating metric: mean_ap\n"
     ]
    },
    {
     "name": "stderr",
     "output_type": "stream",
     "text": [
      "/dgx1nas1/storage/data/akalinin/projects/copairs/src/copairs/compute.py:105: RuntimeWarning: invalid value encountered in divide\n",
      "  ap_scores = np.add.reduceat(pr_k * rel_k_list, cutoffs) / num_pos\n"
     ]
    },
    {
     "data": {
      "application/vnd.jupyter.widget-view+json": {
       "model_id": "f6036b50f07348f795ced04c2bd22d3d",
       "version_major": 2,
       "version_minor": 0
      },
      "text/plain": [
       "  0%|          | 0/2 [00:00<?, ?it/s]"
      ]
     },
     "metadata": {},
     "output_type": "display_data"
    },
    {
     "name": "stderr",
     "output_type": "stream",
     "text": [
      "/dgx1nas1/storage/data/akalinin/projects/copairs/src/copairs/compute.py:89: RuntimeWarning: invalid value encountered in divide\n",
      "  ap = (pr_k * rel_k).sum(axis=1) / num_pos\n"
     ]
    },
    {
     "name": "stdout",
     "output_type": "stream",
     "text": [
      "\n",
      "Calculating distances.\n",
      "Pos pairs size: 8256, Neg pairs size: 62823\n"
     ]
    },
    {
     "data": {
      "application/vnd.jupyter.widget-view+json": {
       "model_id": "df9153f159d3423abf7649bc851ae8aa",
       "version_major": 2,
       "version_minor": 0
      },
      "text/plain": [
       "  0%|          | 0/1 [00:00<?, ?it/s]"
      ]
     },
     "metadata": {},
     "output_type": "display_data"
    },
    {
     "data": {
      "application/vnd.jupyter.widget-view+json": {
       "model_id": "8a4bc84deae24c7584097dfdba837b95",
       "version_major": 2,
       "version_minor": 0
      },
      "text/plain": [
       "  0%|          | 0/4 [00:00<?, ?it/s]"
      ]
     },
     "metadata": {},
     "output_type": "display_data"
    },
    {
     "name": "stdout",
     "output_type": "stream",
     "text": [
      "\n",
      "Calculating metric: mean_ap\n"
     ]
    },
    {
     "name": "stderr",
     "output_type": "stream",
     "text": [
      "/dgx1nas1/storage/data/akalinin/projects/copairs/src/copairs/compute.py:105: RuntimeWarning: invalid value encountered in divide\n",
      "  ap_scores = np.add.reduceat(pr_k * rel_k_list, cutoffs) / num_pos\n"
     ]
    },
    {
     "data": {
      "application/vnd.jupyter.widget-view+json": {
       "model_id": "ace65e5f5a8c4e1c8b69fcdbe4c786f1",
       "version_major": 2,
       "version_minor": 0
      },
      "text/plain": [
       "  0%|          | 0/2 [00:00<?, ?it/s]"
      ]
     },
     "metadata": {},
     "output_type": "display_data"
    },
    {
     "name": "stderr",
     "output_type": "stream",
     "text": [
      "/dgx1nas1/storage/data/akalinin/projects/copairs/src/copairs/compute.py:89: RuntimeWarning: invalid value encountered in divide\n",
      "  ap = (pr_k * rel_k).sum(axis=1) / num_pos\n"
     ]
    },
    {
     "name": "stdout",
     "output_type": "stream",
     "text": [
      "\n",
      "Calculating distances.\n",
      "Pos pairs size: 5050, Neg pairs size: 49187\n"
     ]
    },
    {
     "data": {
      "application/vnd.jupyter.widget-view+json": {
       "model_id": "61f7c51d85b84fa6bd87cda6e92b031d",
       "version_major": 2,
       "version_minor": 0
      },
      "text/plain": [
       "  0%|          | 0/1 [00:00<?, ?it/s]"
      ]
     },
     "metadata": {},
     "output_type": "display_data"
    },
    {
     "data": {
      "application/vnd.jupyter.widget-view+json": {
       "model_id": "74cabf0f2fa34894b8428b61bc07a7b9",
       "version_major": 2,
       "version_minor": 0
      },
      "text/plain": [
       "  0%|          | 0/3 [00:00<?, ?it/s]"
      ]
     },
     "metadata": {},
     "output_type": "display_data"
    },
    {
     "name": "stdout",
     "output_type": "stream",
     "text": [
      "\n",
      "Calculating metric: mean_ap\n"
     ]
    },
    {
     "name": "stderr",
     "output_type": "stream",
     "text": [
      "/dgx1nas1/storage/data/akalinin/projects/copairs/src/copairs/compute.py:105: RuntimeWarning: invalid value encountered in divide\n",
      "  ap_scores = np.add.reduceat(pr_k * rel_k_list, cutoffs) / num_pos\n"
     ]
    },
    {
     "data": {
      "application/vnd.jupyter.widget-view+json": {
       "model_id": "159237beb69b48e597a841048b7b52aa",
       "version_major": 2,
       "version_minor": 0
      },
      "text/plain": [
       "  0%|          | 0/2 [00:00<?, ?it/s]"
      ]
     },
     "metadata": {},
     "output_type": "display_data"
    },
    {
     "name": "stderr",
     "output_type": "stream",
     "text": [
      "/dgx1nas1/storage/data/akalinin/projects/copairs/src/copairs/compute.py:89: RuntimeWarning: invalid value encountered in divide\n",
      "  ap = (pr_k * rel_k).sum(axis=1) / num_pos\n"
     ]
    },
    {
     "name": "stdout",
     "output_type": "stream",
     "text": [
      "\n",
      "Calculating distances.\n",
      "Pos pairs size: 9591, Neg pairs size: 67693\n"
     ]
    },
    {
     "data": {
      "application/vnd.jupyter.widget-view+json": {
       "model_id": "661c14bb68e242898722fa81b357c045",
       "version_major": 2,
       "version_minor": 0
      },
      "text/plain": [
       "  0%|          | 0/1 [00:00<?, ?it/s]"
      ]
     },
     "metadata": {},
     "output_type": "display_data"
    },
    {
     "data": {
      "application/vnd.jupyter.widget-view+json": {
       "model_id": "1269436fec534e22849c4ffd29b015de",
       "version_major": 2,
       "version_minor": 0
      },
      "text/plain": [
       "  0%|          | 0/4 [00:00<?, ?it/s]"
      ]
     },
     "metadata": {},
     "output_type": "display_data"
    },
    {
     "name": "stdout",
     "output_type": "stream",
     "text": [
      "\n",
      "Calculating metric: mean_ap\n"
     ]
    },
    {
     "name": "stderr",
     "output_type": "stream",
     "text": [
      "/dgx1nas1/storage/data/akalinin/projects/copairs/src/copairs/compute.py:105: RuntimeWarning: invalid value encountered in divide\n",
      "  ap_scores = np.add.reduceat(pr_k * rel_k_list, cutoffs) / num_pos\n"
     ]
    },
    {
     "data": {
      "application/vnd.jupyter.widget-view+json": {
       "model_id": "b2ecb06befb4427f9769e094026a7b86",
       "version_major": 2,
       "version_minor": 0
      },
      "text/plain": [
       "  0%|          | 0/2 [00:00<?, ?it/s]"
      ]
     },
     "metadata": {},
     "output_type": "display_data"
    },
    {
     "name": "stderr",
     "output_type": "stream",
     "text": [
      "/dgx1nas1/storage/data/akalinin/projects/copairs/src/copairs/compute.py:89: RuntimeWarning: invalid value encountered in divide\n",
      "  ap = (pr_k * rel_k).sum(axis=1) / num_pos\n"
     ]
    },
    {
     "name": "stdout",
     "output_type": "stream",
     "text": [
      "\n",
      "Calculating distances.\n",
      "Pos pairs size: 11325, Neg pairs size: 73537\n"
     ]
    },
    {
     "data": {
      "application/vnd.jupyter.widget-view+json": {
       "model_id": "934bb20429264b1c962ffc564b3ae7f9",
       "version_major": 2,
       "version_minor": 0
      },
      "text/plain": [
       "  0%|          | 0/1 [00:00<?, ?it/s]"
      ]
     },
     "metadata": {},
     "output_type": "display_data"
    },
    {
     "data": {
      "application/vnd.jupyter.widget-view+json": {
       "model_id": "895166eff9fb40e99c0e07132e0aafa7",
       "version_major": 2,
       "version_minor": 0
      },
      "text/plain": [
       "  0%|          | 0/4 [00:00<?, ?it/s]"
      ]
     },
     "metadata": {},
     "output_type": "display_data"
    },
    {
     "name": "stdout",
     "output_type": "stream",
     "text": [
      "\n",
      "Calculating metric: mean_ap\n"
     ]
    },
    {
     "name": "stderr",
     "output_type": "stream",
     "text": [
      "/dgx1nas1/storage/data/akalinin/projects/copairs/src/copairs/compute.py:105: RuntimeWarning: invalid value encountered in divide\n",
      "  ap_scores = np.add.reduceat(pr_k * rel_k_list, cutoffs) / num_pos\n"
     ]
    },
    {
     "data": {
      "application/vnd.jupyter.widget-view+json": {
       "model_id": "2d149708c1794886ad4697508318609a",
       "version_major": 2,
       "version_minor": 0
      },
      "text/plain": [
       "  0%|          | 0/2 [00:00<?, ?it/s]"
      ]
     },
     "metadata": {},
     "output_type": "display_data"
    },
    {
     "name": "stdout",
     "output_type": "stream",
     "text": [
      "Now analyzing GNB2L1...\n",
      "\n",
      "Calculating distances.\n",
      "Pos pairs size: 170236, Neg pairs size: 284408\n"
     ]
    },
    {
     "data": {
      "application/vnd.jupyter.widget-view+json": {
       "model_id": "085de5846b064a8484622516a6079e16",
       "version_major": 2,
       "version_minor": 0
      },
      "text/plain": [
       "  0%|          | 0/9 [00:00<?, ?it/s]"
      ]
     },
     "metadata": {},
     "output_type": "display_data"
    },
    {
     "data": {
      "application/vnd.jupyter.widget-view+json": {
       "model_id": "94aad7c9455d43938dc6f5c8fe8f2c44",
       "version_major": 2,
       "version_minor": 0
      },
      "text/plain": [
       "  0%|          | 0/15 [00:00<?, ?it/s]"
      ]
     },
     "metadata": {},
     "output_type": "display_data"
    },
    {
     "name": "stdout",
     "output_type": "stream",
     "text": [
      "\n",
      "Calculating metric: mean_ap\n"
     ]
    },
    {
     "name": "stderr",
     "output_type": "stream",
     "text": [
      "/dgx1nas1/storage/data/akalinin/projects/copairs/src/copairs/compute.py:105: RuntimeWarning: invalid value encountered in divide\n",
      "  ap_scores = np.add.reduceat(pr_k * rel_k_list, cutoffs) / num_pos\n"
     ]
    },
    {
     "data": {
      "application/vnd.jupyter.widget-view+json": {
       "model_id": "b3a24efa9dbb42e6a47a5c4a636ecb4c",
       "version_major": 2,
       "version_minor": 0
      },
      "text/plain": [
       "  0%|          | 0/2 [00:00<?, ?it/s]"
      ]
     },
     "metadata": {},
     "output_type": "display_data"
    },
    {
     "name": "stderr",
     "output_type": "stream",
     "text": [
      "/dgx1nas1/storage/data/akalinin/projects/copairs/src/copairs/compute.py:89: RuntimeWarning: invalid value encountered in divide\n",
      "  ap = (pr_k * rel_k).sum(axis=1) / num_pos\n"
     ]
    },
    {
     "name": "stdout",
     "output_type": "stream",
     "text": [
      "\n",
      "Calculating distances.\n",
      "Pos pairs size: 6328, Neg pairs size: 55031\n"
     ]
    },
    {
     "data": {
      "application/vnd.jupyter.widget-view+json": {
       "model_id": "696336911381439bae07bc0f70c5158f",
       "version_major": 2,
       "version_minor": 0
      },
      "text/plain": [
       "  0%|          | 0/1 [00:00<?, ?it/s]"
      ]
     },
     "metadata": {},
     "output_type": "display_data"
    },
    {
     "data": {
      "application/vnd.jupyter.widget-view+json": {
       "model_id": "d39074034eb745e48ce44ea836e800bb",
       "version_major": 2,
       "version_minor": 0
      },
      "text/plain": [
       "  0%|          | 0/3 [00:00<?, ?it/s]"
      ]
     },
     "metadata": {},
     "output_type": "display_data"
    },
    {
     "name": "stdout",
     "output_type": "stream",
     "text": [
      "\n",
      "Calculating metric: mean_ap\n"
     ]
    },
    {
     "name": "stderr",
     "output_type": "stream",
     "text": [
      "/dgx1nas1/storage/data/akalinin/projects/copairs/src/copairs/compute.py:105: RuntimeWarning: invalid value encountered in divide\n",
      "  ap_scores = np.add.reduceat(pr_k * rel_k_list, cutoffs) / num_pos\n"
     ]
    },
    {
     "data": {
      "application/vnd.jupyter.widget-view+json": {
       "model_id": "90c49028d1ec4dba9f8b39fb5ab9d7f3",
       "version_major": 2,
       "version_minor": 0
      },
      "text/plain": [
       "  0%|          | 0/2 [00:00<?, ?it/s]"
      ]
     },
     "metadata": {},
     "output_type": "display_data"
    },
    {
     "name": "stdout",
     "output_type": "stream",
     "text": [
      "\n",
      "Calculating distances.\n",
      "Pos pairs size: 8646, Neg pairs size: 64284\n"
     ]
    },
    {
     "data": {
      "application/vnd.jupyter.widget-view+json": {
       "model_id": "4576b535507a4cf88e30c37f7bcb58cf",
       "version_major": 2,
       "version_minor": 0
      },
      "text/plain": [
       "  0%|          | 0/1 [00:00<?, ?it/s]"
      ]
     },
     "metadata": {},
     "output_type": "display_data"
    },
    {
     "data": {
      "application/vnd.jupyter.widget-view+json": {
       "model_id": "1db122f61c5a41b9bc41135f7b1cba87",
       "version_major": 2,
       "version_minor": 0
      },
      "text/plain": [
       "  0%|          | 0/4 [00:00<?, ?it/s]"
      ]
     },
     "metadata": {},
     "output_type": "display_data"
    },
    {
     "name": "stdout",
     "output_type": "stream",
     "text": [
      "\n",
      "Calculating metric: mean_ap\n"
     ]
    },
    {
     "name": "stderr",
     "output_type": "stream",
     "text": [
      "/dgx1nas1/storage/data/akalinin/projects/copairs/src/copairs/compute.py:105: RuntimeWarning: invalid value encountered in divide\n",
      "  ap_scores = np.add.reduceat(pr_k * rel_k_list, cutoffs) / num_pos\n"
     ]
    },
    {
     "data": {
      "application/vnd.jupyter.widget-view+json": {
       "model_id": "e6f975b8f366455fa986c0feb62ff45a",
       "version_major": 2,
       "version_minor": 0
      },
      "text/plain": [
       "  0%|          | 0/2 [00:00<?, ?it/s]"
      ]
     },
     "metadata": {},
     "output_type": "display_data"
    },
    {
     "name": "stdout",
     "output_type": "stream",
     "text": [
      "\n",
      "Calculating distances.\n",
      "Pos pairs size: 10153, Neg pairs size: 69641\n"
     ]
    },
    {
     "data": {
      "application/vnd.jupyter.widget-view+json": {
       "model_id": "438aba979fd94e03a85767130d5e9165",
       "version_major": 2,
       "version_minor": 0
      },
      "text/plain": [
       "  0%|          | 0/1 [00:00<?, ?it/s]"
      ]
     },
     "metadata": {},
     "output_type": "display_data"
    },
    {
     "data": {
      "application/vnd.jupyter.widget-view+json": {
       "model_id": "2ed076fb0d8146d3be8623e76cf199ef",
       "version_major": 2,
       "version_minor": 0
      },
      "text/plain": [
       "  0%|          | 0/4 [00:00<?, ?it/s]"
      ]
     },
     "metadata": {},
     "output_type": "display_data"
    },
    {
     "name": "stdout",
     "output_type": "stream",
     "text": [
      "\n",
      "Calculating metric: mean_ap\n"
     ]
    },
    {
     "name": "stderr",
     "output_type": "stream",
     "text": [
      "/dgx1nas1/storage/data/akalinin/projects/copairs/src/copairs/compute.py:105: RuntimeWarning: invalid value encountered in divide\n",
      "  ap_scores = np.add.reduceat(pr_k * rel_k_list, cutoffs) / num_pos\n"
     ]
    },
    {
     "data": {
      "application/vnd.jupyter.widget-view+json": {
       "model_id": "7babdf2bc8364feaa218d2fc5a42f8e9",
       "version_major": 2,
       "version_minor": 0
      },
      "text/plain": [
       "  0%|          | 0/2 [00:00<?, ?it/s]"
      ]
     },
     "metadata": {},
     "output_type": "display_data"
    },
    {
     "name": "stdout",
     "output_type": "stream",
     "text": [
      "\n",
      "Calculating distances.\n",
      "Pos pairs size: 561, Neg pairs size: 16558\n"
     ]
    },
    {
     "data": {
      "application/vnd.jupyter.widget-view+json": {
       "model_id": "c513d8e40d2c42b2a54556b25fd38bc1",
       "version_major": 2,
       "version_minor": 0
      },
      "text/plain": [
       "  0%|          | 0/1 [00:00<?, ?it/s]"
      ]
     },
     "metadata": {},
     "output_type": "display_data"
    },
    {
     "data": {
      "application/vnd.jupyter.widget-view+json": {
       "model_id": "5ab6e47960c34a17987779e5680e65c0",
       "version_major": 2,
       "version_minor": 0
      },
      "text/plain": [
       "  0%|          | 0/1 [00:00<?, ?it/s]"
      ]
     },
     "metadata": {},
     "output_type": "display_data"
    },
    {
     "name": "stdout",
     "output_type": "stream",
     "text": [
      "\n",
      "Calculating metric: mean_ap\n"
     ]
    },
    {
     "name": "stderr",
     "output_type": "stream",
     "text": [
      "/dgx1nas1/storage/data/akalinin/projects/copairs/src/copairs/compute.py:105: RuntimeWarning: invalid value encountered in divide\n",
      "  ap_scores = np.add.reduceat(pr_k * rel_k_list, cutoffs) / num_pos\n"
     ]
    },
    {
     "data": {
      "application/vnd.jupyter.widget-view+json": {
       "model_id": "939056448a984ac8952db1764e04d261",
       "version_major": 2,
       "version_minor": 0
      },
      "text/plain": [
       "  0%|          | 0/2 [00:00<?, ?it/s]"
      ]
     },
     "metadata": {},
     "output_type": "display_data"
    },
    {
     "name": "stderr",
     "output_type": "stream",
     "text": [
      "/dgx1nas1/storage/data/akalinin/projects/copairs/src/copairs/compute.py:89: RuntimeWarning: invalid value encountered in divide\n",
      "  ap = (pr_k * rel_k).sum(axis=1) / num_pos\n"
     ]
    }
   ],
   "source": [
    "all_sc_grit_results = []\n",
    "all_sc_umap_embeddings = []\n",
    "\n",
    "genes = sc_gene_exp_df.Metadata_gene_identity.unique()\n",
    "for gene in genes:\n",
    "    if gene not in [\"neg\", \"*\", \"nan\", np.nan]:\n",
    "        print(f\"Now analyzing {gene}...\")\n",
    "        subset_sc_df = sc_gene_exp_df.query(\"Metadata_gene_identity in @gene\")\n",
    "\n",
    "        # There are a certain number of guides targeting each gene\n",
    "        guides = subset_sc_df.Metadata_guide_identity.unique()\n",
    "\n",
    "        # Use the same controls in every experiment\n",
    "        subset_sc_df = pd.concat([subset_sc_df, sc_neg_controls_df]).reset_index(drop=True)\n",
    "\n",
    "        # Apply UMAP to single cell profiles (all profiles of one gene + neg controls)\n",
    "        embedding = umap.UMAP().fit_transform(subset_sc_df.loc[:, genes_to_retain])\n",
    "\n",
    "        # Combine results with single cell dataframe\n",
    "        embedding_df = pd.concat(\n",
    "            [\n",
    "                subset_sc_df.drop(gene_features, axis=\"columns\").reset_index(drop=True),\n",
    "                pd.DataFrame(embedding, columns=[\"umap_0\", \"umap_1\"]),\n",
    "            ],\n",
    "            axis=\"columns\",\n",
    "        )\n",
    "\n",
    "        # Append to list\n",
    "        all_sc_umap_embeddings.append(embedding_df.assign(grit_gene=gene))\n",
    "\n",
    "        # Now calculate sc-Grit per guide\n",
    "        for guide in guides:\n",
    "            subset_guide_df = pd.concat(\n",
    "                [\n",
    "                    subset_sc_df.query(\"Metadata_guide_identity == @guide\"),\n",
    "                    sc_neg_controls_df,\n",
    "                ]\n",
    "            ).reset_index(drop=True)\n",
    "\n",
    "            # Calculate Grit\n",
    "            # Note, every negative control single cell will recieve MULTIPLE grit scores\n",
    "            # depending on the replicate group information (replicate_group_col)!\n",
    "            subset_guide_df[\"Metadata_is_control\"] = subset_guide_df.Metadata_cell_identity.isin(\n",
    "                sc_neg_controls\n",
    "            ).astype(int)\n",
    "\n",
    "            map_results = evaluate_metrics(\n",
    "                profiles=subset_guide_df.reset_index(drop=True),\n",
    "                features=genes_to_retain,\n",
    "                meta_features=subset_guide_df.filter(regex=\"Metadata_\").columns,\n",
    "                replicate_groups=pair_config,\n",
    "                metrics_config=map_config,\n",
    "                use_copairs=True,\n",
    "            )[\"mean_ap\"]\n",
    "            all_sc_grit_results.append(map_results.assign(grit_gene=gene, grit_guide=guide))\n",
    "\n",
    "            # sc_grit_result = evaluate(\n",
    "            #     profiles=subset_guide_df,\n",
    "            #     features=genes_to_retain,\n",
    "            #     meta_features=[\"Metadata_guide_identity\", \"Metadata_cell_identity\"],\n",
    "            #     replicate_groups=replicate_group_grit,\n",
    "            #     operation=\"grit\",\n",
    "            #     grit_control_perts=[str(x) for x in sc_neg_controls],\n",
    "            # )\n",
    "\n",
    "            # all_sc_grit_results.append(sc_grit_result.assign(grit_gene=gene, grit_guide=guide))"
   ]
  },
  {
   "cell_type": "code",
   "execution_count": 71,
   "metadata": {},
   "outputs": [
    {
     "name": "stdout",
     "output_type": "stream",
     "text": [
      "(32944, 15)\n"
     ]
    },
    {
     "data": {
      "text/html": [
       "<div>\n",
       "<style scoped>\n",
       "    .dataframe tbody tr th:only-of-type {\n",
       "        vertical-align: middle;\n",
       "    }\n",
       "\n",
       "    .dataframe tbody tr th {\n",
       "        vertical-align: top;\n",
       "    }\n",
       "\n",
       "    .dataframe thead th {\n",
       "        text-align: right;\n",
       "    }\n",
       "</style>\n",
       "<table border=\"1\" class=\"dataframe\">\n",
       "  <thead>\n",
       "    <tr style=\"text-align: right;\">\n",
       "      <th></th>\n",
       "      <th>Metadata_cell_identity</th>\n",
       "      <th>Metadata_cell_barcode</th>\n",
       "      <th>Metadata_guide_identity</th>\n",
       "      <th>Metadata_read_count</th>\n",
       "      <th>Metadata_UMI_count</th>\n",
       "      <th>Metadata_coverage</th>\n",
       "      <th>Metadata_gemgroup</th>\n",
       "      <th>Metadata_good_coverage</th>\n",
       "      <th>Metadata_number_of_cells</th>\n",
       "      <th>Metadata_gene_identity</th>\n",
       "      <th>Metadata_barcode</th>\n",
       "      <th>Metadata_sequence</th>\n",
       "      <th>umap_0</th>\n",
       "      <th>umap_1</th>\n",
       "      <th>grit_gene</th>\n",
       "    </tr>\n",
       "  </thead>\n",
       "  <tbody>\n",
       "    <tr>\n",
       "      <th>0</th>\n",
       "      <td>sc_profile_0</td>\n",
       "      <td>AAACCTGAGAGTAATC-1</td>\n",
       "      <td>RAN_RAN_+_131356438.23-P1P2_12</td>\n",
       "      <td>544.0</td>\n",
       "      <td>34.0</td>\n",
       "      <td>16.000000</td>\n",
       "      <td>1.0</td>\n",
       "      <td>True</td>\n",
       "      <td>1.0</td>\n",
       "      <td>RAN</td>\n",
       "      <td>AAACCTGAGAGTAATC-1</td>\n",
       "      <td>AAACCTGAGAGTAATC</td>\n",
       "      <td>0.963343</td>\n",
       "      <td>2.139856</td>\n",
       "      <td>RAN</td>\n",
       "    </tr>\n",
       "    <tr>\n",
       "      <th>1</th>\n",
       "      <td>sc_profile_165</td>\n",
       "      <td>AACGTTGAGAGTAATC-1</td>\n",
       "      <td>RAN_RAN_+_131356438.23-P1P2_00</td>\n",
       "      <td>625.0</td>\n",
       "      <td>36.0</td>\n",
       "      <td>17.361111</td>\n",
       "      <td>1.0</td>\n",
       "      <td>True</td>\n",
       "      <td>2.0</td>\n",
       "      <td>RAN</td>\n",
       "      <td>AACGTTGAGAGTAATC-1</td>\n",
       "      <td>AACGTTGAGAGTAATC</td>\n",
       "      <td>-0.974019</td>\n",
       "      <td>5.059627</td>\n",
       "      <td>RAN</td>\n",
       "    </tr>\n",
       "    <tr>\n",
       "      <th>2</th>\n",
       "      <td>sc_profile_264</td>\n",
       "      <td>AACTTTCTCTAAGCCA-1</td>\n",
       "      <td>RAN_RAN_+_131356438.23-P1P2_04</td>\n",
       "      <td>334.0</td>\n",
       "      <td>19.0</td>\n",
       "      <td>17.578947</td>\n",
       "      <td>1.0</td>\n",
       "      <td>True</td>\n",
       "      <td>1.0</td>\n",
       "      <td>RAN</td>\n",
       "      <td>AACTTTCTCTAAGCCA-1</td>\n",
       "      <td>AACTTTCTCTAAGCCA</td>\n",
       "      <td>0.043807</td>\n",
       "      <td>2.748627</td>\n",
       "      <td>RAN</td>\n",
       "    </tr>\n",
       "    <tr>\n",
       "      <th>3</th>\n",
       "      <td>sc_profile_311</td>\n",
       "      <td>AAGGAGCCATGCGCAC-1</td>\n",
       "      <td>RAN_RAN_+_131356438.23-P1P2_02</td>\n",
       "      <td>405.0</td>\n",
       "      <td>22.0</td>\n",
       "      <td>18.409091</td>\n",
       "      <td>1.0</td>\n",
       "      <td>True</td>\n",
       "      <td>1.0</td>\n",
       "      <td>RAN</td>\n",
       "      <td>AAGGAGCCATGCGCAC-1</td>\n",
       "      <td>AAGGAGCCATGCGCAC</td>\n",
       "      <td>0.082392</td>\n",
       "      <td>2.723883</td>\n",
       "      <td>RAN</td>\n",
       "    </tr>\n",
       "    <tr>\n",
       "      <th>4</th>\n",
       "      <td>sc_profile_314</td>\n",
       "      <td>AAGGAGCTCCTGTAGA-1</td>\n",
       "      <td>RAN_RAN_+_131356438.23-P1P2_04</td>\n",
       "      <td>926.0</td>\n",
       "      <td>41.0</td>\n",
       "      <td>22.585366</td>\n",
       "      <td>1.0</td>\n",
       "      <td>True</td>\n",
       "      <td>1.0</td>\n",
       "      <td>RAN</td>\n",
       "      <td>AAGGAGCTCCTGTAGA-1</td>\n",
       "      <td>AAGGAGCTCCTGTAGA</td>\n",
       "      <td>0.740550</td>\n",
       "      <td>4.728397</td>\n",
       "      <td>RAN</td>\n",
       "    </tr>\n",
       "  </tbody>\n",
       "</table>\n",
       "</div>"
      ],
      "text/plain": [
       "  Metadata_cell_identity Metadata_cell_barcode  \\\n",
       "0           sc_profile_0    AAACCTGAGAGTAATC-1   \n",
       "1         sc_profile_165    AACGTTGAGAGTAATC-1   \n",
       "2         sc_profile_264    AACTTTCTCTAAGCCA-1   \n",
       "3         sc_profile_311    AAGGAGCCATGCGCAC-1   \n",
       "4         sc_profile_314    AAGGAGCTCCTGTAGA-1   \n",
       "\n",
       "          Metadata_guide_identity  Metadata_read_count  Metadata_UMI_count  \\\n",
       "0  RAN_RAN_+_131356438.23-P1P2_12                544.0                34.0   \n",
       "1  RAN_RAN_+_131356438.23-P1P2_00                625.0                36.0   \n",
       "2  RAN_RAN_+_131356438.23-P1P2_04                334.0                19.0   \n",
       "3  RAN_RAN_+_131356438.23-P1P2_02                405.0                22.0   \n",
       "4  RAN_RAN_+_131356438.23-P1P2_04                926.0                41.0   \n",
       "\n",
       "   Metadata_coverage  Metadata_gemgroup Metadata_good_coverage  \\\n",
       "0          16.000000                1.0                   True   \n",
       "1          17.361111                1.0                   True   \n",
       "2          17.578947                1.0                   True   \n",
       "3          18.409091                1.0                   True   \n",
       "4          22.585366                1.0                   True   \n",
       "\n",
       "   Metadata_number_of_cells Metadata_gene_identity    Metadata_barcode  \\\n",
       "0                       1.0                    RAN  AAACCTGAGAGTAATC-1   \n",
       "1                       2.0                    RAN  AACGTTGAGAGTAATC-1   \n",
       "2                       1.0                    RAN  AACTTTCTCTAAGCCA-1   \n",
       "3                       1.0                    RAN  AAGGAGCCATGCGCAC-1   \n",
       "4                       1.0                    RAN  AAGGAGCTCCTGTAGA-1   \n",
       "\n",
       "  Metadata_sequence    umap_0    umap_1 grit_gene  \n",
       "0  AAACCTGAGAGTAATC  0.963343  2.139856       RAN  \n",
       "1  AACGTTGAGAGTAATC -0.974019  5.059627       RAN  \n",
       "2  AACTTTCTCTAAGCCA  0.043807  2.748627       RAN  \n",
       "3  AAGGAGCCATGCGCAC  0.082392  2.723883       RAN  \n",
       "4  AAGGAGCTCCTGTAGA  0.740550  4.728397       RAN  "
      ]
     },
     "execution_count": 71,
     "metadata": {},
     "output_type": "execute_result"
    }
   ],
   "source": [
    "all_sc_umap_embeddings = pd.concat(all_sc_umap_embeddings).reset_index(drop=True)\n",
    "\n",
    "# Output file\n",
    "output_results_file = pathlib.Path(f\"results/{gse_id}_single_cell_umap_embeddings.tsv.gz\")\n",
    "all_sc_umap_embeddings.to_csv(output_results_file, sep=\"\\t\", compression=\"gzip\", index=False)\n",
    "\n",
    "print(all_sc_umap_embeddings.shape)\n",
    "all_sc_umap_embeddings.head()"
   ]
  },
  {
   "cell_type": "code",
   "execution_count": 72,
   "metadata": {},
   "outputs": [
    {
     "name": "stdout",
     "output_type": "stream",
     "text": [
      "(20641, 8)\n"
     ]
    },
    {
     "data": {
      "text/html": [
       "<div>\n",
       "<style scoped>\n",
       "    .dataframe tbody tr th:only-of-type {\n",
       "        vertical-align: middle;\n",
       "    }\n",
       "\n",
       "    .dataframe tbody tr th {\n",
       "        vertical-align: top;\n",
       "    }\n",
       "\n",
       "    .dataframe thead th {\n",
       "        text-align: right;\n",
       "    }\n",
       "</style>\n",
       "<table border=\"1\" class=\"dataframe\">\n",
       "  <thead>\n",
       "    <tr style=\"text-align: right;\">\n",
       "      <th></th>\n",
       "      <th>Metadata_guide_identity</th>\n",
       "      <th>Metadata_cell_identity</th>\n",
       "      <th>mean_ap</th>\n",
       "      <th>p_value</th>\n",
       "      <th>n_pos_pairs</th>\n",
       "      <th>n_total_pairs</th>\n",
       "      <th>grit_gene</th>\n",
       "      <th>grit_guide</th>\n",
       "    </tr>\n",
       "  </thead>\n",
       "  <tbody>\n",
       "    <tr>\n",
       "      <th>0</th>\n",
       "      <td>RAN_RAN_+_131356438.23-P1P2_12</td>\n",
       "      <td>sc_profile_0</td>\n",
       "      <td>0.299814</td>\n",
       "      <td>0.479781</td>\n",
       "      <td>201.0</td>\n",
       "      <td>688.0</td>\n",
       "      <td>RAN</td>\n",
       "      <td>RAN_RAN_+_131356438.23-P1P2_12</td>\n",
       "    </tr>\n",
       "    <tr>\n",
       "      <th>1</th>\n",
       "      <td>RAN_RAN_+_131356438.23-P1P2_12</td>\n",
       "      <td>sc_profile_10030</td>\n",
       "      <td>0.297488</td>\n",
       "      <td>0.519024</td>\n",
       "      <td>201.0</td>\n",
       "      <td>688.0</td>\n",
       "      <td>RAN</td>\n",
       "      <td>RAN_RAN_+_131356438.23-P1P2_12</td>\n",
       "    </tr>\n",
       "    <tr>\n",
       "      <th>2</th>\n",
       "      <td>RAN_RAN_+_131356438.23-P1P2_12</td>\n",
       "      <td>sc_profile_10094</td>\n",
       "      <td>0.297498</td>\n",
       "      <td>0.518983</td>\n",
       "      <td>201.0</td>\n",
       "      <td>688.0</td>\n",
       "      <td>RAN</td>\n",
       "      <td>RAN_RAN_+_131356438.23-P1P2_12</td>\n",
       "    </tr>\n",
       "    <tr>\n",
       "      <th>3</th>\n",
       "      <td>RAN_RAN_+_131356438.23-P1P2_12</td>\n",
       "      <td>sc_profile_10164</td>\n",
       "      <td>0.297455</td>\n",
       "      <td>0.520104</td>\n",
       "      <td>201.0</td>\n",
       "      <td>688.0</td>\n",
       "      <td>RAN</td>\n",
       "      <td>RAN_RAN_+_131356438.23-P1P2_12</td>\n",
       "    </tr>\n",
       "    <tr>\n",
       "      <th>4</th>\n",
       "      <td>RAN_RAN_+_131356438.23-P1P2_12</td>\n",
       "      <td>sc_profile_10280</td>\n",
       "      <td>0.297411</td>\n",
       "      <td>0.521261</td>\n",
       "      <td>201.0</td>\n",
       "      <td>688.0</td>\n",
       "      <td>RAN</td>\n",
       "      <td>RAN_RAN_+_131356438.23-P1P2_12</td>\n",
       "    </tr>\n",
       "  </tbody>\n",
       "</table>\n",
       "</div>"
      ],
      "text/plain": [
       "          Metadata_guide_identity Metadata_cell_identity   mean_ap   p_value  \\\n",
       "0  RAN_RAN_+_131356438.23-P1P2_12           sc_profile_0  0.299814  0.479781   \n",
       "1  RAN_RAN_+_131356438.23-P1P2_12       sc_profile_10030  0.297488  0.519024   \n",
       "2  RAN_RAN_+_131356438.23-P1P2_12       sc_profile_10094  0.297498  0.518983   \n",
       "3  RAN_RAN_+_131356438.23-P1P2_12       sc_profile_10164  0.297455  0.520104   \n",
       "4  RAN_RAN_+_131356438.23-P1P2_12       sc_profile_10280  0.297411  0.521261   \n",
       "\n",
       "   n_pos_pairs  n_total_pairs grit_gene                      grit_guide  \n",
       "0        201.0          688.0       RAN  RAN_RAN_+_131356438.23-P1P2_12  \n",
       "1        201.0          688.0       RAN  RAN_RAN_+_131356438.23-P1P2_12  \n",
       "2        201.0          688.0       RAN  RAN_RAN_+_131356438.23-P1P2_12  \n",
       "3        201.0          688.0       RAN  RAN_RAN_+_131356438.23-P1P2_12  \n",
       "4        201.0          688.0       RAN  RAN_RAN_+_131356438.23-P1P2_12  "
      ]
     },
     "execution_count": 72,
     "metadata": {},
     "output_type": "execute_result"
    }
   ],
   "source": [
    "all_sc_grit_results = pd.concat(all_sc_grit_results).reset_index(drop=True)\n",
    "\n",
    "# Output file\n",
    "output_results_file = pathlib.Path(f\"results/{gse_id}_single_cell_map.tsv.gz\")\n",
    "all_sc_grit_results.to_csv(output_results_file, sep=\"\\t\", compression=\"gzip\", index=False)\n",
    "\n",
    "print(all_sc_grit_results.shape)\n",
    "all_sc_grit_results.head()"
   ]
  },
  {
   "cell_type": "code",
   "execution_count": null,
   "metadata": {},
   "outputs": [],
   "source": []
  }
 ],
 "metadata": {
  "kernelspec": {
   "display_name": "Python 3",
   "language": "python",
   "name": "python3"
  },
  "language_info": {
   "codemirror_mode": {
    "name": "ipython",
    "version": 3
   },
   "file_extension": ".py",
   "mimetype": "text/x-python",
   "name": "python",
   "nbconvert_exporter": "python",
   "pygments_lexer": "ipython3",
   "version": "3.10.13"
  },
  "vscode": {
   "interpreter": {
    "hash": "31f2aee4e71d21fbe5cf8b01ff0e069b9275f58929596ceb00d14d90e3e16cd6"
   }
  }
 },
 "nbformat": 4,
 "nbformat_minor": 4
}
