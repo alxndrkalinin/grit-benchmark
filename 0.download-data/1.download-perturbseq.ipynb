{
 "cells": [
  {
   "cell_type": "markdown",
   "metadata": {},
   "source": [
    "## Download and Extract Perturb-Seq Data\n",
    "\n",
    "We dowload the perturbseq dataset from [GEO accession `GSE132080`](https://www.ncbi.nlm.nih.gov/geo/query/acc.cgi?acc=GSE132080).\n",
    "\n",
    "> Jost M, Santos DA, Saunders RA, Horlbeck MA et al. Titrating gene expression using libraries of systematically attenuated CRISPR guide RNAs. Nat Biotechnol 2020 Mar;38(3):355-364. PMID: 31932729\n",
    "\n",
    "We also gunzip the data and extract to a separate folder to enable 10X data processing."
   ]
  },
  {
   "cell_type": "code",
   "execution_count": 1,
   "metadata": {},
   "outputs": [],
   "source": [
    "import gzip\n",
    "import shutil\n",
    "import pathlib\n",
    "import pandas as pd\n",
    "from urllib.request import urlretrieve"
   ]
  },
  {
   "cell_type": "code",
   "execution_count": 2,
   "metadata": {},
   "outputs": [],
   "source": [
    "def download_file(file, base_url, output_dir):\n",
    "    download_url = f\"{base_url}/{file}\"\n",
    "    print(f\"Now downloading {download_url}...\")\n",
    "    output_file = pathlib.Path(f\"{output_dir}/{file}\")\n",
    "\n",
    "    urlretrieve(download_url, output_file)"
   ]
  },
  {
   "cell_type": "code",
   "execution_count": 3,
   "metadata": {},
   "outputs": [
    {
     "data": {
      "text/plain": [
       "{'barcodes': {'download': 'GSE132080_10X_barcodes.tsv.gz',\n",
       "  'rename': PosixPath('GSE132080/barcodes.tsv')},\n",
       " 'data': {'download': 'GSE132080_10X_matrix.mtx.gz',\n",
       "  'rename': PosixPath('GSE132080/matrix.mtx')},\n",
       " 'genes': {'download': 'GSE132080_10X_genes.tsv.gz',\n",
       "  'rename': PosixPath('GSE132080/genes.tsv')},\n",
       " 'other': {'GSE132080_cell_identities.csv.gz',\n",
       "  'GSE132080_sgRNA_barcode_sequences_and_phenotypes.csv.gz'}}"
      ]
     },
     "execution_count": 3,
     "metadata": {},
     "output_type": "execute_result"
    }
   ],
   "source": [
    "gse_id = \"GSE132080\"\n",
    "base_url = \"https://ftp.ncbi.nlm.nih.gov/geo/series/GSE132nnn/GSE132080/suppl/\"\n",
    "output_dir = pathlib.Path(\"data/perturbseq\")\n",
    "output_dir.mkdir(exist_ok=True)\n",
    "\n",
    "files = {\n",
    "    \"barcodes\": {\n",
    "        \"download\": f\"{gse_id}_10X_barcodes.tsv.gz\",\n",
    "        \"rename\": pathlib.Path(f\"{gse_id}/barcodes.tsv\")\n",
    "    },\n",
    "    \"data\": {\n",
    "        \"download\": f\"{gse_id}_10X_matrix.mtx.gz\",\n",
    "        \"rename\": pathlib.Path(f\"{gse_id}/matrix.mtx\")\n",
    "    },\n",
    "    \"genes\": {\n",
    "        \"download\": f\"{gse_id}_10X_genes.tsv.gz\",\n",
    "        \"rename\": pathlib.Path(f\"{gse_id}/genes.tsv\")\n",
    "    },\n",
    "    \"other\": {\n",
    "        f\"{gse_id}_cell_identities.csv.gz\",\n",
    "        f\"{gse_id}_sgRNA_barcode_sequences_and_phenotypes.csv.gz\",\n",
    "    }\n",
    "}\n",
    "\n",
    "files"
   ]
  },
  {
   "cell_type": "code",
   "execution_count": 4,
   "metadata": {},
   "outputs": [
    {
     "name": "stdout",
     "output_type": "stream",
     "text": [
      "Now downloading https://ftp.ncbi.nlm.nih.gov/geo/series/GSE132nnn/GSE132080/suppl//GSE132080_10X_barcodes.tsv.gz...\n",
      "Now downloading https://ftp.ncbi.nlm.nih.gov/geo/series/GSE132nnn/GSE132080/suppl//GSE132080_10X_matrix.mtx.gz...\n",
      "Now downloading https://ftp.ncbi.nlm.nih.gov/geo/series/GSE132nnn/GSE132080/suppl//GSE132080_10X_genes.tsv.gz...\n",
      "Now downloading https://ftp.ncbi.nlm.nih.gov/geo/series/GSE132nnn/GSE132080/suppl//GSE132080_cell_identities.csv.gz...\n",
      "Now downloading https://ftp.ncbi.nlm.nih.gov/geo/series/GSE132nnn/GSE132080/suppl//GSE132080_sgRNA_barcode_sequences_and_phenotypes.csv.gz...\n"
     ]
    }
   ],
   "source": [
    "for data_type in files:\n",
    "    if data_type != \"other\":\n",
    "        file = files[data_type][\"download\"]\n",
    "        download_file(file, base_url, output_dir)\n",
    "    else:\n",
    "        for file in files[data_type]:\n",
    "            download_file(file, base_url, output_dir)"
   ]
  },
  {
   "cell_type": "code",
   "execution_count": 5,
   "metadata": {},
   "outputs": [
    {
     "name": "stdout",
     "output_type": "stream",
     "text": [
      "Now extracting data/perturbseq/GSE132080_10X_barcodes.tsv.gz to data/perturbseq/GSE132080/barcodes.tsv...\n",
      "Now extracting data/perturbseq/GSE132080_10X_matrix.mtx.gz to data/perturbseq/GSE132080/matrix.mtx...\n",
      "Now extracting data/perturbseq/GSE132080_10X_genes.tsv.gz to data/perturbseq/GSE132080/genes.tsv...\n"
     ]
    }
   ],
   "source": [
    "for data_type in files:\n",
    "    if data_type != \"other\":\n",
    "        file = files[data_type][\"download\"]\n",
    "        file = pathlib.Path(f\"{output_dir}/{file}\")\n",
    "        \n",
    "        rename_and_gunzip_file = pathlib.Path(f\"{output_dir}/{files[data_type]['rename']}\")\n",
    "        rename_and_gunzip_file.parent.mkdir(exist_ok=True)\n",
    "        \n",
    "        print(f\"Now extracting {file} to {rename_and_gunzip_file}...\")\n",
    "        with gzip.open(file, \"rb\") as f_in:\n",
    "            with open(rename_and_gunzip_file, \"wb\") as f_out:\n",
    "                shutil.copyfileobj(f_in, f_out)"
   ]
  }
 ],
 "metadata": {
  "kernelspec": {
   "display_name": "Python 3",
   "language": "python",
   "name": "python3"
  },
  "language_info": {
   "codemirror_mode": {
    "name": "ipython",
    "version": 3
   },
   "file_extension": ".py",
   "mimetype": "text/x-python",
   "name": "python",
   "nbconvert_exporter": "python",
   "pygments_lexer": "ipython3",
   "version": "3.6.11"
  }
 },
 "nbformat": 4,
 "nbformat_minor": 4
}
