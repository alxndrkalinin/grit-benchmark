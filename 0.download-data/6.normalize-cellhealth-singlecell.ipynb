{
 "cells": [
  {
   "cell_type": "markdown",
   "metadata": {},
   "source": [
    "## Normalizing Cell Health single cell profiles and output normalized single cell data"
   ]
  },
  {
   "cell_type": "code",
   "execution_count": 1,
   "metadata": {},
   "outputs": [],
   "source": [
    "import pathlib\n",
    "import concurrent.futures\n",
    "\n",
    "import pandas as pd\n",
    "\n",
    "from pycytominer import normalize\n",
    "from pycytominer.cyto_utils import cells, output"
   ]
  },
  {
   "cell_type": "code",
   "execution_count": 2,
   "metadata": {},
   "outputs": [],
   "source": [
    "plates = [\n",
    "    \"SQ00014610\",\n",
    "    \"SQ00014611\",\n",
    "    \"SQ00014612\",\n",
    "    \"SQ00014613\",\n",
    "    \"SQ00014614\",\n",
    "    \"SQ00014615\",\n",
    "    \"SQ00014616\",\n",
    "    \"SQ00014617\",\n",
    "    \"SQ00014618\",\n",
    "]"
   ]
  },
  {
   "cell_type": "code",
   "execution_count": 3,
   "metadata": {},
   "outputs": [],
   "source": [
    "compression_options = {\"method\": \"gzip\", \"mtime\": 1}"
   ]
  },
  {
   "cell_type": "code",
   "execution_count": 4,
   "metadata": {},
   "outputs": [],
   "source": [
    "# Set output directory where normalized single cell files will live\n",
    "output_dir = pathlib.Path(\"data/cell_health/normalized/\")\n",
    "output_dir.mkdir(exist_ok=True, parents=True)"
   ]
  },
  {
   "cell_type": "code",
   "execution_count": 5,
   "metadata": {},
   "outputs": [
    {
     "name": "stdout",
     "output_type": "stream",
     "text": [
      "(384, 7)\n"
     ]
    },
    {
     "data": {
      "text/html": [
       "<div>\n",
       "<style scoped>\n",
       "    .dataframe tbody tr th:only-of-type {\n",
       "        vertical-align: middle;\n",
       "    }\n",
       "\n",
       "    .dataframe tbody tr th {\n",
       "        vertical-align: top;\n",
       "    }\n",
       "\n",
       "    .dataframe thead th {\n",
       "        text-align: right;\n",
       "    }\n",
       "</style>\n",
       "<table border=\"1\" class=\"dataframe\">\n",
       "  <thead>\n",
       "    <tr style=\"text-align: right;\">\n",
       "      <th></th>\n",
       "      <th>Metadata_WellRow</th>\n",
       "      <th>Metadata_WellCol</th>\n",
       "      <th>Metadata_well_position</th>\n",
       "      <th>Metadata_gene_name</th>\n",
       "      <th>Metadata_pert_name</th>\n",
       "      <th>Metadata_broad_sample</th>\n",
       "      <th>Metadata_cell_line</th>\n",
       "    </tr>\n",
       "  </thead>\n",
       "  <tbody>\n",
       "    <tr>\n",
       "      <th>0</th>\n",
       "      <td>A</td>\n",
       "      <td>1</td>\n",
       "      <td>A01</td>\n",
       "      <td>EMPTY</td>\n",
       "      <td>EMPTY</td>\n",
       "      <td>NaN</td>\n",
       "      <td>ES2</td>\n",
       "    </tr>\n",
       "    <tr>\n",
       "      <th>1</th>\n",
       "      <td>A</td>\n",
       "      <td>2</td>\n",
       "      <td>A02</td>\n",
       "      <td>MCL1</td>\n",
       "      <td>MCL1-5</td>\n",
       "      <td>NaN</td>\n",
       "      <td>ES2</td>\n",
       "    </tr>\n",
       "    <tr>\n",
       "      <th>2</th>\n",
       "      <td>A</td>\n",
       "      <td>3</td>\n",
       "      <td>A03</td>\n",
       "      <td>AKT1</td>\n",
       "      <td>AKT1-1</td>\n",
       "      <td>BRDN0001054908</td>\n",
       "      <td>ES2</td>\n",
       "    </tr>\n",
       "    <tr>\n",
       "      <th>3</th>\n",
       "      <td>A</td>\n",
       "      <td>4</td>\n",
       "      <td>A04</td>\n",
       "      <td>KRAS</td>\n",
       "      <td>KRAS-2B</td>\n",
       "      <td>NaN</td>\n",
       "      <td>ES2</td>\n",
       "    </tr>\n",
       "    <tr>\n",
       "      <th>4</th>\n",
       "      <td>A</td>\n",
       "      <td>5</td>\n",
       "      <td>A05</td>\n",
       "      <td>AKT1</td>\n",
       "      <td>AKT1-2</td>\n",
       "      <td>BRDN0001055115</td>\n",
       "      <td>ES2</td>\n",
       "    </tr>\n",
       "  </tbody>\n",
       "</table>\n",
       "</div>"
      ],
      "text/plain": [
       "  Metadata_WellRow  Metadata_WellCol Metadata_well_position  \\\n",
       "0                A                 1                    A01   \n",
       "1                A                 2                    A02   \n",
       "2                A                 3                    A03   \n",
       "3                A                 4                    A04   \n",
       "4                A                 5                    A05   \n",
       "\n",
       "  Metadata_gene_name Metadata_pert_name Metadata_broad_sample  \\\n",
       "0              EMPTY              EMPTY                   NaN   \n",
       "1               MCL1             MCL1-5                   NaN   \n",
       "2               AKT1             AKT1-1        BRDN0001054908   \n",
       "3               KRAS            KRAS-2B                   NaN   \n",
       "4               AKT1             AKT1-2        BRDN0001055115   \n",
       "\n",
       "  Metadata_cell_line  \n",
       "0                ES2  \n",
       "1                ES2  \n",
       "2                ES2  \n",
       "3                ES2  \n",
       "4                ES2  "
      ]
     },
     "execution_count": 5,
     "metadata": {},
     "output_type": "execute_result"
    }
   ],
   "source": [
    "# Load Metadata on plate info\n",
    "metadata_file = \"https://github.com/broadinstitute/cell-health/blob/cd91bd0daacef2b5ea25dcceb62482bb664d9de1/1.generate-profiles/data/metadata/platemap/DEPENDENCIES1_ES2.csv?raw=True\"\n",
    "metadata_df = pd.read_csv(metadata_file)\n",
    "\n",
    "metadata_df.columns = [f\"Metadata_{x}\" for x in metadata_df.columns]\n",
    "\n",
    "print(metadata_df.shape)\n",
    "metadata_df.head()"
   ]
  },
  {
   "cell_type": "code",
   "execution_count": 6,
   "metadata": {},
   "outputs": [],
   "source": [
    "\n",
    "def process_plate(plate, output_dir, metadata_df):\n",
    "    sql_file = f\"sqlite:///data/cell_health/{plate}.sqlite\"\n",
    "    output_file = pathlib.Path(output_dir, f\"{plate}_normalized.csv.gz\")\n",
    "\n",
    "    print(f\"Now processing... {output_file}\")\n",
    "\n",
    "    sc = cells.SingleCells(\n",
    "        sql_file=sql_file,\n",
    "        strata=[\"Image_Metadata_Plate\", \"Image_Metadata_Well\"],\n",
    "        load_image_data=False\n",
    "    )\n",
    "\n",
    "    sc_df = sc.merge_single_cells()\n",
    "    sc_df = normalize(profiles=sc_df, method=\"standardize\")\n",
    "\n",
    "    sc_df = (\n",
    "        sc.image_df.merge(\n",
    "            metadata_df,\n",
    "            left_on=\"Image_Metadata_Well\",\n",
    "            right_on=\"Metadata_well_position\",\n",
    "            how=\"left\",\n",
    "        )\n",
    "        .merge(\n",
    "            sc_df,\n",
    "            left_on=[\"TableNumber\", \"ImageNumber\"],\n",
    "            right_on=[\"Metadata_TableNumber\", \"Metadata_ImageNumber\"],\n",
    "            how=\"right\",\n",
    "        )\n",
    "        .drop(\n",
    "            [\n",
    "                \"TableNumber\",\n",
    "                \"ImageNumber\",\n",
    "                \"Metadata_WellRow\",\n",
    "                \"Metadata_WellCol\",\n",
    "                \"Metadata_well_position\",\n",
    "            ],\n",
    "            axis=\"columns\",\n",
    "        )\n",
    "        .rename(\n",
    "            {\n",
    "                \"Image_Metadata_Plate\": \"Metadata_Plate\",\n",
    "                \"Image_Metadata_Well\": \"Metadata_Well\",\n",
    "            },\n",
    "            axis=\"columns\",\n",
    "        )\n",
    "    )\n",
    "\n",
    "    print(sc_df.shape)\n",
    "    output(\n",
    "        df=sc_df,\n",
    "        output_filename=output_file,\n",
    "        sep=\",\",\n",
    "        float_format=\"%.5f\",\n",
    "        compression_options=compression_options,\n",
    "    )\n",
    "\n",
    "    print(\"Done.\\n\")\n",
    "    return f\"{plate} processed\"\n",
    "\n",
    "def normalize_plates(plates, output_dir, metadata_df):\n",
    "    with concurrent.futures.ThreadPoolExecutor(max_workers=1) as executor:\n",
    "        futures = [executor.submit(process_plate, plate, output_dir, metadata_df) for plate in plates]\n",
    "        for future in concurrent.futures.as_completed(futures):\n",
    "            print(future.result())\n",
    "\n"
   ]
  },
  {
   "cell_type": "code",
   "execution_count": 9,
   "metadata": {},
   "outputs": [
    {
     "name": "stdout",
     "output_type": "stream",
     "text": [
      "Now processing... data/cell_health/normalized/SQ00014610_normalized.csv.gz\n",
      "Now processing... data/cell_health/normalized/SQ00014611_normalized.csv.gz\n",
      "Now processing... data/cell_health/normalized/SQ00014612_normalized.csv.gz\n",
      "Now processing... data/cell_health/normalized/SQ00014613_normalized.csv.gz\n",
      "Now processing... data/cell_health/normalized/SQ00014614_normalized.csv.gz\n",
      "Now processing... data/cell_health/normalized/SQ00014615_normalized.csv.gz\n",
      "Now processing... data/cell_health/normalized/SQ00014616_normalized.csv.gz\n",
      "Now processing... data/cell_health/normalized/SQ00014617_normalized.csv.gz\n",
      "Now processing... data/cell_health/normalized/SQ00014618_normalized.csv.gz\n"
     ]
    },
    {
     "ename": "AssertionError",
     "evalue": "cytoplasm compartment not found. Check the specified compartments",
     "output_type": "error",
     "traceback": [
      "\u001b[0;31m---------------------------------------------------------------------------\u001b[0m",
      "\u001b[0;31mAssertionError\u001b[0m                            Traceback (most recent call last)",
      "Cell \u001b[0;32mIn[9], line 1\u001b[0m\n\u001b[0;32m----> 1\u001b[0m \u001b[43mnormalize_plates\u001b[49m\u001b[43m(\u001b[49m\u001b[43mplates\u001b[49m\u001b[43m,\u001b[49m\u001b[43m \u001b[49m\u001b[43moutput_dir\u001b[49m\u001b[43m,\u001b[49m\u001b[43m \u001b[49m\u001b[43mmetadata_df\u001b[49m\u001b[43m)\u001b[49m\n",
      "Cell \u001b[0;32mIn[6], line 66\u001b[0m, in \u001b[0;36mnormalize_plates\u001b[0;34m(plates, output_dir, metadata_df)\u001b[0m\n\u001b[1;32m     64\u001b[0m futures \u001b[38;5;241m=\u001b[39m [executor\u001b[38;5;241m.\u001b[39msubmit(process_plate, plate, output_dir, metadata_df) \u001b[38;5;28;01mfor\u001b[39;00m plate \u001b[38;5;129;01min\u001b[39;00m plates]\n\u001b[1;32m     65\u001b[0m \u001b[38;5;28;01mfor\u001b[39;00m future \u001b[38;5;129;01min\u001b[39;00m concurrent\u001b[38;5;241m.\u001b[39mfutures\u001b[38;5;241m.\u001b[39mas_completed(futures):\n\u001b[0;32m---> 66\u001b[0m     \u001b[38;5;28mprint\u001b[39m(\u001b[43mfuture\u001b[49m\u001b[38;5;241;43m.\u001b[39;49m\u001b[43mresult\u001b[49m\u001b[43m(\u001b[49m\u001b[43m)\u001b[49m)\n",
      "File \u001b[0;32m/dgx1nas1/storage/data/akalinin/miniconda3/envs/map_benchmark/lib/python3.9/concurrent/futures/_base.py:439\u001b[0m, in \u001b[0;36mFuture.result\u001b[0;34m(self, timeout)\u001b[0m\n\u001b[1;32m    437\u001b[0m     \u001b[38;5;28;01mraise\u001b[39;00m CancelledError()\n\u001b[1;32m    438\u001b[0m \u001b[38;5;28;01melif\u001b[39;00m \u001b[38;5;28mself\u001b[39m\u001b[38;5;241m.\u001b[39m_state \u001b[38;5;241m==\u001b[39m FINISHED:\n\u001b[0;32m--> 439\u001b[0m     \u001b[38;5;28;01mreturn\u001b[39;00m \u001b[38;5;28;43mself\u001b[39;49m\u001b[38;5;241;43m.\u001b[39;49m\u001b[43m__get_result\u001b[49m\u001b[43m(\u001b[49m\u001b[43m)\u001b[49m\n\u001b[1;32m    441\u001b[0m \u001b[38;5;28mself\u001b[39m\u001b[38;5;241m.\u001b[39m_condition\u001b[38;5;241m.\u001b[39mwait(timeout)\n\u001b[1;32m    443\u001b[0m \u001b[38;5;28;01mif\u001b[39;00m \u001b[38;5;28mself\u001b[39m\u001b[38;5;241m.\u001b[39m_state \u001b[38;5;129;01min\u001b[39;00m [CANCELLED, CANCELLED_AND_NOTIFIED]:\n",
      "File \u001b[0;32m/dgx1nas1/storage/data/akalinin/miniconda3/envs/map_benchmark/lib/python3.9/concurrent/futures/_base.py:391\u001b[0m, in \u001b[0;36mFuture.__get_result\u001b[0;34m(self)\u001b[0m\n\u001b[1;32m    389\u001b[0m \u001b[38;5;28;01mif\u001b[39;00m \u001b[38;5;28mself\u001b[39m\u001b[38;5;241m.\u001b[39m_exception:\n\u001b[1;32m    390\u001b[0m     \u001b[38;5;28;01mtry\u001b[39;00m:\n\u001b[0;32m--> 391\u001b[0m         \u001b[38;5;28;01mraise\u001b[39;00m \u001b[38;5;28mself\u001b[39m\u001b[38;5;241m.\u001b[39m_exception\n\u001b[1;32m    392\u001b[0m     \u001b[38;5;28;01mfinally\u001b[39;00m:\n\u001b[1;32m    393\u001b[0m         \u001b[38;5;66;03m# Break a reference cycle with the exception in self._exception\u001b[39;00m\n\u001b[1;32m    394\u001b[0m         \u001b[38;5;28mself\u001b[39m \u001b[38;5;241m=\u001b[39m \u001b[38;5;28;01mNone\u001b[39;00m\n",
      "File \u001b[0;32m/dgx1nas1/storage/data/akalinin/miniconda3/envs/map_benchmark/lib/python3.9/concurrent/futures/thread.py:58\u001b[0m, in \u001b[0;36m_WorkItem.run\u001b[0;34m(self)\u001b[0m\n\u001b[1;32m     55\u001b[0m     \u001b[38;5;28;01mreturn\u001b[39;00m\n\u001b[1;32m     57\u001b[0m \u001b[38;5;28;01mtry\u001b[39;00m:\n\u001b[0;32m---> 58\u001b[0m     result \u001b[38;5;241m=\u001b[39m \u001b[38;5;28;43mself\u001b[39;49m\u001b[38;5;241;43m.\u001b[39;49m\u001b[43mfn\u001b[49m\u001b[43m(\u001b[49m\u001b[38;5;241;43m*\u001b[39;49m\u001b[38;5;28;43mself\u001b[39;49m\u001b[38;5;241;43m.\u001b[39;49m\u001b[43margs\u001b[49m\u001b[43m,\u001b[49m\u001b[43m \u001b[49m\u001b[38;5;241;43m*\u001b[39;49m\u001b[38;5;241;43m*\u001b[39;49m\u001b[38;5;28;43mself\u001b[39;49m\u001b[38;5;241;43m.\u001b[39;49m\u001b[43mkwargs\u001b[49m\u001b[43m)\u001b[49m\n\u001b[1;32m     59\u001b[0m \u001b[38;5;28;01mexcept\u001b[39;00m \u001b[38;5;167;01mBaseException\u001b[39;00m \u001b[38;5;28;01mas\u001b[39;00m exc:\n\u001b[1;32m     60\u001b[0m     \u001b[38;5;28mself\u001b[39m\u001b[38;5;241m.\u001b[39mfuture\u001b[38;5;241m.\u001b[39mset_exception(exc)\n",
      "Cell \u001b[0;32mIn[6], line 7\u001b[0m, in \u001b[0;36mprocess_plate\u001b[0;34m(plate, output_dir, metadata_df)\u001b[0m\n\u001b[1;32m      3\u001b[0m output_file \u001b[38;5;241m=\u001b[39m pathlib\u001b[38;5;241m.\u001b[39mPath(output_dir, \u001b[38;5;124mf\u001b[39m\u001b[38;5;124m\"\u001b[39m\u001b[38;5;132;01m{\u001b[39;00mplate\u001b[38;5;132;01m}\u001b[39;00m\u001b[38;5;124m_normalized.csv.gz\u001b[39m\u001b[38;5;124m\"\u001b[39m)\n\u001b[1;32m      5\u001b[0m \u001b[38;5;28mprint\u001b[39m(\u001b[38;5;124mf\u001b[39m\u001b[38;5;124m\"\u001b[39m\u001b[38;5;124mNow processing... \u001b[39m\u001b[38;5;132;01m{\u001b[39;00moutput_file\u001b[38;5;132;01m}\u001b[39;00m\u001b[38;5;124m\"\u001b[39m)\n\u001b[0;32m----> 7\u001b[0m sc \u001b[38;5;241m=\u001b[39m \u001b[43mcells\u001b[49m\u001b[38;5;241;43m.\u001b[39;49m\u001b[43mSingleCells\u001b[49m\u001b[43m(\u001b[49m\n\u001b[1;32m      8\u001b[0m \u001b[43m    \u001b[49m\u001b[43msql_file\u001b[49m\u001b[38;5;241;43m=\u001b[39;49m\u001b[43msql_file\u001b[49m\u001b[43m,\u001b[49m\n\u001b[1;32m      9\u001b[0m \u001b[43m    \u001b[49m\u001b[38;5;66;43;03m# compartments=[\"cells\", \"cytoplasm\", \"nuclei\"],\u001b[39;49;00m\n\u001b[1;32m     10\u001b[0m \u001b[43m    \u001b[49m\u001b[43mcompartments\u001b[49m\u001b[38;5;241;43m=\u001b[39;49m\u001b[43m[\u001b[49m\u001b[38;5;124;43m\"\u001b[39;49m\u001b[38;5;124;43mcells\u001b[39;49m\u001b[38;5;124;43m\"\u001b[39;49m\u001b[43m,\u001b[49m\u001b[43m \u001b[49m\u001b[38;5;124;43m\"\u001b[39;49m\u001b[38;5;124;43mnuclei\u001b[39;49m\u001b[38;5;124;43m\"\u001b[39;49m\u001b[43m]\u001b[49m\u001b[43m,\u001b[49m\n\u001b[1;32m     11\u001b[0m \u001b[43m    \u001b[49m\u001b[43mstrata\u001b[49m\u001b[38;5;241;43m=\u001b[39;49m\u001b[43m[\u001b[49m\u001b[38;5;124;43m\"\u001b[39;49m\u001b[38;5;124;43mImage_Metadata_Plate\u001b[39;49m\u001b[38;5;124;43m\"\u001b[39;49m\u001b[43m,\u001b[49m\u001b[43m \u001b[49m\u001b[38;5;124;43m\"\u001b[39;49m\u001b[38;5;124;43mImage_Metadata_Well\u001b[39;49m\u001b[38;5;124;43m\"\u001b[39;49m\u001b[43m]\u001b[49m\u001b[43m,\u001b[49m\n\u001b[1;32m     12\u001b[0m \u001b[43m    \u001b[49m\u001b[43mload_image_data\u001b[49m\u001b[38;5;241;43m=\u001b[39;49m\u001b[38;5;28;43;01mFalse\u001b[39;49;00m\n\u001b[1;32m     13\u001b[0m \u001b[43m\u001b[49m\u001b[43m)\u001b[49m\n\u001b[1;32m     15\u001b[0m sc_df \u001b[38;5;241m=\u001b[39m sc\u001b[38;5;241m.\u001b[39mmerge_single_cells()\n\u001b[1;32m     16\u001b[0m sc_df \u001b[38;5;241m=\u001b[39m normalize(profiles\u001b[38;5;241m=\u001b[39msc_df, method\u001b[38;5;241m=\u001b[39m\u001b[38;5;124m\"\u001b[39m\u001b[38;5;124mstandardize\u001b[39m\u001b[38;5;124m\"\u001b[39m)\n",
      "File \u001b[0;32m/dgx1nas1/storage/data/akalinin/projects/pycytominer/pycytominer/cyto_utils/cells.py:154\u001b[0m, in \u001b[0;36mSingleCells.__init__\u001b[0;34m(self, sql_file, strata, aggregation_operation, output_file, compartments, compartment_linking_cols, merge_cols, image_cols, add_image_features, image_feature_categories, features, load_image_data, image_table_name, subsample_frac, subsample_n, subsampling_random_state, fields_of_view, fields_of_view_feature, object_feature, default_datatype_float)\u001b[0m\n\u001b[1;32m    151\u001b[0m \u001b[38;5;28mself\u001b[39m\u001b[38;5;241m.\u001b[39mdefault_datatype_float \u001b[38;5;241m=\u001b[39m default_datatype_float\n\u001b[1;32m    153\u001b[0m \u001b[38;5;66;03m# Confirm that the compartments and linking cols are formatted properly\u001b[39;00m\n\u001b[0;32m--> 154\u001b[0m \u001b[43massert_linking_cols_complete\u001b[49m\u001b[43m(\u001b[49m\n\u001b[1;32m    155\u001b[0m \u001b[43m    \u001b[49m\u001b[43mcompartments\u001b[49m\u001b[38;5;241;43m=\u001b[39;49m\u001b[38;5;28;43mself\u001b[39;49m\u001b[38;5;241;43m.\u001b[39;49m\u001b[43mcompartments\u001b[49m\u001b[43m,\u001b[49m\u001b[43m \u001b[49m\u001b[43mlinking_cols\u001b[49m\u001b[38;5;241;43m=\u001b[39;49m\u001b[38;5;28;43mself\u001b[39;49m\u001b[38;5;241;43m.\u001b[39;49m\u001b[43mcompartment_linking_cols\u001b[49m\n\u001b[1;32m    156\u001b[0m \u001b[43m\u001b[49m\u001b[43m)\u001b[49m\n\u001b[1;32m    158\u001b[0m \u001b[38;5;66;03m# Build a dictionary to update linking column feature names\u001b[39;00m\n\u001b[1;32m    159\u001b[0m \u001b[38;5;28mself\u001b[39m\u001b[38;5;241m.\u001b[39mlinking_col_rename \u001b[38;5;241m=\u001b[39m provide_linking_cols_feature_name_update(\n\u001b[1;32m    160\u001b[0m     \u001b[38;5;28mself\u001b[39m\u001b[38;5;241m.\u001b[39mcompartment_linking_cols\n\u001b[1;32m    161\u001b[0m )\n",
      "File \u001b[0;32m/dgx1nas1/storage/data/akalinin/projects/pycytominer/pycytominer/cyto_utils/single_cell_ingest_utils.py:58\u001b[0m, in \u001b[0;36massert_linking_cols_complete\u001b[0;34m(linking_cols, compartments)\u001b[0m\n\u001b[1;32m     56\u001b[0m \u001b[38;5;28;01mfor\u001b[39;00m x \u001b[38;5;129;01min\u001b[39;00m linking_cols:\n\u001b[1;32m     57\u001b[0m     unique_linking_cols\u001b[38;5;241m.\u001b[39mappend(x)\n\u001b[0;32m---> 58\u001b[0m     \u001b[38;5;28;01massert\u001b[39;00m x \u001b[38;5;129;01min\u001b[39;00m compartments, \u001b[38;5;124m\"\u001b[39m\u001b[38;5;132;01m{com}\u001b[39;00m\u001b[38;5;124m \u001b[39m\u001b[38;5;132;01m{err}\u001b[39;00m\u001b[38;5;124m\"\u001b[39m\u001b[38;5;241m.\u001b[39mformat(com\u001b[38;5;241m=\u001b[39mx, err\u001b[38;5;241m=\u001b[39mcomp_err)\n\u001b[1;32m     59\u001b[0m     \u001b[38;5;28;01mfor\u001b[39;00m y \u001b[38;5;129;01min\u001b[39;00m linking_cols[x]:\n\u001b[1;32m     60\u001b[0m         unique_linking_cols\u001b[38;5;241m.\u001b[39mappend(y)\n",
      "\u001b[0;31mAssertionError\u001b[0m: cytoplasm compartment not found. Check the specified compartments"
     ]
    }
   ],
   "source": [
    "normalize_plates(plates, output_dir, metadata_df)"
   ]
  },
  {
   "cell_type": "code",
   "execution_count": null,
   "metadata": {},
   "outputs": [],
   "source": []
  }
 ],
 "metadata": {
  "kernelspec": {
   "display_name": "Python 3",
   "language": "python",
   "name": "python3"
  },
  "language_info": {
   "codemirror_mode": {
    "name": "ipython",
    "version": 3
   },
   "file_extension": ".py",
   "mimetype": "text/x-python",
   "name": "python",
   "nbconvert_exporter": "python",
   "pygments_lexer": "ipython3",
   "version": "3.9.18"
  }
 },
 "nbformat": 4,
 "nbformat_minor": 4
}
