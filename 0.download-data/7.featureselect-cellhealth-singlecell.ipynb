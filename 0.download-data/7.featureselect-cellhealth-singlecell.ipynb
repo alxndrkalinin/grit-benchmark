{
 "cells": [
  {
   "cell_type": "markdown",
   "metadata": {},
   "source": [
    "## Applying feature selection to single cell data"
   ]
  },
  {
   "cell_type": "code",
   "execution_count": 1,
   "metadata": {},
   "outputs": [],
   "source": [
    "import random\n",
    "import pathlib\n",
    "import pandas as pd\n",
    "\n",
    "from pycytominer import feature_select\n",
    "from pycytominer.cyto_utils import output"
   ]
  },
  {
   "cell_type": "code",
   "execution_count": 2,
   "metadata": {},
   "outputs": [],
   "source": [
    "feature_select_operations = [\n",
    "    \"variance_threshold\",\n",
    "    \"correlation_threshold\",\n",
    "    \"drop_na_columns\",\n",
    "    \"blocklist\",\n",
    "    \"drop_outliers\",\n",
    "]\n",
    "\n",
    "na_cutoff = 0\n",
    "\n",
    "compression_options = {\"method\": \"gzip\", \"mtime\": 1}"
   ]
  },
  {
   "cell_type": "code",
   "execution_count": 3,
   "metadata": {},
   "outputs": [
    {
     "data": {
      "text/plain": [
       "{'SQ00014610': PosixPath('data/cell_health/normalized/SQ00014610_normalized.csv.gz'),\n",
       " 'SQ00014611': PosixPath('data/cell_health/normalized/SQ00014611_normalized.csv.gz'),\n",
       " 'SQ00014612': PosixPath('data/cell_health/normalized/SQ00014612_normalized.csv.gz'),\n",
       " 'SQ00014613': PosixPath('data/cell_health/normalized/SQ00014613_normalized.csv.gz'),\n",
       " 'SQ00014614': PosixPath('data/cell_health/normalized/SQ00014614_normalized.csv.gz'),\n",
       " 'SQ00014615': PosixPath('data/cell_health/normalized/SQ00014615_normalized.csv.gz'),\n",
       " 'SQ00014616': PosixPath('data/cell_health/normalized/SQ00014616_normalized.csv.gz'),\n",
       " 'SQ00014617': PosixPath('data/cell_health/normalized/SQ00014617_normalized.csv.gz'),\n",
       " 'SQ00014618': PosixPath('data/cell_health/normalized/SQ00014618_normalized.csv.gz')}"
      ]
     },
     "execution_count": 3,
     "metadata": {},
     "output_type": "execute_result"
    }
   ],
   "source": [
    "sc_dir = pathlib.Path(\"data/cell_health/normalized/\")\n",
    "\n",
    "plates = [\n",
    "    \"SQ00014610\",\n",
    "    \"SQ00014611\",\n",
    "    \"SQ00014612\",\n",
    "    \"SQ00014613\",\n",
    "    \"SQ00014614\",\n",
    "    \"SQ00014615\",\n",
    "    \"SQ00014616\",\n",
    "    \"SQ00014617\",\n",
    "    \"SQ00014618\",\n",
    "]\n",
    "\n",
    "plate_files = {\n",
    "    plate: pathlib.Path(f\"{sc_dir}/{plate}_normalized.csv.gz\") for plate in plates\n",
    "}\n",
    "plate_files"
   ]
  },
  {
   "cell_type": "code",
   "execution_count": 4,
   "metadata": {},
   "outputs": [
    {
     "name": "stdout",
     "output_type": "stream",
     "text": [
      "Now performing feature selection for... data/cell_health/normalized/SQ00014610_normalized.csv.gz\n",
      "Before feature selection:\n",
      "(1466111, 1794)\n",
      "After feature selection:\n",
      "(1466111, 542)\n",
      "Done.\n",
      "\n",
      "\n",
      "\n",
      "Now performing feature selection for... data/cell_health/normalized/SQ00014611_normalized.csv.gz\n",
      "Before feature selection:\n",
      "(1433422, 1794)\n",
      "After feature selection:\n",
      "(1433422, 523)\n",
      "Done.\n",
      "\n",
      "\n",
      "\n",
      "Now performing feature selection for... data/cell_health/normalized/SQ00014612_normalized.csv.gz\n",
      "Before feature selection:\n",
      "(1418739, 1794)\n",
      "After feature selection:\n",
      "(1418739, 527)\n",
      "Done.\n",
      "\n",
      "\n",
      "\n",
      "Now performing feature selection for... data/cell_health/normalized/SQ00014613_normalized.csv.gz\n",
      "Before feature selection:\n",
      "(685505, 1794)\n",
      "After feature selection:\n",
      "(685505, 486)\n",
      "Done.\n",
      "\n",
      "\n",
      "\n",
      "Now performing feature selection for... data/cell_health/normalized/SQ00014614_normalized.csv.gz\n",
      "Before feature selection:\n",
      "(748241, 1794)\n",
      "After feature selection:\n",
      "(748241, 494)\n",
      "Done.\n",
      "\n",
      "\n",
      "\n",
      "Now performing feature selection for... data/cell_health/normalized/SQ00014615_normalized.csv.gz\n",
      "Before feature selection:\n",
      "(748942, 1794)\n",
      "After feature selection:\n",
      "(748942, 471)\n",
      "Done.\n",
      "\n",
      "\n",
      "\n",
      "Now performing feature selection for... data/cell_health/normalized/SQ00014616_normalized.csv.gz\n",
      "Before feature selection:\n",
      "(806909, 1794)\n",
      "After feature selection:\n",
      "(806909, 421)\n",
      "Done.\n",
      "\n",
      "\n",
      "\n",
      "Now performing feature selection for... data/cell_health/normalized/SQ00014617_normalized.csv.gz\n",
      "Before feature selection:\n",
      "(838019, 1794)\n",
      "After feature selection:\n",
      "(838019, 449)\n",
      "Done.\n",
      "\n",
      "\n",
      "\n",
      "Now performing feature selection for... data/cell_health/normalized/SQ00014618_normalized.csv.gz\n",
      "Before feature selection:\n",
      "(817147, 1794)\n",
      "After feature selection:\n",
      "(817147, 453)\n",
      "Done.\n",
      "\n",
      "\n",
      "\n"
     ]
    }
   ],
   "source": [
    "for plate in plate_files:\n",
    "    plate_file = plate_files[plate]\n",
    "    output_file = pathlib.Path(f\"{sc_dir}/{plate}_normalized_featureselected.csv.gz\")\n",
    "\n",
    "    # Set console output\n",
    "    print(f\"Now performing feature selection for... {plate_file}\")\n",
    "    sc_df = pd.read_csv(plate_file, low_memory=False)\n",
    "    print(\"Before feature selection:\")\n",
    "    print(sc_df.shape)\n",
    "\n",
    "    sc_df = feature_select(\n",
    "        profiles=sc_df,\n",
    "        operation=feature_select_operations,\n",
    "        na_cutoff=na_cutoff,\n",
    "    )\n",
    "\n",
    "    print(\"After feature selection:\")\n",
    "    print(sc_df.shape)\n",
    "\n",
    "    # Output file to disk\n",
    "    output(\n",
    "        df=sc_df,\n",
    "        output_filename=output_file,\n",
    "        sep=\",\",\n",
    "        float_format=\"%.5f\",\n",
    "        compression_options=compression_options,\n",
    "    )\n",
    "\n",
    "    print(\"Done.\")\n",
    "    print(\"\\n\\n\")"
   ]
  }
 ],
 "metadata": {
  "kernelspec": {
   "display_name": "Python 3",
   "language": "python",
   "name": "python3"
  },
  "language_info": {
   "codemirror_mode": {
    "name": "ipython",
    "version": 3
   },
   "file_extension": ".py",
   "mimetype": "text/x-python",
   "name": "python",
   "nbconvert_exporter": "python",
   "pygments_lexer": "ipython3",
   "version": "3.8.6"
  }
 },
 "nbformat": 4,
 "nbformat_minor": 4
}
